{
 "cells": [
  {
   "cell_type": "markdown",
   "metadata": {},
   "source": [
    "# Statement"
   ]
  },
  {
   "cell_type": "markdown",
   "metadata": {},
   "source": [
    "The Sure Tomorrow insurance company wants to solve several tasks with the help of Machine Learning and you are asked to evaluate that possibility.\n",
    "\n",
    "- Task 1: Find customers who are similar to a given customer. This will help the company's agents with marketing.\n",
    "- Task 2: Predict whether a new customer is likely to receive an insurance benefit. Can a prediction model do better than a dummy model?\n",
    "- Task 3: Predict the number of insurance benefits a new customer is likely to receive using a linear regression model.\n",
    "- Task 4: Protect clients' personal data without breaking the model from the previous task. It's necessary to develop a data transformation algorithm that would make it hard to recover personal information if the data fell into the wrong hands. This is called data masking, or data obfuscation. But the data should be protected in such a way that the quality of machine learning models doesn't suffer. You don't need to pick the best model, just prove that the algorithm works correctly."
   ]
  },
  {
   "cell_type": "markdown",
   "metadata": {},
   "source": [
    "# Data Preprocessing & Exploration\n",
    "\n",
    "## Initialization"
   ]
  },
  {
   "cell_type": "code",
   "execution_count": 1,
   "metadata": {},
   "outputs": [],
   "source": [
    "import numpy as np\n",
    "import pandas as pd\n",
    "import math\n",
    "from numpy.linalg import LinAlgError, inv\n",
    "\n",
    "import seaborn as sns\n",
    "import matplotlib.pyplot as plt\n",
    "\n",
    "import sklearn.linear_model\n",
    "import sklearn.metrics\n",
    "import sklearn.neighbors\n",
    "import sklearn.preprocessing\n",
    "\n",
    "from sklearn.preprocessing import StandardScaler\n",
    "\n",
    "from sklearn.neighbors import NearestNeighbors\n",
    "from sklearn.neighbors import KNeighborsClassifier\n",
    "\n",
    "from sklearn.metrics import f1_score, mean_squared_error, r2_score\n",
    "\n",
    "from sklearn.model_selection import train_test_split\n",
    "\n",
    "from IPython.display import display"
   ]
  },
  {
   "cell_type": "markdown",
   "metadata": {},
   "source": [
    "## Load Data"
   ]
  },
  {
   "cell_type": "markdown",
   "metadata": {},
   "source": [
    "Load data and conduct a basic check that it's free from obvious issues."
   ]
  },
  {
   "cell_type": "code",
   "execution_count": 2,
   "metadata": {},
   "outputs": [
    {
     "data": {
      "text/html": [
       "<div>\n",
       "<style scoped>\n",
       "    .dataframe tbody tr th:only-of-type {\n",
       "        vertical-align: middle;\n",
       "    }\n",
       "\n",
       "    .dataframe tbody tr th {\n",
       "        vertical-align: top;\n",
       "    }\n",
       "\n",
       "    .dataframe thead th {\n",
       "        text-align: right;\n",
       "    }\n",
       "</style>\n",
       "<table border=\"1\" class=\"dataframe\">\n",
       "  <thead>\n",
       "    <tr style=\"text-align: right;\">\n",
       "      <th></th>\n",
       "      <th>Gender</th>\n",
       "      <th>Age</th>\n",
       "      <th>Salary</th>\n",
       "      <th>Family members</th>\n",
       "      <th>Insurance benefits</th>\n",
       "    </tr>\n",
       "  </thead>\n",
       "  <tbody>\n",
       "    <tr>\n",
       "      <th>0</th>\n",
       "      <td>1</td>\n",
       "      <td>41.0</td>\n",
       "      <td>49600.0</td>\n",
       "      <td>1</td>\n",
       "      <td>0</td>\n",
       "    </tr>\n",
       "    <tr>\n",
       "      <th>1</th>\n",
       "      <td>0</td>\n",
       "      <td>46.0</td>\n",
       "      <td>38000.0</td>\n",
       "      <td>1</td>\n",
       "      <td>1</td>\n",
       "    </tr>\n",
       "    <tr>\n",
       "      <th>2</th>\n",
       "      <td>0</td>\n",
       "      <td>29.0</td>\n",
       "      <td>21000.0</td>\n",
       "      <td>0</td>\n",
       "      <td>0</td>\n",
       "    </tr>\n",
       "    <tr>\n",
       "      <th>3</th>\n",
       "      <td>0</td>\n",
       "      <td>21.0</td>\n",
       "      <td>41700.0</td>\n",
       "      <td>2</td>\n",
       "      <td>0</td>\n",
       "    </tr>\n",
       "    <tr>\n",
       "      <th>4</th>\n",
       "      <td>1</td>\n",
       "      <td>28.0</td>\n",
       "      <td>26100.0</td>\n",
       "      <td>0</td>\n",
       "      <td>0</td>\n",
       "    </tr>\n",
       "    <tr>\n",
       "      <th>...</th>\n",
       "      <td>...</td>\n",
       "      <td>...</td>\n",
       "      <td>...</td>\n",
       "      <td>...</td>\n",
       "      <td>...</td>\n",
       "    </tr>\n",
       "    <tr>\n",
       "      <th>4995</th>\n",
       "      <td>0</td>\n",
       "      <td>28.0</td>\n",
       "      <td>35700.0</td>\n",
       "      <td>2</td>\n",
       "      <td>0</td>\n",
       "    </tr>\n",
       "    <tr>\n",
       "      <th>4996</th>\n",
       "      <td>0</td>\n",
       "      <td>34.0</td>\n",
       "      <td>52400.0</td>\n",
       "      <td>1</td>\n",
       "      <td>0</td>\n",
       "    </tr>\n",
       "    <tr>\n",
       "      <th>4997</th>\n",
       "      <td>0</td>\n",
       "      <td>20.0</td>\n",
       "      <td>33900.0</td>\n",
       "      <td>2</td>\n",
       "      <td>0</td>\n",
       "    </tr>\n",
       "    <tr>\n",
       "      <th>4998</th>\n",
       "      <td>1</td>\n",
       "      <td>22.0</td>\n",
       "      <td>32700.0</td>\n",
       "      <td>3</td>\n",
       "      <td>0</td>\n",
       "    </tr>\n",
       "    <tr>\n",
       "      <th>4999</th>\n",
       "      <td>1</td>\n",
       "      <td>28.0</td>\n",
       "      <td>40600.0</td>\n",
       "      <td>1</td>\n",
       "      <td>0</td>\n",
       "    </tr>\n",
       "  </tbody>\n",
       "</table>\n",
       "<p>5000 rows × 5 columns</p>\n",
       "</div>"
      ],
      "text/plain": [
       "      Gender   Age   Salary  Family members  Insurance benefits\n",
       "0          1  41.0  49600.0               1                   0\n",
       "1          0  46.0  38000.0               1                   1\n",
       "2          0  29.0  21000.0               0                   0\n",
       "3          0  21.0  41700.0               2                   0\n",
       "4          1  28.0  26100.0               0                   0\n",
       "...      ...   ...      ...             ...                 ...\n",
       "4995       0  28.0  35700.0               2                   0\n",
       "4996       0  34.0  52400.0               1                   0\n",
       "4997       0  20.0  33900.0               2                   0\n",
       "4998       1  22.0  32700.0               3                   0\n",
       "4999       1  28.0  40600.0               1                   0\n",
       "\n",
       "[5000 rows x 5 columns]"
      ]
     },
     "metadata": {},
     "output_type": "display_data"
    }
   ],
   "source": [
    "df = pd.read_csv('/datasets/insurance_us.csv')\n",
    "display(df)"
   ]
  },
  {
   "cell_type": "markdown",
   "metadata": {},
   "source": [
    "We rename the colums to make the code look more consistent with its style."
   ]
  },
  {
   "cell_type": "code",
   "execution_count": 3,
   "metadata": {},
   "outputs": [],
   "source": [
    "df = df.rename(columns={'Gender': 'gender', 'Age': 'age', 'Salary': 'income', 'Family members': 'family_members', 'Insurance benefits': 'insurance_benefits'})"
   ]
  },
  {
   "cell_type": "code",
   "execution_count": 4,
   "metadata": {},
   "outputs": [
    {
     "data": {
      "text/html": [
       "<div>\n",
       "<style scoped>\n",
       "    .dataframe tbody tr th:only-of-type {\n",
       "        vertical-align: middle;\n",
       "    }\n",
       "\n",
       "    .dataframe tbody tr th {\n",
       "        vertical-align: top;\n",
       "    }\n",
       "\n",
       "    .dataframe thead th {\n",
       "        text-align: right;\n",
       "    }\n",
       "</style>\n",
       "<table border=\"1\" class=\"dataframe\">\n",
       "  <thead>\n",
       "    <tr style=\"text-align: right;\">\n",
       "      <th></th>\n",
       "      <th>gender</th>\n",
       "      <th>age</th>\n",
       "      <th>income</th>\n",
       "      <th>family_members</th>\n",
       "      <th>insurance_benefits</th>\n",
       "    </tr>\n",
       "  </thead>\n",
       "  <tbody>\n",
       "    <tr>\n",
       "      <th>1732</th>\n",
       "      <td>0</td>\n",
       "      <td>30.0</td>\n",
       "      <td>42300.0</td>\n",
       "      <td>0</td>\n",
       "      <td>0</td>\n",
       "    </tr>\n",
       "    <tr>\n",
       "      <th>3504</th>\n",
       "      <td>0</td>\n",
       "      <td>34.0</td>\n",
       "      <td>27200.0</td>\n",
       "      <td>0</td>\n",
       "      <td>0</td>\n",
       "    </tr>\n",
       "    <tr>\n",
       "      <th>441</th>\n",
       "      <td>0</td>\n",
       "      <td>36.0</td>\n",
       "      <td>56200.0</td>\n",
       "      <td>1</td>\n",
       "      <td>0</td>\n",
       "    </tr>\n",
       "    <tr>\n",
       "      <th>4324</th>\n",
       "      <td>1</td>\n",
       "      <td>28.0</td>\n",
       "      <td>33100.0</td>\n",
       "      <td>0</td>\n",
       "      <td>0</td>\n",
       "    </tr>\n",
       "    <tr>\n",
       "      <th>3687</th>\n",
       "      <td>1</td>\n",
       "      <td>33.0</td>\n",
       "      <td>49600.0</td>\n",
       "      <td>0</td>\n",
       "      <td>0</td>\n",
       "    </tr>\n",
       "    <tr>\n",
       "      <th>136</th>\n",
       "      <td>0</td>\n",
       "      <td>36.0</td>\n",
       "      <td>41700.0</td>\n",
       "      <td>1</td>\n",
       "      <td>0</td>\n",
       "    </tr>\n",
       "    <tr>\n",
       "      <th>2099</th>\n",
       "      <td>1</td>\n",
       "      <td>25.0</td>\n",
       "      <td>23500.0</td>\n",
       "      <td>0</td>\n",
       "      <td>0</td>\n",
       "    </tr>\n",
       "    <tr>\n",
       "      <th>3356</th>\n",
       "      <td>1</td>\n",
       "      <td>20.0</td>\n",
       "      <td>46600.0</td>\n",
       "      <td>1</td>\n",
       "      <td>0</td>\n",
       "    </tr>\n",
       "    <tr>\n",
       "      <th>1757</th>\n",
       "      <td>0</td>\n",
       "      <td>42.0</td>\n",
       "      <td>35500.0</td>\n",
       "      <td>1</td>\n",
       "      <td>1</td>\n",
       "    </tr>\n",
       "    <tr>\n",
       "      <th>3792</th>\n",
       "      <td>0</td>\n",
       "      <td>23.0</td>\n",
       "      <td>43700.0</td>\n",
       "      <td>1</td>\n",
       "      <td>0</td>\n",
       "    </tr>\n",
       "  </tbody>\n",
       "</table>\n",
       "</div>"
      ],
      "text/plain": [
       "      gender   age   income  family_members  insurance_benefits\n",
       "1732       0  30.0  42300.0               0                   0\n",
       "3504       0  34.0  27200.0               0                   0\n",
       "441        0  36.0  56200.0               1                   0\n",
       "4324       1  28.0  33100.0               0                   0\n",
       "3687       1  33.0  49600.0               0                   0\n",
       "136        0  36.0  41700.0               1                   0\n",
       "2099       1  25.0  23500.0               0                   0\n",
       "3356       1  20.0  46600.0               1                   0\n",
       "1757       0  42.0  35500.0               1                   1\n",
       "3792       0  23.0  43700.0               1                   0"
      ]
     },
     "execution_count": 4,
     "metadata": {},
     "output_type": "execute_result"
    }
   ],
   "source": [
    "df.sample(10)"
   ]
  },
  {
   "cell_type": "code",
   "execution_count": 5,
   "metadata": {},
   "outputs": [
    {
     "name": "stdout",
     "output_type": "stream",
     "text": [
      "<class 'pandas.core.frame.DataFrame'>\n",
      "RangeIndex: 5000 entries, 0 to 4999\n",
      "Data columns (total 5 columns):\n",
      " #   Column              Non-Null Count  Dtype  \n",
      "---  ------              --------------  -----  \n",
      " 0   gender              5000 non-null   int64  \n",
      " 1   age                 5000 non-null   float64\n",
      " 2   income              5000 non-null   float64\n",
      " 3   family_members      5000 non-null   int64  \n",
      " 4   insurance_benefits  5000 non-null   int64  \n",
      "dtypes: float64(2), int64(3)\n",
      "memory usage: 195.4 KB\n"
     ]
    }
   ],
   "source": [
    "df.info()"
   ]
  },
  {
   "cell_type": "code",
   "execution_count": 6,
   "metadata": {},
   "outputs": [],
   "source": [
    "# we may want to fix the age type (from float to int) though this is not critical\n",
    "\n",
    "# write your conversion here if you choose:\n",
    "df['age'] = df['age'].astype('int')"
   ]
  },
  {
   "cell_type": "code",
   "execution_count": 7,
   "metadata": {},
   "outputs": [
    {
     "name": "stdout",
     "output_type": "stream",
     "text": [
      "<class 'pandas.core.frame.DataFrame'>\n",
      "RangeIndex: 5000 entries, 0 to 4999\n",
      "Data columns (total 5 columns):\n",
      " #   Column              Non-Null Count  Dtype  \n",
      "---  ------              --------------  -----  \n",
      " 0   gender              5000 non-null   int64  \n",
      " 1   age                 5000 non-null   int64  \n",
      " 2   income              5000 non-null   float64\n",
      " 3   family_members      5000 non-null   int64  \n",
      " 4   insurance_benefits  5000 non-null   int64  \n",
      "dtypes: float64(1), int64(4)\n",
      "memory usage: 195.4 KB\n"
     ]
    }
   ],
   "source": [
    "# check to see that the conversion was successful\n",
    "df.info()"
   ]
  },
  {
   "cell_type": "code",
   "execution_count": 8,
   "metadata": {},
   "outputs": [
    {
     "name": "stdout",
     "output_type": "stream",
     "text": [
      "            gender          age        income  family_members  \\\n",
      "count  5000.000000  5000.000000   5000.000000     5000.000000   \n",
      "mean      0.499000    30.952800  39916.360000        1.194200   \n",
      "std       0.500049     8.440807   9900.083569        1.091387   \n",
      "min       0.000000    18.000000   5300.000000        0.000000   \n",
      "25%       0.000000    24.000000  33300.000000        0.000000   \n",
      "50%       0.000000    30.000000  40200.000000        1.000000   \n",
      "75%       1.000000    37.000000  46600.000000        2.000000   \n",
      "max       1.000000    65.000000  79000.000000        6.000000   \n",
      "\n",
      "       insurance_benefits  \n",
      "count         5000.000000  \n",
      "mean             0.148000  \n",
      "std              0.463183  \n",
      "min              0.000000  \n",
      "25%              0.000000  \n",
      "50%              0.000000  \n",
      "75%              0.000000  \n",
      "max              5.000000  \n"
     ]
    }
   ],
   "source": [
    "# now have a look at the data's descriptive statistics. \n",
    "# Does everything look okay?\n",
    "print(df.describe())"
   ]
  },
  {
   "cell_type": "code",
   "execution_count": 9,
   "metadata": {},
   "outputs": [
    {
     "name": "stdout",
     "output_type": "stream",
     "text": [
      "[0 1 2 3 5 4]\n"
     ]
    }
   ],
   "source": [
    "print(df['insurance_benefits'].unique())"
   ]
  },
  {
   "cell_type": "markdown",
   "metadata": {},
   "source": [
    "I think everything looks okay"
   ]
  },
  {
   "cell_type": "markdown",
   "metadata": {},
   "source": [
    "<div class=\"alert alert-success\">\n",
    "<b>Reviewer's comment</b>\n",
    "\n",
    "The data was loaded and inspected\n",
    "    \n",
    "</div>"
   ]
  },
  {
   "cell_type": "markdown",
   "metadata": {},
   "source": [
    "## EDA"
   ]
  },
  {
   "cell_type": "markdown",
   "metadata": {},
   "source": [
    "Let's quickly check whether there are certain groups of customers by looking at the pair plot."
   ]
  },
  {
   "cell_type": "code",
   "execution_count": 10,
   "metadata": {},
   "outputs": [
    {
     "data": {
      "image/png": "[encoded data removed]",
      "text/plain": [
       "<Figure size 1200x1200 with 30 Axes>"
      ]
     },
     "metadata": {},
     "output_type": "display_data"
    }
   ],
   "source": [
    "g = sns.pairplot(df, kind='hist')\n",
    "g.fig.set_size_inches(12, 12)"
   ]
  },
  {
   "cell_type": "markdown",
   "metadata": {},
   "source": [
    "Ok, it is a bit difficult to spot obvious groups (clusters) as it is difficult to combine several variables simultaneously (to analyze multivariate distributions). That's where LA and ML can be quite handy."
   ]
  },
  {
   "cell_type": "markdown",
   "metadata": {},
   "source": [
    "# Task 1. Similar Customers"
   ]
  },
  {
   "cell_type": "markdown",
   "metadata": {},
   "source": [
    "In the language of ML, it is necessary to develop a procedure that returns k nearest neighbors (objects) for a given object based on the distance between the objects.\n",
    "\n",
    "You may want to review the following lessons (chapter -> lesson)\n",
    "- Distance Between Vectors -> Euclidean Distance\n",
    "- Distance Between Vectors -> Manhattan Distance\n",
    "\n",
    "To solve the task, we can try different distance metrics."
   ]
  },
  {
   "cell_type": "markdown",
   "metadata": {},
   "source": [
    "Write a function that returns k nearest neighbors for an $n^{th}$ object based on a specified distance metric. The number of received insurance benefits should not be taken into account for this task. \n",
    "\n",
    "You can use a ready implementation of the kNN algorithm from scikit-learn (check [the link](https://scikit-learn.org/stable/modules/generated/sklearn.neighbors.NearestNeighbors.html#sklearn.neighbors.NearestNeighbors)) or use your own.\n",
    "\n",
    "Test it for four combination of two cases\n",
    "- Scaling\n",
    "  - the data is not scaled\n",
    "  - the data is scaled with the [MaxAbsScaler](https://scikit-learn.org/stable/modules/generated/sklearn.preprocessing.MaxAbsScaler.html) scaler\n",
    "- Distance Metrics\n",
    "  - Euclidean\n",
    "  - Manhattan\n",
    "\n",
    "Answer these questions:\n",
    "- Does the data being not scaled affect the kNN algorithm? If so, how does that appear?\n",
    "- How similar are the results using the Manhattan distance metric (regardless of the scaling)?"
   ]
  },
  {
   "cell_type": "code",
   "execution_count": 11,
   "metadata": {},
   "outputs": [],
   "source": [
    "feature_names = ['gender', 'age', 'income', 'family_members']"
   ]
  },
  {
   "cell_type": "code",
   "execution_count": 12,
   "metadata": {},
   "outputs": [],
   "source": [
    "def get_knn(df, n, k, metric):\n",
    "    \"\"\"\n",
    "    Returns k nearest neighbors\n",
    "\n",
    "    :param df: pandas DataFrame used to find similar objects within\n",
    "    :param n: object no for which the nearest neighbours are looked for\n",
    "    :param k: the number of the nearest neighbours to return\n",
    "    :param metric: name of distance metric\n",
    "    \"\"\"\n",
    "\n",
    "    nbrs = NearestNeighbors(n_neighbors=k, metric=metric)\n",
    "    nbrs.fit(df.drop('insurance_benefits', axis=1))\n",
    "\n",
    "    nbrs_distances, nbrs_indices = nbrs.kneighbors([df.iloc[n].drop('insurance_benefits')])\n",
    "\n",
    "    df_res = pd.concat([\n",
    "        df.iloc[nbrs_indices[0]],\n",
    "        pd.DataFrame(nbrs_distances.T, index=nbrs_indices[0], columns=['distance'])\n",
    "    ], axis=1)\n",
    "\n",
    "    return df_res"
   ]
  },
  {
   "cell_type": "markdown",
   "metadata": {},
   "source": [
    "<div class=\"alert alert-success\">\n",
    "<b>Reviewer's comment</b>\n",
    "\n",
    "The function for finding nearest neighbors is correct\n",
    "    \n",
    "    \n",
    "</div>"
   ]
  },
  {
   "cell_type": "markdown",
   "metadata": {},
   "source": [
    "Scaling the data."
   ]
  },
  {
   "cell_type": "code",
   "execution_count": 13,
   "metadata": {},
   "outputs": [],
   "source": [
    "feature_names = ['gender', 'age', 'income', 'family_members']\n",
    "\n",
    "transformer_mas = sklearn.preprocessing.MaxAbsScaler().fit(df[feature_names].to_numpy())\n",
    "\n",
    "df_scaled = df.copy()\n",
    "df_scaled.loc[:, feature_names] = transformer_mas.transform(df[feature_names].to_numpy())"
   ]
  },
  {
   "cell_type": "code",
   "execution_count": 14,
   "metadata": {},
   "outputs": [
    {
     "data": {
      "text/html": [
       "<div>\n",
       "<style scoped>\n",
       "    .dataframe tbody tr th:only-of-type {\n",
       "        vertical-align: middle;\n",
       "    }\n",
       "\n",
       "    .dataframe tbody tr th {\n",
       "        vertical-align: top;\n",
       "    }\n",
       "\n",
       "    .dataframe thead th {\n",
       "        text-align: right;\n",
       "    }\n",
       "</style>\n",
       "<table border=\"1\" class=\"dataframe\">\n",
       "  <thead>\n",
       "    <tr style=\"text-align: right;\">\n",
       "      <th></th>\n",
       "      <th>gender</th>\n",
       "      <th>age</th>\n",
       "      <th>income</th>\n",
       "      <th>family_members</th>\n",
       "      <th>insurance_benefits</th>\n",
       "    </tr>\n",
       "  </thead>\n",
       "  <tbody>\n",
       "    <tr>\n",
       "      <th>4019</th>\n",
       "      <td>0.0</td>\n",
       "      <td>0.953846</td>\n",
       "      <td>0.178481</td>\n",
       "      <td>0.000000</td>\n",
       "      <td>4</td>\n",
       "    </tr>\n",
       "    <tr>\n",
       "      <th>2013</th>\n",
       "      <td>1.0</td>\n",
       "      <td>0.430769</td>\n",
       "      <td>0.622785</td>\n",
       "      <td>0.000000</td>\n",
       "      <td>0</td>\n",
       "    </tr>\n",
       "    <tr>\n",
       "      <th>3395</th>\n",
       "      <td>0.0</td>\n",
       "      <td>0.476923</td>\n",
       "      <td>0.429114</td>\n",
       "      <td>0.000000</td>\n",
       "      <td>0</td>\n",
       "    </tr>\n",
       "    <tr>\n",
       "      <th>623</th>\n",
       "      <td>1.0</td>\n",
       "      <td>0.630769</td>\n",
       "      <td>0.236709</td>\n",
       "      <td>0.166667</td>\n",
       "      <td>0</td>\n",
       "    </tr>\n",
       "    <tr>\n",
       "      <th>3499</th>\n",
       "      <td>1.0</td>\n",
       "      <td>0.338462</td>\n",
       "      <td>0.824051</td>\n",
       "      <td>0.666667</td>\n",
       "      <td>0</td>\n",
       "    </tr>\n",
       "  </tbody>\n",
       "</table>\n",
       "</div>"
      ],
      "text/plain": [
       "      gender       age    income  family_members  insurance_benefits\n",
       "4019     0.0  0.953846  0.178481        0.000000                   4\n",
       "2013     1.0  0.430769  0.622785        0.000000                   0\n",
       "3395     0.0  0.476923  0.429114        0.000000                   0\n",
       "623      1.0  0.630769  0.236709        0.166667                   0\n",
       "3499     1.0  0.338462  0.824051        0.666667                   0"
      ]
     },
     "execution_count": 14,
     "metadata": {},
     "output_type": "execute_result"
    }
   ],
   "source": [
    "df_scaled.sample(5)"
   ]
  },
  {
   "cell_type": "markdown",
   "metadata": {},
   "source": [
    "Now, let's get similar records for a given one for every combination"
   ]
  },
  {
   "cell_type": "code",
   "execution_count": 15,
   "metadata": {
    "scrolled": true
   },
   "outputs": [
    {
     "name": "stdout",
     "output_type": "stream",
     "text": [
      "      gender  age   income  family_members  insurance_benefits  distance\n",
      "0          1   41  49600.0               1                   0  0.000000\n",
      "2022       1   41  49600.0               0                   0  1.000000\n",
      "1225       0   42  49600.0               0                   1  1.732051\n",
      "4031       1   44  49600.0               2                   1  3.162278\n",
      "3424       0   38  49600.0               0                   0  3.316625\n"
     ]
    }
   ],
   "source": [
    "# Case 1: Data not scaled, Euclidean distance\n",
    "result_case1 = get_knn(df, n=0, k=5, metric='euclidean')\n",
    "print(result_case1)"
   ]
  },
  {
   "cell_type": "code",
   "execution_count": 16,
   "metadata": {},
   "outputs": [
    {
     "name": "stdout",
     "output_type": "stream",
     "text": [
      "      gender  age   income  family_members  insurance_benefits  distance\n",
      "0          1   41  49600.0               1                   0       0.0\n",
      "2022       1   41  49600.0               0                   0       1.0\n",
      "1225       0   42  49600.0               0                   1       3.0\n",
      "4031       1   44  49600.0               2                   1       4.0\n",
      "3424       0   38  49600.0               0                   0       5.0\n"
     ]
    }
   ],
   "source": [
    "# Case 2: Data not scaled, Manhattan distance\n",
    "result_case2 = get_knn(df, n=0, k=5, metric='manhattan')\n",
    "print(result_case2)"
   ]
  },
  {
   "cell_type": "code",
   "execution_count": 17,
   "metadata": {},
   "outputs": [
    {
     "name": "stdout",
     "output_type": "stream",
     "text": [
      "      gender       age    income  family_members  insurance_benefits  distance\n",
      "0        1.0  0.630769  0.627848        0.166667                   0  0.000000\n",
      "2689     1.0  0.630769  0.634177        0.166667                   0  0.006329\n",
      "133      1.0  0.615385  0.636709        0.166667                   0  0.017754\n",
      "4869     1.0  0.646154  0.637975        0.166667                   1  0.018418\n",
      "3275     1.0  0.646154  0.651899        0.166667                   1  0.028550\n"
     ]
    }
   ],
   "source": [
    "# Case 3: Data scaled with MaxAbsScaler, Euclidean distance\n",
    "result_case3 = get_knn(df_scaled, n=0, k=5, metric='euclidean')\n",
    "print(result_case3)"
   ]
  },
  {
   "cell_type": "code",
   "execution_count": 18,
   "metadata": {
    "scrolled": true
   },
   "outputs": [
    {
     "name": "stdout",
     "output_type": "stream",
     "text": [
      "      gender       age    income  family_members  insurance_benefits  distance\n",
      "0        1.0  0.630769  0.627848        0.166667                   0  0.000000\n",
      "2689     1.0  0.630769  0.634177        0.166667                   0  0.006329\n",
      "133      1.0  0.615385  0.636709        0.166667                   0  0.024245\n",
      "4869     1.0  0.646154  0.637975        0.166667                   1  0.025511\n",
      "3365     1.0  0.630769  0.596203        0.166667                   0  0.031646\n"
     ]
    }
   ],
   "source": [
    "# Case 4: Data scaled with MaxAbsScaler, Manhattan distance\n",
    "result_case4 = get_knn(df_scaled, n=0, k=5, metric='manhattan')\n",
    "print(result_case4)"
   ]
  },
  {
   "cell_type": "markdown",
   "metadata": {},
   "source": [
    "Answers to the questions"
   ]
  },
  {
   "cell_type": "markdown",
   "metadata": {},
   "source": [
    "**Does the data being not scaled affect the kNN algorithm? If so, how does that appear?** \n",
    "\n",
    "The kNN algorithm relies on distance metrics to find nearest neighbors. If features are on different scales, those with larger magnitudes can skew the distance calculation. Scaling makes sur that all features contribute equally to the distance calculation."
   ]
  },
  {
   "cell_type": "markdown",
   "metadata": {},
   "source": [
    "<div class=\"alert alert-success\">\n",
    "<b>Reviewer's comment</b>\n",
    "\n",
    "Yep, that's right!\n",
    "    \n",
    "</div>"
   ]
  },
  {
   "cell_type": "markdown",
   "metadata": {},
   "source": [
    "# Task 2. Is Customer Likely to Receive Insurance Benefit?"
   ]
  },
  {
   "cell_type": "markdown",
   "metadata": {},
   "source": [
    "In terms of machine learning we can look at this like a binary classification task."
   ]
  },
  {
   "cell_type": "markdown",
   "metadata": {},
   "source": [
    "With `insurance_benefits` being more than zero as the target, evaluate whether the kNN classification approach can do better than a dummy model.\n",
    "\n",
    "Instructions:\n",
    "- Build a KNN-based classifier and measure its quality with the F1 metric for k=1..10 for both the original data and the scaled one. That'd be interesting to see how k may influece the evaluation metric, and whether scaling the data makes any difference. You can use a ready implemention of the kNN classification algorithm from scikit-learn (check [the link](https://scikit-learn.org/stable/modules/generated/sklearn.neighbors.KNeighborsClassifier.html)) or use your own.\n",
    "- Build the dummy model which is just random for this case. It should return \"1\" with some probability. Let's test the model with four probability values: 0, the probability of paying any insurance benefit, 0.5, 1.\n",
    "\n",
    "The probability of paying any insurance benefit can be defined as\n",
    "\n",
    "$$\n",
    "P\\{\\text{insurance benefit received}\\}=\\frac{\\text{number of clients received any insurance benefit}}{\\text{total number of clients}}.\n",
    "$$\n",
    "\n",
    "Split the whole data in the 70:30 proportion for the training/testing parts."
   ]
  },
  {
   "cell_type": "code",
   "execution_count": 19,
   "metadata": {},
   "outputs": [],
   "source": [
    "# calculate the target\n",
    "\n",
    "df['insurance_benefits_received'] = (df['insurance_benefits'] > 0).astype(int)\n",
    "probability_of_benefit = df['insurance_benefits_received'].sum() / len(df)"
   ]
  },
  {
   "cell_type": "markdown",
   "metadata": {},
   "source": [
    "<div class=\"alert alert-success\">\n",
    "<b>Reviewer's comment</b>\n",
    "\n",
    "Target was calculated correctly\n",
    "    \n",
    "</div>"
   ]
  },
  {
   "cell_type": "code",
   "execution_count": 20,
   "metadata": {},
   "outputs": [
    {
     "name": "stdout",
     "output_type": "stream",
     "text": [
      "Class Imbalance Check:\n",
      "0    4436\n",
      "1     564\n",
      "Name: insurance_benefits_received, dtype: int64\n"
     ]
    }
   ],
   "source": [
    "# check for the class imbalance with value_counts()\n",
    "\n",
    "class_counts = df['insurance_benefits_received'].value_counts()\n",
    "print(\"Class Imbalance Check:\")\n",
    "print(class_counts)"
   ]
  },
  {
   "cell_type": "code",
   "execution_count": 21,
   "metadata": {},
   "outputs": [],
   "source": [
    "def eval_classifier(y_true, y_pred):\n",
    "    \n",
    "    f1_score = sklearn.metrics.f1_score(y_true, y_pred)\n",
    "    print(f'F1: {f1_score:.2f}')\n",
    "    \n",
    "# if you have an issue with the following line, restart the kernel and run the notebook again\n",
    "    cm = sklearn.metrics.confusion_matrix(y_true, y_pred, normalize='all')\n",
    "    print('Confusion Matrix')\n",
    "    print(cm)"
   ]
  },
  {
   "cell_type": "code",
   "execution_count": 22,
   "metadata": {},
   "outputs": [],
   "source": [
    "# generating output of a random model\n",
    "\n",
    "def rnd_model_predict(P, size, seed=42):\n",
    "\n",
    "    rng = np.random.default_rng(seed=seed)\n",
    "    return rng.binomial(n=1, p=P, size=size)"
   ]
  },
  {
   "cell_type": "code",
   "execution_count": 23,
   "metadata": {},
   "outputs": [
    {
     "name": "stdout",
     "output_type": "stream",
     "text": [
      "The probability: 0.00\n",
      "F1: 0.00\n",
      "Confusion Matrix\n",
      "[[0.8872 0.    ]\n",
      " [0.1128 0.    ]]\n",
      "\n",
      "The probability: 0.11\n",
      "F1: 0.12\n",
      "Confusion Matrix\n",
      "[[0.7914 0.0958]\n",
      " [0.0994 0.0134]]\n",
      "\n",
      "The probability: 0.50\n",
      "F1: 0.20\n",
      "Confusion Matrix\n",
      "[[0.456  0.4312]\n",
      " [0.053  0.0598]]\n",
      "\n",
      "The probability: 1.00\n",
      "F1: 0.20\n",
      "Confusion Matrix\n",
      "[[0.     0.8872]\n",
      " [0.     0.1128]]\n",
      "\n"
     ]
    }
   ],
   "source": [
    "for P in [0, probability_of_benefit, 0.5, 1]:\n",
    "\n",
    "    print(f'The probability: {P:.2f}')\n",
    "    y_pred_rnd = rnd_model_predict(P, len(df))\n",
    "        \n",
    "    eval_classifier(df['insurance_benefits_received'], y_pred_rnd)\n",
    "    \n",
    "    print()"
   ]
  },
  {
   "cell_type": "code",
   "execution_count": 24,
   "metadata": {},
   "outputs": [],
   "source": [
    "# Split the data into training and testing sets\n",
    "features_train, features_test, target_train, target_test = train_test_split(df.drop(['insurance_benefits', 'insurance_benefits_received'], axis=1), \n",
    "                                                    df['insurance_benefits_received'], \n",
    "                                                    test_size=0.3, random_state=42)"
   ]
  },
  {
   "cell_type": "code",
   "execution_count": 25,
   "metadata": {},
   "outputs": [],
   "source": [
    "# Define a function to build and evaluate kNN classifier for different values of k\n",
    "def evaluate_knn(features_train, features_test, target_train, target_test, scaled=False):\n",
    "    f1_scores = []\n",
    "    for k in range(1, 11):\n",
    "        if scaled:\n",
    "            scaler = sklearn.preprocessing.MaxAbsScaler()\n",
    "            features_train_scaled = scaler.fit_transform(features_train)\n",
    "            features_test_scaled = scaler.transform(features_test)\n",
    "        else:\n",
    "            features_train_scaled = features_train\n",
    "            features_test_scaled = features_test\n",
    "        \n",
    "        knn = KNeighborsClassifier(n_neighbors=k)\n",
    "        knn.fit(features_train_scaled, target_train)\n",
    "        target_pred = knn.predict(features_test_scaled)\n",
    "        f1_scores.append(f1_score(target_test, target_pred))\n",
    "    return f1_scores"
   ]
  },
  {
   "cell_type": "markdown",
   "metadata": {},
   "source": [
    "<div class=\"alert alert-success\">\n",
    "<b>Reviewer's comment</b>\n",
    "\n",
    "Scaling is applied correctly!\n",
    "    \n",
    "</div>"
   ]
  },
  {
   "cell_type": "code",
   "execution_count": 26,
   "metadata": {},
   "outputs": [
    {
     "data": {
      "image/png": "[encoded data removed]",
      "text/plain": [
       "<Figure size 1000x600 with 1 Axes>"
      ]
     },
     "metadata": {},
     "output_type": "display_data"
    }
   ],
   "source": [
    "# Calculate F1 scores for the kNN classifier (original data)\n",
    "f1_scores_original = evaluate_knn(features_train, features_test, target_train, target_test, scaled=False)\n",
    "\n",
    "# Calculate F1 scores for the kNN classifier (scaled data)\n",
    "f1_scores_scaled = evaluate_knn(features_train, features_test, target_train, target_test, scaled=True)\n",
    "\n",
    "# Calculate F1 scores for the dummy model for different probability values\n",
    "dummy_f1_scores = []\n",
    "for prob in [0, probability_of_benefit, 0.5, 1]:\n",
    "    y_pred_rnd = rnd_model_predict(prob, len(target_test))\n",
    "    f1_score_dummy = sklearn.metrics.f1_score(target_test, y_pred_rnd)\n",
    "    dummy_f1_scores.append(f1_score_dummy)\n",
    "\n",
    "# Plot F1 scores for kNN classifier and dummy model\n",
    "plt.figure(figsize=(10, 6))\n",
    "plt.plot(range(1, 11), f1_scores_original, marker='o', label='kNN (Original Data)')\n",
    "plt.plot(range(1, 11), f1_scores_scaled, marker='o', label='kNN (Scaled Data)')\n",
    "\n",
    "# Plot dummy model F1 scores for different probability values\n",
    "for i, prob in enumerate([0, probability_of_benefit, 0.5, 1]):\n",
    "    plt.axhline(y=dummy_f1_scores[i], linestyle='--', color='C'+str(i), label=f'Dummy Model (P={prob})')\n",
    "\n",
    "plt.title('F1 Scores Comparison')\n",
    "plt.xlabel('k')\n",
    "plt.ylabel('F1 Score')\n",
    "plt.xticks(range(1, 11))\n",
    "plt.legend()\n",
    "plt.grid(True)\n",
    "plt.show()"
   ]
  },
  {
   "cell_type": "markdown",
   "metadata": {},
   "source": [
    "The kNN function with the scaled data highly outperforms the kNN with the original data and the dummy model. The kNN model with original data gradually gets worse with each additional 'k'."
   ]
  },
  {
   "cell_type": "markdown",
   "metadata": {},
   "source": [
    "<div class=\"alert alert-success\">\n",
    "<b>Reviewer's comment</b>\n",
    "\n",
    "Great, you successfully applied kNN to a classification problem and compared the results with and without scaling. Nice illustration of the importance of scaling for distance-based algorithms!\n",
    "    \n",
    "</div>"
   ]
  },
  {
   "cell_type": "markdown",
   "metadata": {},
   "source": [
    "# Task 3. Regression (with Linear Regression)"
   ]
  },
  {
   "cell_type": "markdown",
   "metadata": {},
   "source": [
    "With `insurance_benefits` as the target, evaluate what RMSE would be for a Linear Regression model."
   ]
  },
  {
   "cell_type": "markdown",
   "metadata": {},
   "source": [
    "Build your own implementation of LR. For that, recall how the linear regression task's solution is formulated in terms of LA. Check RMSE for both the original data and the scaled one. Can you see any difference in RMSE between these two cases?\n",
    "\n",
    "Let's denote\n",
    "- $X$ — feature matrix, each row is a case, each column is a feature, the first column consists of unities\n",
    "- $y$ — target (a vector)\n",
    "- $\\hat{y}$ — estimated tagret (a vector)\n",
    "- $w$ — weight vector\n",
    "\n",
    "The task of linear regression in the language of matrices can be formulated as\n",
    "\n",
    "$$\n",
    "y = Xw\n",
    "$$\n",
    "\n",
    "The training objective then is to find such $w$ that it would minimize the L2-distance (MSE) between $Xw$ and $y$:\n",
    "\n",
    "$$\n",
    "\\min_w d_2(Xw, y) \\quad \\text{or} \\quad \\min_w \\text{MSE}(Xw, y)\n",
    "$$\n",
    "\n",
    "It appears that there is analytical solution for the above:\n",
    "\n",
    "$$\n",
    "w = (X^T X)^{-1} X^T y\n",
    "$$\n",
    "\n",
    "The formula above can be used to find the weights $w$ and the latter can be used to calculate predicted values\n",
    "\n",
    "$$\n",
    "\\hat{y} = X_{val}w\n",
    "$$"
   ]
  },
  {
   "cell_type": "markdown",
   "metadata": {},
   "source": [
    "Split the whole data in the 70:30 proportion for the training/validation parts. Use the RMSE metric for the model evaluation."
   ]
  },
  {
   "cell_type": "code",
   "execution_count": 27,
   "metadata": {},
   "outputs": [],
   "source": [
    "class MyLinearRegression:\n",
    "    \n",
    "    def __init__(self):\n",
    "        \n",
    "        self.weights = None\n",
    "    \n",
    "    def fit(self, X, y):\n",
    "        \n",
    "        # adding the unities\n",
    "        X2 = np.append(np.ones([len(X), 1]), X, axis=1)\n",
    "        self.weights = np.linalg.inv(X2.T @ X2) @ X2.T @ y\n",
    "\n",
    "    def predict(self, X):\n",
    "        \n",
    "        # adding the unities\n",
    "        X2 = np.append(np.ones([len(X), 1]), X, axis=1)\n",
    "        y_pred = X2 @ self.weights\n",
    "        \n",
    "        return y_pred"
   ]
  },
  {
   "cell_type": "markdown",
   "metadata": {},
   "source": [
    "<div class=\"alert alert-success\">\n",
    "<b>Reviewer's comment</b>\n",
    "\n",
    "Linear regression was implemented correctly\n",
    "    \n",
    "</div>"
   ]
  },
  {
   "cell_type": "code",
   "execution_count": 28,
   "metadata": {},
   "outputs": [],
   "source": [
    "def eval_regressor(y_true, y_pred):\n",
    "    \n",
    "    rmse = math.sqrt(sklearn.metrics.mean_squared_error(y_true, y_pred))\n",
    "    print(f'RMSE: {rmse:.2f}')\n",
    "    \n",
    "    r2_score = math.sqrt(sklearn.metrics.r2_score(y_true, y_pred))\n",
    "    print(f'R2: {r2_score:.2f}')    "
   ]
  },
  {
   "cell_type": "code",
   "execution_count": null,
   "metadata": {},
   "outputs": [],
   "source": []
  },
  {
   "cell_type": "code",
   "execution_count": 29,
   "metadata": {
    "scrolled": true
   },
   "outputs": [
    {
     "name": "stdout",
     "output_type": "stream",
     "text": [
      "Evaluation on Original Data:\n",
      "RMSE: 0.34\n",
      "R2: 0.66\n",
      "\n",
      "Evaluation on Scaled Data:\n",
      "RMSE: 0.34\n",
      "R2: 0.66\n"
     ]
    }
   ],
   "source": [
    "# Prepare the data\n",
    "X = df[['age', 'gender', 'income', 'family_members']].to_numpy()\n",
    "y = df['insurance_benefits'].to_numpy()\n",
    "\n",
    "# Split the data into training and testing sets\n",
    "X_train, X_test, y_train, y_test = train_test_split(X, y, test_size=0.3, random_state=12345)\n",
    "\n",
    "# Initialize and fit the linear regression model on the original data\n",
    "lr_original = MyLinearRegression()\n",
    "lr_original.fit(X_train, y_train)\n",
    "\n",
    "# Predict on the test set for the original data and evaluate the model\n",
    "y_test_pred_original = lr_original.predict(X_test)\n",
    "print(\"Evaluation on Original Data:\")\n",
    "eval_regressor(y_test, y_test_pred_original)\n",
    "print()\n",
    "\n",
    "# Scale the features\n",
    "scaler = StandardScaler()\n",
    "X_train_scaled = scaler.fit_transform(X_train)\n",
    "X_test_scaled = scaler.transform(X_test)\n",
    "\n",
    "# Initialize and fit the linear regression model on the scaled data\n",
    "lr_scaled = MyLinearRegression()\n",
    "lr_scaled.fit(X_train_scaled, y_train)\n",
    "\n",
    "# Predict on the test set for the scaled data and evaluate the model\n",
    "y_test_pred_scaled = lr_scaled.predict(X_test_scaled)\n",
    "print(\"Evaluation on Scaled Data:\")\n",
    "eval_regressor(y_test, y_test_pred_scaled)"
   ]
  },
  {
   "cell_type": "markdown",
   "metadata": {},
   "source": [
    "The LinearRegression model performed identically for the scaled and original data. The performance is relatively good, with an RMSE of 0.34 and an R2 score of 0.66. This indicates that the model explains approximately 66% of the variance in the target variable, which suggests a reasonably good fit to the data."
   ]
  },
  {
   "cell_type": "markdown",
   "metadata": {},
   "source": [
    "<div class=\"alert alert-success\">\n",
    "<b>Reviewer's comment</b>\n",
    "\n",
    "Indeed! Note that scaling can be useful for linear regression for example if we apply L1 or L2 regularization or fit the model using the stochastic gradient descent\n",
    "    \n",
    "</div>"
   ]
  },
  {
   "cell_type": "code",
   "execution_count": null,
   "metadata": {},
   "outputs": [],
   "source": []
  },
  {
   "cell_type": "markdown",
   "metadata": {},
   "source": [
    "# Task 4. Obfuscating Data"
   ]
  },
  {
   "cell_type": "markdown",
   "metadata": {},
   "source": [
    "It best to obfuscate data by multiplying the numerical features (remember, they can be seen as the matrix $X$) by an invertible matrix $P$. \n",
    "\n",
    "$$\n",
    "X' = X \\times P\n",
    "$$\n",
    "\n",
    "Try to do that and check how the features' values will look like after the transformation. By the way, the intertible property is important here so make sure that $P$ is indeed invertible.\n",
    "\n",
    "You may want to review the 'Matrices and Matrix Operations -> Matrix Multiplication' lesson to recall the rule of matrix multiplication and its implementation with NumPy."
   ]
  },
  {
   "cell_type": "code",
   "execution_count": 30,
   "metadata": {},
   "outputs": [],
   "source": [
    "personal_info_column_list = ['gender', 'age', 'income', 'family_members']\n",
    "df_pn = df[personal_info_column_list]"
   ]
  },
  {
   "cell_type": "code",
   "execution_count": 31,
   "metadata": {},
   "outputs": [],
   "source": [
    "X = df_pn.to_numpy()"
   ]
  },
  {
   "cell_type": "markdown",
   "metadata": {},
   "source": [
    "Generating a random matrix $P$."
   ]
  },
  {
   "cell_type": "code",
   "execution_count": 32,
   "metadata": {},
   "outputs": [],
   "source": [
    "rng = np.random.default_rng(seed=42)\n",
    "P = rng.random(size=(X.shape[1], X.shape[1]))"
   ]
  },
  {
   "cell_type": "markdown",
   "metadata": {},
   "source": [
    "Checking the matrix $P$ is invertible"
   ]
  },
  {
   "cell_type": "code",
   "execution_count": 33,
   "metadata": {},
   "outputs": [
    {
     "name": "stdout",
     "output_type": "stream",
     "text": [
      "Is matrix P invertible? True\n"
     ]
    }
   ],
   "source": [
    "# Check if matrix P is invertible\n",
    "is_invertible = np.linalg.matrix_rank(P) == X.shape[1]\n",
    "print(\"Is matrix P invertible?\", is_invertible)"
   ]
  },
  {
   "cell_type": "markdown",
   "metadata": {},
   "source": [
    "Can you guess the customers' ages or income after the transformation?"
   ]
  },
  {
   "cell_type": "code",
   "execution_count": 34,
   "metadata": {},
   "outputs": [
    {
     "name": "stdout",
     "output_type": "stream",
     "text": [
      "[[ 6359.71527314 22380.40467609 18424.09074184 46000.69669016]\n",
      " [ 4873.29406479 17160.36702982 14125.78076133 35253.45577301]\n",
      " [ 2693.11742928  9486.397744    7808.83156024 19484.86063067]\n",
      " ...\n",
      " [ 4346.2234249  15289.24126492 12586.16264392 31433.50888552]\n",
      " [ 4194.09324155 14751.9910242  12144.02930637 30323.88763426]\n",
      " [ 5205.46827354 18314.24814446 15077.01370762 37649.59295455]]\n"
     ]
    }
   ],
   "source": [
    "# Perform matrix multiplication X' = X * P\n",
    "X_transformed = X @ P\n",
    "print(X_transformed)"
   ]
  },
  {
   "cell_type": "markdown",
   "metadata": {},
   "source": [
    "You cannot guess the customers' ages or income after the transformation"
   ]
  },
  {
   "cell_type": "markdown",
   "metadata": {},
   "source": [
    "Can you recover the original data from $X'$ if you know $P$? Try to check that with calculations by moving $P$ from the right side of the formula above to the left one. The rules of matrix multiplcation are really helpful here."
   ]
  },
  {
   "cell_type": "code",
   "execution_count": 35,
   "metadata": {},
   "outputs": [
    {
     "name": "stdout",
     "output_type": "stream",
     "text": [
      "[[ 1.00000000e+00  4.10000000e+01  4.96000000e+04  1.00000000e+00]\n",
      " [-4.47363596e-12  4.60000000e+01  3.80000000e+04  1.00000000e+00]\n",
      " [-2.51586878e-12  2.90000000e+01  2.10000000e+04  9.52452315e-13]\n",
      " ...\n",
      " [-1.92837871e-12  2.00000000e+01  3.39000000e+04  2.00000000e+00]\n",
      " [ 1.00000000e+00  2.20000000e+01  3.27000000e+04  3.00000000e+00]\n",
      " [ 1.00000000e+00  2.80000000e+01  4.06000000e+04  1.00000000e+00]]\n",
      "\n",
      "[[1.00e+00 4.10e+01 4.96e+04 1.00e+00]\n",
      " [0.00e+00 4.60e+01 3.80e+04 1.00e+00]\n",
      " [0.00e+00 2.90e+01 2.10e+04 0.00e+00]\n",
      " ...\n",
      " [0.00e+00 2.00e+01 3.39e+04 2.00e+00]\n",
      " [1.00e+00 2.20e+01 3.27e+04 3.00e+00]\n",
      " [1.00e+00 2.80e+01 4.06e+04 1.00e+00]]\n"
     ]
    }
   ],
   "source": [
    "P_inverse = np.linalg.inv(P)\n",
    "X_recovered = X_transformed @ P_inverse\n",
    "print(X_recovered)\n",
    "print()\n",
    "print(X)"
   ]
  },
  {
   "cell_type": "markdown",
   "metadata": {},
   "source": [
    "The original data is recoverable."
   ]
  },
  {
   "cell_type": "markdown",
   "metadata": {},
   "source": [
    "<div class=\"alert alert-success\">\n",
    "<b>Reviewer's comment</b>\n",
    "\n",
    "Correct!\n",
    "    \n",
    "</div>"
   ]
  },
  {
   "cell_type": "markdown",
   "metadata": {},
   "source": [
    "Print all three cases for a few customers\n",
    "- The original data\n",
    "- The transformed one\n",
    "- The reversed (recovered) one"
   ]
  },
  {
   "cell_type": "code",
   "execution_count": 36,
   "metadata": {},
   "outputs": [
    {
     "name": "stdout",
     "output_type": "stream",
     "text": [
      "Original Data:\n",
      "[[1.00e+00 4.10e+01 4.96e+04 1.00e+00]\n",
      " [0.00e+00 4.60e+01 3.80e+04 1.00e+00]\n",
      " [0.00e+00 2.90e+01 2.10e+04 0.00e+00]]\n",
      "\n",
      "Transformed Data:\n",
      "[[ 6359.71527314 22380.40467609 18424.09074184 46000.69669016]\n",
      " [ 4873.29406479 17160.36702982 14125.78076133 35253.45577301]\n",
      " [ 2693.11742928  9486.397744    7808.83156024 19484.86063067]]\n",
      "\n",
      "Recovered Data:\n",
      "[[ 1.00000000e+00  4.10000000e+01  4.96000000e+04  1.00000000e+00]\n",
      " [-4.47363596e-12  4.60000000e+01  3.80000000e+04  1.00000000e+00]\n",
      " [-2.51586878e-12  2.90000000e+01  2.10000000e+04  9.52452315e-13]]\n"
     ]
    }
   ],
   "source": [
    "# Print a few samples of the original, transformed, and recovered data\n",
    "print(\"Original Data:\")\n",
    "print(X[:3])\n",
    "print(\"\\nTransformed Data:\")\n",
    "print(X_transformed[:3])\n",
    "print(\"\\nRecovered Data:\")\n",
    "print(X_recovered[:3])"
   ]
  },
  {
   "cell_type": "markdown",
   "metadata": {},
   "source": [
    "You can probably see that some values are not exactly the same as they are in the original data. What might be the reason for that?"
   ]
  },
  {
   "cell_type": "markdown",
   "metadata": {},
   "source": [
    "Maybe because there's limitations in how precise the numbers can be?"
   ]
  },
  {
   "cell_type": "markdown",
   "metadata": {},
   "source": [
    "<div class=\"alert alert-success\">\n",
    "<b>Reviewer's comment</b>\n",
    "\n",
    "Yep, floating point numbers have limited precision, that's why error inevitably accumulates whenever we do any operations on them.\n",
    "    \n",
    "</div>"
   ]
  },
  {
   "cell_type": "markdown",
   "metadata": {},
   "source": [
    "## Proof That Data Obfuscation Can Work with LR"
   ]
  },
  {
   "cell_type": "markdown",
   "metadata": {},
   "source": [
    "The regression task has been solved with linear regression in this project. Your next task is to prove _analytically_ that the given obfuscation method won't affect linear regression in terms of predicted values i.e. their values will remain the same. Can you believe that? Well, you don't have to, you should prove it!"
   ]
  },
  {
   "cell_type": "markdown",
   "metadata": {},
   "source": [
    "So, the data is obfuscated and there is $X \\times P$ instead of just $X$ now. Consequently, there are other weights $w_P$ as\n",
    "$$\n",
    "w = (X^T X)^{-1} X^T y \\quad \\Rightarrow \\quad w_P = [(XP)^T XP]^{-1} (XP)^T y\n",
    "$$\n",
    "\n",
    "How would $w$ and $w_P$ be linked if you simplify the formula for $w_P$ above? \n",
    "\n",
    "What would be predicted values with $w_P$? \n",
    "\n",
    "What does that mean for the quality of linear regression if you measure it with RMSE?\n",
    "\n",
    "Check Appendix B Properties of Matrices in the end of the notebook. There are useful formulas in there!\n",
    "\n",
    "No code is necessary in this section, only analytical explanation!"
   ]
  },
  {
   "cell_type": "markdown",
   "metadata": {},
   "source": [
    "**Answer**"
   ]
  },
  {
   "cell_type": "markdown",
   "metadata": {},
   "source": [
    "# Relationship Between $ w $ and $ w_P $\n",
    "\n",
    "For the obfuscated data, the weight vector $ w_P $ is:\n",
    "$\n",
    "w_P = [(X P)^T (X P)]^{-1} (X P)^T y\n",
    "$\n",
    "\n",
    "Which is then simplified to: $\n",
    "w_P = [P^TX^TXP]^{-1}P^TX^Ty\n",
    "$\n",
    "\n",
    "Using the property of matrix inverses:\n",
    "$\n",
    "w_P = P^{-1} (X^T X)^{-1} (P^T)^{-1} P^T X^T y\n",
    "$\n",
    "\n",
    "Since $(P^T (P^T)^{-1} = I)$ (the identity matrix):\n",
    "$[w_P = P^{-1} (X^T X)^{-1} X^T y]$\n",
    "\n",
    "Therefore, the relationship between $w$ and $w_P$ is:\n",
    "$w_P = P^{-1} w$"
   ]
  },
  {
   "cell_type": "markdown",
   "metadata": {},
   "source": [
    "# Predicted Values with $w_P$\n",
    "\n",
    "To find the predicted values using the obfuscated data \\( X' \\) and the weight vector \\( w_P \\):\n",
    "$\\hat{y}_P = X' w_P = (X P) w_P$\n",
    "\n",
    "Substituting $w_P = P^{-1} w$:\n",
    "\n",
    "$\\hat{y}_P = (X P) (P^{-1} w)$\n",
    "\n",
    "$\\hat{y}_P = X (P P^{-1}) w$\n",
    "\n",
    "$\\hat{y}_P = X I w$\n",
    "\n",
    "$\\hat{y}_P = X w$\n",
    "\n",
    "This shows that the predicted values $\\hat{y}_P$ using the obfuscated data and the new weights $w_P$ are the same as the predicted values $\\hat{y}$ using the original data and weights $w$."
   ]
  },
  {
   "cell_type": "markdown",
   "metadata": {},
   "source": [
    "# Implications for RMSE\n",
    "\n",
    "Since the predicted values remain the same, the root mean squared error (RMSE) will also remain the same. RMSE is calculated as:\n",
    "$\\text{RMSE} = \\sqrt{\\frac{1}{n} \\sum_{i=1}^n (\\hat{y}_i - y_i)^2}$\n",
    "\n",
    "If $\\hat{y}_P = \\hat{y}$, then:\n",
    "$\\text{RMSE}_P = \\text{RMSE}$\n",
    "\n",
    "This means that obfuscating the data by multiplying the feature matrix $X$ by an invertible matrix $P$ does not affect the quality of the linear regression model as measured by RMSE."
   ]
  },
  {
   "cell_type": "markdown",
   "metadata": {},
   "source": [
    "<div class=\"alert alert-success\">\n",
    "<b>Reviewer's comment</b>\n",
    "\n",
    "The proof is correct! Excellent work!\n",
    "    \n",
    "</div>"
   ]
  },
  {
   "cell_type": "markdown",
   "metadata": {},
   "source": []
  },
  {
   "cell_type": "markdown",
   "metadata": {},
   "source": [
    "## Test Linear Regression With Data Obfuscation"
   ]
  },
  {
   "cell_type": "markdown",
   "metadata": {},
   "source": [
    "Now, let's prove Linear Regression can work computationally with the chosen obfuscation transformation.\n",
    "\n",
    "Build a procedure or a class that runs Linear Regression optionally with the obfuscation. You can use either a ready implementation of Linear Regression from sciki-learn or your own.\n",
    "\n",
    "Run Linear Regression for the original data and the obfuscated one, compare the predicted values and the RMSE, $R^2$ metric values. Is there any difference?"
   ]
  },
  {
   "cell_type": "markdown",
   "metadata": {},
   "source": [
    "**Procedure**\n",
    "\n",
    "- Create a square matrix $P$ of random numbers.\n",
    "- Check that it is invertible. If not, repeat the first point until we get an invertible matrix.\n",
    "- <! your comment here !>\n",
    "- Use $XP$ as the new feature matrix"
   ]
  },
  {
   "cell_type": "code",
   "execution_count": 37,
   "metadata": {},
   "outputs": [],
   "source": [
    "# Function to generate an invertible matrix\n",
    "def generate_invertible_matrix(size, seed=42):\n",
    "    rng = np.random.default_rng(seed)\n",
    "    while True:\n",
    "        P = rng.random((size, size))\n",
    "        try:\n",
    "            # Check if P is invertible\n",
    "            inv(P)\n",
    "            return P\n",
    "        except LinAlgError:\n",
    "            continue"
   ]
  },
  {
   "cell_type": "code",
   "execution_count": 38,
   "metadata": {},
   "outputs": [],
   "source": [
    "# Class for linear regression with optional obfuscation\n",
    "class ObfuscatedLinearRegression:\n",
    "    def __init__(self, obfuscate=False):\n",
    "        self.obfuscate = obfuscate\n",
    "        self.P = None\n",
    "        self.model = MyLinearRegression()\n",
    "\n",
    "    def fit(self, X, y):\n",
    "        if self.obfuscate:\n",
    "            # Generate invertible matrix P\n",
    "            self.P = generate_invertible_matrix(X.shape[1])\n",
    "            # Obfuscate X\n",
    "            X = np.dot(X, self.P)\n",
    "        self.model.fit(X, y)\n",
    "\n",
    "    def predict(self, X):\n",
    "        if self.obfuscate and self.P is not None:\n",
    "            X = np.dot(X, self.P)\n",
    "        return self.model.predict(X)"
   ]
  },
  {
   "cell_type": "code",
   "execution_count": 39,
   "metadata": {},
   "outputs": [],
   "source": [
    "# Function to evaluate the model\n",
    "def eval_regressor(y_true, y_pred):\n",
    "    rmse = np.sqrt(mean_squared_error(y_true, y_pred))\n",
    "    r2 = r2_score(y_true, y_pred)\n",
    "    print(f'RMSE: {rmse:.2f}')\n",
    "    print(f'R2: {r2:.2f}')\n",
    "    return rmse, r2"
   ]
  },
  {
   "cell_type": "code",
   "execution_count": 40,
   "metadata": {},
   "outputs": [
    {
     "name": "stdout",
     "output_type": "stream",
     "text": [
      "Evaluation on Original Data:\n",
      "RMSE: 0.34\n",
      "R2: 0.43\n",
      "\n",
      "Evaluation on Obfuscated Data:\n",
      "RMSE: 0.34\n",
      "R2: 0.43\n",
      "\n",
      "Comparison of Predicted Values:\n",
      "Original Predicted Values: [ 0.17926625  0.80931996  0.45614337 -0.23762191  0.4650019 ]\n",
      "Obfuscated Predicted Values: [ 0.1792662   0.80931996  0.45614341 -0.23762189  0.46500185]\n",
      "\n",
      "Comparison of Metrics:\n",
      "RMSE Original: 0.34, RMSE Obfuscated: 0.34\n",
      "R2 Original: 0.43, R2 Obfuscated: 0.43\n"
     ]
    }
   ],
   "source": [
    "# Evaluate original data\n",
    "print(\"Evaluation on Original Data:\")\n",
    "lr_original = ObfuscatedLinearRegression(obfuscate=False)\n",
    "lr_original.fit(X_train, y_train)\n",
    "y_pred_original = lr_original.predict(X_test)\n",
    "rmse_original, r2_original = eval_regressor(y_test, y_pred_original)\n",
    "\n",
    "# Evaluate obfuscated data\n",
    "print(\"\\nEvaluation on Obfuscated Data:\")\n",
    "lr_obfuscated = ObfuscatedLinearRegression(obfuscate=True)\n",
    "lr_obfuscated.fit(X_train, y_train)\n",
    "y_pred_obfuscated = lr_obfuscated.predict(X_test)\n",
    "rmse_obfuscated, r2_obfuscated = eval_regressor(y_test, y_pred_obfuscated)\n",
    "\n",
    "# Compare predicted values\n",
    "print(\"\\nComparison of Predicted Values:\")\n",
    "print(\"Original Predicted Values:\", y_pred_original[:5])\n",
    "print(\"Obfuscated Predicted Values:\", y_pred_obfuscated[:5])\n",
    "\n",
    "# Comparison of RMSE and R2\n",
    "print(\"\\nComparison of Metrics:\")\n",
    "print(f\"RMSE Original: {rmse_original:.2f}, RMSE Obfuscated: {rmse_obfuscated:.2f}\")\n",
    "print(f\"R2 Original: {r2_original:.2f}, R2 Obfuscated: {r2_obfuscated:.2f}\")"
   ]
  },
  {
   "cell_type": "markdown",
   "metadata": {},
   "source": [
    "The predicted values, the RMSE, and 𝑅2 metric values are exactly the same for the original and the obfuscated data besides some very minor differences in the values."
   ]
  },
  {
   "cell_type": "markdown",
   "metadata": {},
   "source": [
    "<div class=\"alert alert-success\">\n",
    "<b>Reviewer's comment</b>\n",
    "\n",
    "The experiment was conducted correctly!\n",
    "    \n",
    "</div>"
   ]
  },
  {
   "cell_type": "markdown",
   "metadata": {},
   "source": [
    "# Conclusions"
   ]
  },
  {
   "cell_type": "markdown",
   "metadata": {},
   "source": [
    "**Manhattan Distance Metric Consistency:**\n",
    "\n",
    "The results using the Manhattan distance metric are similar regardless of scaling.\n",
    "Despite feature scale differences between unscaled and MaxAbsScaler-scaled data, nearest neighbors identified using Manhattan distance show consistency.\n",
    "This suggests Manhattan distance is less sensitive to feature scaling, making it suitable for data with different scales."
   ]
  },
  {
   "cell_type": "markdown",
   "metadata": {},
   "source": [
    "**kNN Performance:**\n",
    "\n",
    "The kNN classifier with scaled data significantly outperforms both the kNN with original data and the dummy model.\n",
    "Performance of the kNN model on original data deteriorates with increasing 'k'."
   ]
  },
  {
   "cell_type": "markdown",
   "metadata": {},
   "source": [
    "**Linear Regression Performance:**\n",
    "\n",
    "The LinearRegression model performs identically on both scaled and original data, with an RMSE of 0.34 and an R2 score of 0.66.\n",
    "The model explains approximately 66% of the variance in the target variable, indicating a reasonably good fit."
   ]
  },
  {
   "cell_type": "markdown",
   "metadata": {},
   "source": [
    "**Data Obfuscation:**\n",
    "\n",
    "Customer ages or income cannot be guessed after the data transformation.\n",
    "The original data is recoverable from the transformed data."
   ]
  },
  {
   "cell_type": "markdown",
   "metadata": {},
   "source": [
    "**Effect of Obfuscation on Linear Regression:**\n",
    "\n",
    "Linear Regression works computationally with the obfuscation transformation.\n",
    "Predicted values, RMSE, and R2 metrics are the same for both original and obfuscated data, apart from minor numerical differences."
   ]
  },
  {
   "cell_type": "markdown",
   "metadata": {},
   "source": [
    "<div class=\"alert alert-success\">\n",
    "<b>Reviewer's comment</b>\n",
    "\n",
    "Nice summary!\n",
    "    \n",
    "</div>"
   ]
  },
  {
   "cell_type": "markdown",
   "metadata": {},
   "source": [
    "# Checklist"
   ]
  },
  {
   "cell_type": "markdown",
   "metadata": {},
   "source": [
    "Type 'x' to check. Then press Shift+Enter."
   ]
  },
  {
   "cell_type": "markdown",
   "metadata": {},
   "source": [
    "- [x]  Jupyter Notebook is open\n",
    "- [ ]  Code is error free\n",
    "- [ ]  The cells are arranged in order of logic and execution\n",
    "- [ ]  Task 1 has been performed\n",
    "    - [ ]  There is the procedure that can return k similar customers for a given one\n",
    "    - [ ]  The procedure is tested for all four proposed combinations\n",
    "    - [ ]  The questions re the scaling/distances are answered\n",
    "- [ ]  Task 2 has been performed\n",
    "    - [ ]  The random classification model is built and tested for all for probability levels\n",
    "    - [ ]  The kNN classification model is built and tested for both the original data and the scaled one, the F1 metric is calculated.\n",
    "- [ ]  Task 3 has been performed\n",
    "    - [ ]  The linear tegression solution is implemented with matrix operations.\n",
    "    - [ ]  RMSE is calculated for the implemented solution.\n",
    "- [ ]  Task 4 has been performed\n",
    "    - [ ]  The data is obfuscated with a random and invertible matrix P\n",
    "    - [ ]  The obfuscated data is recoved, few examples are printed out\n",
    "    - [ ]  The analytical proof that the transformation does not affect RMSE is provided \n",
    "    - [ ]  The computational proof that the transformation does not affect RMSE is provided\n",
    "- [ ]  Conclusions have been made"
   ]
  },
  {
   "cell_type": "markdown",
   "metadata": {},
   "source": [
    "# Appendices \n",
    "\n",
    "## Appendix A: Writing Formulas in Jupyter Notebooks"
   ]
  },
  {
   "cell_type": "markdown",
   "metadata": {},
   "source": [
    "You can write formulas in your Jupyter Notebook in a markup language provided by a high-quality publishing system called $\\LaTeX$ (pronounced \"Lah-tech\"), and they will look like formulas in textbooks.\n",
    "\n",
    "To put a formula in a text, put the dollar sign (\\\\$) before and after the formula's text e.g. $\\frac{1}{2} \\times \\frac{3}{2} = \\frac{3}{4}$ or $y = x^2, x \\ge 1$.\n",
    "\n",
    "If a formula should be in its own paragraph, put the double dollar sign (\\\\$\\\\$) before and after the formula text e.g.\n",
    "\n",
    "$$\n",
    "\\bar{x} = \\frac{1}{n}\\sum_{i=1}^{n} x_i.\n",
    "$$\n",
    "\n",
    "The markup language of [LaTeX](https://en.wikipedia.org/wiki/LaTeX) is very popular among people who use formulas in their articles, books and texts. It can be complex but its basics are easy. Check this two page [cheatsheet](http://tug.ctan.org/info/undergradmath/undergradmath.pdf) for learning how to compose the most common formulas."
   ]
  },
  {
   "cell_type": "markdown",
   "metadata": {},
   "source": [
    "## Appendix B: Properties of Matrices"
   ]
  },
  {
   "cell_type": "markdown",
   "metadata": {},
   "source": [
    "Matrices have many properties in Linear Algebra. A few of them are listed here which can help with the analytical proof in this project."
   ]
  },
  {
   "cell_type": "markdown",
   "metadata": {},
   "source": [
    "<table>\n",
    "<tr>\n",
    "<td>Distributivity</td><td>$A(B+C)=AB+AC$</td>\n",
    "</tr>\n",
    "<tr>\n",
    "<td>Non-commutativity</td><td>$AB \\neq BA$</td>\n",
    "</tr>\n",
    "<tr>\n",
    "<td>Associative property of multiplication</td><td>$(AB)C = A(BC)$</td>\n",
    "</tr>\n",
    "<tr>\n",
    "<td>Multiplicative identity property</td><td>$IA = AI = A$</td>\n",
    "</tr>\n",
    "<tr>\n",
    "<td></td><td>$A^{-1}A = AA^{-1} = I$\n",
    "</td>\n",
    "</tr>    \n",
    "<tr>\n",
    "<td></td><td>$(AB)^{-1} = B^{-1}A^{-1}$</td>\n",
    "</tr>    \n",
    "<tr>\n",
    "<td>Reversivity of the transpose of a product of matrices,</td><td>$(AB)^T = B^TA^T$</td>\n",
    "</tr>    \n",
    "</table>"
   ]
  },
  {
   "cell_type": "code",
   "execution_count": null,
   "metadata": {},
   "outputs": [],
   "source": []
  }
 ],
 "metadata": {
  "ExecuteTimeLog": [
   {
    "duration": 318,
    "start_time": "2024-05-17T05:52:10.301Z"
   },
   {
    "duration": 22,
    "start_time": "2024-05-17T05:52:15.942Z"
   },
   {
    "duration": 6390,
    "start_time": "2024-05-17T05:52:20.083Z"
   },
   {
    "duration": 77,
    "start_time": "2024-05-17T05:52:26.476Z"
   },
   {
    "duration": 5,
    "start_time": "2024-05-17T05:52:26.559Z"
   },
   {
    "duration": 20,
    "start_time": "2024-05-17T05:52:26.570Z"
   },
   {
    "duration": 34,
    "start_time": "2024-05-17T05:52:26.593Z"
   },
   {
    "duration": 6,
    "start_time": "2024-05-17T05:52:26.631Z"
   },
   {
    "duration": 19,
    "start_time": "2024-05-17T05:52:26.640Z"
   },
   {
    "duration": 72,
    "start_time": "2024-05-17T05:52:26.662Z"
   },
   {
    "duration": 6,
    "start_time": "2024-05-17T05:52:26.737Z"
   },
   {
    "duration": 5493,
    "start_time": "2024-05-17T05:52:26.750Z"
   },
   {
    "duration": 4,
    "start_time": "2024-05-17T05:52:32.246Z"
   },
   {
    "duration": 7,
    "start_time": "2024-05-17T05:52:32.254Z"
   },
   {
    "duration": 15,
    "start_time": "2024-05-17T05:52:32.264Z"
   },
   {
    "duration": 15,
    "start_time": "2024-05-17T05:52:32.282Z"
   },
   {
    "duration": 19,
    "start_time": "2024-05-17T05:52:32.327Z"
   },
   {
    "duration": 20,
    "start_time": "2024-05-17T05:52:32.350Z"
   },
   {
    "duration": 67,
    "start_time": "2024-05-17T05:52:32.372Z"
   },
   {
    "duration": 34,
    "start_time": "2024-05-17T05:52:32.443Z"
   },
   {
    "duration": 7,
    "start_time": "2024-05-17T05:52:32.481Z"
   },
   {
    "duration": 40,
    "start_time": "2024-05-17T05:52:32.491Z"
   },
   {
    "duration": 6,
    "start_time": "2024-05-17T05:52:32.534Z"
   },
   {
    "duration": 5,
    "start_time": "2024-05-17T05:52:32.543Z"
   },
   {
    "duration": 84,
    "start_time": "2024-05-17T05:52:32.551Z"
   },
   {
    "duration": 12,
    "start_time": "2024-05-17T05:52:32.638Z"
   },
   {
    "duration": 9,
    "start_time": "2024-05-17T05:52:32.652Z"
   },
   {
    "duration": 2125,
    "start_time": "2024-05-17T05:52:32.674Z"
   },
   {
    "duration": 7,
    "start_time": "2024-05-17T05:52:34.803Z"
   },
   {
    "duration": 5,
    "start_time": "2024-05-17T05:52:34.830Z"
   },
   {
    "duration": 23,
    "start_time": "2024-05-17T05:52:34.840Z"
   },
   {
    "duration": 5,
    "start_time": "2024-05-17T05:52:34.926Z"
   },
   {
    "duration": 5,
    "start_time": "2024-05-17T05:52:34.935Z"
   },
   {
    "duration": 84,
    "start_time": "2024-05-17T05:52:34.943Z"
   },
   {
    "duration": 6,
    "start_time": "2024-05-17T05:52:35.030Z"
   },
   {
    "duration": 5,
    "start_time": "2024-05-17T05:52:35.040Z"
   },
   {
    "duration": 8,
    "start_time": "2024-05-17T05:52:51.261Z"
   },
   {
    "duration": 5,
    "start_time": "2024-05-17T05:53:06.106Z"
   },
   {
    "duration": 19,
    "start_time": "2024-05-17T05:54:38.286Z"
   },
   {
    "duration": 9,
    "start_time": "2024-05-17T05:54:57.731Z"
   },
   {
    "duration": 6,
    "start_time": "2024-05-17T05:55:33.693Z"
   },
   {
    "duration": 1663,
    "start_time": "2024-05-17T06:42:36.984Z"
   },
   {
    "duration": 29,
    "start_time": "2024-05-17T06:42:38.650Z"
   },
   {
    "duration": 5,
    "start_time": "2024-05-17T06:42:38.683Z"
   },
   {
    "duration": 40,
    "start_time": "2024-05-17T06:42:38.694Z"
   },
   {
    "duration": 16,
    "start_time": "2024-05-17T06:42:38.737Z"
   },
   {
    "duration": 5,
    "start_time": "2024-05-17T06:42:38.756Z"
   },
   {
    "duration": 61,
    "start_time": "2024-05-17T06:42:38.765Z"
   },
   {
    "duration": 28,
    "start_time": "2024-05-17T06:42:38.830Z"
   },
   {
    "duration": 6,
    "start_time": "2024-05-17T06:42:38.861Z"
   },
   {
    "duration": 5314,
    "start_time": "2024-05-17T06:42:38.873Z"
   },
   {
    "duration": 4,
    "start_time": "2024-05-17T06:42:44.190Z"
   },
   {
    "duration": 10,
    "start_time": "2024-05-17T06:42:44.198Z"
   },
   {
    "duration": 15,
    "start_time": "2024-05-17T06:42:44.226Z"
   },
   {
    "duration": 15,
    "start_time": "2024-05-17T06:42:44.244Z"
   },
   {
    "duration": 20,
    "start_time": "2024-05-17T06:42:44.262Z"
   },
   {
    "duration": 58,
    "start_time": "2024-05-17T06:42:44.285Z"
   },
   {
    "duration": 37,
    "start_time": "2024-05-17T06:42:44.346Z"
   },
   {
    "duration": 59,
    "start_time": "2024-05-17T06:42:44.386Z"
   },
   {
    "duration": 5,
    "start_time": "2024-05-17T06:42:44.451Z"
   },
   {
    "duration": 7,
    "start_time": "2024-05-17T06:42:44.461Z"
   },
   {
    "duration": 6,
    "start_time": "2024-05-17T06:42:44.471Z"
   },
   {
    "duration": 47,
    "start_time": "2024-05-17T06:42:44.481Z"
   },
   {
    "duration": 43,
    "start_time": "2024-05-17T06:42:44.532Z"
   },
   {
    "duration": 9,
    "start_time": "2024-05-17T06:42:44.579Z"
   },
   {
    "duration": 6,
    "start_time": "2024-05-17T06:42:44.626Z"
   },
   {
    "duration": 2190,
    "start_time": "2024-05-17T06:42:44.636Z"
   },
   {
    "duration": 9,
    "start_time": "2024-05-17T06:42:46.829Z"
   },
   {
    "duration": 5,
    "start_time": "2024-05-17T06:42:46.847Z"
   },
   {
    "duration": 71,
    "start_time": "2024-05-17T06:42:46.855Z"
   },
   {
    "duration": 6,
    "start_time": "2024-05-17T06:42:46.929Z"
   },
   {
    "duration": 3,
    "start_time": "2024-05-17T06:42:46.941Z"
   },
   {
    "duration": 79,
    "start_time": "2024-05-17T06:42:46.948Z"
   },
   {
    "duration": 5,
    "start_time": "2024-05-17T06:42:47.031Z"
   },
   {
    "duration": 7,
    "start_time": "2024-05-17T06:42:47.040Z"
   },
   {
    "duration": 10,
    "start_time": "2024-05-17T06:42:47.050Z"
   },
   {
    "duration": 67,
    "start_time": "2024-05-17T06:42:47.063Z"
   },
   {
    "duration": 7,
    "start_time": "2024-05-17T06:42:47.133Z"
   },
   {
    "duration": 81,
    "start_time": "2024-05-17T06:42:47.146Z"
   },
   {
    "duration": 6,
    "start_time": "2024-05-17T06:42:47.230Z"
   },
   {
    "duration": 501,
    "start_time": "2024-05-17T06:42:47.239Z"
   },
   {
    "duration": 1643,
    "start_time": "2024-05-17T06:44:24.526Z"
   },
   {
    "duration": 28,
    "start_time": "2024-05-17T06:44:26.173Z"
   },
   {
    "duration": 21,
    "start_time": "2024-05-17T06:44:26.205Z"
   },
   {
    "duration": 16,
    "start_time": "2024-05-17T06:44:26.232Z"
   },
   {
    "duration": 14,
    "start_time": "2024-05-17T06:44:26.254Z"
   },
   {
    "duration": 6,
    "start_time": "2024-05-17T06:44:26.272Z"
   },
   {
    "duration": 59,
    "start_time": "2024-05-17T06:44:26.282Z"
   },
   {
    "duration": 24,
    "start_time": "2024-05-17T06:44:26.344Z"
   },
   {
    "duration": 5,
    "start_time": "2024-05-17T06:44:26.371Z"
   },
   {
    "duration": 5080,
    "start_time": "2024-05-17T06:44:26.382Z"
   },
   {
    "duration": 5,
    "start_time": "2024-05-17T06:44:31.465Z"
   },
   {
    "duration": 8,
    "start_time": "2024-05-17T06:44:31.473Z"
   },
   {
    "duration": 16,
    "start_time": "2024-05-17T06:44:31.484Z"
   },
   {
    "duration": 31,
    "start_time": "2024-05-17T06:44:31.504Z"
   },
   {
    "duration": 18,
    "start_time": "2024-05-17T06:44:31.539Z"
   },
   {
    "duration": 19,
    "start_time": "2024-05-17T06:44:31.559Z"
   },
   {
    "duration": 80,
    "start_time": "2024-05-17T06:44:31.580Z"
   },
   {
    "duration": 36,
    "start_time": "2024-05-17T06:44:31.664Z"
   },
   {
    "duration": 29,
    "start_time": "2024-05-17T06:44:31.702Z"
   },
   {
    "duration": 7,
    "start_time": "2024-05-17T06:44:31.734Z"
   },
   {
    "duration": 5,
    "start_time": "2024-05-17T06:44:31.744Z"
   },
   {
    "duration": 5,
    "start_time": "2024-05-17T06:44:31.752Z"
   },
   {
    "duration": 87,
    "start_time": "2024-05-17T06:44:31.760Z"
   },
   {
    "duration": 10,
    "start_time": "2024-05-17T06:44:31.850Z"
   },
   {
    "duration": 6,
    "start_time": "2024-05-17T06:44:31.863Z"
   },
   {
    "duration": 2191,
    "start_time": "2024-05-17T06:44:31.873Z"
   },
   {
    "duration": 7,
    "start_time": "2024-05-17T06:44:34.068Z"
   },
   {
    "duration": 5,
    "start_time": "2024-05-17T06:44:34.084Z"
   },
   {
    "duration": 49,
    "start_time": "2024-05-17T06:44:34.092Z"
   },
   {
    "duration": 6,
    "start_time": "2024-05-17T06:44:34.143Z"
   },
   {
    "duration": 76,
    "start_time": "2024-05-17T06:44:34.152Z"
   },
   {
    "duration": 5,
    "start_time": "2024-05-17T06:44:34.231Z"
   },
   {
    "duration": 6,
    "start_time": "2024-05-17T06:44:34.240Z"
   },
   {
    "duration": 81,
    "start_time": "2024-05-17T06:44:34.249Z"
   },
   {
    "duration": 7,
    "start_time": "2024-05-17T06:44:34.334Z"
   },
   {
    "duration": 7,
    "start_time": "2024-05-17T06:44:34.345Z"
   },
   {
    "duration": 75,
    "start_time": "2024-05-17T06:44:34.355Z"
   },
   {
    "duration": 12,
    "start_time": "2024-05-17T06:44:34.434Z"
   },
   {
    "duration": 6,
    "start_time": "2024-05-17T06:44:34.525Z"
   },
   {
    "duration": 628,
    "start_time": "2024-05-17T06:44:34.534Z"
   },
   {
    "duration": 2055,
    "start_time": "2024-05-17T06:45:43.817Z"
   },
   {
    "duration": 0,
    "start_time": "2024-05-17T06:45:45.879Z"
   },
   {
    "duration": 0,
    "start_time": "2024-05-17T06:45:45.880Z"
   },
   {
    "duration": 0,
    "start_time": "2024-05-17T06:45:45.884Z"
   },
   {
    "duration": 0,
    "start_time": "2024-05-17T06:45:45.885Z"
   },
   {
    "duration": 0,
    "start_time": "2024-05-17T06:45:45.889Z"
   },
   {
    "duration": 0,
    "start_time": "2024-05-17T06:45:45.891Z"
   },
   {
    "duration": 0,
    "start_time": "2024-05-17T06:45:45.894Z"
   },
   {
    "duration": 0,
    "start_time": "2024-05-17T06:45:45.896Z"
   },
   {
    "duration": 0,
    "start_time": "2024-05-17T06:45:45.929Z"
   },
   {
    "duration": 0,
    "start_time": "2024-05-17T06:45:45.932Z"
   },
   {
    "duration": 0,
    "start_time": "2024-05-17T06:45:45.934Z"
   },
   {
    "duration": 0,
    "start_time": "2024-05-17T06:45:45.937Z"
   },
   {
    "duration": 0,
    "start_time": "2024-05-17T06:45:45.943Z"
   },
   {
    "duration": 0,
    "start_time": "2024-05-17T06:45:45.946Z"
   },
   {
    "duration": 1,
    "start_time": "2024-05-17T06:45:45.947Z"
   },
   {
    "duration": 0,
    "start_time": "2024-05-17T06:45:45.951Z"
   },
   {
    "duration": 0,
    "start_time": "2024-05-17T06:45:45.955Z"
   },
   {
    "duration": 0,
    "start_time": "2024-05-17T06:45:45.958Z"
   },
   {
    "duration": 0,
    "start_time": "2024-05-17T06:45:45.961Z"
   },
   {
    "duration": 0,
    "start_time": "2024-05-17T06:45:45.964Z"
   },
   {
    "duration": 0,
    "start_time": "2024-05-17T06:45:45.967Z"
   },
   {
    "duration": 0,
    "start_time": "2024-05-17T06:45:46.026Z"
   },
   {
    "duration": 0,
    "start_time": "2024-05-17T06:45:46.028Z"
   },
   {
    "duration": 1,
    "start_time": "2024-05-17T06:45:46.029Z"
   },
   {
    "duration": 0,
    "start_time": "2024-05-17T06:45:46.032Z"
   },
   {
    "duration": 0,
    "start_time": "2024-05-17T06:45:46.035Z"
   },
   {
    "duration": 0,
    "start_time": "2024-05-17T06:45:46.038Z"
   },
   {
    "duration": 1,
    "start_time": "2024-05-17T06:45:46.041Z"
   },
   {
    "duration": 0,
    "start_time": "2024-05-17T06:45:46.043Z"
   },
   {
    "duration": 0,
    "start_time": "2024-05-17T06:45:46.046Z"
   },
   {
    "duration": 0,
    "start_time": "2024-05-17T06:45:46.049Z"
   },
   {
    "duration": 0,
    "start_time": "2024-05-17T06:45:46.051Z"
   },
   {
    "duration": 0,
    "start_time": "2024-05-17T06:45:46.053Z"
   },
   {
    "duration": 0,
    "start_time": "2024-05-17T06:45:46.056Z"
   },
   {
    "duration": 0,
    "start_time": "2024-05-17T06:45:46.058Z"
   },
   {
    "duration": 0,
    "start_time": "2024-05-17T06:45:46.061Z"
   },
   {
    "duration": 0,
    "start_time": "2024-05-17T06:45:46.063Z"
   },
   {
    "duration": 0,
    "start_time": "2024-05-17T06:45:46.126Z"
   },
   {
    "duration": 0,
    "start_time": "2024-05-17T06:45:46.128Z"
   },
   {
    "duration": 2101,
    "start_time": "2024-05-17T06:46:01.388Z"
   },
   {
    "duration": 0,
    "start_time": "2024-05-17T06:46:03.495Z"
   },
   {
    "duration": 0,
    "start_time": "2024-05-17T06:46:03.498Z"
   },
   {
    "duration": 0,
    "start_time": "2024-05-17T06:46:03.501Z"
   },
   {
    "duration": 0,
    "start_time": "2024-05-17T06:46:03.504Z"
   },
   {
    "duration": 0,
    "start_time": "2024-05-17T06:46:03.506Z"
   },
   {
    "duration": 0,
    "start_time": "2024-05-17T06:46:03.527Z"
   },
   {
    "duration": 0,
    "start_time": "2024-05-17T06:46:03.530Z"
   },
   {
    "duration": 0,
    "start_time": "2024-05-17T06:46:03.531Z"
   },
   {
    "duration": 0,
    "start_time": "2024-05-17T06:46:03.534Z"
   },
   {
    "duration": 0,
    "start_time": "2024-05-17T06:46:03.537Z"
   },
   {
    "duration": 0,
    "start_time": "2024-05-17T06:46:03.538Z"
   },
   {
    "duration": 0,
    "start_time": "2024-05-17T06:46:03.540Z"
   },
   {
    "duration": 0,
    "start_time": "2024-05-17T06:46:03.542Z"
   },
   {
    "duration": 0,
    "start_time": "2024-05-17T06:46:03.544Z"
   },
   {
    "duration": 0,
    "start_time": "2024-05-17T06:46:03.548Z"
   },
   {
    "duration": 0,
    "start_time": "2024-05-17T06:46:03.550Z"
   },
   {
    "duration": 0,
    "start_time": "2024-05-17T06:46:03.552Z"
   },
   {
    "duration": 0,
    "start_time": "2024-05-17T06:46:03.555Z"
   },
   {
    "duration": 0,
    "start_time": "2024-05-17T06:46:03.557Z"
   },
   {
    "duration": 0,
    "start_time": "2024-05-17T06:46:03.560Z"
   },
   {
    "duration": 0,
    "start_time": "2024-05-17T06:46:03.562Z"
   },
   {
    "duration": 0,
    "start_time": "2024-05-17T06:46:03.564Z"
   },
   {
    "duration": 0,
    "start_time": "2024-05-17T06:46:03.627Z"
   },
   {
    "duration": 0,
    "start_time": "2024-05-17T06:46:03.633Z"
   },
   {
    "duration": 0,
    "start_time": "2024-05-17T06:46:03.635Z"
   },
   {
    "duration": 0,
    "start_time": "2024-05-17T06:46:03.637Z"
   },
   {
    "duration": 0,
    "start_time": "2024-05-17T06:46:03.639Z"
   },
   {
    "duration": 0,
    "start_time": "2024-05-17T06:46:03.642Z"
   },
   {
    "duration": 0,
    "start_time": "2024-05-17T06:46:03.644Z"
   },
   {
    "duration": 0,
    "start_time": "2024-05-17T06:46:03.647Z"
   },
   {
    "duration": 0,
    "start_time": "2024-05-17T06:46:03.650Z"
   },
   {
    "duration": 0,
    "start_time": "2024-05-17T06:46:03.652Z"
   },
   {
    "duration": 0,
    "start_time": "2024-05-17T06:46:03.655Z"
   },
   {
    "duration": 0,
    "start_time": "2024-05-17T06:46:03.658Z"
   },
   {
    "duration": 0,
    "start_time": "2024-05-17T06:46:03.659Z"
   },
   {
    "duration": 0,
    "start_time": "2024-05-17T06:46:03.662Z"
   },
   {
    "duration": 0,
    "start_time": "2024-05-17T06:46:03.665Z"
   },
   {
    "duration": 0,
    "start_time": "2024-05-17T06:46:03.728Z"
   },
   {
    "duration": 0,
    "start_time": "2024-05-17T06:46:03.731Z"
   },
   {
    "duration": 9,
    "start_time": "2024-05-17T06:46:27.124Z"
   },
   {
    "duration": 1564,
    "start_time": "2024-05-17T06:46:32.373Z"
   },
   {
    "duration": 28,
    "start_time": "2024-05-17T06:46:33.940Z"
   },
   {
    "duration": 6,
    "start_time": "2024-05-17T06:46:33.970Z"
   },
   {
    "duration": 15,
    "start_time": "2024-05-17T06:46:33.980Z"
   },
   {
    "duration": 16,
    "start_time": "2024-05-17T06:46:34.026Z"
   },
   {
    "duration": 6,
    "start_time": "2024-05-17T06:46:34.045Z"
   },
   {
    "duration": 15,
    "start_time": "2024-05-17T06:46:34.054Z"
   },
   {
    "duration": 68,
    "start_time": "2024-05-17T06:46:34.073Z"
   },
   {
    "duration": 6,
    "start_time": "2024-05-17T06:46:34.144Z"
   },
   {
    "duration": 5051,
    "start_time": "2024-05-17T06:46:34.156Z"
   },
   {
    "duration": 4,
    "start_time": "2024-05-17T06:46:39.210Z"
   },
   {
    "duration": 11,
    "start_time": "2024-05-17T06:46:39.217Z"
   },
   {
    "duration": 16,
    "start_time": "2024-05-17T06:46:39.231Z"
   },
   {
    "duration": 17,
    "start_time": "2024-05-17T06:46:39.249Z"
   },
   {
    "duration": 60,
    "start_time": "2024-05-17T06:46:39.269Z"
   },
   {
    "duration": 23,
    "start_time": "2024-05-17T06:46:39.333Z"
   },
   {
    "duration": 43,
    "start_time": "2024-05-17T06:46:39.359Z"
   },
   {
    "duration": 35,
    "start_time": "2024-05-17T06:46:39.428Z"
   },
   {
    "duration": 9,
    "start_time": "2024-05-17T06:46:39.466Z"
   },
   {
    "duration": 6,
    "start_time": "2024-05-17T06:46:39.478Z"
   },
   {
    "duration": 38,
    "start_time": "2024-05-17T06:46:39.488Z"
   },
   {
    "duration": 6,
    "start_time": "2024-05-17T06:46:39.529Z"
   },
   {
    "duration": 38,
    "start_time": "2024-05-17T06:46:39.538Z"
   },
   {
    "duration": 46,
    "start_time": "2024-05-17T06:46:39.580Z"
   },
   {
    "duration": 7,
    "start_time": "2024-05-17T06:46:39.629Z"
   },
   {
    "duration": 2140,
    "start_time": "2024-05-17T06:46:39.639Z"
   },
   {
    "duration": 10,
    "start_time": "2024-05-17T06:46:41.783Z"
   },
   {
    "duration": 4,
    "start_time": "2024-05-17T06:46:41.801Z"
   },
   {
    "duration": 24,
    "start_time": "2024-05-17T06:46:41.828Z"
   },
   {
    "duration": 7,
    "start_time": "2024-05-17T06:46:41.930Z"
   },
   {
    "duration": 8,
    "start_time": "2024-05-17T06:46:41.943Z"
   },
   {
    "duration": 6,
    "start_time": "2024-05-17T06:46:42.028Z"
   },
   {
    "duration": 6,
    "start_time": "2024-05-17T06:46:42.038Z"
   },
   {
    "duration": 6,
    "start_time": "2024-05-17T06:46:42.048Z"
   },
   {
    "duration": 7,
    "start_time": "2024-05-17T06:46:42.057Z"
   },
   {
    "duration": 62,
    "start_time": "2024-05-17T06:46:42.066Z"
   },
   {
    "duration": 9,
    "start_time": "2024-05-17T06:46:42.130Z"
   },
   {
    "duration": 86,
    "start_time": "2024-05-17T06:46:42.141Z"
   },
   {
    "duration": 7,
    "start_time": "2024-05-17T06:46:42.231Z"
   },
   {
    "duration": 634,
    "start_time": "2024-05-17T06:46:42.241Z"
   },
   {
    "duration": 1724,
    "start_time": "2024-05-17T06:47:20.230Z"
   },
   {
    "duration": 28,
    "start_time": "2024-05-17T06:47:21.959Z"
   },
   {
    "duration": 6,
    "start_time": "2024-05-17T06:47:21.990Z"
   },
   {
    "duration": 40,
    "start_time": "2024-05-17T06:47:22.000Z"
   },
   {
    "duration": 16,
    "start_time": "2024-05-17T06:47:22.047Z"
   },
   {
    "duration": 6,
    "start_time": "2024-05-17T06:47:22.066Z"
   },
   {
    "duration": 58,
    "start_time": "2024-05-17T06:47:22.075Z"
   },
   {
    "duration": 26,
    "start_time": "2024-05-17T06:47:22.136Z"
   },
   {
    "duration": 6,
    "start_time": "2024-05-17T06:47:22.165Z"
   },
   {
    "duration": 5176,
    "start_time": "2024-05-17T06:47:22.175Z"
   },
   {
    "duration": 4,
    "start_time": "2024-05-17T06:47:27.355Z"
   },
   {
    "duration": 7,
    "start_time": "2024-05-17T06:47:27.362Z"
   },
   {
    "duration": 16,
    "start_time": "2024-05-17T06:47:27.372Z"
   },
   {
    "duration": 37,
    "start_time": "2024-05-17T06:47:27.398Z"
   },
   {
    "duration": 20,
    "start_time": "2024-05-17T06:47:27.439Z"
   },
   {
    "duration": 20,
    "start_time": "2024-05-17T06:47:27.463Z"
   },
   {
    "duration": 77,
    "start_time": "2024-05-17T06:47:27.487Z"
   },
   {
    "duration": 35,
    "start_time": "2024-05-17T06:47:27.570Z"
   },
   {
    "duration": 11,
    "start_time": "2024-05-17T06:47:27.628Z"
   },
   {
    "duration": 8,
    "start_time": "2024-05-17T06:47:27.642Z"
   },
   {
    "duration": 8,
    "start_time": "2024-05-17T06:47:27.653Z"
   },
   {
    "duration": 5,
    "start_time": "2024-05-17T06:47:27.664Z"
   },
   {
    "duration": 86,
    "start_time": "2024-05-17T06:47:27.672Z"
   },
   {
    "duration": 10,
    "start_time": "2024-05-17T06:47:27.761Z"
   },
   {
    "duration": 6,
    "start_time": "2024-05-17T06:47:27.774Z"
   },
   {
    "duration": 2119,
    "start_time": "2024-05-17T06:47:27.783Z"
   },
   {
    "duration": 7,
    "start_time": "2024-05-17T06:47:29.905Z"
   },
   {
    "duration": 13,
    "start_time": "2024-05-17T06:47:29.915Z"
   },
   {
    "duration": 17,
    "start_time": "2024-05-17T06:47:29.932Z"
   },
   {
    "duration": 72,
    "start_time": "2024-05-17T06:47:29.953Z"
   },
   {
    "duration": 5,
    "start_time": "2024-05-17T06:47:30.029Z"
   },
   {
    "duration": 5,
    "start_time": "2024-05-17T06:47:30.038Z"
   },
   {
    "duration": 80,
    "start_time": "2024-05-17T06:47:30.046Z"
   },
   {
    "duration": 5,
    "start_time": "2024-05-17T06:47:30.130Z"
   },
   {
    "duration": 7,
    "start_time": "2024-05-17T06:47:30.140Z"
   },
   {
    "duration": 76,
    "start_time": "2024-05-17T06:47:30.150Z"
   },
   {
    "duration": 5,
    "start_time": "2024-05-17T06:47:30.230Z"
   },
   {
    "duration": 86,
    "start_time": "2024-05-17T06:47:30.240Z"
   },
   {
    "duration": 5,
    "start_time": "2024-05-17T06:47:30.330Z"
   },
   {
    "duration": 14,
    "start_time": "2024-05-17T06:47:30.338Z"
   },
   {
    "duration": 1601,
    "start_time": "2024-05-17T07:06:29.659Z"
   },
   {
    "duration": 30,
    "start_time": "2024-05-17T07:06:31.263Z"
   },
   {
    "duration": 6,
    "start_time": "2024-05-17T07:06:31.296Z"
   },
   {
    "duration": 32,
    "start_time": "2024-05-17T07:06:31.306Z"
   },
   {
    "duration": 16,
    "start_time": "2024-05-17T07:06:31.341Z"
   },
   {
    "duration": 5,
    "start_time": "2024-05-17T07:06:31.360Z"
   },
   {
    "duration": 59,
    "start_time": "2024-05-17T07:06:31.368Z"
   },
   {
    "duration": 33,
    "start_time": "2024-05-17T07:06:31.430Z"
   },
   {
    "duration": 6,
    "start_time": "2024-05-17T07:06:31.467Z"
   },
   {
    "duration": 4999,
    "start_time": "2024-05-17T07:06:31.480Z"
   },
   {
    "duration": 4,
    "start_time": "2024-05-17T07:06:36.482Z"
   },
   {
    "duration": 7,
    "start_time": "2024-05-17T07:06:36.489Z"
   },
   {
    "duration": 26,
    "start_time": "2024-05-17T07:06:36.500Z"
   },
   {
    "duration": 15,
    "start_time": "2024-05-17T07:06:36.529Z"
   },
   {
    "duration": 19,
    "start_time": "2024-05-17T07:06:36.547Z"
   },
   {
    "duration": 19,
    "start_time": "2024-05-17T07:06:36.570Z"
   },
   {
    "duration": 35,
    "start_time": "2024-05-17T07:06:36.627Z"
   },
   {
    "duration": 34,
    "start_time": "2024-05-17T07:06:36.665Z"
   },
   {
    "duration": 7,
    "start_time": "2024-05-17T07:06:36.726Z"
   },
   {
    "duration": 8,
    "start_time": "2024-05-17T07:06:36.737Z"
   },
   {
    "duration": 5,
    "start_time": "2024-05-17T07:06:36.748Z"
   },
   {
    "duration": 5,
    "start_time": "2024-05-17T07:06:36.756Z"
   },
   {
    "duration": 90,
    "start_time": "2024-05-17T07:06:36.765Z"
   },
   {
    "duration": 10,
    "start_time": "2024-05-17T07:06:36.858Z"
   },
   {
    "duration": 7,
    "start_time": "2024-05-17T07:06:36.871Z"
   },
   {
    "duration": 2120,
    "start_time": "2024-05-17T07:06:36.882Z"
   },
   {
    "duration": 20,
    "start_time": "2024-05-17T07:06:39.005Z"
   },
   {
    "duration": 5,
    "start_time": "2024-05-17T07:06:39.033Z"
   },
   {
    "duration": 17,
    "start_time": "2024-05-17T07:06:39.042Z"
   },
   {
    "duration": 64,
    "start_time": "2024-05-17T07:06:39.062Z"
   },
   {
    "duration": 4,
    "start_time": "2024-05-17T07:06:39.129Z"
   },
   {
    "duration": 6,
    "start_time": "2024-05-17T07:06:39.137Z"
   },
   {
    "duration": 80,
    "start_time": "2024-05-17T07:06:39.148Z"
   },
   {
    "duration": 5,
    "start_time": "2024-05-17T07:06:39.232Z"
   },
   {
    "duration": 11,
    "start_time": "2024-05-17T07:06:39.240Z"
   },
   {
    "duration": 77,
    "start_time": "2024-05-17T07:06:39.258Z"
   },
   {
    "duration": 90,
    "start_time": "2024-05-17T07:06:39.339Z"
   },
   {
    "duration": 8,
    "start_time": "2024-05-17T07:06:39.432Z"
   },
   {
    "duration": 5,
    "start_time": "2024-05-17T07:06:39.443Z"
   },
   {
    "duration": 13,
    "start_time": "2024-05-17T07:06:39.451Z"
   }
  ],
  "kernelspec": {
   "display_name": "Python 3 (ipykernel)",
   "language": "python",
   "name": "python3"
  },
  "language_info": {
   "codemirror_mode": {
    "name": "ipython",
    "version": 3
   },
   "file_extension": ".py",
   "mimetype": "text/x-python",
   "name": "python",
   "nbconvert_exporter": "python",
   "pygments_lexer": "ipython3",
   "version": "3.9.19"
  },
  "toc": {
   "base_numbering": 1,
   "nav_menu": {},
   "number_sections": true,
   "sideBar": true,
   "skip_h1_title": true,
   "title_cell": "Table of Contents",
   "title_sidebar": "Contents",
   "toc_cell": false,
   "toc_position": {},
   "toc_section_display": true,
   "toc_window_display": false
  }
 },
 "nbformat": 4,
 "nbformat_minor": 4
}
