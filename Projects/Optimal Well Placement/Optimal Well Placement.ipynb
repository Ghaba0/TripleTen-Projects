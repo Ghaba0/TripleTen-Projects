{
 "cells": [
  {
   "cell_type": "markdown",
   "metadata": {},
   "source": [
    "<div class=\"alert alert-success\">\n",
    "<b>Reviewer's comment V2</b>\n",
    "\n",
    "Thanks for taking the time to improve the project! It is now accepted. Good luck on the next sprint!\n",
    "\n",
    "</div>"
   ]
  },
  {
   "cell_type": "markdown",
   "metadata": {},
   "source": [
    "**Review**\n",
    "\n",
    "Hi, my name is Dmitry and I will be reviewing your project.\n",
    "  \n",
    "You can find my comments in colored markdown cells:\n",
    "  \n",
    "<div class=\"alert alert-success\">\n",
    "  If everything is done successfully.\n",
    "</div>\n",
    "  \n",
    "<div class=\"alert alert-warning\">\n",
    "  If I have some (optional) suggestions, or questions to think about, or general comments.\n",
    "</div>\n",
    "  \n",
    "<div class=\"alert alert-danger\">\n",
    "  If a section requires some corrections. Work can't be accepted with red comments.\n",
    "</div>\n",
    "  \n",
    "Please don't remove my comments, as it will make further review iterations much harder for me.\n",
    "  \n",
    "Feel free to reply to my comments or ask questions using the following template:\n",
    "  \n",
    "<div class=\"alert alert-info\">\n",
    "  For your comments and questions.\n",
    "</div>\n",
    "  \n",
    "First of all, thank you for turning in the project! You did a great job on the first part, but there are some problems with profit calculation and bootstrapping that need to be fixed before the project is accepted. Let me know if you have questions!"
   ]
  },
  {
   "cell_type": "markdown",
   "metadata": {},
   "source": [
    "# Project Description: Finding Optimal Oil Well Locations\n",
    "\n",
    "As a data scientist at OilyGiant mining company, my primary mission is to determine the most lucrative location for establishing a new oil well. This endeavor involves a series of crucial steps like data collection, model development, selection of optimal wells, and region assessment.\n",
    "\n",
    "Ultimately, my objective is to present actionable insights to OilyGiant mining company, enabling informed decision-making regarding the selection of the region with the highest profit margin. Through meticulous analysis and data-driven strategies, we aim to optimize resource allocation and maximize returns on investment.\n"
   ]
  },
  {
   "cell_type": "code",
   "execution_count": 1,
   "metadata": {},
   "outputs": [],
   "source": [
    "import pandas as pd\n",
    "import numpy as np\n",
    "from sklearn.model_selection import train_test_split\n",
    "from sklearn.linear_model import LinearRegression\n",
    "from sklearn.metrics import mean_squared_error"
   ]
  },
  {
   "cell_type": "code",
   "execution_count": 2,
   "metadata": {},
   "outputs": [],
   "source": [
    "# Load data\n",
    "\n",
    "geo_1 = pd.read_csv('/datasets/geo_data_0.csv')\n",
    "geo_2 = pd.read_csv('/datasets/geo_data_1.csv')\n",
    "geo_3 = pd.read_csv('/datasets/geo_data_2.csv')"
   ]
  },
  {
   "cell_type": "code",
   "execution_count": 3,
   "metadata": {},
   "outputs": [
    {
     "name": "stdout",
     "output_type": "stream",
     "text": [
      "<class 'pandas.core.frame.DataFrame'>\n",
      "RangeIndex: 100000 entries, 0 to 99999\n",
      "Data columns (total 5 columns):\n",
      " #   Column   Non-Null Count   Dtype  \n",
      "---  ------   --------------   -----  \n",
      " 0   id       100000 non-null  object \n",
      " 1   f0       100000 non-null  float64\n",
      " 2   f1       100000 non-null  float64\n",
      " 3   f2       100000 non-null  float64\n",
      " 4   product  100000 non-null  float64\n",
      "dtypes: float64(4), object(1)\n",
      "memory usage: 3.8+ MB\n",
      "None\n",
      "\n",
      "                  f0             f1             f2        product\n",
      "count  100000.000000  100000.000000  100000.000000  100000.000000\n",
      "mean        0.500419       0.250143       2.502647      92.500000\n",
      "std         0.871832       0.504433       3.248248      44.288691\n",
      "min        -1.408605      -0.848218     -12.088328       0.000000\n",
      "25%        -0.072580      -0.200881       0.287748      56.497507\n",
      "50%         0.502360       0.250252       2.515969      91.849972\n",
      "75%         1.073581       0.700646       4.715088     128.564089\n",
      "max         2.362331       1.343769      16.003790     185.364347\n"
     ]
    }
   ],
   "source": [
    "# Check the data for any obvious things that need to be changed\n",
    "\n",
    "print(geo_1.info())\n",
    "print()\n",
    "print(geo_1.describe())"
   ]
  },
  {
   "cell_type": "code",
   "execution_count": 4,
   "metadata": {},
   "outputs": [
    {
     "name": "stdout",
     "output_type": "stream",
     "text": [
      "<class 'pandas.core.frame.DataFrame'>\n",
      "RangeIndex: 100000 entries, 0 to 99999\n",
      "Data columns (total 5 columns):\n",
      " #   Column   Non-Null Count   Dtype  \n",
      "---  ------   --------------   -----  \n",
      " 0   id       100000 non-null  object \n",
      " 1   f0       100000 non-null  float64\n",
      " 2   f1       100000 non-null  float64\n",
      " 3   f2       100000 non-null  float64\n",
      " 4   product  100000 non-null  float64\n",
      "dtypes: float64(4), object(1)\n",
      "memory usage: 3.8+ MB\n",
      "None\n",
      "\n",
      "                  f0             f1             f2        product\n",
      "count  100000.000000  100000.000000  100000.000000  100000.000000\n",
      "mean        1.141296      -4.796579       2.494541      68.825000\n",
      "std         8.965932       5.119872       1.703572      45.944423\n",
      "min       -31.609576     -26.358598      -0.018144       0.000000\n",
      "25%        -6.298551      -8.267985       1.000021      26.953261\n",
      "50%         1.153055      -4.813172       2.011479      57.085625\n",
      "75%         8.621015      -1.332816       3.999904     107.813044\n",
      "max        29.421755      18.734063       5.019721     137.945408\n"
     ]
    }
   ],
   "source": [
    "print(geo_2.info())\n",
    "print()\n",
    "print(geo_2.describe())"
   ]
  },
  {
   "cell_type": "code",
   "execution_count": 5,
   "metadata": {},
   "outputs": [
    {
     "name": "stdout",
     "output_type": "stream",
     "text": [
      "<class 'pandas.core.frame.DataFrame'>\n",
      "RangeIndex: 100000 entries, 0 to 99999\n",
      "Data columns (total 5 columns):\n",
      " #   Column   Non-Null Count   Dtype  \n",
      "---  ------   --------------   -----  \n",
      " 0   id       100000 non-null  object \n",
      " 1   f0       100000 non-null  float64\n",
      " 2   f1       100000 non-null  float64\n",
      " 3   f2       100000 non-null  float64\n",
      " 4   product  100000 non-null  float64\n",
      "dtypes: float64(4), object(1)\n",
      "memory usage: 3.8+ MB\n",
      "None\n",
      "\n",
      "                  f0             f1             f2        product\n",
      "count  100000.000000  100000.000000  100000.000000  100000.000000\n",
      "mean        0.002023      -0.002081       2.495128      95.000000\n",
      "std         1.732045       1.730417       3.473445      44.749921\n",
      "min        -8.760004      -7.084020     -11.970335       0.000000\n",
      "25%        -1.162288      -1.174820       0.130359      59.450441\n",
      "50%         0.009424      -0.009482       2.484236      94.925613\n",
      "75%         1.158535       1.163678       4.858794     130.595027\n",
      "max         7.238262       7.844801      16.739402     190.029838\n"
     ]
    }
   ],
   "source": [
    "print(geo_3.info())\n",
    "print()\n",
    "print(geo_3.describe())"
   ]
  },
  {
   "cell_type": "markdown",
   "metadata": {},
   "source": [
    "f0, f1, & f2 are columns of features with unspecified meaning\n",
    "\n",
    "The product column is the volume of reserves in the oil well"
   ]
  },
  {
   "cell_type": "code",
   "execution_count": 6,
   "metadata": {},
   "outputs": [],
   "source": [
    "# Id column is unnecessary for training so I remove\n",
    "\n",
    "geo_1 = geo_1.drop(columns=['id'])\n",
    "geo_2 = geo_2.drop(columns=['id'])\n",
    "geo_3 = geo_3.drop(columns=['id'])"
   ]
  },
  {
   "cell_type": "code",
   "execution_count": 7,
   "metadata": {},
   "outputs": [
    {
     "name": "stdout",
     "output_type": "stream",
     "text": [
      "0\n",
      "0\n",
      "0\n"
     ]
    }
   ],
   "source": [
    "# Check for any duplicates\n",
    "\n",
    "print(geo_1.duplicated().sum())\n",
    "print(geo_2.duplicated().sum())\n",
    "print(geo_3.duplicated().sum())"
   ]
  },
  {
   "cell_type": "markdown",
   "metadata": {},
   "source": [
    "<div class=\"alert alert-success\">\n",
    "<b>Reviewer's comment</b>\n",
    "\n",
    "The data was loaded and inspected\n",
    "\n",
    "</div>"
   ]
  },
  {
   "cell_type": "code",
   "execution_count": 8,
   "metadata": {},
   "outputs": [],
   "source": [
    "# Split data of dfs into train and valid sets\n",
    "\n",
    "geo_1_train, geo_1_valid = train_test_split(geo_1, test_size=.25, random_state=12345)\n",
    "geo_2_train, geo_2_valid = train_test_split(geo_2, test_size=.25, random_state=12345)\n",
    "geo_3_train, geo_3_valid = train_test_split(geo_3, test_size=.25, random_state=12345)"
   ]
  },
  {
   "cell_type": "markdown",
   "metadata": {},
   "source": [
    "<div class=\"alert alert-success\">\n",
    "<b>Reviewer's comment</b>\n",
    "\n",
    "The data for each region was split into train and validation\n",
    "\n",
    "</div>"
   ]
  },
  {
   "cell_type": "code",
   "execution_count": 9,
   "metadata": {},
   "outputs": [],
   "source": [
    "# Declare variables for each df\n",
    "\n",
    "# geo_1\n",
    "features1 = geo_1.drop('product', axis=1)\n",
    "target1 = geo_1['product']\n",
    "features_train_1 = geo_1_train.drop('product', axis=1)\n",
    "target_train_1 = geo_1_train['product']\n",
    "features_valid_1 = geo_1_valid.drop('product', axis=1)\n",
    "target_valid_1 = geo_1_valid['product']\n",
    "\n",
    "# geo_2\n",
    "features2 = geo_2.drop('product', axis=1)\n",
    "target2 = geo_2['product']\n",
    "features_train_2 = geo_2_train.drop('product', axis=1)\n",
    "target_train_2 = geo_2_train['product']\n",
    "features_valid_2 = geo_2_valid.drop('product', axis=1)\n",
    "target_valid_2 = geo_2_valid['product']\n",
    "\n",
    "# geo_3\n",
    "features3 = geo_3.drop('product', axis=1)\n",
    "target3 = geo_3['product']\n",
    "features_train_3 = geo_3_train.drop('product', axis=1)\n",
    "target_train_3 = geo_3_train['product']\n",
    "features_valid_3 = geo_3_valid.drop('product', axis=1)\n",
    "target_valid_3 = geo_3_valid['product']"
   ]
  },
  {
   "cell_type": "code",
   "execution_count": 10,
   "metadata": {},
   "outputs": [
    {
     "data": {
      "text/plain": [
       "LinearRegression()"
      ]
     },
     "execution_count": 10,
     "metadata": {},
     "output_type": "execute_result"
    }
   ],
   "source": [
    "# Make and train a model for each df\n",
    "\n",
    "model1 = LinearRegression()\n",
    "model1.fit(features_train_1, target_train_1)\n",
    "\n",
    "model2 = LinearRegression()\n",
    "model2.fit(features_train_2, target_train_2)\n",
    "\n",
    "model3 = LinearRegression()\n",
    "model3.fit(features_train_3, target_train_3)"
   ]
  },
  {
   "cell_type": "code",
   "execution_count": 11,
   "metadata": {},
   "outputs": [],
   "source": [
    "# Make predictions with each model\n",
    "\n",
    "predicted_valid_1 = model1.predict(features_valid_1)\n",
    "\n",
    "predicted_valid_2 = model2.predict(features_valid_2)\n",
    "\n",
    "predicted_valid_3 = model3.predict(features_valid_3)"
   ]
  },
  {
   "cell_type": "code",
   "execution_count": 12,
   "metadata": {},
   "outputs": [
    {
     "name": "stdout",
     "output_type": "stream",
     "text": [
      "92.59256778438035\n",
      "\n",
      "68.728546895446\n",
      "\n",
      "94.96504596800489\n"
     ]
    }
   ],
   "source": [
    "# Print average volume of predicted reserves\n",
    "\n",
    "print(predicted_valid_1.mean())\n",
    "print()\n",
    "print(predicted_valid_2.mean())\n",
    "print()\n",
    "print(predicted_valid_3.mean())"
   ]
  },
  {
   "cell_type": "code",
   "execution_count": 13,
   "metadata": {},
   "outputs": [
    {
     "name": "stdout",
     "output_type": "stream",
     "text": [
      "37.5794217150813\n",
      "0.893099286775617\n",
      "40.02970873393434\n"
     ]
    }
   ],
   "source": [
    "# Print RMSE for each model\n",
    "\n",
    "mse1 = (mean_squared_error(target_valid_1, predicted_valid_1)) ** .5\n",
    "mse2 = (mean_squared_error(target_valid_2, predicted_valid_2)) ** .5\n",
    "mse3 = (mean_squared_error(target_valid_3, predicted_valid_3)) ** .5\n",
    "\n",
    "print(mse1)\n",
    "print(mse2)\n",
    "print(mse3)"
   ]
  },
  {
   "cell_type": "markdown",
   "metadata": {},
   "source": [
    "geo_3 has the highest average volume and the model with the highest RMSE, geo_1 is a very close second to geo_3, and geo_2 has the lowest average volume and lowest RMSE"
   ]
  },
  {
   "cell_type": "markdown",
   "metadata": {},
   "source": [
    "<div class=\"alert alert-success\">\n",
    "<b>Reviewer's comment</b>\n",
    "\n",
    "The models were trained and evaluated correctly\n",
    "\n",
    "</div>"
   ]
  },
  {
   "cell_type": "code",
   "execution_count": 14,
   "metadata": {},
   "outputs": [
    {
     "name": "stdout",
     "output_type": "stream",
     "text": [
      "92.59256778438035\n",
      "68.728546895446\n",
      "94.96504596800489\n"
     ]
    }
   ],
   "source": [
    "# Define key values for profit calculation\n",
    "\n",
    "revenue_per_barrel = 4500 \n",
    "budget = 100000000 / 200 # divide by 200 to find budget for 1 oil well\n",
    "\n",
    "# Declare variables for each target mean\n",
    "'''\n",
    "mean1 = target1.mean()\n",
    "mean2 = target2.mean()\n",
    "mean3 = target3.mean()\n",
    "'''\n",
    "\n",
    "mean1 = predicted_valid_1.mean()\n",
    "mean2 = predicted_valid_2.mean()\n",
    "mean3 = predicted_valid_3.mean()\n",
    "\n",
    "print(mean1)\n",
    "print(mean2)\n",
    "print(mean3)"
   ]
  },
  {
   "cell_type": "code",
   "execution_count": 15,
   "metadata": {},
   "outputs": [
    {
     "name": "stdout",
     "output_type": "stream",
     "text": [
      "111.11111111111111\n"
     ]
    }
   ],
   "source": [
    "# Calculate the volume of reserves sufficient for developing a new well without losses\n",
    "\n",
    "required_reserves_for_profit = budget / revenue_per_barrel\n",
    "print(required_reserves_for_profit)"
   ]
  },
  {
   "cell_type": "markdown",
   "metadata": {},
   "source": [
    "The required reserves for profit exceeds the average volume of reserves in every region"
   ]
  },
  {
   "cell_type": "markdown",
   "metadata": {},
   "source": [
    "<div class=\"alert alert-warning\">\n",
    "<b>Reviewer's comment</b>\n",
    "\n",
    "You'd want to compare that to *predicted* volume of reserves though, as we don't really have access to targets :)\n",
    "\n",
    "</div>"
   ]
  },
  {
   "cell_type": "markdown",
   "metadata": {},
   "source": [
    "<div class=\"alert alert-info\">\n",
    "  Fixed\n",
    "</div>"
   ]
  },
  {
   "cell_type": "markdown",
   "metadata": {},
   "source": [
    "<div class=\"alert alert-success\">\n",
    "<b>Reviewer's comment V2</b>\n",
    "\n",
    "Great!\n",
    "\n",
    "</div>"
   ]
  },
  {
   "cell_type": "code",
   "execution_count": 16,
   "metadata": {},
   "outputs": [
    {
     "name": "stdout",
     "output_type": "stream",
     "text": [
      "[180.18071306 176.25221317 175.85062328 ...   6.56947671   4.98098667\n",
      "  -9.36784638]\n",
      "[139.81896981 139.77342296 139.70333031 ...  -1.8714423   -1.88373689\n",
      "  -1.89377434]\n",
      "[165.85683317 165.67968527 163.43996233 ...  20.18954005  17.29741096\n",
      "  17.13159749]\n"
     ]
    }
   ],
   "source": [
    "# Finding wells with highest predictions\n",
    "\n",
    "sorted_predicted_valid_1 = np.sort(predicted_valid_1)[::-1]\n",
    "sorted_predicted_valid_2 = np.sort(predicted_valid_2)[::-1]\n",
    "sorted_predicted_valid_3 = np.sort(predicted_valid_3)[::-1]\n",
    "\n",
    "print(sorted_predicted_valid_1)\n",
    "print(sorted_predicted_valid_2)\n",
    "print(sorted_predicted_valid_3)"
   ]
  },
  {
   "cell_type": "markdown",
   "metadata": {},
   "source": [
    "<div class=\"alert alert-danger\">\n",
    "<S><b>Reviewer's comment</b>\n",
    "\n",
    "In the following tasks you need to use the whole validation set, not the top 500 wells.\n",
    "    \n",
    "The conditions of the task are that we have the budget to make initial measurements at 500 randomly selected locations, but then select the best 200 according to our models' predictions\n",
    "\n",
    "</div>"
   ]
  },
  {
   "cell_type": "code",
   "execution_count": 17,
   "metadata": {},
   "outputs": [
    {
     "name": "stdout",
     "output_type": "stream",
     "text": [
      "2314814.194609509\n",
      "1718213.6723861503\n",
      "2374126.1492001223\n"
     ]
    }
   ],
   "source": [
    "# Target volume summarization\n",
    "\n",
    "print(sorted_predicted_valid_1.sum())\n",
    "print(sorted_predicted_valid_2.sum())\n",
    "print(sorted_predicted_valid_3.sum())"
   ]
  },
  {
   "cell_type": "markdown",
   "metadata": {},
   "source": [
    "## Recommendation\n",
    "\n",
    "I would recommend geo_1 for the well's location due to its significant potential for extracting a large volume of oil. While it may not have the highest model performance compared to geo_3, geo_1 still performs well and is a close second, suggesting that the linear regression model trained on geo_1 can make reasonably accurate predictions of reserve volumes. Additionally, geo_1 has a high predicted average volume of reserves, indicating substantial potential for oil extraction overall. Therefore, considering both high reserves and good model performance, geo_1 emerges as a strong candidate for further development."
   ]
  },
  {
   "cell_type": "markdown",
   "metadata": {},
   "source": [
    "<div class=\"alert alert-success\">\n",
    "<b>Reviewer's comment</b>\n",
    "\n",
    "Makes sense!\n",
    "\n",
    "</div>"
   ]
  },
  {
   "cell_type": "code",
   "execution_count": 18,
   "metadata": {},
   "outputs": [],
   "source": [
    "# Define a function to obtain the indices of the selected wells based on predictions\n",
    "def get_selected_indices(predictions, number_of_wells):\n",
    "\n",
    "    # Sort predictions in descending order and select top wells\n",
    "    sorted_indices = np.argsort(predictions)[::-1]\n",
    "    selected_indices = sorted_indices[:number_of_wells]\n",
    "    return selected_indices"
   ]
  },
  {
   "cell_type": "code",
   "execution_count": 19,
   "metadata": {},
   "outputs": [],
   "source": [
    "# Define the calculate_profit function\n",
    "def calculate_profit(predictions, actual_values, budget, revenue_per_barrel, number_of_wells):\n",
    "\n",
    "    # Obtain the indices of the selected wells based on predictions\n",
    "    selected_indices = get_selected_indices(predictions, number_of_wells)\n",
    "    \n",
    "    # Select actual values corresponding to the selected indices\n",
    "    selected_actual_values = actual_values.iloc[selected_indices]\n",
    "    \n",
    "    # Calculate total volume of reserves from selected wells using actual values\n",
    "    total_actual_reserves_volume = selected_actual_values.sum()\n",
    "    \n",
    "    # Calculate actual revenue from selling extracted oil\n",
    "    actual_revenue = total_actual_reserves_volume * revenue_per_barrel\n",
    "    \n",
    "    # Subtract development costs from actual revenue to obtain actual profit\n",
    "    actual_profit = actual_revenue - budget\n",
    "    \n",
    "    return actual_profit"
   ]
  },
  {
   "cell_type": "markdown",
   "metadata": {},
   "source": [
    "<div class=\"alert alert-danger\">\n",
    "<s><b>Reviewer's comment</b>\n",
    "\n",
    "To calculate profit you need both predictions and targets: you need to select the best 200 wells using predictions, but to calculate total volume of reserves you need to use targets, as our predictions are not necessarily accurate\n",
    "\n",
    "</div>"
   ]
  },
  {
   "cell_type": "markdown",
   "metadata": {},
   "source": [
    "<div class=\"alert alert-danger\">\n",
    "<s><b>Reviewer's comment V2</b>\n",
    "\n",
    "Alright, now the function takes predictions and actual values as arguments, but the actual values are never used. What you're calculating is indeed estimated profit, but we need to find *actual* profit. \n",
    "\n",
    "</div>"
   ]
  },
  {
   "cell_type": "markdown",
   "metadata": {},
   "source": [
    "<div class=\"alert alert-success\">\n",
    "<b>Reviewer's comment V3</b>\n",
    "\n",
    "Fixed!\n",
    "\n",
    "</div>"
   ]
  },
  {
   "cell_type": "code",
   "execution_count": 20,
   "metadata": {},
   "outputs": [],
   "source": [
    "# Define the calculate_profit_distribution function\n",
    "def calculate_profit_distribution(predictions, actual_values, budget, revenue_per_barrel, num_samples):\n",
    "    \n",
    "    profits = []\n",
    "    num_predictions = len(predictions)\n",
    "    num_actual_values = len(actual_values)  # Length of actual_values DataFrame\n",
    "    \n",
    "    # Iterate over the specified number of samples\n",
    "    for _ in range(num_samples):\n",
    "        # Sample indices with replacement based on the number of actual values\n",
    "        sampled_indices = np.random.choice(num_actual_values, size=500, replace=True)\n",
    "        \n",
    "        # Retrieve corresponding predictions and actual values based on sampled indices\n",
    "        sampled_predictions = predictions[sampled_indices]\n",
    "        sampled_actual_values = actual_values.iloc[sampled_indices]  # Selecting actual values based on sampled indices\n",
    "        \n",
    "        # Calculate profit using the profit function on the selected wells\n",
    "        profit = calculate_profit(sampled_predictions, sampled_actual_values, budget, revenue_per_barrel, 200)\n",
    "        \n",
    "        # Append calculated profit to the list of profits\n",
    "        profits.append(profit)\n",
    "    \n",
    "    # Calculate the average profit, confidence interval, and risk of losses\n",
    "    average_profit = np.mean(profits)\n",
    "    lower_bound = np.percentile(profits, 2.5)\n",
    "    upper_bound = np.percentile(profits, 97.5)\n",
    "    confidence_interval = [lower_bound, upper_bound]\n",
    "    risk_of_losses = (sum(1 for profit in profits if profit < 0) / num_samples) * 100\n",
    "    \n",
    "    return average_profit, confidence_interval, risk_of_losses"
   ]
  },
  {
   "cell_type": "markdown",
   "metadata": {},
   "source": [
    "<div class=\"alert alert-danger\">\n",
    "<S><b>Reviewer's comment</b>\n",
    "\n",
    "What you need to do in bootstrapping is:\n",
    "    \n",
    "1. Sample 500 wells from predictions/targets with replacement\n",
    "2. Find the coresponding targets/predictions\n",
    "2. Calculate profit using your profit function on the selected wells\n",
    "3. Append it to the profit list\n",
    "4. Repeat steps 1-3 for 1000 times\n",
    "    \n",
    "    \n",
    "The code for calculating the needed statistics is correct though\n",
    "\n",
    "</div>"
   ]
  },
  {
   "cell_type": "markdown",
   "metadata": {},
   "source": [
    "<div class=\"alert alert-success\">\n",
    "<b>Reviewer's comment V2</b>\n",
    "\n",
    "The function looks good now!\n",
    "\n",
    "</div>"
   ]
  },
  {
   "cell_type": "code",
   "execution_count": 21,
   "metadata": {
    "scrolled": true
   },
   "outputs": [
    {
     "name": "stdout",
     "output_type": "stream",
     "text": [
      "Region 1:\n",
      "Average Profit: 3987431.4809572715\n",
      "95% Confidence Interval: [-1194319.6539225404, 9017517.894671375]\n",
      "Risk of Losses: 6.2\n",
      "\n",
      "Region 2:\n",
      "Average Profit: 4510854.776908026\n",
      "95% Confidence Interval: [638350.3888537575, 8281030.48745771]\n",
      "Risk of Losses: 1.4000000000000001\n",
      "\n",
      "Region 3:\n",
      "Average Profit: 3843264.117403157\n",
      "95% Confidence Interval: [-1151747.8443548456, 9350326.6988859]\n",
      "Risk of Losses: 7.000000000000001\n"
     ]
    }
   ],
   "source": [
    "# Align indices of actual_values before passing to calculate_profit_distribution\n",
    "\n",
    "aligned_actual_values_1 = target_valid_1.reset_index(drop=True)\n",
    "aligned_actual_values_2 = target_valid_2.reset_index(drop=True)\n",
    "aligned_actual_values_3 = target_valid_3.reset_index(drop=True)\n",
    "\n",
    "# Call the calculate_profit_distribution function with the aligned predictions and subset of targets\n",
    "average_profit_1, confidence_interval_1, risk_of_losses_1 = calculate_profit_distribution(predicted_valid_1, aligned_actual_values_1, 100000000, revenue_per_barrel, num_samples=1000)\n",
    "average_profit_2, confidence_interval_2, risk_of_losses_2 = calculate_profit_distribution(predicted_valid_2, aligned_actual_values_2, 100000000, revenue_per_barrel, num_samples=1000)\n",
    "average_profit_3, confidence_interval_3, risk_of_losses_3 = calculate_profit_distribution(predicted_valid_3, aligned_actual_values_3, 100000000, revenue_per_barrel, num_samples=1000)\n",
    "\n",
    "# Print findings for each region\n",
    "print(\"Region 1:\")\n",
    "print(\"Average Profit:\", average_profit_1)\n",
    "print(\"95% Confidence Interval:\", confidence_interval_1)\n",
    "print(\"Risk of Losses:\", risk_of_losses_1)\n",
    "\n",
    "print(\"\\nRegion 2:\")\n",
    "print(\"Average Profit:\", average_profit_2)\n",
    "print(\"95% Confidence Interval:\", confidence_interval_2)\n",
    "print(\"Risk of Losses:\", risk_of_losses_2)\n",
    "\n",
    "print(\"\\nRegion 3:\")\n",
    "print(\"Average Profit:\", average_profit_3)\n",
    "print(\"95% Confidence Interval:\", confidence_interval_3)\n",
    "print(\"Risk of Losses:\", risk_of_losses_3)"
   ]
  },
  {
   "cell_type": "markdown",
   "metadata": {},
   "source": [
    "<div class=\"alert alert-danger\">\n",
    "<s><b>Reviewer's comment V2</b>\n",
    "\n",
    "You need to pass validation set targets to the `calculate_profit_distribution` function, not all targets. Also make sure targets and predictions have the same indices or filtering the subsample won't work correctly\n",
    "\n",
    "</div>"
   ]
  },
  {
   "cell_type": "markdown",
   "metadata": {},
   "source": [
    "<div class=\"alert alert-danger\">\n",
    "<s><b>Reviewer's comment V3</b>\n",
    "\n",
    "Still not quite correct:\n",
    "    \n",
    "1. What I mant by aligning indices was this: predictions are simply indexed from 0 to len(predictions)-1, and targets have different indices in the same row due to being randomly sampled from the complete dataset. To make their indices the same as targets you simply need to reset the index: `aligned_actual_values_1 = target_valid_1.reset_index(drop=True)`\n",
    "    \n",
    "2. The budget used in this calculation should be the budget for 200 wells, not one\n",
    "    \n",
    "3. In the bootstrap function in this line `size` should be equal to 500, as we want to randomly sample 500 wells, and then select 200 best out of those 500:\n",
    "    `sampled_indices = np.random.choice(num_actual_values, size=num_actual_values, replace=True)`\n",
    "\n",
    "</div>"
   ]
  },
  {
   "cell_type": "markdown",
   "metadata": {},
   "source": [
    "<div class=\"alert alert-info\">\n",
    "I swear I tried to just rest the index so many times and it just didn't work haha. I guess it was something else wrong that I fixed and didn't think to change it back, thanks.\n",
    "</div>"
   ]
  },
  {
   "cell_type": "markdown",
   "metadata": {},
   "source": [
    "<div class=\"alert alert-success\">\n",
    "<b>Reviewer's comment V4</b>\n",
    "\n",
    "Haha, no problem :)\n",
    "\n",
    "</div>"
   ]
  },
  {
   "cell_type": "markdown",
   "metadata": {},
   "source": [
    "# Conclusion\n",
    "\n",
    "Following the initial analysis using updated methods for profit calculation and bootstrapping, the optimal location for the new oil well has shifted. Initially, geo_1 was favored due to its high reserves and model performance. However, the revised assessment identifies geo_2 as the superior choice. This unexpected finding underscores the importance of thorough analysis and data-driven decision-making. Despite initial assumptions, geo_2 offers greater profitability potential and reduced risk, making it the preferred selection for maximizing returns."
   ]
  },
  {
   "cell_type": "markdown",
   "metadata": {},
   "source": [
    "<div class=\"alert alert-danger\">\n",
    "<s><b>Reviewer's comment</b>\n",
    "\n",
    "Please check the results after fixing the problems above\n",
    "\n",
    "</div>"
   ]
  },
  {
   "cell_type": "markdown",
   "metadata": {},
   "source": [
    "<div class=\"alert alert-success\">\n",
    "<b>Reviewer's comment V2</b>\n",
    "\n",
    "Region choice is correct and justified!\n",
    "\n",
    "</div>"
   ]
  }
 ],
 "metadata": {
  "kernelspec": {
   "display_name": "Python 3 (ipykernel)",
   "language": "python",
   "name": "python3"
  },
  "language_info": {
   "codemirror_mode": {
    "name": "ipython",
    "version": 3
   },
   "file_extension": ".py",
   "mimetype": "text/x-python",
   "name": "python",
   "nbconvert_exporter": "python",
   "pygments_lexer": "ipython3",
   "version": "3.9.19"
  },
  "toc": {
   "base_numbering": 1,
   "nav_menu": {},
   "number_sections": true,
   "sideBar": true,
   "skip_h1_title": true,
   "title_cell": "Table of Contents",
   "title_sidebar": "Contents",
   "toc_cell": false,
   "toc_position": {},
   "toc_section_display": true,
   "toc_window_display": false
  }
 },
 "nbformat": 4,
 "nbformat_minor": 2
}
