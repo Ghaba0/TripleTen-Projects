{
 "cells": [
  {
   "cell_type": "markdown",
   "id": "0ca5ef13",
   "metadata": {},
   "source": [
    "<div class=\"alert alert-info\"; style=\"border-left: 5px solid blue\">\n",
    "<b>Goal</b> The objective is to analyze key metrics within the \"Instacart\" app, focusing on identifying the most popular items, their sequence in customers' carts, peak usage times and days, and the frequently reordered items. The ultimate goal is to present this data in a clear and comprehensible format, providing insights to enhance the overall efficiency of Instacart operations.\n",
    "\n",
    "Key Steps:\n",
    "\n",
    "Format Data for Python: Organize the data in a format suitable for Python analysis, ensuring readability and compatibility.\n",
    "\n",
    "Address Data Quality: Identify and handle duplicate and missing values in the dataset. Implement appropriate measures, such as filling in missing values or removing redundant entries, to enhance data accuracy.\n",
    "\n",
    "Analyze and Extract Insights: Utilize Python to analyze the dataset, extracting essential information related to popular items, cart sequences, peak usage times, and frequently reordered products.\n",
    "\n",
    "Visualization: Create visually appealing and informative graphs to represent crucial data points, facilitating a better understanding of trends and patterns.\n",
    "\n",
    "Communicate Findings: Compile a comprehensive report or presentation that effectively communicates the identified insights and recommendations for optimizing Instacart's operational efficiency.\n",
    "\n",
    "By following these steps, the goal is to empower decision-makers at Instacart with actionable insights, contributing to a more streamlined and effective management of the platform."
   ]
  },
  {
   "cell_type": "markdown",
   "id": "ba574e44",
   "metadata": {},
   "source": [
    "<div class=\"alert alert-block alert-success\">✔️\n",
    "    \n",
    "\n",
    "__Reviewer's comment №2__\n",
    "\n",
    "Well done"
   ]
  },
  {
   "cell_type": "code",
   "execution_count": 1,
   "id": "fbf1adab",
   "metadata": {},
   "outputs": [],
   "source": [
    "import pandas as pd"
   ]
  },
  {
   "cell_type": "code",
   "execution_count": 2,
   "id": "ad36396d",
   "metadata": {},
   "outputs": [],
   "source": [
    "import matplotlib.pyplot as plt"
   ]
  },
  {
   "cell_type": "code",
   "execution_count": 3,
   "id": "ad6a1efa",
   "metadata": {},
   "outputs": [],
   "source": [
    "import plotly.express as px"
   ]
  },
  {
   "cell_type": "code",
   "execution_count": 4,
   "id": "5130e05e",
   "metadata": {},
   "outputs": [
    {
     "name": "stdout",
     "output_type": "stream",
     "text": [
      "<class 'pandas.core.frame.DataFrame'>\n",
      "RangeIndex: 478967 entries, 0 to 478966\n",
      "Data columns (total 6 columns):\n",
      " #   Column                  Non-Null Count   Dtype  \n",
      "---  ------                  --------------   -----  \n",
      " 0   order_id                478967 non-null  int64  \n",
      " 1   user_id                 478967 non-null  int64  \n",
      " 2   order_number            478967 non-null  int64  \n",
      " 3   order_dow               478967 non-null  int64  \n",
      " 4   order_hour_of_day       478967 non-null  int64  \n",
      " 5   days_since_prior_order  450148 non-null  float64\n",
      "dtypes: float64(1), int64(5)\n",
      "memory usage: 21.9 MB\n",
      "   order_id  user_id  order_number  order_dow  order_hour_of_day  \\\n",
      "0   1515936   183418            11          6                 13   \n",
      "1   1690866   163593             5          5                 12   \n",
      "2   1454967    39980             4          5                 19   \n",
      "3   1768857    82516            56          0                 20   \n",
      "4   3007858   196724             2          4                 12   \n",
      "\n",
      "   days_since_prior_order  \n",
      "0                    30.0  \n",
      "1                     9.0  \n",
      "2                     2.0  \n",
      "3                    10.0  \n",
      "4                    17.0  \n"
     ]
    }
   ],
   "source": [
    "orders = pd.read_csv('/datasets/instacart_orders.csv', sep=';')\n",
    "orders.info()\n",
    "print(orders.head(5))"
   ]
  },
  {
   "cell_type": "code",
   "execution_count": 5,
   "id": "d8370c05",
   "metadata": {},
   "outputs": [
    {
     "name": "stdout",
     "output_type": "stream",
     "text": [
      "<class 'pandas.core.frame.DataFrame'>\n",
      "RangeIndex: 49694 entries, 0 to 49693\n",
      "Data columns (total 4 columns):\n",
      " #   Column         Non-Null Count  Dtype \n",
      "---  ------         --------------  ----- \n",
      " 0   product_id     49694 non-null  int64 \n",
      " 1   product_name   48436 non-null  object\n",
      " 2   aisle_id       49694 non-null  int64 \n",
      " 3   department_id  49694 non-null  int64 \n",
      "dtypes: int64(3), object(1)\n",
      "memory usage: 1.5+ MB\n",
      "\n",
      "   product_id                                       product_name  aisle_id  \\\n",
      "0           1                         Chocolate Sandwich Cookies        61   \n",
      "1           2                                   All-Seasons Salt       104   \n",
      "2           3               Robust Golden Unsweetened Oolong Tea        94   \n",
      "3           4  Smart Ones Classic Favorites Mini Rigatoni Wit...        38   \n",
      "4           5                          Green Chile Anytime Sauce         5   \n",
      "\n",
      "   department_id  \n",
      "0             19  \n",
      "1             13  \n",
      "2              7  \n",
      "3              1  \n",
      "4             13  \n"
     ]
    }
   ],
   "source": [
    "products = pd.read_csv('/datasets/products.csv', sep=';')\n",
    "products.info()\n",
    "print()\n",
    "print(products.head(5))"
   ]
  },
  {
   "cell_type": "code",
   "execution_count": 6,
   "id": "59e2090f",
   "metadata": {
    "scrolled": false
   },
   "outputs": [
    {
     "name": "stdout",
     "output_type": "stream",
     "text": [
      "<class 'pandas.core.frame.DataFrame'>\n",
      "RangeIndex: 21 entries, 0 to 20\n",
      "Data columns (total 2 columns):\n",
      " #   Column         Non-Null Count  Dtype \n",
      "---  ------         --------------  ----- \n",
      " 0   department_id  21 non-null     int64 \n",
      " 1   department     21 non-null     object\n",
      "dtypes: int64(1), object(1)\n",
      "memory usage: 464.0+ bytes\n",
      "\n",
      "   department_id department\n",
      "0              1     frozen\n",
      "1              2      other\n",
      "2              3     bakery\n",
      "3              4    produce\n",
      "4              5    alcohol\n"
     ]
    }
   ],
   "source": [
    "departments = pd.read_csv('/datasets/departments.csv', sep=';')\n",
    "departments.info()\n",
    "print()\n",
    "print(departments.head(5))"
   ]
  },
  {
   "cell_type": "code",
   "execution_count": 7,
   "id": "6fc81694",
   "metadata": {},
   "outputs": [
    {
     "name": "stdout",
     "output_type": "stream",
     "text": [
      "<class 'pandas.core.frame.DataFrame'>\n",
      "RangeIndex: 134 entries, 0 to 133\n",
      "Data columns (total 2 columns):\n",
      " #   Column    Non-Null Count  Dtype \n",
      "---  ------    --------------  ----- \n",
      " 0   aisle_id  134 non-null    int64 \n",
      " 1   aisle     134 non-null    object\n",
      "dtypes: int64(1), object(1)\n",
      "memory usage: 2.2+ KB\n",
      "\n",
      "   aisle_id                       aisle\n",
      "0         1       prepared soups salads\n",
      "1         2           specialty cheeses\n",
      "2         3         energy granola bars\n",
      "3         4               instant foods\n",
      "4         5  marinades meat preparation\n"
     ]
    }
   ],
   "source": [
    "aisles = pd.read_csv('/datasets/aisles.csv', sep=';')\n",
    "aisles.info()\n",
    "print()\n",
    "print(aisles.head(5))"
   ]
  },
  {
   "cell_type": "code",
   "execution_count": 8,
   "id": "30293c58",
   "metadata": {},
   "outputs": [
    {
     "name": "stdout",
     "output_type": "stream",
     "text": [
      "<class 'pandas.core.frame.DataFrame'>\n",
      "RangeIndex: 4545007 entries, 0 to 4545006\n",
      "Data columns (total 4 columns):\n",
      " #   Column             Dtype  \n",
      "---  ------             -----  \n",
      " 0   order_id           int64  \n",
      " 1   product_id         int64  \n",
      " 2   add_to_cart_order  float64\n",
      " 3   reordered          int64  \n",
      "dtypes: float64(1), int64(3)\n",
      "memory usage: 138.7 MB\n",
      "\n",
      "   order_id  product_id  add_to_cart_order  reordered\n",
      "0   2141543       11440               17.0          0\n",
      "1    567889        1560                1.0          1\n",
      "2   2261212       26683                1.0          1\n",
      "3    491251        8670               35.0          1\n",
      "4   2571142        1940                5.0          1\n"
     ]
    }
   ],
   "source": [
    "order_products = pd.read_csv('/datasets/order_products.csv', sep=';')\n",
    "order_products.info()\n",
    "print()\n",
    "print(order_products.head(5))"
   ]
  },
  {
   "cell_type": "markdown",
   "id": "49b4069a",
   "metadata": {},
   "source": []
  },
  {
   "cell_type": "markdown",
   "id": "07357848-dc64-4156-9cc3-01ff4365226d",
   "metadata": {},
   "source": [
    "## Find and remove duplicate values (and describe why you make your choices)"
   ]
  },
  {
   "cell_type": "markdown",
   "id": "f179f0a9",
   "metadata": {},
   "source": [
    "### `orders` data frame"
   ]
  },
  {
   "cell_type": "code",
   "execution_count": 9,
   "id": "b99297a5-405a-463d-8535-9adc3da4ad74",
   "metadata": {},
   "outputs": [
    {
     "name": "stdout",
     "output_type": "stream",
     "text": [
      "15\n"
     ]
    }
   ],
   "source": [
    "# Check for duplicated orders\n",
    "print(orders.duplicated().sum()) #calculates number of duplicate rows"
   ]
  },
  {
   "cell_type": "code",
   "execution_count": 10,
   "id": "0d44de5d",
   "metadata": {},
   "outputs": [
    {
     "name": "stdout",
     "output_type": "stream",
     "text": [
      "121\n"
     ]
    }
   ],
   "source": [
    "# Check for all orders placed Wednesday at 2:00 AM # Assuming 0 = Sunday and 6 = Saturday\n",
    "\n",
    "print(((orders['order_dow'] == 3) & (orders['order_hour_of_day'] == 2)).sum()) # "
   ]
  },
  {
   "cell_type": "code",
   "execution_count": 11,
   "id": "480563c7",
   "metadata": {},
   "outputs": [],
   "source": [
    "# Remove duplicate orders\n",
    "orders = orders.drop_duplicates()"
   ]
  },
  {
   "cell_type": "code",
   "execution_count": 12,
   "id": "0b2396a2",
   "metadata": {},
   "outputs": [
    {
     "name": "stdout",
     "output_type": "stream",
     "text": [
      "0\n"
     ]
    }
   ],
   "source": [
    "# Double check for duplicate rows\n",
    "print(orders.duplicated().sum())"
   ]
  },
  {
   "cell_type": "code",
   "execution_count": 13,
   "id": "f6113ef1",
   "metadata": {
    "scrolled": false
   },
   "outputs": [
    {
     "name": "stdout",
     "output_type": "stream",
     "text": [
      "0\n"
     ]
    }
   ],
   "source": [
    "# Double check for duplicate order IDs only\n",
    "print(orders[\"order_id\"].duplicated().sum())"
   ]
  },
  {
   "cell_type": "markdown",
   "id": "5e8905ae",
   "metadata": {},
   "source": [
    "<div class=\"alert alert-block alert-success\">✔️\n",
    "    \n",
    "\n",
    "__Reviewer's comment №1__\n",
    "\n",
    "Duplicate checking is the basis of data preprocessing"
   ]
  },
  {
   "cell_type": "markdown",
   "id": "45e6bc46",
   "metadata": {},
   "source": [
    "### `products` data frame"
   ]
  },
  {
   "cell_type": "code",
   "execution_count": 14,
   "id": "5f526b5b-8175-46fa-a0fd-441767d50e64",
   "metadata": {},
   "outputs": [
    {
     "name": "stdout",
     "output_type": "stream",
     "text": [
      "0\n"
     ]
    }
   ],
   "source": [
    "# Check for fully duplicate rows\n",
    "print(products.duplicated().sum())"
   ]
  },
  {
   "cell_type": "code",
   "execution_count": 15,
   "id": "88daa4f4",
   "metadata": {},
   "outputs": [
    {
     "name": "stdout",
     "output_type": "stream",
     "text": [
      "0\n"
     ]
    }
   ],
   "source": [
    "# Check for just duplicate product IDs\n",
    "print(products['product_id'].duplicated().sum())"
   ]
  },
  {
   "cell_type": "code",
   "execution_count": 16,
   "id": "c773f0bf",
   "metadata": {
    "scrolled": true
   },
   "outputs": [
    {
     "name": "stdout",
     "output_type": "stream",
     "text": [
      "1361\n"
     ]
    }
   ],
   "source": [
    "# Check for just duplicate product names (convert names to lowercase to compare better)\n",
    "products['product_name'] = products['product_name'].str.lower()\n",
    "print(products['product_name'].duplicated(keep='first').sum())"
   ]
  },
  {
   "cell_type": "code",
   "execution_count": 17,
   "id": "01efd02e",
   "metadata": {},
   "outputs": [
    {
     "name": "stdout",
     "output_type": "stream",
     "text": [
      "49692\n"
     ]
    }
   ],
   "source": [
    "# Check for duplicate product names that aren't missing\n",
    "print((~(products['product_name'].isna())).duplicated().sum())"
   ]
  },
  {
   "cell_type": "markdown",
   "id": "9da8d293",
   "metadata": {},
   "source": []
  },
  {
   "cell_type": "markdown",
   "id": "60f30db1",
   "metadata": {},
   "source": [
    "### `departments` data frame"
   ]
  },
  {
   "cell_type": "code",
   "execution_count": 18,
   "id": "fb410ad4-0fbf-4b80-bb09-23fdea79afe3",
   "metadata": {},
   "outputs": [
    {
     "name": "stdout",
     "output_type": "stream",
     "text": [
      "0\n"
     ]
    }
   ],
   "source": [
    "print(departments.duplicated().sum())"
   ]
  },
  {
   "cell_type": "code",
   "execution_count": 19,
   "id": "332b12bb",
   "metadata": {},
   "outputs": [
    {
     "name": "stdout",
     "output_type": "stream",
     "text": [
      "0\n",
      "0\n"
     ]
    }
   ],
   "source": [
    "print(departments['department'].duplicated().sum())\n",
    "print(departments['department_id'].duplicated().sum())"
   ]
  },
  {
   "cell_type": "markdown",
   "id": "bd30d78e",
   "metadata": {},
   "source": [
    "<div class=\"alert alert-block alert-success\">✔️\n",
    "    \n",
    "\n",
    "__Reviewer's comment №1__\n",
    "\n",
    "That's right, well done!)"
   ]
  },
  {
   "cell_type": "markdown",
   "id": "889349c1",
   "metadata": {},
   "source": [
    "### `aisles` data frame"
   ]
  },
  {
   "cell_type": "code",
   "execution_count": 20,
   "id": "9da89fb9-4679-40f5-ad0d-c34df753a3f8",
   "metadata": {},
   "outputs": [
    {
     "name": "stdout",
     "output_type": "stream",
     "text": [
      "0\n"
     ]
    }
   ],
   "source": [
    "print(aisles.duplicated().sum())"
   ]
  },
  {
   "cell_type": "code",
   "execution_count": 21,
   "id": "da7c2822",
   "metadata": {},
   "outputs": [
    {
     "name": "stdout",
     "output_type": "stream",
     "text": [
      "0\n",
      "0\n"
     ]
    }
   ],
   "source": [
    "print(aisles['aisle'].duplicated().sum())\n",
    "print(aisles['aisle_id'].duplicated().sum())"
   ]
  },
  {
   "cell_type": "markdown",
   "id": "f01a4019",
   "metadata": {},
   "source": [
    "<div class=\"alert alert-info\"> <b>Student сomments:</b> The remaining duplicates in the data pertain to product names. This is expected, given that multiple units of a product may be sold, resulting in identical product names. It's worth noting that duplicates within orders have been successfully removed, as they were limited in occurrence.</div>"
   ]
  },
  {
   "cell_type": "markdown",
   "id": "a2fd807b",
   "metadata": {},
   "source": [
    "<div class=\"alert alert-block alert-success\">✔️\n",
    "    \n",
    "\n",
    "__Reviewer's comment №2__\n",
    "\n",
    "All right"
   ]
  },
  {
   "cell_type": "markdown",
   "id": "274cd06a",
   "metadata": {},
   "source": [
    "### `order_products` data frame"
   ]
  },
  {
   "cell_type": "code",
   "execution_count": 22,
   "id": "52326689-84a8-4b8f-a881-7c68780f62c9",
   "metadata": {},
   "outputs": [
    {
     "name": "stdout",
     "output_type": "stream",
     "text": [
      "0\n"
     ]
    }
   ],
   "source": [
    "# Check for fully duplicate rows\n",
    "print(order_products.duplicated().sum())"
   ]
  },
  {
   "cell_type": "code",
   "execution_count": 23,
   "id": "7b861391",
   "metadata": {},
   "outputs": [
    {
     "name": "stdout",
     "output_type": "stream",
     "text": [
      "4094961\n",
      "4499434\n",
      "4544942\n",
      "4545005\n",
      "No duplicate rows found.\n"
     ]
    }
   ],
   "source": [
    "# Double check for any other tricky duplicates # Only order_id doesn't make sense having that many duplicates   ?\n",
    "print(order_products['order_id'].duplicated().sum())\n",
    "print(order_products['product_id'].duplicated().sum())\n",
    "print(order_products['add_to_cart_order'].duplicated().sum()) \n",
    "print(order_products['reordered'].duplicated().sum())\n",
    "\n",
    "duplicate_rows = order_products[order_products.duplicated(['order_id', 'product_id'], keep=False)]\n",
    "\n",
    "if not duplicate_rows.empty:\n",
    "    print(\"Duplicate rows found:\")\n",
    "    print(duplicate_rows)\n",
    "else:\n",
    "    print(\"No duplicate rows found.\")"
   ]
  },
  {
   "cell_type": "markdown",
   "id": "1e46de76",
   "metadata": {},
   "source": [
    "## Find and remove missing values\n"
   ]
  },
  {
   "cell_type": "markdown",
   "id": "c0aebd78",
   "metadata": {},
   "source": [
    "### `products` data frame"
   ]
  },
  {
   "cell_type": "code",
   "execution_count": 24,
   "id": "fe4a8b0f",
   "metadata": {
    "scrolled": true
   },
   "outputs": [
    {
     "data": {
      "text/html": [
       "<div>\n",
       "<style scoped>\n",
       "    .dataframe tbody tr th:only-of-type {\n",
       "        vertical-align: middle;\n",
       "    }\n",
       "\n",
       "    .dataframe tbody tr th {\n",
       "        vertical-align: top;\n",
       "    }\n",
       "\n",
       "    .dataframe thead th {\n",
       "        text-align: right;\n",
       "    }\n",
       "</style>\n",
       "<table border=\"1\" class=\"dataframe\">\n",
       "  <thead>\n",
       "    <tr style=\"text-align: right;\">\n",
       "      <th></th>\n",
       "      <th>product_id</th>\n",
       "      <th>product_name</th>\n",
       "      <th>aisle_id</th>\n",
       "      <th>department_id</th>\n",
       "    </tr>\n",
       "  </thead>\n",
       "  <tbody>\n",
       "    <tr>\n",
       "      <th>0</th>\n",
       "      <td>1</td>\n",
       "      <td>chocolate sandwich cookies</td>\n",
       "      <td>61</td>\n",
       "      <td>19</td>\n",
       "    </tr>\n",
       "    <tr>\n",
       "      <th>1</th>\n",
       "      <td>2</td>\n",
       "      <td>all-seasons salt</td>\n",
       "      <td>104</td>\n",
       "      <td>13</td>\n",
       "    </tr>\n",
       "    <tr>\n",
       "      <th>2</th>\n",
       "      <td>3</td>\n",
       "      <td>robust golden unsweetened oolong tea</td>\n",
       "      <td>94</td>\n",
       "      <td>7</td>\n",
       "    </tr>\n",
       "    <tr>\n",
       "      <th>3</th>\n",
       "      <td>4</td>\n",
       "      <td>smart ones classic favorites mini rigatoni wit...</td>\n",
       "      <td>38</td>\n",
       "      <td>1</td>\n",
       "    </tr>\n",
       "    <tr>\n",
       "      <th>4</th>\n",
       "      <td>5</td>\n",
       "      <td>green chile anytime sauce</td>\n",
       "      <td>5</td>\n",
       "      <td>13</td>\n",
       "    </tr>\n",
       "    <tr>\n",
       "      <th>...</th>\n",
       "      <td>...</td>\n",
       "      <td>...</td>\n",
       "      <td>...</td>\n",
       "      <td>...</td>\n",
       "    </tr>\n",
       "    <tr>\n",
       "      <th>49689</th>\n",
       "      <td>49690</td>\n",
       "      <td>high performance energy drink</td>\n",
       "      <td>64</td>\n",
       "      <td>7</td>\n",
       "    </tr>\n",
       "    <tr>\n",
       "      <th>49690</th>\n",
       "      <td>49691</td>\n",
       "      <td>original pancake &amp; waffle mix</td>\n",
       "      <td>130</td>\n",
       "      <td>14</td>\n",
       "    </tr>\n",
       "    <tr>\n",
       "      <th>49691</th>\n",
       "      <td>49692</td>\n",
       "      <td>organic instant oatmeal light maple brown sugar</td>\n",
       "      <td>130</td>\n",
       "      <td>14</td>\n",
       "    </tr>\n",
       "    <tr>\n",
       "      <th>49692</th>\n",
       "      <td>49693</td>\n",
       "      <td>spring water body wash</td>\n",
       "      <td>127</td>\n",
       "      <td>11</td>\n",
       "    </tr>\n",
       "    <tr>\n",
       "      <th>49693</th>\n",
       "      <td>49694</td>\n",
       "      <td>burrito- steak &amp; cheese</td>\n",
       "      <td>38</td>\n",
       "      <td>1</td>\n",
       "    </tr>\n",
       "  </tbody>\n",
       "</table>\n",
       "<p>49694 rows × 4 columns</p>\n",
       "</div>"
      ],
      "text/plain": [
       "       product_id                                       product_name  \\\n",
       "0               1                         chocolate sandwich cookies   \n",
       "1               2                                   all-seasons salt   \n",
       "2               3               robust golden unsweetened oolong tea   \n",
       "3               4  smart ones classic favorites mini rigatoni wit...   \n",
       "4               5                          green chile anytime sauce   \n",
       "...           ...                                                ...   \n",
       "49689       49690                      high performance energy drink   \n",
       "49690       49691                      original pancake & waffle mix   \n",
       "49691       49692    organic instant oatmeal light maple brown sugar   \n",
       "49692       49693                             spring water body wash   \n",
       "49693       49694                            burrito- steak & cheese   \n",
       "\n",
       "       aisle_id  department_id  \n",
       "0            61             19  \n",
       "1           104             13  \n",
       "2            94              7  \n",
       "3            38              1  \n",
       "4             5             13  \n",
       "...         ...            ...  \n",
       "49689        64              7  \n",
       "49690       130             14  \n",
       "49691       130             14  \n",
       "49692       127             11  \n",
       "49693        38              1  \n",
       "\n",
       "[49694 rows x 4 columns]"
      ]
     },
     "metadata": {},
     "output_type": "display_data"
    }
   ],
   "source": [
    "display(products)"
   ]
  },
  {
   "cell_type": "code",
   "execution_count": 25,
   "id": "e96167bc",
   "metadata": {
    "scrolled": true
   },
   "outputs": [
    {
     "name": "stdout",
     "output_type": "stream",
     "text": [
      "1258\n",
      "\n",
      "37       NaN\n",
      "71       NaN\n",
      "109      NaN\n",
      "296      NaN\n",
      "416      NaN\n",
      "        ... \n",
      "49552    NaN\n",
      "49574    NaN\n",
      "49640    NaN\n",
      "49663    NaN\n",
      "49668    NaN\n",
      "Name: product_name, Length: 1258, dtype: object\n"
     ]
    }
   ],
   "source": [
    "# Are all of the missing product names associated with aisle ID 100?  #Not all but most\n",
    "missing_product_names = products.loc[(products['aisle_id'] == 100) & (products['product_name'].isnull()), 'product_name']\n",
    "print(missing_product_names.isnull().sum()) \n",
    "print()\n",
    "print(missing_product_names)"
   ]
  },
  {
   "cell_type": "code",
   "execution_count": 26,
   "id": "8fd0a541",
   "metadata": {},
   "outputs": [
    {
     "name": "stdout",
     "output_type": "stream",
     "text": [
      "product_id          0\n",
      "product_name     1258\n",
      "aisle_id            0\n",
      "department_id       0\n",
      "dtype: int64\n",
      "\n",
      "       product_id product_name  aisle_id  department_id\n",
      "37             38          NaN       100             21\n",
      "71             72          NaN       100             21\n",
      "109           110          NaN       100             21\n",
      "296           297          NaN       100             21\n",
      "416           417          NaN       100             21\n",
      "...           ...          ...       ...            ...\n",
      "49552       49553          NaN       100             21\n",
      "49574       49575          NaN       100             21\n",
      "49640       49641          NaN       100             21\n",
      "49663       49664          NaN       100             21\n",
      "49668       49669          NaN       100             21\n",
      "\n",
      "[1258 rows x 4 columns]\n"
     ]
    }
   ],
   "source": [
    "# Are all of the missing product names associated with department ID 21? # Same amount as the missing values in aisle 100\n",
    "missing_product_names = products.loc[(products['department_id'] == 21) & (products['product_name'].isnull())]\n",
    "print(missing_product_names.isnull().sum())\n",
    "print()\n",
    "print(missing_product_names)"
   ]
  },
  {
   "cell_type": "code",
   "execution_count": 27,
   "id": "325c3464",
   "metadata": {},
   "outputs": [
    {
     "name": "stdout",
     "output_type": "stream",
     "text": [
      "     product_id product_name  aisle_id  department_id\n",
      "37           38          NaN       100             21\n",
      "71           72          NaN       100             21\n",
      "109         110          NaN       100             21\n",
      "296         297          NaN       100             21\n",
      "416         417          NaN       100             21\n",
      "436         437          NaN       100             21\n",
      "439         440          NaN       100             21\n",
      "471         472          NaN       100             21\n",
      "490         491          NaN       100             21\n",
      "555         556          NaN       100             21\n"
     ]
    }
   ],
   "source": [
    "# What is this ailse and department?\n",
    "filtered_data = products[(products['aisle_id'] == 100) & (products['department_id'] == 21)]\n",
    "print(filtered_data.head(10))"
   ]
  },
  {
   "cell_type": "code",
   "execution_count": 28,
   "id": "afc303c9",
   "metadata": {},
   "outputs": [
    {
     "name": "stdout",
     "output_type": "stream",
     "text": [
      "Empty DataFrame\n",
      "Columns: [product_id, product_name, aisle_id, department_id]\n",
      "Index: []\n"
     ]
    }
   ],
   "source": [
    "filtered_data = products[(products['aisle_id'] == 100) & (products['department_id'] != 21)]\n",
    "print(filtered_data.head(10))"
   ]
  },
  {
   "cell_type": "markdown",
   "id": "d8264cef",
   "metadata": {},
   "source": [
    "<div class=\"alert alert-info\"> <b>Student сomments:</b> Can you explain why? When I set it != 21, it returns an empty dataframe on both. I'm trying to find aisle 21 and department 100 right?"
   ]
  },
  {
   "cell_type": "code",
   "execution_count": 29,
   "id": "6b295120",
   "metadata": {},
   "outputs": [
    {
     "name": "stdout",
     "output_type": "stream",
     "text": [
      "Empty DataFrame\n",
      "Columns: [product_id, product_name, aisle_id, department_id]\n",
      "Index: []\n"
     ]
    }
   ],
   "source": [
    "# Fill missing product names with 'Unknown' #👍 \n",
    "products['product_name'] = products['product_name'].fillna('Unknown')\n",
    "filtered_data = products[(products['aisle_id'] == 100) & (products['department_id'] != 21)]\n",
    "print(filtered_data.head(10))"
   ]
  },
  {
   "cell_type": "markdown",
   "id": "fc70e5ad",
   "metadata": {},
   "source": []
  },
  {
   "cell_type": "markdown",
   "id": "7eb45c86",
   "metadata": {},
   "source": [
    "### `orders` data frame"
   ]
  },
  {
   "cell_type": "code",
   "execution_count": 30,
   "id": "93e41d96",
   "metadata": {},
   "outputs": [
    {
     "name": "stdout",
     "output_type": "stream",
     "text": [
      "   order_id  user_id  order_number  order_dow  order_hour_of_day  \\\n",
      "0   1515936   183418            11          6                 13   \n",
      "1   1690866   163593             5          5                 12   \n",
      "2   1454967    39980             4          5                 19   \n",
      "3   1768857    82516            56          0                 20   \n",
      "4   3007858   196724             2          4                 12   \n",
      "5   1843871    20084             5          0                 11   \n",
      "6   2511640   148233            40          3                  8   \n",
      "7   2521283    97711             2          0                 18   \n",
      "8   2266494    34954            40          5                 15   \n",
      "9    446014    15356             2          4                  8   \n",
      "\n",
      "   days_since_prior_order  \n",
      "0                    30.0  \n",
      "1                     9.0  \n",
      "2                     2.0  \n",
      "3                    10.0  \n",
      "4                    17.0  \n",
      "5                    15.0  \n",
      "6                     2.0  \n",
      "7                    22.0  \n",
      "8                     4.0  \n",
      "9                    10.0  \n"
     ]
    }
   ],
   "source": [
    "print(orders.head(10))"
   ]
  },
  {
   "cell_type": "code",
   "execution_count": 31,
   "id": "166e5a86",
   "metadata": {},
   "outputs": [
    {
     "name": "stdout",
     "output_type": "stream",
     "text": [
      "Series([], Name: order_number, dtype: int64)\n"
     ]
    }
   ],
   "source": [
    "# Are there any missing values where it's not a customer's first order? #No\n",
    "missing_order_numbers = orders.loc[(orders['order_number'] > 1) & (orders['order_number'].isnull()), 'order_number']\n",
    "print(missing_order_numbers)"
   ]
  },
  {
   "cell_type": "markdown",
   "id": "4e23d089",
   "metadata": {},
   "source": []
  },
  {
   "cell_type": "markdown",
   "id": "69dc9ca4",
   "metadata": {},
   "source": [
    "### `order_products` data frame"
   ]
  },
  {
   "cell_type": "code",
   "execution_count": 32,
   "id": "b8240253",
   "metadata": {},
   "outputs": [
    {
     "name": "stdout",
     "output_type": "stream",
     "text": [
      "   order_id  product_id  add_to_cart_order  reordered\n",
      "0   2141543       11440               17.0          0\n",
      "1    567889        1560                1.0          1\n",
      "2   2261212       26683                1.0          1\n",
      "3    491251        8670               35.0          1\n",
      "4   2571142        1940                5.0          1\n",
      "5   2456893       21616                4.0          1\n",
      "6    644579       12341                5.0          1\n",
      "7   2231852       44925               10.0          1\n",
      "8   3185766       36259               14.0          1\n",
      "9    420019       23315                4.0          1\n"
     ]
    }
   ],
   "source": [
    "print(order_products.head(10))"
   ]
  },
  {
   "cell_type": "code",
   "execution_count": 33,
   "id": "9a78e5ee",
   "metadata": {},
   "outputs": [
    {
     "name": "stdout",
     "output_type": "stream",
     "text": [
      "order_id             4.0\n",
      "product_id           1.0\n",
      "add_to_cart_order    1.0\n",
      "reordered            0.0\n",
      "dtype: float64\n",
      "\n",
      "order_id             3421079.0\n",
      "product_id             49694.0\n",
      "add_to_cart_order         64.0\n",
      "reordered                  1.0\n",
      "dtype: float64\n"
     ]
    }
   ],
   "source": [
    "# What are the min and max values in this column?\n",
    "print(order_products.min())\n",
    "print()\n",
    "print(order_products.max())"
   ]
  },
  {
   "cell_type": "code",
   "execution_count": 34,
   "id": "ab9d0c2b",
   "metadata": {},
   "outputs": [
    {
     "name": "stdout",
     "output_type": "stream",
     "text": [
      "[2449164 1968313 2926893 1717990 1959075  844733   61355  936852  264710\n",
      " 1564093  129627  293169 2849370 1386261 3308010  903110 2136777 3347453\n",
      " 1888628  165801 2094761 1038146 2997021  813364 2256933  171934 2409109\n",
      " 1730767 1169835  733526  404157 3125735  747668 1800005 1961723  871281\n",
      "  388234 1648217 1477139  102236 1021563 1832957 2721963  678116 1220886\n",
      " 1673227 2999801 1633337 2470674 2625444 1677118 2479011 3383594 1183255\n",
      " 1713430 2652650 1598369 1916118  854647 1302315  888470  180546 2621907\n",
      " 1308785 2729254    9310 2170451 2979697 1625713 1529171]\n"
     ]
    }
   ],
   "source": [
    "# Save all order IDs with at least one missing value in 'add_to_cart_order'\n",
    "missing_values_op = order_products['add_to_cart_order'].isnull()\n",
    "orders_missing = order_products.loc[missing_values_op, 'order_id'].unique()\n",
    "print(orders_missing)"
   ]
  },
  {
   "cell_type": "code",
   "execution_count": 35,
   "id": "54c31695",
   "metadata": {
    "scrolled": true
   },
   "outputs": [
    {
     "name": "stdout",
     "output_type": "stream",
     "text": [
      "False\n"
     ]
    }
   ],
   "source": [
    "# Do all orders with missing values have more than 64 products?\n",
    "orders_missing = order_products.loc[missing_values_op]\n",
    "over64 = all(orders_missing.groupby('order_id')['product_id'].count() > 64)\n",
    "print(over64)"
   ]
  },
  {
   "cell_type": "code",
   "execution_count": 36,
   "id": "7a987d08",
   "metadata": {},
   "outputs": [
    {
     "name": "stdout",
     "output_type": "stream",
     "text": [
      "0    17\n",
      "1     1\n",
      "2     1\n",
      "3    35\n",
      "4     5\n",
      "5     4\n",
      "6     5\n",
      "7    10\n",
      "8    14\n",
      "9     4\n",
      "Name: add_to_cart_order, dtype: int64\n"
     ]
    }
   ],
   "source": [
    "# Replace missing values with 999 and convert column to integer type\n",
    "order_products['add_to_cart_order'] = order_products['add_to_cart_order'].fillna(999).astype(int)\n",
    "print(order_products['add_to_cart_order'].head(10))"
   ]
  },
  {
   "cell_type": "markdown",
   "id": "f9c4e555",
   "metadata": {},
   "source": [
    "<div class=\"alert alert-info\"> <b>Student сomments:</b> I just followed the provided instructions. Thanks for the help"
   ]
  },
  {
   "cell_type": "markdown",
   "id": "dfe59ef7",
   "metadata": {},
   "source": [
    "<div class=\"alert alert-block alert-success\">✔️\n",
    "    \n",
    "\n",
    "__Reviewer's comment №2__\n",
    "    \n",
    "^^    "
   ]
  },
  {
   "cell_type": "markdown",
   "id": "turkish-kidney",
   "metadata": {},
   "source": [
    "# [A] Easy (must complete all to pass)"
   ]
  },
  {
   "cell_type": "markdown",
   "id": "short-capability",
   "metadata": {},
   "source": [
    "### [A1] Verify that the `'order_hour_of_day'` and `'order_dow'` values in the `orders` tables are sensible (i.e. `'order_hour_of_day'` ranges from 0 to 23 and `'order_dow'` ranges from 0 to 6)"
   ]
  },
  {
   "cell_type": "code",
   "execution_count": 37,
   "id": "growing-fruit",
   "metadata": {},
   "outputs": [
    {
     "name": "stdout",
     "output_type": "stream",
     "text": [
      "[0, 1, 2, 3, 4, 5, 6, 7, 8, 9, 10, 11, 12, 13, 14, 15, 16, 17, 18, 19, 20, 21, 22, 23]\n"
     ]
    }
   ],
   "source": [
    "print(sorted(orders['order_hour_of_day'].unique())) #used sorted to make easier to read"
   ]
  },
  {
   "cell_type": "code",
   "execution_count": 38,
   "id": "accessory-malaysia",
   "metadata": {},
   "outputs": [
    {
     "name": "stdout",
     "output_type": "stream",
     "text": [
      "[0, 1, 2, 3, 4, 5, 6]\n"
     ]
    }
   ],
   "source": [
    "print(sorted(orders['order_dow'].unique()))"
   ]
  },
  {
   "cell_type": "markdown",
   "id": "91d0d890",
   "metadata": {},
   "source": [
    "<div class=\"alert alert-info\"; style=\"border-left: 5px solid blue\">\n",
    "<b>Sidenote</b> I know it didn't tell me to plot these next few questions, I just thought it would be easier to read the data"
   ]
  },
  {
   "cell_type": "markdown",
   "id": "d0ddd49c",
   "metadata": {},
   "source": [
    "<div class=\"alert alert-block alert-success\">✔️\n",
    "    \n",
    "\n",
    "__Reviewer's comment №1__\n",
    "\n",
    "All right"
   ]
  },
  {
   "cell_type": "markdown",
   "id": "a6743a70",
   "metadata": {},
   "source": [
    "### [A2] What time of day do people shop for groceries?"
   ]
  },
  {
   "cell_type": "code",
   "execution_count": 39,
   "id": "a36cca27",
   "metadata": {},
   "outputs": [
    {
     "data": {
      "image/png": "[encoded data removed]",
      "text/plain": [
       "<Figure size 432x288 with 1 Axes>"
      ]
     },
     "metadata": {
      "needs_background": "light"
     },
     "output_type": "display_data"
    }
   ],
   "source": [
    "# Not sure why xlabel and ylabel aren't working\n",
    "# The most common time for people to grocery shop is between 9am to 5pm and the most common hour is 10am to 11am\n",
    "# Also not really sure this is showing correctly because it seems like there is 1 or 2 missing hours or there just aren't any orders at that time\n",
    "orders['order_hour_of_day'].plot(\n",
    "    title='Grocery Shopping Time Distribution', \n",
    "    kind='hist', \n",
    "    bins=24, \n",
    "    xlabel='Hour of Day (0 to 23)', \n",
    "    ylabel='Number of Orders',\n",
    "    xticks=(range(24)),\n",
    "    grid=True\n",
    "    )\n",
    "plt.show()"
   ]
  },
  {
   "cell_type": "markdown",
   "id": "11270eed",
   "metadata": {},
   "source": []
  },
  {
   "cell_type": "markdown",
   "id": "documented-command",
   "metadata": {},
   "source": [
    "### [A3] What day of the week do people shop for groceries?"
   ]
  },
  {
   "cell_type": "code",
   "execution_count": 40,
   "id": "chief-digit",
   "metadata": {},
   "outputs": [
    {
     "data": {
      "image/png": "[encoded data removed]",
      "text/plain": [
       "<Figure size 432x288 with 1 Axes>"
      ]
     },
     "metadata": {
      "needs_background": "light"
     },
     "output_type": "display_data"
    }
   ],
   "source": [
    "# Most common days for grocery shopping is Sunday and Monday (assuming 0 is Sunday and 1 is Monday)\n",
    "orders['order_dow'].plot(\n",
    "    title='Grocery Shopping Day Distribution', \n",
    "    kind='hist', \n",
    "    bins=7, \n",
    "    xlabel='Day of the Week (0 to 6)', \n",
    "    ylabel='Number of Orders',\n",
    "    grid=True,\n",
    "    xticks=(range(7))\n",
    "    )\n",
    "plt.show()"
   ]
  },
  {
   "cell_type": "markdown",
   "id": "dominant-lightning",
   "metadata": {},
   "source": [
    "<div class=\"alert alert-block alert-success\">✔️\n",
    "    \n",
    "\n",
    "__Reviewer's comment №1__\n",
    "\n",
    "You're right to sign the charts"
   ]
  },
  {
   "cell_type": "markdown",
   "id": "cutting-concert",
   "metadata": {},
   "source": [
    "### [A4] How long do people wait until placing another order?"
   ]
  },
  {
   "cell_type": "code",
   "execution_count": 41,
   "id": "c231f523",
   "metadata": {},
   "outputs": [
    {
     "data": {
      "image/png": "[encoded data removed]",
      "text/plain": [
       "<Figure size 720x432 with 1 Axes>"
      ]
     },
     "metadata": {
      "needs_background": "light"
     },
     "output_type": "display_data"
    }
   ],
   "source": [
    "# Most people wait 30 days or more before making another order but 7 days is in close second place\n",
    "orders['days_since_prior_order'].plot(\n",
    "    title='Days Between Orders Distribution', \n",
    "    kind='hist', \n",
    "    bins=30,\n",
    "    grid=True,\n",
    "    xticks=(range(31)),\n",
    "    figsize=(10,6)\n",
    "    )\n",
    "plt.show()"
   ]
  },
  {
   "cell_type": "markdown",
   "id": "discrete-vertex",
   "metadata": {},
   "source": []
  },
  {
   "cell_type": "markdown",
   "id": "fc584016",
   "metadata": {},
   "source": [
    "<div class=\"alert alert-block alert-success\">✔️\n",
    "    \n",
    "\n",
    "__Reviewer's comment №1__\n",
    "\n",
    "The 0 values probably correspond to customers who placed more than one order on the same day."
   ]
  },
  {
   "cell_type": "markdown",
   "id": "8d926614",
   "metadata": {},
   "source": []
  },
  {
   "cell_type": "markdown",
   "id": "tight-staff",
   "metadata": {},
   "source": [
    "# [B] Medium (must complete all to pass)"
   ]
  },
  {
   "cell_type": "markdown",
   "id": "packed-classic",
   "metadata": {},
   "source": [
    "### [B1] Is there a difference in `'order_hour_of_day'` distributions on Wednesdays and Saturdays? Plot the histograms for both days and describe the differences that you see."
   ]
  },
  {
   "cell_type": "code",
   "execution_count": 42,
   "id": "d89b8403",
   "metadata": {},
   "outputs": [],
   "source": [
    "wed_orders = orders[orders['order_dow'] == 3]"
   ]
  },
  {
   "cell_type": "code",
   "execution_count": 43,
   "id": "94e54e8a",
   "metadata": {},
   "outputs": [],
   "source": [
    "sat_orders = orders[orders['order_dow'] == 6]"
   ]
  },
  {
   "cell_type": "code",
   "execution_count": 44,
   "id": "797c90a8",
   "metadata": {},
   "outputs": [
    {
     "data": {
      "image/png": "[encoded data removed]",
      "text/plain": [
       "<Figure size 720x432 with 1 Axes>"
      ]
     },
     "metadata": {
      "needs_background": "light"
     },
     "output_type": "display_data"
    }
   ],
   "source": [
    "wed_orders['order_hour_of_day'].plot(\n",
    "    title='Wednesday Order Times (0 to 23)', \n",
    "    kind='hist', \n",
    "    bins=24,\n",
    "    grid=True,\n",
    "    xticks=(range(24)),\n",
    "    figsize=(10,6)\n",
    "    )\n",
    "plt.show()"
   ]
  },
  {
   "cell_type": "code",
   "execution_count": 45,
   "id": "35bcea30",
   "metadata": {
    "scrolled": true
   },
   "outputs": [
    {
     "data": {
      "image/png": "[encoded data removed]",
      "text/plain": [
       "<Figure size 720x432 with 1 Axes>"
      ]
     },
     "metadata": {
      "needs_background": "light"
     },
     "output_type": "display_data"
    }
   ],
   "source": [
    "sat_orders['order_hour_of_day'].plot(\n",
    "    title='Saturday Order Times (0 to 23)', \n",
    "    kind='hist', \n",
    "    bins=24,\n",
    "    grid=True,\n",
    "    xticks=(range(24)),\n",
    "    figsize=(10,6)\n",
    "    )\n",
    "plt.show()"
   ]
  },
  {
   "cell_type": "markdown",
   "id": "charitable-congo",
   "metadata": {},
   "source": [
    "<div class=\"alert alert-info\"; style=\"border-left: 7px solid blue\">\n",
    "<b>Answer</b> Saturday has a more normal distribution while Wednesday has two peaks on either side of Saturday's peak. Both kind of skewed to the left "
   ]
  },
  {
   "cell_type": "markdown",
   "id": "e3891143",
   "metadata": {},
   "source": [
    "### [B2] What's the distribution for the number of orders per customer?"
   ]
  },
  {
   "cell_type": "code",
   "execution_count": 46,
   "id": "d8c26c23",
   "metadata": {},
   "outputs": [],
   "source": [
    "orders_per_customer = orders.groupby('user_id')['order_id'].nunique()"
   ]
  },
  {
   "cell_type": "code",
   "execution_count": 47,
   "id": "00e69a66",
   "metadata": {},
   "outputs": [
    {
     "data": {
      "image/png": "[encoded data removed]",
      "text/plain": [
       "<Figure size 720x432 with 1 Axes>"
      ]
     },
     "metadata": {
      "needs_background": "light"
     },
     "output_type": "display_data"
    }
   ],
   "source": [
    "orders_per_customer.plot(\n",
    "    title='Distribution of Orders Per Customer', \n",
    "    kind='hist', \n",
    "    bins=22,\n",
    "    grid=True,\n",
    "    xticks=(range(22)),\n",
    "    figsize=(10,6)\n",
    "    )\n",
    "plt.show()"
   ]
  },
  {
   "cell_type": "markdown",
   "id": "d2eff7d5",
   "metadata": {},
   "source": [
    "<div class=\"alert alert-info\"; style=\"border-left: 7px solid blue\">\n",
    "<b>Answer</b> Vast majority of customers only order once. Heavily skewed to the right"
   ]
  },
  {
   "cell_type": "markdown",
   "id": "b819da4c",
   "metadata": {},
   "source": [
    "<div class=\"alert alert-block alert-success\">✔️\n",
    "    \n",
    "\n",
    "__Reviewer's comment №1__\n",
    "\n",
    "You're right to sign the charts"
   ]
  },
  {
   "cell_type": "markdown",
   "id": "54a0319c",
   "metadata": {},
   "source": [
    "### [B3] What are the top 20 popular products (display their id and name)?"
   ]
  },
  {
   "cell_type": "code",
   "execution_count": 48,
   "id": "exterior-arizona",
   "metadata": {
    "scrolled": false
   },
   "outputs": [
    {
     "name": "stdout",
     "output_type": "stream",
     "text": [
      "    product_id              product_name\n",
      "0        24852                    banana\n",
      "1        13176    bag of organic bananas\n",
      "2        21137      organic strawberries\n",
      "3        21903      organic baby spinach\n",
      "4        47209      organic hass avocado\n",
      "5        47766           organic avocado\n",
      "6        47626               large lemon\n",
      "7        16797              strawberries\n",
      "8        26209                     limes\n",
      "9        27845        organic whole milk\n",
      "10       27966       organic raspberries\n",
      "11       22935      organic yellow onion\n",
      "12       24964            organic garlic\n",
      "13       45007          organic zucchini\n",
      "14       39275       organic blueberries\n",
      "15       49683            cucumber kirby\n",
      "16       28204        organic fuji apple\n",
      "17        5876             organic lemon\n",
      "18        8277  apple honeycrisp organic\n",
      "19       40706    organic grape tomatoes\n"
     ]
    }
   ],
   "source": [
    "product_counts = order_products['product_id'].value_counts().reset_index()\n",
    "\n",
    "# Count the number of each product ordered\n",
    "product_counts.columns = ['product_id', 'order_count']\n",
    "\n",
    "# Merge to get product names\n",
    "top_products = pd.merge(product_counts.head(20), products[['product_id', 'product_name']], on='product_id')\n",
    "\n",
    "print(top_products[['product_id', 'product_name']])"
   ]
  },
  {
   "cell_type": "markdown",
   "id": "9fa35522",
   "metadata": {},
   "source": [
    "<div class=\"alert alert-info\"; style=\"border-left: 7px solid blue\">\n",
    "<b>Conclusion</b> The most popular items are fruits, vegetables, and milk. Most of the fruits and vegetables tend to be organic aswell"
   ]
  },
  {
   "cell_type": "code",
   "execution_count": null,
   "id": "bbcdd20b",
   "metadata": {},
   "outputs": [],
   "source": []
  },
  {
   "cell_type": "markdown",
   "id": "7df00f47",
   "metadata": {},
   "source": []
  },
  {
   "cell_type": "markdown",
   "id": "gross-theme",
   "metadata": {},
   "source": [
    "# [C] Hard (must complete at least two to pass)"
   ]
  },
  {
   "cell_type": "markdown",
   "id": "romantic-deposit",
   "metadata": {},
   "source": [
    "### [C1] How many items do people typically buy in one order? What does the distribution look like?"
   ]
  },
  {
   "cell_type": "code",
   "execution_count": null,
   "id": "virtual-punch",
   "metadata": {},
   "outputs": [],
   "source": []
  },
  {
   "cell_type": "code",
   "execution_count": null,
   "id": "sensitive-breathing",
   "metadata": {},
   "outputs": [],
   "source": []
  },
  {
   "cell_type": "code",
   "execution_count": null,
   "id": "completed-frank",
   "metadata": {},
   "outputs": [],
   "source": []
  },
  {
   "cell_type": "markdown",
   "id": "designed-mortality",
   "metadata": {},
   "source": []
  },
  {
   "cell_type": "markdown",
   "id": "5e6b5537",
   "metadata": {},
   "source": [
    "### [C2] What are the top 20 items that are reordered most frequently (display their names and product IDs)?"
   ]
  },
  {
   "cell_type": "code",
   "execution_count": 49,
   "id": "9374e55a",
   "metadata": {},
   "outputs": [
    {
     "name": "stdout",
     "output_type": "stream",
     "text": [
      "    product_id                                       product_name\n",
      "0        14721                            bone strength take care\n",
      "1        20949                           vanilla sandwich cookies\n",
      "2         6723                                   palmiers- petite\n",
      "3         6732                  naturally sparkling mineral water\n",
      "4        45088  california dill pollen & garlic goat cheese & ...\n",
      "5        45078                                       pomegranatea\n",
      "6        21016       parchment lined 8 in x 3.75 in x 2.5 in pans\n",
      "7        21005                        peanut butter pie ice cream\n",
      "8        35192                         chocolate soy milk singles\n",
      "9        35197  mocha chocolate chip  organic non-dairy frozen...\n",
      "10        6810                        raspberry goji paleo prints\n",
      "11       45040                                 head lock mega gel\n",
      "12       45035                               coffee flavor yogurt\n",
      "13       27373                                     meat loaf meal\n",
      "14       30748                           cheese & garlic croutons\n",
      "15       45031                 sugar free hazelnut coffee creamer\n",
      "16       35137  superior preference fade-defying color + shine...\n",
      "17       30747                   dentotape® unflavored waxed tape\n",
      "18       35228                       marvelous muffins baking mix\n",
      "19       35229                             bean & cheese burritos\n"
     ]
    }
   ],
   "source": [
    "reorder_rates = order_products.groupby('product_id')['reordered'].mean().reset_index()\n",
    "reorder_rates.columns = ['product_id', 'reorder_rate']\n",
    "\n",
    "# Merge s\n",
    "top_reorder_products = pd.merge(reorder_rates.sort_values(by='reorder_rate', ascending=False).head(20), \n",
    "                                products[['product_id', 'product_name']], \n",
    "                                on='product_id')\n",
    "\n",
    "print(top_reorder_products[['product_id', 'product_name']])"
   ]
  },
  {
   "cell_type": "markdown",
   "id": "8716db40",
   "metadata": {
    "scrolled": true
   },
   "source": []
  },
  {
   "cell_type": "markdown",
   "id": "69631253",
   "metadata": {
    "scrolled": true
   },
   "source": [
    "<div class=\"alert alert-info\"; style=\"border-left: 7px solid blue\">\n",
    "<b>Conclusion</b> The items that are reordered most frequently tend to be snack foods, cooking ingredients and items, and some miscellaneous items"
   ]
  },
  {
   "cell_type": "code",
   "execution_count": null,
   "id": "48dd3658",
   "metadata": {},
   "outputs": [],
   "source": []
  },
  {
   "cell_type": "markdown",
   "id": "80e70c74",
   "metadata": {},
   "source": []
  },
  {
   "cell_type": "markdown",
   "id": "9d312b14",
   "metadata": {},
   "source": [
    "### [C3] For each product, what proportion of its orders are reorders?"
   ]
  },
  {
   "cell_type": "code",
   "execution_count": null,
   "id": "8ae9f4b1",
   "metadata": {},
   "outputs": [],
   "source": []
  },
  {
   "cell_type": "code",
   "execution_count": null,
   "id": "103e7fe1",
   "metadata": {},
   "outputs": [],
   "source": []
  },
  {
   "cell_type": "code",
   "execution_count": null,
   "id": "social-individual",
   "metadata": {},
   "outputs": [],
   "source": []
  },
  {
   "cell_type": "markdown",
   "id": "subject-boxing",
   "metadata": {},
   "source": [
    "### [C4] For each customer, what proportion of their products ordered are reorders?"
   ]
  },
  {
   "cell_type": "code",
   "execution_count": null,
   "id": "medical-couple",
   "metadata": {
    "scrolled": true
   },
   "outputs": [],
   "source": []
  },
  {
   "cell_type": "code",
   "execution_count": null,
   "id": "8892e4b4",
   "metadata": {},
   "outputs": [],
   "source": []
  },
  {
   "cell_type": "markdown",
   "id": "92d35137",
   "metadata": {},
   "source": [
    "### [C5] What are the top 20 items that people put in their carts first? "
   ]
  },
  {
   "cell_type": "code",
   "execution_count": 50,
   "id": "0ae57274",
   "metadata": {
    "scrolled": true
   },
   "outputs": [
    {
     "name": "stdout",
     "output_type": "stream",
     "text": [
      "    product_id                 product_name\n",
      "0        24852                       banana\n",
      "1        13176       bag of organic bananas\n",
      "2        27845           organic whole milk\n",
      "3        21137         organic strawberries\n",
      "4        47209         organic hass avocado\n",
      "5        21903         organic baby spinach\n",
      "6        47766              organic avocado\n",
      "7        19660                 spring water\n",
      "8        16797                 strawberries\n",
      "9        27966          organic raspberries\n",
      "10       44632   sparkling water grapefruit\n",
      "11       49235          organic half & half\n",
      "12       47626                  large lemon\n",
      "13         196                         soda\n",
      "14       38689     organic reduced fat milk\n",
      "15       26209                        limes\n",
      "16       12341                hass avocados\n",
      "17        5785  organic reduced fat 2% milk\n",
      "18       27086                  half & half\n",
      "19       22935         organic yellow onion\n"
     ]
    }
   ],
   "source": [
    "first_added_products = order_products[order_products['add_to_cart_order'] == 1]\n",
    "\n",
    "# Count the occurrences of each product\n",
    "first_added_product_counts = first_added_products['product_id'].value_counts().reset_index()\n",
    "first_added_product_counts.columns = ['product_id', 'first_added_count']\n",
    "\n",
    "# Merge\n",
    "top_first_added_products = pd.merge(first_added_product_counts.head(20), \n",
    "                                    products[['product_id', 'product_name']], \n",
    "                                    on='product_id')\n",
    "\n",
    "print(top_first_added_products[['product_id', 'product_name']])"
   ]
  },
  {
   "cell_type": "markdown",
   "id": "aabf867e",
   "metadata": {},
   "source": []
  },
  {
   "cell_type": "markdown",
   "id": "0b5194fd",
   "metadata": {
    "scrolled": true
   },
   "source": [
    "<div class=\"alert alert-info\"; style=\"border-left: 7px solid blue\">\n",
    "<b>Conclusion</b> The items that are put into people's carts first tend to be fruits, vegetables, and dairy products"
   ]
  },
  {
   "cell_type": "code",
   "execution_count": null,
   "id": "08e41ec2",
   "metadata": {},
   "outputs": [],
   "source": []
  },
  {
   "cell_type": "markdown",
   "id": "e70ed135",
   "metadata": {},
   "source": [
    "<div class=\"alert alert-info\"; style=\"border-left: 7px solid blue\">\n",
    "<b>Overall Conclusion</b> \n",
    "    The most common time for customers to shop using the app is 9am to 5pm, with a peak at 10am to 11am.\n",
    "    The most common days the app is used is Sunday and Monday.\n",
    "    Most customers only use the app one time.\n",
    "    Most customers wait at least 30 days before using the app again.\n",
    "    The most popular items aswell as the items first into customers' carts are fruits, vegetables, and dairy products.\n",
    "    Finally, the most popular items reordered are snack foods and cooking essentials"
   ]
  },
  {
   "cell_type": "markdown",
   "id": "fdc09a24",
   "metadata": {},
   "source": [
    "<div class=\"alert alert-block alert-success\">✔️\n",
    "    \n",
    "\n",
    "__Reviewer's comment №2__\n",
    "\n",
    "\n",
    "It's great😊. Your project is begging for github =)   \n",
    "    \n",
    "Congratulations on the successful completion of the project 😊👍\n",
    "And I wish you success in new works 😊"
   ]
  }
 ],
 "metadata": {
  "kernelspec": {
   "display_name": "Python 3 (ipykernel)",
   "language": "python",
   "name": "python3"
  },
  "language_info": {
   "codemirror_mode": {
    "name": "ipython",
    "version": 3
   },
   "file_extension": ".py",
   "mimetype": "text/x-python",
   "name": "python",
   "nbconvert_exporter": "python",
   "pygments_lexer": "ipython3",
   "version": "3.9.19"
  },
  "toc": {
   "base_numbering": 1,
   "nav_menu": {},
   "number_sections": true,
   "sideBar": true,
   "skip_h1_title": true,
   "title_cell": "Table of Contents",
   "title_sidebar": "Contents",
   "toc_cell": false,
   "toc_position": {},
   "toc_section_display": true,
   "toc_window_display": true
  },
  "vscode": {
   "interpreter": {
    "hash": "01a7be9ec63e704a62cefc5fe7a4756944464ee731be31632bdf42a4cb4688cf"
   }
  }
 },
 "nbformat": 4,
 "nbformat_minor": 5
}
