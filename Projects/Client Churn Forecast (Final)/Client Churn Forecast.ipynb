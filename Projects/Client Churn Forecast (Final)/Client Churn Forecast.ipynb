{
 "cells": [
  {
   "cell_type": "markdown",
   "metadata": {},
   "source": [
    "# Introduction\n",
    "\n",
    "Customer churn poses a major challenge for Interconnect, affecting revenue and growth. This project aims to build a predictive model to identify customers at risk of leaving, based on their demographic and service data. By understanding the key factors influencing churn, Interconnect can target at-risk customers with tailored promotions to improve retention and customer satisfaction."
   ]
  },
  {
   "cell_type": "markdown",
   "metadata": {},
   "source": [
    " "
   ]
  },
  {
   "cell_type": "code",
   "execution_count": 1,
   "metadata": {},
   "outputs": [],
   "source": [
    "import pandas as pd\n",
    "import numpy as np\n",
    "import matplotlib.pyplot as plt\n",
    "\n",
    "from sklearn.preprocessing import OneHotEncoder\n",
    "from sklearn.model_selection import train_test_split, GridSearchCV\n",
    "from sklearn.metrics import roc_auc_score, accuracy_score, confusion_matrix, ConfusionMatrixDisplay\n",
    "\n",
    "from xgboost import XGBClassifier\n",
    "\n",
    "from datetime import datetime"
   ]
  },
  {
   "cell_type": "code",
   "execution_count": 2,
   "metadata": {},
   "outputs": [],
   "source": [
    "# Load the data\n",
    "contract = pd.read_csv('/datasets/final_provider/contract.csv')\n",
    "internet = pd.read_csv('/datasets/final_provider/internet.csv')\n",
    "personal = pd.read_csv('/datasets/final_provider/personal.csv')\n",
    "phone = pd.read_csv('/datasets/final_provider/phone.csv')"
   ]
  },
  {
   "cell_type": "code",
   "execution_count": 3,
   "metadata": {},
   "outputs": [
    {
     "data": {
      "text/html": [
       "<div>\n",
       "<style scoped>\n",
       "    .dataframe tbody tr th:only-of-type {\n",
       "        vertical-align: middle;\n",
       "    }\n",
       "\n",
       "    .dataframe tbody tr th {\n",
       "        vertical-align: top;\n",
       "    }\n",
       "\n",
       "    .dataframe thead th {\n",
       "        text-align: right;\n",
       "    }\n",
       "</style>\n",
       "<table border=\"1\" class=\"dataframe\">\n",
       "  <thead>\n",
       "    <tr style=\"text-align: right;\">\n",
       "      <th></th>\n",
       "      <th>customerID</th>\n",
       "      <th>BeginDate</th>\n",
       "      <th>EndDate</th>\n",
       "      <th>Type</th>\n",
       "      <th>PaperlessBilling</th>\n",
       "      <th>PaymentMethod</th>\n",
       "      <th>MonthlyCharges</th>\n",
       "      <th>TotalCharges</th>\n",
       "    </tr>\n",
       "  </thead>\n",
       "  <tbody>\n",
       "    <tr>\n",
       "      <th>0</th>\n",
       "      <td>7590-VHVEG</td>\n",
       "      <td>2020-01-01</td>\n",
       "      <td>No</td>\n",
       "      <td>Month-to-month</td>\n",
       "      <td>Yes</td>\n",
       "      <td>Electronic check</td>\n",
       "      <td>29.85</td>\n",
       "      <td>29.85</td>\n",
       "    </tr>\n",
       "    <tr>\n",
       "      <th>1</th>\n",
       "      <td>5575-GNVDE</td>\n",
       "      <td>2017-04-01</td>\n",
       "      <td>No</td>\n",
       "      <td>One year</td>\n",
       "      <td>No</td>\n",
       "      <td>Mailed check</td>\n",
       "      <td>56.95</td>\n",
       "      <td>1889.5</td>\n",
       "    </tr>\n",
       "    <tr>\n",
       "      <th>2</th>\n",
       "      <td>3668-QPYBK</td>\n",
       "      <td>2019-10-01</td>\n",
       "      <td>2019-12-01 00:00:00</td>\n",
       "      <td>Month-to-month</td>\n",
       "      <td>Yes</td>\n",
       "      <td>Mailed check</td>\n",
       "      <td>53.85</td>\n",
       "      <td>108.15</td>\n",
       "    </tr>\n",
       "    <tr>\n",
       "      <th>3</th>\n",
       "      <td>7795-CFOCW</td>\n",
       "      <td>2016-05-01</td>\n",
       "      <td>No</td>\n",
       "      <td>One year</td>\n",
       "      <td>No</td>\n",
       "      <td>Bank transfer (automatic)</td>\n",
       "      <td>42.30</td>\n",
       "      <td>1840.75</td>\n",
       "    </tr>\n",
       "    <tr>\n",
       "      <th>4</th>\n",
       "      <td>9237-HQITU</td>\n",
       "      <td>2019-09-01</td>\n",
       "      <td>2019-11-01 00:00:00</td>\n",
       "      <td>Month-to-month</td>\n",
       "      <td>Yes</td>\n",
       "      <td>Electronic check</td>\n",
       "      <td>70.70</td>\n",
       "      <td>151.65</td>\n",
       "    </tr>\n",
       "    <tr>\n",
       "      <th>...</th>\n",
       "      <td>...</td>\n",
       "      <td>...</td>\n",
       "      <td>...</td>\n",
       "      <td>...</td>\n",
       "      <td>...</td>\n",
       "      <td>...</td>\n",
       "      <td>...</td>\n",
       "      <td>...</td>\n",
       "    </tr>\n",
       "    <tr>\n",
       "      <th>7038</th>\n",
       "      <td>6840-RESVB</td>\n",
       "      <td>2018-02-01</td>\n",
       "      <td>No</td>\n",
       "      <td>One year</td>\n",
       "      <td>Yes</td>\n",
       "      <td>Mailed check</td>\n",
       "      <td>84.80</td>\n",
       "      <td>1990.5</td>\n",
       "    </tr>\n",
       "    <tr>\n",
       "      <th>7039</th>\n",
       "      <td>2234-XADUH</td>\n",
       "      <td>2014-02-01</td>\n",
       "      <td>No</td>\n",
       "      <td>One year</td>\n",
       "      <td>Yes</td>\n",
       "      <td>Credit card (automatic)</td>\n",
       "      <td>103.20</td>\n",
       "      <td>7362.9</td>\n",
       "    </tr>\n",
       "    <tr>\n",
       "      <th>7040</th>\n",
       "      <td>4801-JZAZL</td>\n",
       "      <td>2019-03-01</td>\n",
       "      <td>No</td>\n",
       "      <td>Month-to-month</td>\n",
       "      <td>Yes</td>\n",
       "      <td>Electronic check</td>\n",
       "      <td>29.60</td>\n",
       "      <td>346.45</td>\n",
       "    </tr>\n",
       "    <tr>\n",
       "      <th>7041</th>\n",
       "      <td>8361-LTMKD</td>\n",
       "      <td>2019-07-01</td>\n",
       "      <td>2019-11-01 00:00:00</td>\n",
       "      <td>Month-to-month</td>\n",
       "      <td>Yes</td>\n",
       "      <td>Mailed check</td>\n",
       "      <td>74.40</td>\n",
       "      <td>306.6</td>\n",
       "    </tr>\n",
       "    <tr>\n",
       "      <th>7042</th>\n",
       "      <td>3186-AJIEK</td>\n",
       "      <td>2014-08-01</td>\n",
       "      <td>No</td>\n",
       "      <td>Two year</td>\n",
       "      <td>Yes</td>\n",
       "      <td>Bank transfer (automatic)</td>\n",
       "      <td>105.65</td>\n",
       "      <td>6844.5</td>\n",
       "    </tr>\n",
       "  </tbody>\n",
       "</table>\n",
       "<p>7043 rows × 8 columns</p>\n",
       "</div>"
      ],
      "text/plain": [
       "      customerID   BeginDate              EndDate            Type  \\\n",
       "0     7590-VHVEG  2020-01-01                   No  Month-to-month   \n",
       "1     5575-GNVDE  2017-04-01                   No        One year   \n",
       "2     3668-QPYBK  2019-10-01  2019-12-01 00:00:00  Month-to-month   \n",
       "3     7795-CFOCW  2016-05-01                   No        One year   \n",
       "4     9237-HQITU  2019-09-01  2019-11-01 00:00:00  Month-to-month   \n",
       "...          ...         ...                  ...             ...   \n",
       "7038  6840-RESVB  2018-02-01                   No        One year   \n",
       "7039  2234-XADUH  2014-02-01                   No        One year   \n",
       "7040  4801-JZAZL  2019-03-01                   No  Month-to-month   \n",
       "7041  8361-LTMKD  2019-07-01  2019-11-01 00:00:00  Month-to-month   \n",
       "7042  3186-AJIEK  2014-08-01                   No        Two year   \n",
       "\n",
       "     PaperlessBilling              PaymentMethod  MonthlyCharges TotalCharges  \n",
       "0                 Yes           Electronic check           29.85        29.85  \n",
       "1                  No               Mailed check           56.95       1889.5  \n",
       "2                 Yes               Mailed check           53.85       108.15  \n",
       "3                  No  Bank transfer (automatic)           42.30      1840.75  \n",
       "4                 Yes           Electronic check           70.70       151.65  \n",
       "...               ...                        ...             ...          ...  \n",
       "7038              Yes               Mailed check           84.80       1990.5  \n",
       "7039              Yes    Credit card (automatic)          103.20       7362.9  \n",
       "7040              Yes           Electronic check           29.60       346.45  \n",
       "7041              Yes               Mailed check           74.40        306.6  \n",
       "7042              Yes  Bank transfer (automatic)          105.65       6844.5  \n",
       "\n",
       "[7043 rows x 8 columns]"
      ]
     },
     "metadata": {},
     "output_type": "display_data"
    },
    {
     "name": "stdout",
     "output_type": "stream",
     "text": [
      "<class 'pandas.core.frame.DataFrame'>\n",
      "RangeIndex: 7043 entries, 0 to 7042\n",
      "Data columns (total 8 columns):\n",
      " #   Column            Non-Null Count  Dtype         \n",
      "---  ------            --------------  -----         \n",
      " 0   customerid        7043 non-null   object        \n",
      " 1   begindate         7043 non-null   datetime64[ns]\n",
      " 2   enddate           7043 non-null   object        \n",
      " 3   type              7043 non-null   object        \n",
      " 4   paperlessbilling  7043 non-null   object        \n",
      " 5   paymentmethod     7043 non-null   object        \n",
      " 6   monthlycharges    7043 non-null   float64       \n",
      " 7   totalcharges      7043 non-null   float64       \n",
      "dtypes: datetime64[ns](1), float64(2), object(5)\n",
      "memory usage: 440.3+ KB\n",
      "None\n"
     ]
    },
    {
     "data": {
      "text/plain": [
       "0.7346301292063041"
      ]
     },
     "execution_count": 3,
     "metadata": {},
     "output_type": "execute_result"
    }
   ],
   "source": [
    "# Perform basic analysis for the contract set\n",
    "display(contract)\n",
    "\n",
    "# Set column names to lowercase\n",
    "contract.columns=contract.columns.str.lower()\n",
    "\n",
    "# Fill na values for 'totalcharges'\n",
    "contract['totalcharges'] = contract['totalcharges'].replace(' ', 0)\n",
    "\n",
    "# Change datatypes\n",
    "contract['totalcharges'] = pd.to_numeric(contract['totalcharges'])\n",
    "contract['begindate'] = pd.to_datetime(contract['begindate'])\n",
    "\n",
    "print(contract.info())\n",
    "\n",
    "# Get ratio of churn\n",
    "len(contract[contract['enddate'] == 'No']) / len(contract['enddate'])"
   ]
  },
  {
   "cell_type": "markdown",
   "metadata": {},
   "source": [
    "Notes:\n",
    "- No missing values\n",
    "- ~73% of customers have not left yet, meaning the classes are unbalanced\n",
    "- Need to change the column names to lowercase just for consistency\n",
    "\n",
    "Tasks:\n",
    "- Change the 'TotalCharges' column to float\n",
    "- Change the 'BeginDate' to datetime\n",
    "\n",
    "Feature engineering:\n",
    "\n",
    "- Need to perform one-hot encoding on columns: 'Type', 'PaperlessBilling', and 'PaymentMethod'\n",
    "- Make separate column based on 'EndDate' for whether or not the customer has left\n",
    "- Perform class balancing"
   ]
  },
  {
   "cell_type": "code",
   "execution_count": 4,
   "metadata": {},
   "outputs": [
    {
     "data": {
      "text/html": [
       "<div>\n",
       "<style scoped>\n",
       "    .dataframe tbody tr th:only-of-type {\n",
       "        vertical-align: middle;\n",
       "    }\n",
       "\n",
       "    .dataframe tbody tr th {\n",
       "        vertical-align: top;\n",
       "    }\n",
       "\n",
       "    .dataframe thead th {\n",
       "        text-align: right;\n",
       "    }\n",
       "</style>\n",
       "<table border=\"1\" class=\"dataframe\">\n",
       "  <thead>\n",
       "    <tr style=\"text-align: right;\">\n",
       "      <th></th>\n",
       "      <th>customerID</th>\n",
       "      <th>InternetService</th>\n",
       "      <th>OnlineSecurity</th>\n",
       "      <th>OnlineBackup</th>\n",
       "      <th>DeviceProtection</th>\n",
       "      <th>TechSupport</th>\n",
       "      <th>StreamingTV</th>\n",
       "      <th>StreamingMovies</th>\n",
       "    </tr>\n",
       "  </thead>\n",
       "  <tbody>\n",
       "    <tr>\n",
       "      <th>0</th>\n",
       "      <td>7590-VHVEG</td>\n",
       "      <td>DSL</td>\n",
       "      <td>No</td>\n",
       "      <td>Yes</td>\n",
       "      <td>No</td>\n",
       "      <td>No</td>\n",
       "      <td>No</td>\n",
       "      <td>No</td>\n",
       "    </tr>\n",
       "    <tr>\n",
       "      <th>1</th>\n",
       "      <td>5575-GNVDE</td>\n",
       "      <td>DSL</td>\n",
       "      <td>Yes</td>\n",
       "      <td>No</td>\n",
       "      <td>Yes</td>\n",
       "      <td>No</td>\n",
       "      <td>No</td>\n",
       "      <td>No</td>\n",
       "    </tr>\n",
       "    <tr>\n",
       "      <th>2</th>\n",
       "      <td>3668-QPYBK</td>\n",
       "      <td>DSL</td>\n",
       "      <td>Yes</td>\n",
       "      <td>Yes</td>\n",
       "      <td>No</td>\n",
       "      <td>No</td>\n",
       "      <td>No</td>\n",
       "      <td>No</td>\n",
       "    </tr>\n",
       "    <tr>\n",
       "      <th>3</th>\n",
       "      <td>7795-CFOCW</td>\n",
       "      <td>DSL</td>\n",
       "      <td>Yes</td>\n",
       "      <td>No</td>\n",
       "      <td>Yes</td>\n",
       "      <td>Yes</td>\n",
       "      <td>No</td>\n",
       "      <td>No</td>\n",
       "    </tr>\n",
       "    <tr>\n",
       "      <th>4</th>\n",
       "      <td>9237-HQITU</td>\n",
       "      <td>Fiber optic</td>\n",
       "      <td>No</td>\n",
       "      <td>No</td>\n",
       "      <td>No</td>\n",
       "      <td>No</td>\n",
       "      <td>No</td>\n",
       "      <td>No</td>\n",
       "    </tr>\n",
       "    <tr>\n",
       "      <th>...</th>\n",
       "      <td>...</td>\n",
       "      <td>...</td>\n",
       "      <td>...</td>\n",
       "      <td>...</td>\n",
       "      <td>...</td>\n",
       "      <td>...</td>\n",
       "      <td>...</td>\n",
       "      <td>...</td>\n",
       "    </tr>\n",
       "    <tr>\n",
       "      <th>5512</th>\n",
       "      <td>6840-RESVB</td>\n",
       "      <td>DSL</td>\n",
       "      <td>Yes</td>\n",
       "      <td>No</td>\n",
       "      <td>Yes</td>\n",
       "      <td>Yes</td>\n",
       "      <td>Yes</td>\n",
       "      <td>Yes</td>\n",
       "    </tr>\n",
       "    <tr>\n",
       "      <th>5513</th>\n",
       "      <td>2234-XADUH</td>\n",
       "      <td>Fiber optic</td>\n",
       "      <td>No</td>\n",
       "      <td>Yes</td>\n",
       "      <td>Yes</td>\n",
       "      <td>No</td>\n",
       "      <td>Yes</td>\n",
       "      <td>Yes</td>\n",
       "    </tr>\n",
       "    <tr>\n",
       "      <th>5514</th>\n",
       "      <td>4801-JZAZL</td>\n",
       "      <td>DSL</td>\n",
       "      <td>Yes</td>\n",
       "      <td>No</td>\n",
       "      <td>No</td>\n",
       "      <td>No</td>\n",
       "      <td>No</td>\n",
       "      <td>No</td>\n",
       "    </tr>\n",
       "    <tr>\n",
       "      <th>5515</th>\n",
       "      <td>8361-LTMKD</td>\n",
       "      <td>Fiber optic</td>\n",
       "      <td>No</td>\n",
       "      <td>No</td>\n",
       "      <td>No</td>\n",
       "      <td>No</td>\n",
       "      <td>No</td>\n",
       "      <td>No</td>\n",
       "    </tr>\n",
       "    <tr>\n",
       "      <th>5516</th>\n",
       "      <td>3186-AJIEK</td>\n",
       "      <td>Fiber optic</td>\n",
       "      <td>Yes</td>\n",
       "      <td>No</td>\n",
       "      <td>Yes</td>\n",
       "      <td>Yes</td>\n",
       "      <td>Yes</td>\n",
       "      <td>Yes</td>\n",
       "    </tr>\n",
       "  </tbody>\n",
       "</table>\n",
       "<p>5517 rows × 8 columns</p>\n",
       "</div>"
      ],
      "text/plain": [
       "      customerID InternetService OnlineSecurity OnlineBackup DeviceProtection  \\\n",
       "0     7590-VHVEG             DSL             No          Yes               No   \n",
       "1     5575-GNVDE             DSL            Yes           No              Yes   \n",
       "2     3668-QPYBK             DSL            Yes          Yes               No   \n",
       "3     7795-CFOCW             DSL            Yes           No              Yes   \n",
       "4     9237-HQITU     Fiber optic             No           No               No   \n",
       "...          ...             ...            ...          ...              ...   \n",
       "5512  6840-RESVB             DSL            Yes           No              Yes   \n",
       "5513  2234-XADUH     Fiber optic             No          Yes              Yes   \n",
       "5514  4801-JZAZL             DSL            Yes           No               No   \n",
       "5515  8361-LTMKD     Fiber optic             No           No               No   \n",
       "5516  3186-AJIEK     Fiber optic            Yes           No              Yes   \n",
       "\n",
       "     TechSupport StreamingTV StreamingMovies  \n",
       "0             No          No              No  \n",
       "1             No          No              No  \n",
       "2             No          No              No  \n",
       "3            Yes          No              No  \n",
       "4             No          No              No  \n",
       "...          ...         ...             ...  \n",
       "5512         Yes         Yes             Yes  \n",
       "5513          No         Yes             Yes  \n",
       "5514          No          No              No  \n",
       "5515          No          No              No  \n",
       "5516         Yes         Yes             Yes  \n",
       "\n",
       "[5517 rows x 8 columns]"
      ]
     },
     "metadata": {},
     "output_type": "display_data"
    },
    {
     "name": "stdout",
     "output_type": "stream",
     "text": [
      "<class 'pandas.core.frame.DataFrame'>\n",
      "RangeIndex: 5517 entries, 0 to 5516\n",
      "Data columns (total 8 columns):\n",
      " #   Column            Non-Null Count  Dtype \n",
      "---  ------            --------------  ----- \n",
      " 0   customerid        5517 non-null   object\n",
      " 1   internetservice   5517 non-null   object\n",
      " 2   onlinesecurity    5517 non-null   object\n",
      " 3   onlinebackup      5517 non-null   object\n",
      " 4   deviceprotection  5517 non-null   object\n",
      " 5   techsupport       5517 non-null   object\n",
      " 6   streamingtv       5517 non-null   object\n",
      " 7   streamingmovies   5517 non-null   object\n",
      "dtypes: object(8)\n",
      "memory usage: 344.9+ KB\n",
      "None\n"
     ]
    }
   ],
   "source": [
    "# Perform basic analysis for the internet set\n",
    "display(internet)\n",
    "internet.columns=internet.columns.str.lower()\n",
    "print(internet.info())"
   ]
  },
  {
   "cell_type": "markdown",
   "metadata": {},
   "source": [
    "Notes:\n",
    "- Uses same form of ID as the contract set, easily combined\n",
    "- Not every customer utilizes their internet service, will have to fill in na rows for those that don't when I combine the sets\n",
    "- Just need to use one-hot encoding for every column except customerId\n",
    "- Change column names to lowercase"
   ]
  },
  {
   "cell_type": "code",
   "execution_count": 5,
   "metadata": {},
   "outputs": [
    {
     "data": {
      "text/html": [
       "<div>\n",
       "<style scoped>\n",
       "    .dataframe tbody tr th:only-of-type {\n",
       "        vertical-align: middle;\n",
       "    }\n",
       "\n",
       "    .dataframe tbody tr th {\n",
       "        vertical-align: top;\n",
       "    }\n",
       "\n",
       "    .dataframe thead th {\n",
       "        text-align: right;\n",
       "    }\n",
       "</style>\n",
       "<table border=\"1\" class=\"dataframe\">\n",
       "  <thead>\n",
       "    <tr style=\"text-align: right;\">\n",
       "      <th></th>\n",
       "      <th>customerID</th>\n",
       "      <th>gender</th>\n",
       "      <th>SeniorCitizen</th>\n",
       "      <th>Partner</th>\n",
       "      <th>Dependents</th>\n",
       "    </tr>\n",
       "  </thead>\n",
       "  <tbody>\n",
       "    <tr>\n",
       "      <th>0</th>\n",
       "      <td>7590-VHVEG</td>\n",
       "      <td>Female</td>\n",
       "      <td>0</td>\n",
       "      <td>Yes</td>\n",
       "      <td>No</td>\n",
       "    </tr>\n",
       "    <tr>\n",
       "      <th>1</th>\n",
       "      <td>5575-GNVDE</td>\n",
       "      <td>Male</td>\n",
       "      <td>0</td>\n",
       "      <td>No</td>\n",
       "      <td>No</td>\n",
       "    </tr>\n",
       "    <tr>\n",
       "      <th>2</th>\n",
       "      <td>3668-QPYBK</td>\n",
       "      <td>Male</td>\n",
       "      <td>0</td>\n",
       "      <td>No</td>\n",
       "      <td>No</td>\n",
       "    </tr>\n",
       "    <tr>\n",
       "      <th>3</th>\n",
       "      <td>7795-CFOCW</td>\n",
       "      <td>Male</td>\n",
       "      <td>0</td>\n",
       "      <td>No</td>\n",
       "      <td>No</td>\n",
       "    </tr>\n",
       "    <tr>\n",
       "      <th>4</th>\n",
       "      <td>9237-HQITU</td>\n",
       "      <td>Female</td>\n",
       "      <td>0</td>\n",
       "      <td>No</td>\n",
       "      <td>No</td>\n",
       "    </tr>\n",
       "    <tr>\n",
       "      <th>...</th>\n",
       "      <td>...</td>\n",
       "      <td>...</td>\n",
       "      <td>...</td>\n",
       "      <td>...</td>\n",
       "      <td>...</td>\n",
       "    </tr>\n",
       "    <tr>\n",
       "      <th>7038</th>\n",
       "      <td>6840-RESVB</td>\n",
       "      <td>Male</td>\n",
       "      <td>0</td>\n",
       "      <td>Yes</td>\n",
       "      <td>Yes</td>\n",
       "    </tr>\n",
       "    <tr>\n",
       "      <th>7039</th>\n",
       "      <td>2234-XADUH</td>\n",
       "      <td>Female</td>\n",
       "      <td>0</td>\n",
       "      <td>Yes</td>\n",
       "      <td>Yes</td>\n",
       "    </tr>\n",
       "    <tr>\n",
       "      <th>7040</th>\n",
       "      <td>4801-JZAZL</td>\n",
       "      <td>Female</td>\n",
       "      <td>0</td>\n",
       "      <td>Yes</td>\n",
       "      <td>Yes</td>\n",
       "    </tr>\n",
       "    <tr>\n",
       "      <th>7041</th>\n",
       "      <td>8361-LTMKD</td>\n",
       "      <td>Male</td>\n",
       "      <td>1</td>\n",
       "      <td>Yes</td>\n",
       "      <td>No</td>\n",
       "    </tr>\n",
       "    <tr>\n",
       "      <th>7042</th>\n",
       "      <td>3186-AJIEK</td>\n",
       "      <td>Male</td>\n",
       "      <td>0</td>\n",
       "      <td>No</td>\n",
       "      <td>No</td>\n",
       "    </tr>\n",
       "  </tbody>\n",
       "</table>\n",
       "<p>7043 rows × 5 columns</p>\n",
       "</div>"
      ],
      "text/plain": [
       "      customerID  gender  SeniorCitizen Partner Dependents\n",
       "0     7590-VHVEG  Female              0     Yes         No\n",
       "1     5575-GNVDE    Male              0      No         No\n",
       "2     3668-QPYBK    Male              0      No         No\n",
       "3     7795-CFOCW    Male              0      No         No\n",
       "4     9237-HQITU  Female              0      No         No\n",
       "...          ...     ...            ...     ...        ...\n",
       "7038  6840-RESVB    Male              0     Yes        Yes\n",
       "7039  2234-XADUH  Female              0     Yes        Yes\n",
       "7040  4801-JZAZL  Female              0     Yes        Yes\n",
       "7041  8361-LTMKD    Male              1     Yes         No\n",
       "7042  3186-AJIEK    Male              0      No         No\n",
       "\n",
       "[7043 rows x 5 columns]"
      ]
     },
     "metadata": {},
     "output_type": "display_data"
    },
    {
     "name": "stdout",
     "output_type": "stream",
     "text": [
      "<class 'pandas.core.frame.DataFrame'>\n",
      "RangeIndex: 7043 entries, 0 to 7042\n",
      "Data columns (total 5 columns):\n",
      " #   Column         Non-Null Count  Dtype \n",
      "---  ------         --------------  ----- \n",
      " 0   customerid     7043 non-null   object\n",
      " 1   gender         7043 non-null   object\n",
      " 2   seniorcitizen  7043 non-null   int64 \n",
      " 3   partner        7043 non-null   object\n",
      " 4   dependents     7043 non-null   object\n",
      "dtypes: int64(1), object(4)\n",
      "memory usage: 275.2+ KB\n",
      "None\n"
     ]
    }
   ],
   "source": [
    "# Perform basic analysis for the personal set\n",
    "display(personal)\n",
    "personal.columns=personal.columns.str.lower()\n",
    "print(personal.info())"
   ]
  },
  {
   "cell_type": "markdown",
   "metadata": {},
   "source": [
    "Notes:\n",
    "\n",
    "Set uses the same form of id and the same number of users as the contract set, easily combined\n",
    "\n",
    "Need to feature engineer 'gender', 'Partner', and 'Dependents' columns with one-hot encoding\n",
    "\n",
    "Change columns to lowercase"
   ]
  },
  {
   "cell_type": "code",
   "execution_count": 6,
   "metadata": {},
   "outputs": [
    {
     "data": {
      "text/html": [
       "<div>\n",
       "<style scoped>\n",
       "    .dataframe tbody tr th:only-of-type {\n",
       "        vertical-align: middle;\n",
       "    }\n",
       "\n",
       "    .dataframe tbody tr th {\n",
       "        vertical-align: top;\n",
       "    }\n",
       "\n",
       "    .dataframe thead th {\n",
       "        text-align: right;\n",
       "    }\n",
       "</style>\n",
       "<table border=\"1\" class=\"dataframe\">\n",
       "  <thead>\n",
       "    <tr style=\"text-align: right;\">\n",
       "      <th></th>\n",
       "      <th>customerID</th>\n",
       "      <th>MultipleLines</th>\n",
       "    </tr>\n",
       "  </thead>\n",
       "  <tbody>\n",
       "    <tr>\n",
       "      <th>0</th>\n",
       "      <td>5575-GNVDE</td>\n",
       "      <td>No</td>\n",
       "    </tr>\n",
       "    <tr>\n",
       "      <th>1</th>\n",
       "      <td>3668-QPYBK</td>\n",
       "      <td>No</td>\n",
       "    </tr>\n",
       "    <tr>\n",
       "      <th>2</th>\n",
       "      <td>9237-HQITU</td>\n",
       "      <td>No</td>\n",
       "    </tr>\n",
       "    <tr>\n",
       "      <th>3</th>\n",
       "      <td>9305-CDSKC</td>\n",
       "      <td>Yes</td>\n",
       "    </tr>\n",
       "    <tr>\n",
       "      <th>4</th>\n",
       "      <td>1452-KIOVK</td>\n",
       "      <td>Yes</td>\n",
       "    </tr>\n",
       "    <tr>\n",
       "      <th>...</th>\n",
       "      <td>...</td>\n",
       "      <td>...</td>\n",
       "    </tr>\n",
       "    <tr>\n",
       "      <th>6356</th>\n",
       "      <td>2569-WGERO</td>\n",
       "      <td>No</td>\n",
       "    </tr>\n",
       "    <tr>\n",
       "      <th>6357</th>\n",
       "      <td>6840-RESVB</td>\n",
       "      <td>Yes</td>\n",
       "    </tr>\n",
       "    <tr>\n",
       "      <th>6358</th>\n",
       "      <td>2234-XADUH</td>\n",
       "      <td>Yes</td>\n",
       "    </tr>\n",
       "    <tr>\n",
       "      <th>6359</th>\n",
       "      <td>8361-LTMKD</td>\n",
       "      <td>Yes</td>\n",
       "    </tr>\n",
       "    <tr>\n",
       "      <th>6360</th>\n",
       "      <td>3186-AJIEK</td>\n",
       "      <td>No</td>\n",
       "    </tr>\n",
       "  </tbody>\n",
       "</table>\n",
       "<p>6361 rows × 2 columns</p>\n",
       "</div>"
      ],
      "text/plain": [
       "      customerID MultipleLines\n",
       "0     5575-GNVDE            No\n",
       "1     3668-QPYBK            No\n",
       "2     9237-HQITU            No\n",
       "3     9305-CDSKC           Yes\n",
       "4     1452-KIOVK           Yes\n",
       "...          ...           ...\n",
       "6356  2569-WGERO            No\n",
       "6357  6840-RESVB           Yes\n",
       "6358  2234-XADUH           Yes\n",
       "6359  8361-LTMKD           Yes\n",
       "6360  3186-AJIEK            No\n",
       "\n",
       "[6361 rows x 2 columns]"
      ]
     },
     "metadata": {},
     "output_type": "display_data"
    },
    {
     "name": "stdout",
     "output_type": "stream",
     "text": [
      "<class 'pandas.core.frame.DataFrame'>\n",
      "RangeIndex: 6361 entries, 0 to 6360\n",
      "Data columns (total 2 columns):\n",
      " #   Column         Non-Null Count  Dtype \n",
      "---  ------         --------------  ----- \n",
      " 0   customerid     6361 non-null   object\n",
      " 1   multiplelines  6361 non-null   object\n",
      "dtypes: object(2)\n",
      "memory usage: 99.5+ KB\n",
      "None\n"
     ]
    }
   ],
   "source": [
    "# Perform basic analysis for the phone set\n",
    "display(phone)\n",
    "phone.columns=phone.columns.str.lower()\n",
    "print(phone.info())"
   ]
  },
  {
   "cell_type": "markdown",
   "metadata": {},
   "source": [
    "Notes:\n",
    "- Uses the same form of ID\n",
    "- Feature engineer the 'MultipleLines' column with one-hot encoding, including a column to show customers without the phone service"
   ]
  },
  {
   "cell_type": "code",
   "execution_count": 7,
   "metadata": {},
   "outputs": [],
   "source": [
    "# Combine datasets and define categorical columns\n",
    "merged_data = (\n",
    "    contract\n",
    "    .merge(personal, on=\"customerid\", how=\"outer\")\n",
    "    .merge(internet, on=\"customerid\", how=\"outer\")\n",
    "    .merge(phone, on=\"customerid\", how=\"outer\")\n",
    ")\n",
    "\n",
    "categorical_columns = [\n",
    "    \"type\", \"paperlessbilling\", \"paymentmethod\", \n",
    "    \"internetservice\", \"onlinesecurity\", \"onlinebackup\", \n",
    "    \"deviceprotection\", \"techsupport\", \"streamingtv\", \n",
    "    \"streamingmovies\", \"gender\", \"seniorcitizen\", \"partner\", \"dependents\", \n",
    "    \"multiplelines\", \"begindate_year\", \"begindate_month\", \"begindate_day\"\n",
    "]"
   ]
  },
  {
   "cell_type": "code",
   "execution_count": 8,
   "metadata": {},
   "outputs": [],
   "source": [
    "# Removing customerid as it isn't useful for training\n",
    "merged_data = merged_data.drop(columns='customerid')\n",
    "\n",
    "# Fixing begindate into a numerical column for training\n",
    "merged_data['begindate_year'] = merged_data['begindate'].dt.year\n",
    "merged_data['begindate_month'] = merged_data['begindate'].dt.month\n",
    "merged_data['begindate_day'] = merged_data['begindate'].dt.day\n",
    "\n",
    "# Dropping the original begindate column\n",
    "merged_data = merged_data.drop(columns='begindate')\n",
    "\n",
    "# Changing the enddate column to a binary 'churned' column\n",
    "merged_data['churned'] = (merged_data['enddate'] == 'No').astype(int)\n",
    "merged_data = merged_data.drop(columns='enddate')"
   ]
  },
  {
   "cell_type": "code",
   "execution_count": 9,
   "metadata": {},
   "outputs": [
    {
     "data": {
      "text/html": [
       "<div>\n",
       "<style scoped>\n",
       "    .dataframe tbody tr th:only-of-type {\n",
       "        vertical-align: middle;\n",
       "    }\n",
       "\n",
       "    .dataframe tbody tr th {\n",
       "        vertical-align: top;\n",
       "    }\n",
       "\n",
       "    .dataframe thead th {\n",
       "        text-align: right;\n",
       "    }\n",
       "</style>\n",
       "<table border=\"1\" class=\"dataframe\">\n",
       "  <thead>\n",
       "    <tr style=\"text-align: right;\">\n",
       "      <th></th>\n",
       "      <th>monthlycharges</th>\n",
       "      <th>totalcharges</th>\n",
       "      <th>churned</th>\n",
       "      <th>type_One year</th>\n",
       "      <th>type_Two year</th>\n",
       "      <th>paperlessbilling_Yes</th>\n",
       "      <th>paymentmethod_Credit card (automatic)</th>\n",
       "      <th>paymentmethod_Electronic check</th>\n",
       "      <th>paymentmethod_Mailed check</th>\n",
       "      <th>internetservice_Fiber optic</th>\n",
       "      <th>...</th>\n",
       "      <th>begindate_month_3</th>\n",
       "      <th>begindate_month_4</th>\n",
       "      <th>begindate_month_5</th>\n",
       "      <th>begindate_month_6</th>\n",
       "      <th>begindate_month_7</th>\n",
       "      <th>begindate_month_8</th>\n",
       "      <th>begindate_month_9</th>\n",
       "      <th>begindate_month_10</th>\n",
       "      <th>begindate_month_11</th>\n",
       "      <th>begindate_month_12</th>\n",
       "    </tr>\n",
       "  </thead>\n",
       "  <tbody>\n",
       "    <tr>\n",
       "      <th>0</th>\n",
       "      <td>29.85</td>\n",
       "      <td>29.85</td>\n",
       "      <td>1</td>\n",
       "      <td>0.0</td>\n",
       "      <td>0.0</td>\n",
       "      <td>1.0</td>\n",
       "      <td>0.0</td>\n",
       "      <td>1.0</td>\n",
       "      <td>0.0</td>\n",
       "      <td>0.0</td>\n",
       "      <td>...</td>\n",
       "      <td>0.0</td>\n",
       "      <td>0.0</td>\n",
       "      <td>0.0</td>\n",
       "      <td>0.0</td>\n",
       "      <td>0.0</td>\n",
       "      <td>0.0</td>\n",
       "      <td>0.0</td>\n",
       "      <td>0.0</td>\n",
       "      <td>0.0</td>\n",
       "      <td>0.0</td>\n",
       "    </tr>\n",
       "    <tr>\n",
       "      <th>1</th>\n",
       "      <td>56.95</td>\n",
       "      <td>1889.50</td>\n",
       "      <td>1</td>\n",
       "      <td>1.0</td>\n",
       "      <td>0.0</td>\n",
       "      <td>0.0</td>\n",
       "      <td>0.0</td>\n",
       "      <td>0.0</td>\n",
       "      <td>1.0</td>\n",
       "      <td>0.0</td>\n",
       "      <td>...</td>\n",
       "      <td>0.0</td>\n",
       "      <td>1.0</td>\n",
       "      <td>0.0</td>\n",
       "      <td>0.0</td>\n",
       "      <td>0.0</td>\n",
       "      <td>0.0</td>\n",
       "      <td>0.0</td>\n",
       "      <td>0.0</td>\n",
       "      <td>0.0</td>\n",
       "      <td>0.0</td>\n",
       "    </tr>\n",
       "    <tr>\n",
       "      <th>2</th>\n",
       "      <td>53.85</td>\n",
       "      <td>108.15</td>\n",
       "      <td>0</td>\n",
       "      <td>0.0</td>\n",
       "      <td>0.0</td>\n",
       "      <td>1.0</td>\n",
       "      <td>0.0</td>\n",
       "      <td>0.0</td>\n",
       "      <td>1.0</td>\n",
       "      <td>0.0</td>\n",
       "      <td>...</td>\n",
       "      <td>0.0</td>\n",
       "      <td>0.0</td>\n",
       "      <td>0.0</td>\n",
       "      <td>0.0</td>\n",
       "      <td>0.0</td>\n",
       "      <td>0.0</td>\n",
       "      <td>0.0</td>\n",
       "      <td>1.0</td>\n",
       "      <td>0.0</td>\n",
       "      <td>0.0</td>\n",
       "    </tr>\n",
       "    <tr>\n",
       "      <th>3</th>\n",
       "      <td>42.30</td>\n",
       "      <td>1840.75</td>\n",
       "      <td>1</td>\n",
       "      <td>1.0</td>\n",
       "      <td>0.0</td>\n",
       "      <td>0.0</td>\n",
       "      <td>0.0</td>\n",
       "      <td>0.0</td>\n",
       "      <td>0.0</td>\n",
       "      <td>0.0</td>\n",
       "      <td>...</td>\n",
       "      <td>0.0</td>\n",
       "      <td>0.0</td>\n",
       "      <td>1.0</td>\n",
       "      <td>0.0</td>\n",
       "      <td>0.0</td>\n",
       "      <td>0.0</td>\n",
       "      <td>0.0</td>\n",
       "      <td>0.0</td>\n",
       "      <td>0.0</td>\n",
       "      <td>0.0</td>\n",
       "    </tr>\n",
       "    <tr>\n",
       "      <th>4</th>\n",
       "      <td>70.70</td>\n",
       "      <td>151.65</td>\n",
       "      <td>0</td>\n",
       "      <td>0.0</td>\n",
       "      <td>0.0</td>\n",
       "      <td>1.0</td>\n",
       "      <td>0.0</td>\n",
       "      <td>1.0</td>\n",
       "      <td>0.0</td>\n",
       "      <td>1.0</td>\n",
       "      <td>...</td>\n",
       "      <td>0.0</td>\n",
       "      <td>0.0</td>\n",
       "      <td>0.0</td>\n",
       "      <td>0.0</td>\n",
       "      <td>0.0</td>\n",
       "      <td>0.0</td>\n",
       "      <td>1.0</td>\n",
       "      <td>0.0</td>\n",
       "      <td>0.0</td>\n",
       "      <td>0.0</td>\n",
       "    </tr>\n",
       "    <tr>\n",
       "      <th>...</th>\n",
       "      <td>...</td>\n",
       "      <td>...</td>\n",
       "      <td>...</td>\n",
       "      <td>...</td>\n",
       "      <td>...</td>\n",
       "      <td>...</td>\n",
       "      <td>...</td>\n",
       "      <td>...</td>\n",
       "      <td>...</td>\n",
       "      <td>...</td>\n",
       "      <td>...</td>\n",
       "      <td>...</td>\n",
       "      <td>...</td>\n",
       "      <td>...</td>\n",
       "      <td>...</td>\n",
       "      <td>...</td>\n",
       "      <td>...</td>\n",
       "      <td>...</td>\n",
       "      <td>...</td>\n",
       "      <td>...</td>\n",
       "      <td>...</td>\n",
       "    </tr>\n",
       "    <tr>\n",
       "      <th>7038</th>\n",
       "      <td>84.80</td>\n",
       "      <td>1990.50</td>\n",
       "      <td>1</td>\n",
       "      <td>1.0</td>\n",
       "      <td>0.0</td>\n",
       "      <td>1.0</td>\n",
       "      <td>0.0</td>\n",
       "      <td>0.0</td>\n",
       "      <td>1.0</td>\n",
       "      <td>0.0</td>\n",
       "      <td>...</td>\n",
       "      <td>0.0</td>\n",
       "      <td>0.0</td>\n",
       "      <td>0.0</td>\n",
       "      <td>0.0</td>\n",
       "      <td>0.0</td>\n",
       "      <td>0.0</td>\n",
       "      <td>0.0</td>\n",
       "      <td>0.0</td>\n",
       "      <td>0.0</td>\n",
       "      <td>0.0</td>\n",
       "    </tr>\n",
       "    <tr>\n",
       "      <th>7039</th>\n",
       "      <td>103.20</td>\n",
       "      <td>7362.90</td>\n",
       "      <td>1</td>\n",
       "      <td>1.0</td>\n",
       "      <td>0.0</td>\n",
       "      <td>1.0</td>\n",
       "      <td>1.0</td>\n",
       "      <td>0.0</td>\n",
       "      <td>0.0</td>\n",
       "      <td>1.0</td>\n",
       "      <td>...</td>\n",
       "      <td>0.0</td>\n",
       "      <td>0.0</td>\n",
       "      <td>0.0</td>\n",
       "      <td>0.0</td>\n",
       "      <td>0.0</td>\n",
       "      <td>0.0</td>\n",
       "      <td>0.0</td>\n",
       "      <td>0.0</td>\n",
       "      <td>0.0</td>\n",
       "      <td>0.0</td>\n",
       "    </tr>\n",
       "    <tr>\n",
       "      <th>7040</th>\n",
       "      <td>29.60</td>\n",
       "      <td>346.45</td>\n",
       "      <td>1</td>\n",
       "      <td>0.0</td>\n",
       "      <td>0.0</td>\n",
       "      <td>1.0</td>\n",
       "      <td>0.0</td>\n",
       "      <td>1.0</td>\n",
       "      <td>0.0</td>\n",
       "      <td>0.0</td>\n",
       "      <td>...</td>\n",
       "      <td>1.0</td>\n",
       "      <td>0.0</td>\n",
       "      <td>0.0</td>\n",
       "      <td>0.0</td>\n",
       "      <td>0.0</td>\n",
       "      <td>0.0</td>\n",
       "      <td>0.0</td>\n",
       "      <td>0.0</td>\n",
       "      <td>0.0</td>\n",
       "      <td>0.0</td>\n",
       "    </tr>\n",
       "    <tr>\n",
       "      <th>7041</th>\n",
       "      <td>74.40</td>\n",
       "      <td>306.60</td>\n",
       "      <td>0</td>\n",
       "      <td>0.0</td>\n",
       "      <td>0.0</td>\n",
       "      <td>1.0</td>\n",
       "      <td>0.0</td>\n",
       "      <td>0.0</td>\n",
       "      <td>1.0</td>\n",
       "      <td>1.0</td>\n",
       "      <td>...</td>\n",
       "      <td>0.0</td>\n",
       "      <td>0.0</td>\n",
       "      <td>0.0</td>\n",
       "      <td>0.0</td>\n",
       "      <td>1.0</td>\n",
       "      <td>0.0</td>\n",
       "      <td>0.0</td>\n",
       "      <td>0.0</td>\n",
       "      <td>0.0</td>\n",
       "      <td>0.0</td>\n",
       "    </tr>\n",
       "    <tr>\n",
       "      <th>7042</th>\n",
       "      <td>105.65</td>\n",
       "      <td>6844.50</td>\n",
       "      <td>1</td>\n",
       "      <td>0.0</td>\n",
       "      <td>1.0</td>\n",
       "      <td>1.0</td>\n",
       "      <td>0.0</td>\n",
       "      <td>0.0</td>\n",
       "      <td>0.0</td>\n",
       "      <td>1.0</td>\n",
       "      <td>...</td>\n",
       "      <td>0.0</td>\n",
       "      <td>0.0</td>\n",
       "      <td>0.0</td>\n",
       "      <td>0.0</td>\n",
       "      <td>0.0</td>\n",
       "      <td>1.0</td>\n",
       "      <td>0.0</td>\n",
       "      <td>0.0</td>\n",
       "      <td>0.0</td>\n",
       "      <td>0.0</td>\n",
       "    </tr>\n",
       "  </tbody>\n",
       "</table>\n",
       "<p>7043 rows × 47 columns</p>\n",
       "</div>"
      ],
      "text/plain": [
       "      monthlycharges  totalcharges  churned  type_One year  type_Two year  \\\n",
       "0              29.85         29.85        1            0.0            0.0   \n",
       "1              56.95       1889.50        1            1.0            0.0   \n",
       "2              53.85        108.15        0            0.0            0.0   \n",
       "3              42.30       1840.75        1            1.0            0.0   \n",
       "4              70.70        151.65        0            0.0            0.0   \n",
       "...              ...           ...      ...            ...            ...   \n",
       "7038           84.80       1990.50        1            1.0            0.0   \n",
       "7039          103.20       7362.90        1            1.0            0.0   \n",
       "7040           29.60        346.45        1            0.0            0.0   \n",
       "7041           74.40        306.60        0            0.0            0.0   \n",
       "7042          105.65       6844.50        1            0.0            1.0   \n",
       "\n",
       "      paperlessbilling_Yes  paymentmethod_Credit card (automatic)  \\\n",
       "0                      1.0                                    0.0   \n",
       "1                      0.0                                    0.0   \n",
       "2                      1.0                                    0.0   \n",
       "3                      0.0                                    0.0   \n",
       "4                      1.0                                    0.0   \n",
       "...                    ...                                    ...   \n",
       "7038                   1.0                                    0.0   \n",
       "7039                   1.0                                    1.0   \n",
       "7040                   1.0                                    0.0   \n",
       "7041                   1.0                                    0.0   \n",
       "7042                   1.0                                    0.0   \n",
       "\n",
       "      paymentmethod_Electronic check  paymentmethod_Mailed check  \\\n",
       "0                                1.0                         0.0   \n",
       "1                                0.0                         1.0   \n",
       "2                                0.0                         1.0   \n",
       "3                                0.0                         0.0   \n",
       "4                                1.0                         0.0   \n",
       "...                              ...                         ...   \n",
       "7038                             0.0                         1.0   \n",
       "7039                             0.0                         0.0   \n",
       "7040                             1.0                         0.0   \n",
       "7041                             0.0                         1.0   \n",
       "7042                             0.0                         0.0   \n",
       "\n",
       "      internetservice_Fiber optic  ...  begindate_month_3  begindate_month_4  \\\n",
       "0                             0.0  ...                0.0                0.0   \n",
       "1                             0.0  ...                0.0                1.0   \n",
       "2                             0.0  ...                0.0                0.0   \n",
       "3                             0.0  ...                0.0                0.0   \n",
       "4                             1.0  ...                0.0                0.0   \n",
       "...                           ...  ...                ...                ...   \n",
       "7038                          0.0  ...                0.0                0.0   \n",
       "7039                          1.0  ...                0.0                0.0   \n",
       "7040                          0.0  ...                1.0                0.0   \n",
       "7041                          1.0  ...                0.0                0.0   \n",
       "7042                          1.0  ...                0.0                0.0   \n",
       "\n",
       "      begindate_month_5  begindate_month_6  begindate_month_7  \\\n",
       "0                   0.0                0.0                0.0   \n",
       "1                   0.0                0.0                0.0   \n",
       "2                   0.0                0.0                0.0   \n",
       "3                   1.0                0.0                0.0   \n",
       "4                   0.0                0.0                0.0   \n",
       "...                 ...                ...                ...   \n",
       "7038                0.0                0.0                0.0   \n",
       "7039                0.0                0.0                0.0   \n",
       "7040                0.0                0.0                0.0   \n",
       "7041                0.0                0.0                1.0   \n",
       "7042                0.0                0.0                0.0   \n",
       "\n",
       "      begindate_month_8  begindate_month_9  begindate_month_10  \\\n",
       "0                   0.0                0.0                 0.0   \n",
       "1                   0.0                0.0                 0.0   \n",
       "2                   0.0                0.0                 1.0   \n",
       "3                   0.0                0.0                 0.0   \n",
       "4                   0.0                1.0                 0.0   \n",
       "...                 ...                ...                 ...   \n",
       "7038                0.0                0.0                 0.0   \n",
       "7039                0.0                0.0                 0.0   \n",
       "7040                0.0                0.0                 0.0   \n",
       "7041                0.0                0.0                 0.0   \n",
       "7042                1.0                0.0                 0.0   \n",
       "\n",
       "      begindate_month_11  begindate_month_12  \n",
       "0                    0.0                 0.0  \n",
       "1                    0.0                 0.0  \n",
       "2                    0.0                 0.0  \n",
       "3                    0.0                 0.0  \n",
       "4                    0.0                 0.0  \n",
       "...                  ...                 ...  \n",
       "7038                 0.0                 0.0  \n",
       "7039                 0.0                 0.0  \n",
       "7040                 0.0                 0.0  \n",
       "7041                 0.0                 0.0  \n",
       "7042                 0.0                 0.0  \n",
       "\n",
       "[7043 rows x 47 columns]"
      ]
     },
     "metadata": {},
     "output_type": "display_data"
    },
    {
     "name": "stdout",
     "output_type": "stream",
     "text": [
      "0.36122922303826827\n"
     ]
    }
   ],
   "source": [
    "# One-hot encoding categorical columns\n",
    "\n",
    "# Initialize encoder\n",
    "encoder = OneHotEncoder(drop=\"first\", sparse=False, handle_unknown=\"error\")\n",
    "\n",
    "# Fit and transform the selected columns\n",
    "encoded_array = encoder.fit_transform(merged_data[categorical_columns])\n",
    "\n",
    "# Convert back to DataFrame\n",
    "encoded_columns = encoder.get_feature_names(categorical_columns)\n",
    "encoded_df = pd.DataFrame(encoded_array, columns=encoded_columns, index=merged_data.index)\n",
    "\n",
    "# Combine with the rest of the data\n",
    "final_data = pd.concat([merged_data.drop(columns=categorical_columns), encoded_df], axis=1)\n",
    "\n",
    "# Show final dataset\n",
    "display(final_data)\n",
    "\n",
    "print(len(final_data[final_data['churned'] == 0]) / len(final_data[final_data['churned'] == 1]))"
   ]
  },
  {
   "cell_type": "code",
   "execution_count": 10,
   "metadata": {},
   "outputs": [
    {
     "data": {
      "text/plain": [
       "0       0\n",
       "1       0\n",
       "2       1\n",
       "3       0\n",
       "4       1\n",
       "       ..\n",
       "7038    0\n",
       "7039    0\n",
       "7040    0\n",
       "7041    1\n",
       "7042    0\n",
       "Name: churned, Length: 7043, dtype: int64"
      ]
     },
     "metadata": {},
     "output_type": "display_data"
    }
   ],
   "source": [
    "# Splitting dataset for machine learning\n",
    "\n",
    "# Define features (X) and target (y)\n",
    "features = final_data.drop(columns='churned')  # Drop the target column\n",
    "target = (final_data['churned'] == 0).astype(int) # Create binary target (again?)\n",
    "\n",
    "# Split into training + validation/test\n",
    "features_train, features_temp, target_train, target_temp = train_test_split(features, target, test_size=0.3, random_state=1987, stratify=target)\n",
    "\n",
    "# Split the temporary set into validation and test\n",
    "features_valid, features_test, target_valid, target_test = train_test_split(features_temp, target_temp, test_size=0.5, random_state=1987, stratify=target_temp)\n",
    "\n",
    "display(target)"
   ]
  },
  {
   "cell_type": "code",
   "execution_count": 11,
   "metadata": {
    "scrolled": true
   },
   "outputs": [
    {
     "data": {
      "text/plain": [
       "'\\n# Balancing of Classes\\n\\n# Separate classes based on the \\'churned\\' column\\ntrain_data = pd.concat([features_train, target_train], axis=1)  # Combine features and target for train data\\nchurned = train_data[train_data[\\'churned\\'] == 1]  # Customers who churned (churned == 1)\\nnot_churned = train_data[train_data[\\'churned\\'] == 0]  # Customers who didn\\'t churn (churned == 0)\\n\\n# Sample the majority class to match the size of the minority class\\nnot_churned_sampled = not_churned.sample(n=len(churned), random_state=1987)\\n\\n# Combine the new classes\\nbalanced_train_data = pd.concat([churned, not_churned_sampled])\\n\\n# Shuffle the dataset\\nbalanced_train_data = balanced_train_data.sample(frac=1, random_state=1987).reset_index(drop=True)\\n\\n# Update features_train and target_train\\nfeatures_train = balanced_train_data.drop(columns=\\'churned\\')\\ntarget_train = (balanced_train_data[\\'churned\\'] == 0).astype(int)\\n\\n# Get new ratio of churn in the training data\\nchurn_ratio = len(balanced_train_data[balanced_train_data[\\'churned\\'] == 1]) / len(balanced_train_data[balanced_train_data[\\'churned\\'] == 0])\\nprint(f\"Churn ratio in the balanced train data: {churn_ratio}\")\\n'"
      ]
     },
     "execution_count": 11,
     "metadata": {},
     "output_type": "execute_result"
    }
   ],
   "source": [
    "'''\n",
    "# Balancing of Classes\n",
    "\n",
    "# Separate classes based on the 'churned' column\n",
    "train_data = pd.concat([features_train, target_train], axis=1)  # Combine features and target for train data\n",
    "churned = train_data[train_data['churned'] == 1]  # Customers who churned (churned == 1)\n",
    "not_churned = train_data[train_data['churned'] == 0]  # Customers who didn't churn (churned == 0)\n",
    "\n",
    "# Sample the majority class to match the size of the minority class\n",
    "not_churned_sampled = not_churned.sample(n=len(churned), random_state=1987)\n",
    "\n",
    "# Combine the new classes\n",
    "balanced_train_data = pd.concat([churned, not_churned_sampled])\n",
    "\n",
    "# Shuffle the dataset\n",
    "balanced_train_data = balanced_train_data.sample(frac=1, random_state=1987).reset_index(drop=True)\n",
    "\n",
    "# Update features_train and target_train\n",
    "features_train = balanced_train_data.drop(columns='churned')\n",
    "target_train = (balanced_train_data['churned'] == 0).astype(int)\n",
    "\n",
    "# Get new ratio of churn in the training data\n",
    "churn_ratio = len(balanced_train_data[balanced_train_data['churned'] == 1]) / len(balanced_train_data[balanced_train_data['churned'] == 0])\n",
    "print(f\"Churn ratio in the balanced train data: {churn_ratio}\")\n",
    "'''"
   ]
  },
  {
   "cell_type": "code",
   "execution_count": 12,
   "metadata": {},
   "outputs": [
    {
     "name": "stdout",
     "output_type": "stream",
     "text": [
      "Churn ratio in the balanced train data: 1.0\n"
     ]
    }
   ],
   "source": [
    "# Balancing of classes\n",
    "\n",
    "# Separate classes based on the 'churned' column\n",
    "train_data = pd.concat([features_train, target_train], axis=1) # Combine features and target for train data\n",
    "churned = train_data[train_data['churned'] == 1]  # Minority class (churned = 1)\n",
    "not_churned = train_data[train_data['churned'] == 0]  # Majority class (non-churned = 0)\n",
    "\n",
    "# Oversample the minority class (churned) to match the size of the majority class (non-churned)\n",
    "churned_oversampled = churned.sample(n=len(not_churned), replace=True, random_state=1987)\n",
    "\n",
    "# Combine the oversampled churned class with the non-churned class\n",
    "balanced_train_data = pd.concat([churned_oversampled, not_churned])\n",
    "\n",
    "# Shuffle the dataset\n",
    "balanced_train_data = balanced_train_data.sample(frac=1, random_state=1987).reset_index(drop=True)\n",
    "\n",
    "# Update features_train and target_train\n",
    "features_train = balanced_train_data.drop(columns='churned')\n",
    "target_train = balanced_train_data['churned']\n",
    "\n",
    "# Get new ratio of churn in the training data\n",
    "churn_ratio = len(balanced_train_data[balanced_train_data['churned'] == 1]) / len(balanced_train_data[balanced_train_data['churned'] == 0])\n",
    "print(f\"Churn ratio in the balanced train data: {churn_ratio}\")"
   ]
  },
  {
   "cell_type": "markdown",
   "metadata": {},
   "source": [
    "<div class=\"alert alert-block alert-success\">\n",
    "<b>Reviewer's comment V1</b> <a class=\"tocSkip\"></a>\n",
    "\n",
    "Correct. Good job!\n",
    "\n",
    "</div>"
   ]
  },
  {
   "cell_type": "code",
   "execution_count": 19,
   "metadata": {},
   "outputs": [
    {
     "name": "stderr",
     "output_type": "stream",
     "text": [
      "/opt/conda/envs/python3/lib/python3.9/site-packages/xgboost/sklearn.py:1224: UserWarning: The use of label encoder in XGBClassifier is deprecated and will be removed in a future release. To remove this warning, do the following: 1) Pass option use_label_encoder=False when constructing XGBClassifier object; and 2) Encode your labels (y) as integers starting with 0, i.e. 0, 1, 2, ..., [num_class - 1].\n",
      "  warnings.warn(label_encoder_deprecation_msg, UserWarning)\n"
     ]
    },
    {
     "name": "stdout",
     "output_type": "stream",
     "text": [
      "[08:15:18] WARNING: ../src/learner.cc:1115: Starting in XGBoost 1.3.0, the default evaluation metric used with the objective 'binary:logistic' was changed from 'error' to 'logloss'. Explicitly set eval_metric if you'd like to restore the old behavior.\n"
     ]
    },
    {
     "data": {
      "text/plain": [
       "XGBClassifier(base_score=0.5, booster='gbtree', colsample_bylevel=1,\n",
       "              colsample_bynode=1, colsample_bytree=0.8,\n",
       "              enable_categorical=False, gamma=0, gpu_id=-1,\n",
       "              importance_type=None, interaction_constraints='',\n",
       "              learning_rate=0.2, max_delta_step=0, max_depth=7,\n",
       "              min_child_weight=1, missing=nan, monotone_constraints='()',\n",
       "              n_estimators=150, n_jobs=4, num_parallel_tree=1, predictor='auto',\n",
       "              random_state=1987, reg_alpha=0, reg_lambda=1, scale_pos_weight=1,\n",
       "              subsample=0.8, tree_method='exact', validate_parameters=1,\n",
       "              verbosity=None)"
      ]
     },
     "execution_count": 19,
     "metadata": {},
     "output_type": "execute_result"
    }
   ],
   "source": [
    "# Initialize the Gradient Boosting model\n",
    "model = XGBClassifier(\n",
    "    n_estimators=150,          # Number of boosting rounds\n",
    "    learning_rate=0.2,        # Step size shrinkage\n",
    "    max_depth=7,               # Maximum depth of a tree\n",
    "    subsample=0.8,             # Fraction of samples used per tree\n",
    "    colsample_bytree=0.8,      # Fraction of features used per tree\n",
    "    random_state=1987,         # For reproducibility\n",
    ")\n",
    "\n",
    "# Train the model\n",
    "model.fit(features_train, target_train)"
   ]
  },
  {
   "cell_type": "code",
   "execution_count": 14,
   "metadata": {
    "scrolled": true
   },
   "outputs": [
    {
     "name": "stdout",
     "output_type": "stream",
     "text": [
      "Fitting 3 folds for each of 27 candidates, totalling 81 fits\n",
      "[08:12:21] WARNING: ../src/learner.cc:1115: Starting in XGBoost 1.3.0, the default evaluation metric used with the objective 'binary:logistic' was changed from 'error' to 'logloss'. Explicitly set eval_metric if you'd like to restore the old behavior.\n"
     ]
    },
    {
     "name": "stderr",
     "output_type": "stream",
     "text": [
      "/opt/conda/envs/python3/lib/python3.9/site-packages/xgboost/sklearn.py:1224: UserWarning: The use of label encoder in XGBClassifier is deprecated and will be removed in a future release. To remove this warning, do the following: 1) Pass option use_label_encoder=False when constructing XGBClassifier object; and 2) Encode your labels (y) as integers starting with 0, i.e. 0, 1, 2, ..., [num_class - 1].\n",
      "  warnings.warn(label_encoder_deprecation_msg, UserWarning)\n",
      "/opt/conda/envs/python3/lib/python3.9/site-packages/xgboost/sklearn.py:1224: UserWarning: The use of label encoder in XGBClassifier is deprecated and will be removed in a future release. To remove this warning, do the following: 1) Pass option use_label_encoder=False when constructing XGBClassifier object; and 2) Encode your labels (y) as integers starting with 0, i.e. 0, 1, 2, ..., [num_class - 1].\n",
      "  warnings.warn(label_encoder_deprecation_msg, UserWarning)\n"
     ]
    },
    {
     "name": "stdout",
     "output_type": "stream",
     "text": [
      "[08:12:21] WARNING: ../src/learner.cc:1115: Starting in XGBoost 1.3.0, the default evaluation metric used with the objective 'binary:logistic' was changed from 'error' to 'logloss'. Explicitly set eval_metric if you'd like to restore the old behavior.\n"
     ]
    },
    {
     "name": "stderr",
     "output_type": "stream",
     "text": [
      "/opt/conda/envs/python3/lib/python3.9/site-packages/xgboost/sklearn.py:1224: UserWarning: The use of label encoder in XGBClassifier is deprecated and will be removed in a future release. To remove this warning, do the following: 1) Pass option use_label_encoder=False when constructing XGBClassifier object; and 2) Encode your labels (y) as integers starting with 0, i.e. 0, 1, 2, ..., [num_class - 1].\n",
      "  warnings.warn(label_encoder_deprecation_msg, UserWarning)\n"
     ]
    },
    {
     "name": "stdout",
     "output_type": "stream",
     "text": [
      "[08:12:22] WARNING: ../src/learner.cc:1115: Starting in XGBoost 1.3.0, the default evaluation metric used with the objective 'binary:logistic' was changed from 'error' to 'logloss'. Explicitly set eval_metric if you'd like to restore the old behavior.\n"
     ]
    },
    {
     "name": "stderr",
     "output_type": "stream",
     "text": [
      "/opt/conda/envs/python3/lib/python3.9/site-packages/xgboost/sklearn.py:1224: UserWarning: The use of label encoder in XGBClassifier is deprecated and will be removed in a future release. To remove this warning, do the following: 1) Pass option use_label_encoder=False when constructing XGBClassifier object; and 2) Encode your labels (y) as integers starting with 0, i.e. 0, 1, 2, ..., [num_class - 1].\n",
      "  warnings.warn(label_encoder_deprecation_msg, UserWarning)\n"
     ]
    },
    {
     "name": "stdout",
     "output_type": "stream",
     "text": [
      "[08:12:23] WARNING: ../src/learner.cc:1115: Starting in XGBoost 1.3.0, the default evaluation metric used with the objective 'binary:logistic' was changed from 'error' to 'logloss'. Explicitly set eval_metric if you'd like to restore the old behavior.\n"
     ]
    },
    {
     "name": "stderr",
     "output_type": "stream",
     "text": [
      "/opt/conda/envs/python3/lib/python3.9/site-packages/xgboost/sklearn.py:1224: UserWarning: The use of label encoder in XGBClassifier is deprecated and will be removed in a future release. To remove this warning, do the following: 1) Pass option use_label_encoder=False when constructing XGBClassifier object; and 2) Encode your labels (y) as integers starting with 0, i.e. 0, 1, 2, ..., [num_class - 1].\n",
      "  warnings.warn(label_encoder_deprecation_msg, UserWarning)\n"
     ]
    },
    {
     "name": "stdout",
     "output_type": "stream",
     "text": [
      "[08:12:24] WARNING: ../src/learner.cc:1115: Starting in XGBoost 1.3.0, the default evaluation metric used with the objective 'binary:logistic' was changed from 'error' to 'logloss'. Explicitly set eval_metric if you'd like to restore the old behavior.\n"
     ]
    },
    {
     "name": "stderr",
     "output_type": "stream",
     "text": [
      "/opt/conda/envs/python3/lib/python3.9/site-packages/xgboost/sklearn.py:1224: UserWarning: The use of label encoder in XGBClassifier is deprecated and will be removed in a future release. To remove this warning, do the following: 1) Pass option use_label_encoder=False when constructing XGBClassifier object; and 2) Encode your labels (y) as integers starting with 0, i.e. 0, 1, 2, ..., [num_class - 1].\n",
      "  warnings.warn(label_encoder_deprecation_msg, UserWarning)\n"
     ]
    },
    {
     "name": "stdout",
     "output_type": "stream",
     "text": [
      "[08:12:25] WARNING: ../src/learner.cc:1115: Starting in XGBoost 1.3.0, the default evaluation metric used with the objective 'binary:logistic' was changed from 'error' to 'logloss'. Explicitly set eval_metric if you'd like to restore the old behavior.\n"
     ]
    },
    {
     "name": "stderr",
     "output_type": "stream",
     "text": [
      "/opt/conda/envs/python3/lib/python3.9/site-packages/xgboost/sklearn.py:1224: UserWarning: The use of label encoder in XGBClassifier is deprecated and will be removed in a future release. To remove this warning, do the following: 1) Pass option use_label_encoder=False when constructing XGBClassifier object; and 2) Encode your labels (y) as integers starting with 0, i.e. 0, 1, 2, ..., [num_class - 1].\n",
      "  warnings.warn(label_encoder_deprecation_msg, UserWarning)\n"
     ]
    },
    {
     "name": "stdout",
     "output_type": "stream",
     "text": [
      "[08:12:26] WARNING: ../src/learner.cc:1115: Starting in XGBoost 1.3.0, the default evaluation metric used with the objective 'binary:logistic' was changed from 'error' to 'logloss'. Explicitly set eval_metric if you'd like to restore the old behavior.\n"
     ]
    },
    {
     "name": "stderr",
     "output_type": "stream",
     "text": [
      "/opt/conda/envs/python3/lib/python3.9/site-packages/xgboost/sklearn.py:1224: UserWarning: The use of label encoder in XGBClassifier is deprecated and will be removed in a future release. To remove this warning, do the following: 1) Pass option use_label_encoder=False when constructing XGBClassifier object; and 2) Encode your labels (y) as integers starting with 0, i.e. 0, 1, 2, ..., [num_class - 1].\n",
      "  warnings.warn(label_encoder_deprecation_msg, UserWarning)\n"
     ]
    },
    {
     "name": "stdout",
     "output_type": "stream",
     "text": [
      "[08:12:28] WARNING: ../src/learner.cc:1115: Starting in XGBoost 1.3.0, the default evaluation metric used with the objective 'binary:logistic' was changed from 'error' to 'logloss'. Explicitly set eval_metric if you'd like to restore the old behavior.\n"
     ]
    },
    {
     "name": "stderr",
     "output_type": "stream",
     "text": [
      "/opt/conda/envs/python3/lib/python3.9/site-packages/xgboost/sklearn.py:1224: UserWarning: The use of label encoder in XGBClassifier is deprecated and will be removed in a future release. To remove this warning, do the following: 1) Pass option use_label_encoder=False when constructing XGBClassifier object; and 2) Encode your labels (y) as integers starting with 0, i.e. 0, 1, 2, ..., [num_class - 1].\n",
      "  warnings.warn(label_encoder_deprecation_msg, UserWarning)\n"
     ]
    },
    {
     "name": "stdout",
     "output_type": "stream",
     "text": [
      "[08:12:30] WARNING: ../src/learner.cc:1115: Starting in XGBoost 1.3.0, the default evaluation metric used with the objective 'binary:logistic' was changed from 'error' to 'logloss'. Explicitly set eval_metric if you'd like to restore the old behavior.\n"
     ]
    },
    {
     "name": "stderr",
     "output_type": "stream",
     "text": [
      "/opt/conda/envs/python3/lib/python3.9/site-packages/xgboost/sklearn.py:1224: UserWarning: The use of label encoder in XGBClassifier is deprecated and will be removed in a future release. To remove this warning, do the following: 1) Pass option use_label_encoder=False when constructing XGBClassifier object; and 2) Encode your labels (y) as integers starting with 0, i.e. 0, 1, 2, ..., [num_class - 1].\n",
      "  warnings.warn(label_encoder_deprecation_msg, UserWarning)\n"
     ]
    },
    {
     "name": "stdout",
     "output_type": "stream",
     "text": [
      "[08:12:31] WARNING: ../src/learner.cc:1115: Starting in XGBoost 1.3.0, the default evaluation metric used with the objective 'binary:logistic' was changed from 'error' to 'logloss'. Explicitly set eval_metric if you'd like to restore the old behavior.\n"
     ]
    },
    {
     "name": "stderr",
     "output_type": "stream",
     "text": [
      "/opt/conda/envs/python3/lib/python3.9/site-packages/xgboost/sklearn.py:1224: UserWarning: The use of label encoder in XGBClassifier is deprecated and will be removed in a future release. To remove this warning, do the following: 1) Pass option use_label_encoder=False when constructing XGBClassifier object; and 2) Encode your labels (y) as integers starting with 0, i.e. 0, 1, 2, ..., [num_class - 1].\n",
      "  warnings.warn(label_encoder_deprecation_msg, UserWarning)\n"
     ]
    },
    {
     "name": "stdout",
     "output_type": "stream",
     "text": [
      "[08:12:32] WARNING: ../src/learner.cc:1115: Starting in XGBoost 1.3.0, the default evaluation metric used with the objective 'binary:logistic' was changed from 'error' to 'logloss'. Explicitly set eval_metric if you'd like to restore the old behavior.\n"
     ]
    },
    {
     "name": "stderr",
     "output_type": "stream",
     "text": [
      "/opt/conda/envs/python3/lib/python3.9/site-packages/xgboost/sklearn.py:1224: UserWarning: The use of label encoder in XGBClassifier is deprecated and will be removed in a future release. To remove this warning, do the following: 1) Pass option use_label_encoder=False when constructing XGBClassifier object; and 2) Encode your labels (y) as integers starting with 0, i.e. 0, 1, 2, ..., [num_class - 1].\n",
      "  warnings.warn(label_encoder_deprecation_msg, UserWarning)\n"
     ]
    },
    {
     "name": "stdout",
     "output_type": "stream",
     "text": [
      "[08:12:33] WARNING: ../src/learner.cc:1115: Starting in XGBoost 1.3.0, the default evaluation metric used with the objective 'binary:logistic' was changed from 'error' to 'logloss'. Explicitly set eval_metric if you'd like to restore the old behavior.\n"
     ]
    },
    {
     "name": "stderr",
     "output_type": "stream",
     "text": [
      "/opt/conda/envs/python3/lib/python3.9/site-packages/xgboost/sklearn.py:1224: UserWarning: The use of label encoder in XGBClassifier is deprecated and will be removed in a future release. To remove this warning, do the following: 1) Pass option use_label_encoder=False when constructing XGBClassifier object; and 2) Encode your labels (y) as integers starting with 0, i.e. 0, 1, 2, ..., [num_class - 1].\n",
      "  warnings.warn(label_encoder_deprecation_msg, UserWarning)\n"
     ]
    },
    {
     "name": "stdout",
     "output_type": "stream",
     "text": [
      "[08:12:34] WARNING: ../src/learner.cc:1115: Starting in XGBoost 1.3.0, the default evaluation metric used with the objective 'binary:logistic' was changed from 'error' to 'logloss'. Explicitly set eval_metric if you'd like to restore the old behavior.\n"
     ]
    },
    {
     "name": "stderr",
     "output_type": "stream",
     "text": [
      "/opt/conda/envs/python3/lib/python3.9/site-packages/xgboost/sklearn.py:1224: UserWarning: The use of label encoder in XGBClassifier is deprecated and will be removed in a future release. To remove this warning, do the following: 1) Pass option use_label_encoder=False when constructing XGBClassifier object; and 2) Encode your labels (y) as integers starting with 0, i.e. 0, 1, 2, ..., [num_class - 1].\n",
      "  warnings.warn(label_encoder_deprecation_msg, UserWarning)\n"
     ]
    },
    {
     "name": "stdout",
     "output_type": "stream",
     "text": [
      "[08:12:35] WARNING: ../src/learner.cc:1115: Starting in XGBoost 1.3.0, the default evaluation metric used with the objective 'binary:logistic' was changed from 'error' to 'logloss'. Explicitly set eval_metric if you'd like to restore the old behavior.\n"
     ]
    },
    {
     "name": "stderr",
     "output_type": "stream",
     "text": [
      "/opt/conda/envs/python3/lib/python3.9/site-packages/xgboost/sklearn.py:1224: UserWarning: The use of label encoder in XGBClassifier is deprecated and will be removed in a future release. To remove this warning, do the following: 1) Pass option use_label_encoder=False when constructing XGBClassifier object; and 2) Encode your labels (y) as integers starting with 0, i.e. 0, 1, 2, ..., [num_class - 1].\n",
      "  warnings.warn(label_encoder_deprecation_msg, UserWarning)\n"
     ]
    },
    {
     "name": "stdout",
     "output_type": "stream",
     "text": [
      "[08:12:37] WARNING: ../src/learner.cc:1115: Starting in XGBoost 1.3.0, the default evaluation metric used with the objective 'binary:logistic' was changed from 'error' to 'logloss'. Explicitly set eval_metric if you'd like to restore the old behavior.\n"
     ]
    },
    {
     "name": "stderr",
     "output_type": "stream",
     "text": [
      "/opt/conda/envs/python3/lib/python3.9/site-packages/xgboost/sklearn.py:1224: UserWarning: The use of label encoder in XGBClassifier is deprecated and will be removed in a future release. To remove this warning, do the following: 1) Pass option use_label_encoder=False when constructing XGBClassifier object; and 2) Encode your labels (y) as integers starting with 0, i.e. 0, 1, 2, ..., [num_class - 1].\n",
      "  warnings.warn(label_encoder_deprecation_msg, UserWarning)\n"
     ]
    },
    {
     "name": "stdout",
     "output_type": "stream",
     "text": [
      "[08:12:39] WARNING: ../src/learner.cc:1115: Starting in XGBoost 1.3.0, the default evaluation metric used with the objective 'binary:logistic' was changed from 'error' to 'logloss'. Explicitly set eval_metric if you'd like to restore the old behavior.\n"
     ]
    },
    {
     "name": "stderr",
     "output_type": "stream",
     "text": [
      "/opt/conda/envs/python3/lib/python3.9/site-packages/xgboost/sklearn.py:1224: UserWarning: The use of label encoder in XGBClassifier is deprecated and will be removed in a future release. To remove this warning, do the following: 1) Pass option use_label_encoder=False when constructing XGBClassifier object; and 2) Encode your labels (y) as integers starting with 0, i.e. 0, 1, 2, ..., [num_class - 1].\n",
      "  warnings.warn(label_encoder_deprecation_msg, UserWarning)\n"
     ]
    },
    {
     "name": "stdout",
     "output_type": "stream",
     "text": [
      "[08:12:41] WARNING: ../src/learner.cc:1115: Starting in XGBoost 1.3.0, the default evaluation metric used with the objective 'binary:logistic' was changed from 'error' to 'logloss'. Explicitly set eval_metric if you'd like to restore the old behavior.\n"
     ]
    },
    {
     "name": "stderr",
     "output_type": "stream",
     "text": [
      "/opt/conda/envs/python3/lib/python3.9/site-packages/xgboost/sklearn.py:1224: UserWarning: The use of label encoder in XGBClassifier is deprecated and will be removed in a future release. To remove this warning, do the following: 1) Pass option use_label_encoder=False when constructing XGBClassifier object; and 2) Encode your labels (y) as integers starting with 0, i.e. 0, 1, 2, ..., [num_class - 1].\n",
      "  warnings.warn(label_encoder_deprecation_msg, UserWarning)\n"
     ]
    },
    {
     "name": "stdout",
     "output_type": "stream",
     "text": [
      "[08:12:44] WARNING: ../src/learner.cc:1115: Starting in XGBoost 1.3.0, the default evaluation metric used with the objective 'binary:logistic' was changed from 'error' to 'logloss'. Explicitly set eval_metric if you'd like to restore the old behavior.\n"
     ]
    },
    {
     "name": "stderr",
     "output_type": "stream",
     "text": [
      "/opt/conda/envs/python3/lib/python3.9/site-packages/xgboost/sklearn.py:1224: UserWarning: The use of label encoder in XGBClassifier is deprecated and will be removed in a future release. To remove this warning, do the following: 1) Pass option use_label_encoder=False when constructing XGBClassifier object; and 2) Encode your labels (y) as integers starting with 0, i.e. 0, 1, 2, ..., [num_class - 1].\n",
      "  warnings.warn(label_encoder_deprecation_msg, UserWarning)\n"
     ]
    },
    {
     "name": "stdout",
     "output_type": "stream",
     "text": [
      "[08:12:46] WARNING: ../src/learner.cc:1115: Starting in XGBoost 1.3.0, the default evaluation metric used with the objective 'binary:logistic' was changed from 'error' to 'logloss'. Explicitly set eval_metric if you'd like to restore the old behavior.\n"
     ]
    },
    {
     "name": "stderr",
     "output_type": "stream",
     "text": [
      "/opt/conda/envs/python3/lib/python3.9/site-packages/xgboost/sklearn.py:1224: UserWarning: The use of label encoder in XGBClassifier is deprecated and will be removed in a future release. To remove this warning, do the following: 1) Pass option use_label_encoder=False when constructing XGBClassifier object; and 2) Encode your labels (y) as integers starting with 0, i.e. 0, 1, 2, ..., [num_class - 1].\n",
      "  warnings.warn(label_encoder_deprecation_msg, UserWarning)\n"
     ]
    },
    {
     "name": "stdout",
     "output_type": "stream",
     "text": [
      "[08:12:47] WARNING: ../src/learner.cc:1115: Starting in XGBoost 1.3.0, the default evaluation metric used with the objective 'binary:logistic' was changed from 'error' to 'logloss'. Explicitly set eval_metric if you'd like to restore the old behavior.\n"
     ]
    },
    {
     "name": "stderr",
     "output_type": "stream",
     "text": [
      "/opt/conda/envs/python3/lib/python3.9/site-packages/xgboost/sklearn.py:1224: UserWarning: The use of label encoder in XGBClassifier is deprecated and will be removed in a future release. To remove this warning, do the following: 1) Pass option use_label_encoder=False when constructing XGBClassifier object; and 2) Encode your labels (y) as integers starting with 0, i.e. 0, 1, 2, ..., [num_class - 1].\n",
      "  warnings.warn(label_encoder_deprecation_msg, UserWarning)\n"
     ]
    },
    {
     "name": "stdout",
     "output_type": "stream",
     "text": [
      "[08:12:48] WARNING: ../src/learner.cc:1115: Starting in XGBoost 1.3.0, the default evaluation metric used with the objective 'binary:logistic' was changed from 'error' to 'logloss'. Explicitly set eval_metric if you'd like to restore the old behavior.\n"
     ]
    },
    {
     "name": "stderr",
     "output_type": "stream",
     "text": [
      "/opt/conda/envs/python3/lib/python3.9/site-packages/xgboost/sklearn.py:1224: UserWarning: The use of label encoder in XGBClassifier is deprecated and will be removed in a future release. To remove this warning, do the following: 1) Pass option use_label_encoder=False when constructing XGBClassifier object; and 2) Encode your labels (y) as integers starting with 0, i.e. 0, 1, 2, ..., [num_class - 1].\n",
      "  warnings.warn(label_encoder_deprecation_msg, UserWarning)\n"
     ]
    },
    {
     "name": "stdout",
     "output_type": "stream",
     "text": [
      "[08:12:49] WARNING: ../src/learner.cc:1115: Starting in XGBoost 1.3.0, the default evaluation metric used with the objective 'binary:logistic' was changed from 'error' to 'logloss'. Explicitly set eval_metric if you'd like to restore the old behavior.\n"
     ]
    },
    {
     "name": "stderr",
     "output_type": "stream",
     "text": [
      "/opt/conda/envs/python3/lib/python3.9/site-packages/xgboost/sklearn.py:1224: UserWarning: The use of label encoder in XGBClassifier is deprecated and will be removed in a future release. To remove this warning, do the following: 1) Pass option use_label_encoder=False when constructing XGBClassifier object; and 2) Encode your labels (y) as integers starting with 0, i.e. 0, 1, 2, ..., [num_class - 1].\n",
      "  warnings.warn(label_encoder_deprecation_msg, UserWarning)\n"
     ]
    },
    {
     "name": "stdout",
     "output_type": "stream",
     "text": [
      "[08:12:52] WARNING: ../src/learner.cc:1115: Starting in XGBoost 1.3.0, the default evaluation metric used with the objective 'binary:logistic' was changed from 'error' to 'logloss'. Explicitly set eval_metric if you'd like to restore the old behavior.\n"
     ]
    },
    {
     "name": "stderr",
     "output_type": "stream",
     "text": [
      "/opt/conda/envs/python3/lib/python3.9/site-packages/xgboost/sklearn.py:1224: UserWarning: The use of label encoder in XGBClassifier is deprecated and will be removed in a future release. To remove this warning, do the following: 1) Pass option use_label_encoder=False when constructing XGBClassifier object; and 2) Encode your labels (y) as integers starting with 0, i.e. 0, 1, 2, ..., [num_class - 1].\n",
      "  warnings.warn(label_encoder_deprecation_msg, UserWarning)\n"
     ]
    },
    {
     "name": "stdout",
     "output_type": "stream",
     "text": [
      "[08:12:54] WARNING: ../src/learner.cc:1115: Starting in XGBoost 1.3.0, the default evaluation metric used with the objective 'binary:logistic' was changed from 'error' to 'logloss'. Explicitly set eval_metric if you'd like to restore the old behavior.\n"
     ]
    },
    {
     "name": "stderr",
     "output_type": "stream",
     "text": [
      "/opt/conda/envs/python3/lib/python3.9/site-packages/xgboost/sklearn.py:1224: UserWarning: The use of label encoder in XGBClassifier is deprecated and will be removed in a future release. To remove this warning, do the following: 1) Pass option use_label_encoder=False when constructing XGBClassifier object; and 2) Encode your labels (y) as integers starting with 0, i.e. 0, 1, 2, ..., [num_class - 1].\n",
      "  warnings.warn(label_encoder_deprecation_msg, UserWarning)\n"
     ]
    },
    {
     "name": "stdout",
     "output_type": "stream",
     "text": [
      "[08:12:56] WARNING: ../src/learner.cc:1115: Starting in XGBoost 1.3.0, the default evaluation metric used with the objective 'binary:logistic' was changed from 'error' to 'logloss'. Explicitly set eval_metric if you'd like to restore the old behavior.\n"
     ]
    },
    {
     "name": "stderr",
     "output_type": "stream",
     "text": [
      "/opt/conda/envs/python3/lib/python3.9/site-packages/xgboost/sklearn.py:1224: UserWarning: The use of label encoder in XGBClassifier is deprecated and will be removed in a future release. To remove this warning, do the following: 1) Pass option use_label_encoder=False when constructing XGBClassifier object; and 2) Encode your labels (y) as integers starting with 0, i.e. 0, 1, 2, ..., [num_class - 1].\n",
      "  warnings.warn(label_encoder_deprecation_msg, UserWarning)\n"
     ]
    },
    {
     "name": "stdout",
     "output_type": "stream",
     "text": [
      "[08:12:59] WARNING: ../src/learner.cc:1115: Starting in XGBoost 1.3.0, the default evaluation metric used with the objective 'binary:logistic' was changed from 'error' to 'logloss'. Explicitly set eval_metric if you'd like to restore the old behavior.\n"
     ]
    },
    {
     "name": "stderr",
     "output_type": "stream",
     "text": [
      "/opt/conda/envs/python3/lib/python3.9/site-packages/xgboost/sklearn.py:1224: UserWarning: The use of label encoder in XGBClassifier is deprecated and will be removed in a future release. To remove this warning, do the following: 1) Pass option use_label_encoder=False when constructing XGBClassifier object; and 2) Encode your labels (y) as integers starting with 0, i.e. 0, 1, 2, ..., [num_class - 1].\n",
      "  warnings.warn(label_encoder_deprecation_msg, UserWarning)\n"
     ]
    },
    {
     "name": "stdout",
     "output_type": "stream",
     "text": [
      "[08:13:02] WARNING: ../src/learner.cc:1115: Starting in XGBoost 1.3.0, the default evaluation metric used with the objective 'binary:logistic' was changed from 'error' to 'logloss'. Explicitly set eval_metric if you'd like to restore the old behavior.\n"
     ]
    },
    {
     "name": "stderr",
     "output_type": "stream",
     "text": [
      "/opt/conda/envs/python3/lib/python3.9/site-packages/xgboost/sklearn.py:1224: UserWarning: The use of label encoder in XGBClassifier is deprecated and will be removed in a future release. To remove this warning, do the following: 1) Pass option use_label_encoder=False when constructing XGBClassifier object; and 2) Encode your labels (y) as integers starting with 0, i.e. 0, 1, 2, ..., [num_class - 1].\n",
      "  warnings.warn(label_encoder_deprecation_msg, UserWarning)\n"
     ]
    },
    {
     "name": "stdout",
     "output_type": "stream",
     "text": [
      "[08:13:05] WARNING: ../src/learner.cc:1115: Starting in XGBoost 1.3.0, the default evaluation metric used with the objective 'binary:logistic' was changed from 'error' to 'logloss'. Explicitly set eval_metric if you'd like to restore the old behavior.\n"
     ]
    },
    {
     "name": "stderr",
     "output_type": "stream",
     "text": [
      "/opt/conda/envs/python3/lib/python3.9/site-packages/xgboost/sklearn.py:1224: UserWarning: The use of label encoder in XGBClassifier is deprecated and will be removed in a future release. To remove this warning, do the following: 1) Pass option use_label_encoder=False when constructing XGBClassifier object; and 2) Encode your labels (y) as integers starting with 0, i.e. 0, 1, 2, ..., [num_class - 1].\n",
      "  warnings.warn(label_encoder_deprecation_msg, UserWarning)\n"
     ]
    },
    {
     "name": "stdout",
     "output_type": "stream",
     "text": [
      "[08:13:06] WARNING: ../src/learner.cc:1115: Starting in XGBoost 1.3.0, the default evaluation metric used with the objective 'binary:logistic' was changed from 'error' to 'logloss'. Explicitly set eval_metric if you'd like to restore the old behavior.\n"
     ]
    },
    {
     "name": "stderr",
     "output_type": "stream",
     "text": [
      "/opt/conda/envs/python3/lib/python3.9/site-packages/xgboost/sklearn.py:1224: UserWarning: The use of label encoder in XGBClassifier is deprecated and will be removed in a future release. To remove this warning, do the following: 1) Pass option use_label_encoder=False when constructing XGBClassifier object; and 2) Encode your labels (y) as integers starting with 0, i.e. 0, 1, 2, ..., [num_class - 1].\n",
      "  warnings.warn(label_encoder_deprecation_msg, UserWarning)\n"
     ]
    },
    {
     "name": "stdout",
     "output_type": "stream",
     "text": [
      "[08:13:06] WARNING: ../src/learner.cc:1115: Starting in XGBoost 1.3.0, the default evaluation metric used with the objective 'binary:logistic' was changed from 'error' to 'logloss'. Explicitly set eval_metric if you'd like to restore the old behavior.\n"
     ]
    },
    {
     "name": "stderr",
     "output_type": "stream",
     "text": [
      "/opt/conda/envs/python3/lib/python3.9/site-packages/xgboost/sklearn.py:1224: UserWarning: The use of label encoder in XGBClassifier is deprecated and will be removed in a future release. To remove this warning, do the following: 1) Pass option use_label_encoder=False when constructing XGBClassifier object; and 2) Encode your labels (y) as integers starting with 0, i.e. 0, 1, 2, ..., [num_class - 1].\n",
      "  warnings.warn(label_encoder_deprecation_msg, UserWarning)\n"
     ]
    },
    {
     "name": "stdout",
     "output_type": "stream",
     "text": [
      "[08:13:07] WARNING: ../src/learner.cc:1115: Starting in XGBoost 1.3.0, the default evaluation metric used with the objective 'binary:logistic' was changed from 'error' to 'logloss'. Explicitly set eval_metric if you'd like to restore the old behavior.\n"
     ]
    },
    {
     "name": "stderr",
     "output_type": "stream",
     "text": [
      "/opt/conda/envs/python3/lib/python3.9/site-packages/xgboost/sklearn.py:1224: UserWarning: The use of label encoder in XGBClassifier is deprecated and will be removed in a future release. To remove this warning, do the following: 1) Pass option use_label_encoder=False when constructing XGBClassifier object; and 2) Encode your labels (y) as integers starting with 0, i.e. 0, 1, 2, ..., [num_class - 1].\n",
      "  warnings.warn(label_encoder_deprecation_msg, UserWarning)\n"
     ]
    },
    {
     "name": "stdout",
     "output_type": "stream",
     "text": [
      "[08:13:08] WARNING: ../src/learner.cc:1115: Starting in XGBoost 1.3.0, the default evaluation metric used with the objective 'binary:logistic' was changed from 'error' to 'logloss'. Explicitly set eval_metric if you'd like to restore the old behavior.\n"
     ]
    },
    {
     "name": "stderr",
     "output_type": "stream",
     "text": [
      "/opt/conda/envs/python3/lib/python3.9/site-packages/xgboost/sklearn.py:1224: UserWarning: The use of label encoder in XGBClassifier is deprecated and will be removed in a future release. To remove this warning, do the following: 1) Pass option use_label_encoder=False when constructing XGBClassifier object; and 2) Encode your labels (y) as integers starting with 0, i.e. 0, 1, 2, ..., [num_class - 1].\n",
      "  warnings.warn(label_encoder_deprecation_msg, UserWarning)\n"
     ]
    },
    {
     "name": "stdout",
     "output_type": "stream",
     "text": [
      "[08:13:10] WARNING: ../src/learner.cc:1115: Starting in XGBoost 1.3.0, the default evaluation metric used with the objective 'binary:logistic' was changed from 'error' to 'logloss'. Explicitly set eval_metric if you'd like to restore the old behavior.\n"
     ]
    },
    {
     "name": "stderr",
     "output_type": "stream",
     "text": [
      "/opt/conda/envs/python3/lib/python3.9/site-packages/xgboost/sklearn.py:1224: UserWarning: The use of label encoder in XGBClassifier is deprecated and will be removed in a future release. To remove this warning, do the following: 1) Pass option use_label_encoder=False when constructing XGBClassifier object; and 2) Encode your labels (y) as integers starting with 0, i.e. 0, 1, 2, ..., [num_class - 1].\n",
      "  warnings.warn(label_encoder_deprecation_msg, UserWarning)\n"
     ]
    },
    {
     "name": "stdout",
     "output_type": "stream",
     "text": [
      "[08:13:11] WARNING: ../src/learner.cc:1115: Starting in XGBoost 1.3.0, the default evaluation metric used with the objective 'binary:logistic' was changed from 'error' to 'logloss'. Explicitly set eval_metric if you'd like to restore the old behavior.\n"
     ]
    },
    {
     "name": "stderr",
     "output_type": "stream",
     "text": [
      "/opt/conda/envs/python3/lib/python3.9/site-packages/xgboost/sklearn.py:1224: UserWarning: The use of label encoder in XGBClassifier is deprecated and will be removed in a future release. To remove this warning, do the following: 1) Pass option use_label_encoder=False when constructing XGBClassifier object; and 2) Encode your labels (y) as integers starting with 0, i.e. 0, 1, 2, ..., [num_class - 1].\n",
      "  warnings.warn(label_encoder_deprecation_msg, UserWarning)\n"
     ]
    },
    {
     "name": "stdout",
     "output_type": "stream",
     "text": [
      "[08:13:12] WARNING: ../src/learner.cc:1115: Starting in XGBoost 1.3.0, the default evaluation metric used with the objective 'binary:logistic' was changed from 'error' to 'logloss'. Explicitly set eval_metric if you'd like to restore the old behavior.\n"
     ]
    },
    {
     "name": "stderr",
     "output_type": "stream",
     "text": [
      "/opt/conda/envs/python3/lib/python3.9/site-packages/xgboost/sklearn.py:1224: UserWarning: The use of label encoder in XGBClassifier is deprecated and will be removed in a future release. To remove this warning, do the following: 1) Pass option use_label_encoder=False when constructing XGBClassifier object; and 2) Encode your labels (y) as integers starting with 0, i.e. 0, 1, 2, ..., [num_class - 1].\n",
      "  warnings.warn(label_encoder_deprecation_msg, UserWarning)\n"
     ]
    },
    {
     "name": "stdout",
     "output_type": "stream",
     "text": [
      "[08:13:14] WARNING: ../src/learner.cc:1115: Starting in XGBoost 1.3.0, the default evaluation metric used with the objective 'binary:logistic' was changed from 'error' to 'logloss'. Explicitly set eval_metric if you'd like to restore the old behavior.\n"
     ]
    },
    {
     "name": "stderr",
     "output_type": "stream",
     "text": [
      "/opt/conda/envs/python3/lib/python3.9/site-packages/xgboost/sklearn.py:1224: UserWarning: The use of label encoder in XGBClassifier is deprecated and will be removed in a future release. To remove this warning, do the following: 1) Pass option use_label_encoder=False when constructing XGBClassifier object; and 2) Encode your labels (y) as integers starting with 0, i.e. 0, 1, 2, ..., [num_class - 1].\n",
      "  warnings.warn(label_encoder_deprecation_msg, UserWarning)\n"
     ]
    },
    {
     "name": "stdout",
     "output_type": "stream",
     "text": [
      "[08:13:16] WARNING: ../src/learner.cc:1115: Starting in XGBoost 1.3.0, the default evaluation metric used with the objective 'binary:logistic' was changed from 'error' to 'logloss'. Explicitly set eval_metric if you'd like to restore the old behavior.\n"
     ]
    },
    {
     "name": "stderr",
     "output_type": "stream",
     "text": [
      "/opt/conda/envs/python3/lib/python3.9/site-packages/xgboost/sklearn.py:1224: UserWarning: The use of label encoder in XGBClassifier is deprecated and will be removed in a future release. To remove this warning, do the following: 1) Pass option use_label_encoder=False when constructing XGBClassifier object; and 2) Encode your labels (y) as integers starting with 0, i.e. 0, 1, 2, ..., [num_class - 1].\n",
      "  warnings.warn(label_encoder_deprecation_msg, UserWarning)\n"
     ]
    },
    {
     "name": "stdout",
     "output_type": "stream",
     "text": [
      "[08:13:17] WARNING: ../src/learner.cc:1115: Starting in XGBoost 1.3.0, the default evaluation metric used with the objective 'binary:logistic' was changed from 'error' to 'logloss'. Explicitly set eval_metric if you'd like to restore the old behavior.\n"
     ]
    },
    {
     "name": "stderr",
     "output_type": "stream",
     "text": [
      "/opt/conda/envs/python3/lib/python3.9/site-packages/xgboost/sklearn.py:1224: UserWarning: The use of label encoder in XGBClassifier is deprecated and will be removed in a future release. To remove this warning, do the following: 1) Pass option use_label_encoder=False when constructing XGBClassifier object; and 2) Encode your labels (y) as integers starting with 0, i.e. 0, 1, 2, ..., [num_class - 1].\n",
      "  warnings.warn(label_encoder_deprecation_msg, UserWarning)\n"
     ]
    },
    {
     "name": "stdout",
     "output_type": "stream",
     "text": [
      "[08:13:18] WARNING: ../src/learner.cc:1115: Starting in XGBoost 1.3.0, the default evaluation metric used with the objective 'binary:logistic' was changed from 'error' to 'logloss'. Explicitly set eval_metric if you'd like to restore the old behavior.\n"
     ]
    },
    {
     "name": "stderr",
     "output_type": "stream",
     "text": [
      "/opt/conda/envs/python3/lib/python3.9/site-packages/xgboost/sklearn.py:1224: UserWarning: The use of label encoder in XGBClassifier is deprecated and will be removed in a future release. To remove this warning, do the following: 1) Pass option use_label_encoder=False when constructing XGBClassifier object; and 2) Encode your labels (y) as integers starting with 0, i.e. 0, 1, 2, ..., [num_class - 1].\n",
      "  warnings.warn(label_encoder_deprecation_msg, UserWarning)\n"
     ]
    },
    {
     "name": "stdout",
     "output_type": "stream",
     "text": [
      "[08:13:18] WARNING: ../src/learner.cc:1115: Starting in XGBoost 1.3.0, the default evaluation metric used with the objective 'binary:logistic' was changed from 'error' to 'logloss'. Explicitly set eval_metric if you'd like to restore the old behavior.\n"
     ]
    },
    {
     "name": "stderr",
     "output_type": "stream",
     "text": [
      "/opt/conda/envs/python3/lib/python3.9/site-packages/xgboost/sklearn.py:1224: UserWarning: The use of label encoder in XGBClassifier is deprecated and will be removed in a future release. To remove this warning, do the following: 1) Pass option use_label_encoder=False when constructing XGBClassifier object; and 2) Encode your labels (y) as integers starting with 0, i.e. 0, 1, 2, ..., [num_class - 1].\n",
      "  warnings.warn(label_encoder_deprecation_msg, UserWarning)\n"
     ]
    },
    {
     "name": "stdout",
     "output_type": "stream",
     "text": [
      "[08:13:20] WARNING: ../src/learner.cc:1115: Starting in XGBoost 1.3.0, the default evaluation metric used with the objective 'binary:logistic' was changed from 'error' to 'logloss'. Explicitly set eval_metric if you'd like to restore the old behavior.\n"
     ]
    },
    {
     "name": "stderr",
     "output_type": "stream",
     "text": [
      "/opt/conda/envs/python3/lib/python3.9/site-packages/xgboost/sklearn.py:1224: UserWarning: The use of label encoder in XGBClassifier is deprecated and will be removed in a future release. To remove this warning, do the following: 1) Pass option use_label_encoder=False when constructing XGBClassifier object; and 2) Encode your labels (y) as integers starting with 0, i.e. 0, 1, 2, ..., [num_class - 1].\n",
      "  warnings.warn(label_encoder_deprecation_msg, UserWarning)\n"
     ]
    },
    {
     "name": "stdout",
     "output_type": "stream",
     "text": [
      "[08:13:22] WARNING: ../src/learner.cc:1115: Starting in XGBoost 1.3.0, the default evaluation metric used with the objective 'binary:logistic' was changed from 'error' to 'logloss'. Explicitly set eval_metric if you'd like to restore the old behavior.\n"
     ]
    },
    {
     "name": "stderr",
     "output_type": "stream",
     "text": [
      "/opt/conda/envs/python3/lib/python3.9/site-packages/xgboost/sklearn.py:1224: UserWarning: The use of label encoder in XGBClassifier is deprecated and will be removed in a future release. To remove this warning, do the following: 1) Pass option use_label_encoder=False when constructing XGBClassifier object; and 2) Encode your labels (y) as integers starting with 0, i.e. 0, 1, 2, ..., [num_class - 1].\n",
      "  warnings.warn(label_encoder_deprecation_msg, UserWarning)\n"
     ]
    },
    {
     "name": "stdout",
     "output_type": "stream",
     "text": [
      "[08:13:23] WARNING: ../src/learner.cc:1115: Starting in XGBoost 1.3.0, the default evaluation metric used with the objective 'binary:logistic' was changed from 'error' to 'logloss'. Explicitly set eval_metric if you'd like to restore the old behavior.\n"
     ]
    },
    {
     "name": "stderr",
     "output_type": "stream",
     "text": [
      "/opt/conda/envs/python3/lib/python3.9/site-packages/xgboost/sklearn.py:1224: UserWarning: The use of label encoder in XGBClassifier is deprecated and will be removed in a future release. To remove this warning, do the following: 1) Pass option use_label_encoder=False when constructing XGBClassifier object; and 2) Encode your labels (y) as integers starting with 0, i.e. 0, 1, 2, ..., [num_class - 1].\n",
      "  warnings.warn(label_encoder_deprecation_msg, UserWarning)\n"
     ]
    },
    {
     "name": "stdout",
     "output_type": "stream",
     "text": [
      "[08:13:26] WARNING: ../src/learner.cc:1115: Starting in XGBoost 1.3.0, the default evaluation metric used with the objective 'binary:logistic' was changed from 'error' to 'logloss'. Explicitly set eval_metric if you'd like to restore the old behavior.\n"
     ]
    },
    {
     "name": "stderr",
     "output_type": "stream",
     "text": [
      "/opt/conda/envs/python3/lib/python3.9/site-packages/xgboost/sklearn.py:1224: UserWarning: The use of label encoder in XGBClassifier is deprecated and will be removed in a future release. To remove this warning, do the following: 1) Pass option use_label_encoder=False when constructing XGBClassifier object; and 2) Encode your labels (y) as integers starting with 0, i.e. 0, 1, 2, ..., [num_class - 1].\n",
      "  warnings.warn(label_encoder_deprecation_msg, UserWarning)\n"
     ]
    },
    {
     "name": "stdout",
     "output_type": "stream",
     "text": [
      "[08:13:28] WARNING: ../src/learner.cc:1115: Starting in XGBoost 1.3.0, the default evaluation metric used with the objective 'binary:logistic' was changed from 'error' to 'logloss'. Explicitly set eval_metric if you'd like to restore the old behavior.\n"
     ]
    },
    {
     "name": "stderr",
     "output_type": "stream",
     "text": [
      "/opt/conda/envs/python3/lib/python3.9/site-packages/xgboost/sklearn.py:1224: UserWarning: The use of label encoder in XGBClassifier is deprecated and will be removed in a future release. To remove this warning, do the following: 1) Pass option use_label_encoder=False when constructing XGBClassifier object; and 2) Encode your labels (y) as integers starting with 0, i.e. 0, 1, 2, ..., [num_class - 1].\n",
      "  warnings.warn(label_encoder_deprecation_msg, UserWarning)\n"
     ]
    },
    {
     "name": "stdout",
     "output_type": "stream",
     "text": [
      "[08:13:30] WARNING: ../src/learner.cc:1115: Starting in XGBoost 1.3.0, the default evaluation metric used with the objective 'binary:logistic' was changed from 'error' to 'logloss'. Explicitly set eval_metric if you'd like to restore the old behavior.\n"
     ]
    },
    {
     "name": "stderr",
     "output_type": "stream",
     "text": [
      "/opt/conda/envs/python3/lib/python3.9/site-packages/xgboost/sklearn.py:1224: UserWarning: The use of label encoder in XGBClassifier is deprecated and will be removed in a future release. To remove this warning, do the following: 1) Pass option use_label_encoder=False when constructing XGBClassifier object; and 2) Encode your labels (y) as integers starting with 0, i.e. 0, 1, 2, ..., [num_class - 1].\n",
      "  warnings.warn(label_encoder_deprecation_msg, UserWarning)\n"
     ]
    },
    {
     "name": "stdout",
     "output_type": "stream",
     "text": [
      "[08:13:31] WARNING: ../src/learner.cc:1115: Starting in XGBoost 1.3.0, the default evaluation metric used with the objective 'binary:logistic' was changed from 'error' to 'logloss'. Explicitly set eval_metric if you'd like to restore the old behavior.\n"
     ]
    },
    {
     "name": "stderr",
     "output_type": "stream",
     "text": [
      "/opt/conda/envs/python3/lib/python3.9/site-packages/xgboost/sklearn.py:1224: UserWarning: The use of label encoder in XGBClassifier is deprecated and will be removed in a future release. To remove this warning, do the following: 1) Pass option use_label_encoder=False when constructing XGBClassifier object; and 2) Encode your labels (y) as integers starting with 0, i.e. 0, 1, 2, ..., [num_class - 1].\n",
      "  warnings.warn(label_encoder_deprecation_msg, UserWarning)\n"
     ]
    },
    {
     "name": "stdout",
     "output_type": "stream",
     "text": [
      "[08:13:32] WARNING: ../src/learner.cc:1115: Starting in XGBoost 1.3.0, the default evaluation metric used with the objective 'binary:logistic' was changed from 'error' to 'logloss'. Explicitly set eval_metric if you'd like to restore the old behavior.\n"
     ]
    },
    {
     "name": "stderr",
     "output_type": "stream",
     "text": [
      "/opt/conda/envs/python3/lib/python3.9/site-packages/xgboost/sklearn.py:1224: UserWarning: The use of label encoder in XGBClassifier is deprecated and will be removed in a future release. To remove this warning, do the following: 1) Pass option use_label_encoder=False when constructing XGBClassifier object; and 2) Encode your labels (y) as integers starting with 0, i.e. 0, 1, 2, ..., [num_class - 1].\n",
      "  warnings.warn(label_encoder_deprecation_msg, UserWarning)\n"
     ]
    },
    {
     "name": "stdout",
     "output_type": "stream",
     "text": [
      "[08:13:33] WARNING: ../src/learner.cc:1115: Starting in XGBoost 1.3.0, the default evaluation metric used with the objective 'binary:logistic' was changed from 'error' to 'logloss'. Explicitly set eval_metric if you'd like to restore the old behavior.\n"
     ]
    },
    {
     "name": "stderr",
     "output_type": "stream",
     "text": [
      "/opt/conda/envs/python3/lib/python3.9/site-packages/xgboost/sklearn.py:1224: UserWarning: The use of label encoder in XGBClassifier is deprecated and will be removed in a future release. To remove this warning, do the following: 1) Pass option use_label_encoder=False when constructing XGBClassifier object; and 2) Encode your labels (y) as integers starting with 0, i.e. 0, 1, 2, ..., [num_class - 1].\n",
      "  warnings.warn(label_encoder_deprecation_msg, UserWarning)\n"
     ]
    },
    {
     "name": "stdout",
     "output_type": "stream",
     "text": [
      "[08:13:35] WARNING: ../src/learner.cc:1115: Starting in XGBoost 1.3.0, the default evaluation metric used with the objective 'binary:logistic' was changed from 'error' to 'logloss'. Explicitly set eval_metric if you'd like to restore the old behavior.\n"
     ]
    },
    {
     "name": "stderr",
     "output_type": "stream",
     "text": [
      "/opt/conda/envs/python3/lib/python3.9/site-packages/xgboost/sklearn.py:1224: UserWarning: The use of label encoder in XGBClassifier is deprecated and will be removed in a future release. To remove this warning, do the following: 1) Pass option use_label_encoder=False when constructing XGBClassifier object; and 2) Encode your labels (y) as integers starting with 0, i.e. 0, 1, 2, ..., [num_class - 1].\n",
      "  warnings.warn(label_encoder_deprecation_msg, UserWarning)\n"
     ]
    },
    {
     "name": "stdout",
     "output_type": "stream",
     "text": [
      "[08:13:38] WARNING: ../src/learner.cc:1115: Starting in XGBoost 1.3.0, the default evaluation metric used with the objective 'binary:logistic' was changed from 'error' to 'logloss'. Explicitly set eval_metric if you'd like to restore the old behavior.\n"
     ]
    },
    {
     "name": "stderr",
     "output_type": "stream",
     "text": [
      "/opt/conda/envs/python3/lib/python3.9/site-packages/xgboost/sklearn.py:1224: UserWarning: The use of label encoder in XGBClassifier is deprecated and will be removed in a future release. To remove this warning, do the following: 1) Pass option use_label_encoder=False when constructing XGBClassifier object; and 2) Encode your labels (y) as integers starting with 0, i.e. 0, 1, 2, ..., [num_class - 1].\n",
      "  warnings.warn(label_encoder_deprecation_msg, UserWarning)\n"
     ]
    },
    {
     "name": "stdout",
     "output_type": "stream",
     "text": [
      "[08:13:40] WARNING: ../src/learner.cc:1115: Starting in XGBoost 1.3.0, the default evaluation metric used with the objective 'binary:logistic' was changed from 'error' to 'logloss'. Explicitly set eval_metric if you'd like to restore the old behavior.\n"
     ]
    },
    {
     "name": "stderr",
     "output_type": "stream",
     "text": [
      "/opt/conda/envs/python3/lib/python3.9/site-packages/xgboost/sklearn.py:1224: UserWarning: The use of label encoder in XGBClassifier is deprecated and will be removed in a future release. To remove this warning, do the following: 1) Pass option use_label_encoder=False when constructing XGBClassifier object; and 2) Encode your labels (y) as integers starting with 0, i.e. 0, 1, 2, ..., [num_class - 1].\n",
      "  warnings.warn(label_encoder_deprecation_msg, UserWarning)\n"
     ]
    },
    {
     "name": "stdout",
     "output_type": "stream",
     "text": [
      "[08:13:43] WARNING: ../src/learner.cc:1115: Starting in XGBoost 1.3.0, the default evaluation metric used with the objective 'binary:logistic' was changed from 'error' to 'logloss'. Explicitly set eval_metric if you'd like to restore the old behavior.\n"
     ]
    },
    {
     "name": "stderr",
     "output_type": "stream",
     "text": [
      "/opt/conda/envs/python3/lib/python3.9/site-packages/xgboost/sklearn.py:1224: UserWarning: The use of label encoder in XGBClassifier is deprecated and will be removed in a future release. To remove this warning, do the following: 1) Pass option use_label_encoder=False when constructing XGBClassifier object; and 2) Encode your labels (y) as integers starting with 0, i.e. 0, 1, 2, ..., [num_class - 1].\n",
      "  warnings.warn(label_encoder_deprecation_msg, UserWarning)\n"
     ]
    },
    {
     "name": "stdout",
     "output_type": "stream",
     "text": [
      "[08:13:46] WARNING: ../src/learner.cc:1115: Starting in XGBoost 1.3.0, the default evaluation metric used with the objective 'binary:logistic' was changed from 'error' to 'logloss'. Explicitly set eval_metric if you'd like to restore the old behavior.\n"
     ]
    },
    {
     "name": "stderr",
     "output_type": "stream",
     "text": [
      "/opt/conda/envs/python3/lib/python3.9/site-packages/xgboost/sklearn.py:1224: UserWarning: The use of label encoder in XGBClassifier is deprecated and will be removed in a future release. To remove this warning, do the following: 1) Pass option use_label_encoder=False when constructing XGBClassifier object; and 2) Encode your labels (y) as integers starting with 0, i.e. 0, 1, 2, ..., [num_class - 1].\n",
      "  warnings.warn(label_encoder_deprecation_msg, UserWarning)\n"
     ]
    },
    {
     "name": "stdout",
     "output_type": "stream",
     "text": [
      "[08:13:49] WARNING: ../src/learner.cc:1115: Starting in XGBoost 1.3.0, the default evaluation metric used with the objective 'binary:logistic' was changed from 'error' to 'logloss'. Explicitly set eval_metric if you'd like to restore the old behavior.\n"
     ]
    },
    {
     "name": "stderr",
     "output_type": "stream",
     "text": [
      "/opt/conda/envs/python3/lib/python3.9/site-packages/xgboost/sklearn.py:1224: UserWarning: The use of label encoder in XGBClassifier is deprecated and will be removed in a future release. To remove this warning, do the following: 1) Pass option use_label_encoder=False when constructing XGBClassifier object; and 2) Encode your labels (y) as integers starting with 0, i.e. 0, 1, 2, ..., [num_class - 1].\n",
      "  warnings.warn(label_encoder_deprecation_msg, UserWarning)\n"
     ]
    },
    {
     "name": "stdout",
     "output_type": "stream",
     "text": [
      "[08:13:49] WARNING: ../src/learner.cc:1115: Starting in XGBoost 1.3.0, the default evaluation metric used with the objective 'binary:logistic' was changed from 'error' to 'logloss'. Explicitly set eval_metric if you'd like to restore the old behavior.\n"
     ]
    },
    {
     "name": "stderr",
     "output_type": "stream",
     "text": [
      "/opt/conda/envs/python3/lib/python3.9/site-packages/xgboost/sklearn.py:1224: UserWarning: The use of label encoder in XGBClassifier is deprecated and will be removed in a future release. To remove this warning, do the following: 1) Pass option use_label_encoder=False when constructing XGBClassifier object; and 2) Encode your labels (y) as integers starting with 0, i.e. 0, 1, 2, ..., [num_class - 1].\n",
      "  warnings.warn(label_encoder_deprecation_msg, UserWarning)\n"
     ]
    },
    {
     "name": "stdout",
     "output_type": "stream",
     "text": [
      "[08:13:50] WARNING: ../src/learner.cc:1115: Starting in XGBoost 1.3.0, the default evaluation metric used with the objective 'binary:logistic' was changed from 'error' to 'logloss'. Explicitly set eval_metric if you'd like to restore the old behavior.\n"
     ]
    },
    {
     "name": "stderr",
     "output_type": "stream",
     "text": [
      "/opt/conda/envs/python3/lib/python3.9/site-packages/xgboost/sklearn.py:1224: UserWarning: The use of label encoder in XGBClassifier is deprecated and will be removed in a future release. To remove this warning, do the following: 1) Pass option use_label_encoder=False when constructing XGBClassifier object; and 2) Encode your labels (y) as integers starting with 0, i.e. 0, 1, 2, ..., [num_class - 1].\n",
      "  warnings.warn(label_encoder_deprecation_msg, UserWarning)\n"
     ]
    },
    {
     "name": "stdout",
     "output_type": "stream",
     "text": [
      "[08:13:51] WARNING: ../src/learner.cc:1115: Starting in XGBoost 1.3.0, the default evaluation metric used with the objective 'binary:logistic' was changed from 'error' to 'logloss'. Explicitly set eval_metric if you'd like to restore the old behavior.\n"
     ]
    },
    {
     "name": "stderr",
     "output_type": "stream",
     "text": [
      "/opt/conda/envs/python3/lib/python3.9/site-packages/xgboost/sklearn.py:1224: UserWarning: The use of label encoder in XGBClassifier is deprecated and will be removed in a future release. To remove this warning, do the following: 1) Pass option use_label_encoder=False when constructing XGBClassifier object; and 2) Encode your labels (y) as integers starting with 0, i.e. 0, 1, 2, ..., [num_class - 1].\n",
      "  warnings.warn(label_encoder_deprecation_msg, UserWarning)\n"
     ]
    },
    {
     "name": "stdout",
     "output_type": "stream",
     "text": [
      "[08:13:52] WARNING: ../src/learner.cc:1115: Starting in XGBoost 1.3.0, the default evaluation metric used with the objective 'binary:logistic' was changed from 'error' to 'logloss'. Explicitly set eval_metric if you'd like to restore the old behavior.\n"
     ]
    },
    {
     "name": "stderr",
     "output_type": "stream",
     "text": [
      "/opt/conda/envs/python3/lib/python3.9/site-packages/xgboost/sklearn.py:1224: UserWarning: The use of label encoder in XGBClassifier is deprecated and will be removed in a future release. To remove this warning, do the following: 1) Pass option use_label_encoder=False when constructing XGBClassifier object; and 2) Encode your labels (y) as integers starting with 0, i.e. 0, 1, 2, ..., [num_class - 1].\n",
      "  warnings.warn(label_encoder_deprecation_msg, UserWarning)\n"
     ]
    },
    {
     "name": "stdout",
     "output_type": "stream",
     "text": [
      "[08:13:53] WARNING: ../src/learner.cc:1115: Starting in XGBoost 1.3.0, the default evaluation metric used with the objective 'binary:logistic' was changed from 'error' to 'logloss'. Explicitly set eval_metric if you'd like to restore the old behavior.\n"
     ]
    },
    {
     "name": "stderr",
     "output_type": "stream",
     "text": [
      "/opt/conda/envs/python3/lib/python3.9/site-packages/xgboost/sklearn.py:1224: UserWarning: The use of label encoder in XGBClassifier is deprecated and will be removed in a future release. To remove this warning, do the following: 1) Pass option use_label_encoder=False when constructing XGBClassifier object; and 2) Encode your labels (y) as integers starting with 0, i.e. 0, 1, 2, ..., [num_class - 1].\n",
      "  warnings.warn(label_encoder_deprecation_msg, UserWarning)\n"
     ]
    },
    {
     "name": "stdout",
     "output_type": "stream",
     "text": [
      "[08:13:54] WARNING: ../src/learner.cc:1115: Starting in XGBoost 1.3.0, the default evaluation metric used with the objective 'binary:logistic' was changed from 'error' to 'logloss'. Explicitly set eval_metric if you'd like to restore the old behavior.\n"
     ]
    },
    {
     "name": "stderr",
     "output_type": "stream",
     "text": [
      "/opt/conda/envs/python3/lib/python3.9/site-packages/xgboost/sklearn.py:1224: UserWarning: The use of label encoder in XGBClassifier is deprecated and will be removed in a future release. To remove this warning, do the following: 1) Pass option use_label_encoder=False when constructing XGBClassifier object; and 2) Encode your labels (y) as integers starting with 0, i.e. 0, 1, 2, ..., [num_class - 1].\n",
      "  warnings.warn(label_encoder_deprecation_msg, UserWarning)\n"
     ]
    },
    {
     "name": "stdout",
     "output_type": "stream",
     "text": [
      "[08:13:56] WARNING: ../src/learner.cc:1115: Starting in XGBoost 1.3.0, the default evaluation metric used with the objective 'binary:logistic' was changed from 'error' to 'logloss'. Explicitly set eval_metric if you'd like to restore the old behavior.\n"
     ]
    },
    {
     "name": "stderr",
     "output_type": "stream",
     "text": [
      "/opt/conda/envs/python3/lib/python3.9/site-packages/xgboost/sklearn.py:1224: UserWarning: The use of label encoder in XGBClassifier is deprecated and will be removed in a future release. To remove this warning, do the following: 1) Pass option use_label_encoder=False when constructing XGBClassifier object; and 2) Encode your labels (y) as integers starting with 0, i.e. 0, 1, 2, ..., [num_class - 1].\n",
      "  warnings.warn(label_encoder_deprecation_msg, UserWarning)\n"
     ]
    },
    {
     "name": "stdout",
     "output_type": "stream",
     "text": [
      "[08:13:58] WARNING: ../src/learner.cc:1115: Starting in XGBoost 1.3.0, the default evaluation metric used with the objective 'binary:logistic' was changed from 'error' to 'logloss'. Explicitly set eval_metric if you'd like to restore the old behavior.\n"
     ]
    },
    {
     "name": "stderr",
     "output_type": "stream",
     "text": [
      "/opt/conda/envs/python3/lib/python3.9/site-packages/xgboost/sklearn.py:1224: UserWarning: The use of label encoder in XGBClassifier is deprecated and will be removed in a future release. To remove this warning, do the following: 1) Pass option use_label_encoder=False when constructing XGBClassifier object; and 2) Encode your labels (y) as integers starting with 0, i.e. 0, 1, 2, ..., [num_class - 1].\n",
      "  warnings.warn(label_encoder_deprecation_msg, UserWarning)\n"
     ]
    },
    {
     "name": "stdout",
     "output_type": "stream",
     "text": [
      "[08:13:59] WARNING: ../src/learner.cc:1115: Starting in XGBoost 1.3.0, the default evaluation metric used with the objective 'binary:logistic' was changed from 'error' to 'logloss'. Explicitly set eval_metric if you'd like to restore the old behavior.\n"
     ]
    },
    {
     "name": "stderr",
     "output_type": "stream",
     "text": [
      "/opt/conda/envs/python3/lib/python3.9/site-packages/xgboost/sklearn.py:1224: UserWarning: The use of label encoder in XGBClassifier is deprecated and will be removed in a future release. To remove this warning, do the following: 1) Pass option use_label_encoder=False when constructing XGBClassifier object; and 2) Encode your labels (y) as integers starting with 0, i.e. 0, 1, 2, ..., [num_class - 1].\n",
      "  warnings.warn(label_encoder_deprecation_msg, UserWarning)\n"
     ]
    },
    {
     "name": "stdout",
     "output_type": "stream",
     "text": [
      "[08:14:00] WARNING: ../src/learner.cc:1115: Starting in XGBoost 1.3.0, the default evaluation metric used with the objective 'binary:logistic' was changed from 'error' to 'logloss'. Explicitly set eval_metric if you'd like to restore the old behavior.\n"
     ]
    },
    {
     "name": "stderr",
     "output_type": "stream",
     "text": [
      "/opt/conda/envs/python3/lib/python3.9/site-packages/xgboost/sklearn.py:1224: UserWarning: The use of label encoder in XGBClassifier is deprecated and will be removed in a future release. To remove this warning, do the following: 1) Pass option use_label_encoder=False when constructing XGBClassifier object; and 2) Encode your labels (y) as integers starting with 0, i.e. 0, 1, 2, ..., [num_class - 1].\n",
      "  warnings.warn(label_encoder_deprecation_msg, UserWarning)\n"
     ]
    },
    {
     "name": "stdout",
     "output_type": "stream",
     "text": [
      "[08:14:01] WARNING: ../src/learner.cc:1115: Starting in XGBoost 1.3.0, the default evaluation metric used with the objective 'binary:logistic' was changed from 'error' to 'logloss'. Explicitly set eval_metric if you'd like to restore the old behavior.\n"
     ]
    },
    {
     "name": "stderr",
     "output_type": "stream",
     "text": [
      "/opt/conda/envs/python3/lib/python3.9/site-packages/xgboost/sklearn.py:1224: UserWarning: The use of label encoder in XGBClassifier is deprecated and will be removed in a future release. To remove this warning, do the following: 1) Pass option use_label_encoder=False when constructing XGBClassifier object; and 2) Encode your labels (y) as integers starting with 0, i.e. 0, 1, 2, ..., [num_class - 1].\n",
      "  warnings.warn(label_encoder_deprecation_msg, UserWarning)\n"
     ]
    },
    {
     "name": "stdout",
     "output_type": "stream",
     "text": [
      "[08:14:02] WARNING: ../src/learner.cc:1115: Starting in XGBoost 1.3.0, the default evaluation metric used with the objective 'binary:logistic' was changed from 'error' to 'logloss'. Explicitly set eval_metric if you'd like to restore the old behavior.\n"
     ]
    },
    {
     "name": "stderr",
     "output_type": "stream",
     "text": [
      "/opt/conda/envs/python3/lib/python3.9/site-packages/xgboost/sklearn.py:1224: UserWarning: The use of label encoder in XGBClassifier is deprecated and will be removed in a future release. To remove this warning, do the following: 1) Pass option use_label_encoder=False when constructing XGBClassifier object; and 2) Encode your labels (y) as integers starting with 0, i.e. 0, 1, 2, ..., [num_class - 1].\n",
      "  warnings.warn(label_encoder_deprecation_msg, UserWarning)\n"
     ]
    },
    {
     "name": "stdout",
     "output_type": "stream",
     "text": [
      "[08:14:04] WARNING: ../src/learner.cc:1115: Starting in XGBoost 1.3.0, the default evaluation metric used with the objective 'binary:logistic' was changed from 'error' to 'logloss'. Explicitly set eval_metric if you'd like to restore the old behavior.\n"
     ]
    },
    {
     "name": "stderr",
     "output_type": "stream",
     "text": [
      "/opt/conda/envs/python3/lib/python3.9/site-packages/xgboost/sklearn.py:1224: UserWarning: The use of label encoder in XGBClassifier is deprecated and will be removed in a future release. To remove this warning, do the following: 1) Pass option use_label_encoder=False when constructing XGBClassifier object; and 2) Encode your labels (y) as integers starting with 0, i.e. 0, 1, 2, ..., [num_class - 1].\n",
      "  warnings.warn(label_encoder_deprecation_msg, UserWarning)\n"
     ]
    },
    {
     "name": "stdout",
     "output_type": "stream",
     "text": [
      "[08:14:05] WARNING: ../src/learner.cc:1115: Starting in XGBoost 1.3.0, the default evaluation metric used with the objective 'binary:logistic' was changed from 'error' to 'logloss'. Explicitly set eval_metric if you'd like to restore the old behavior.\n"
     ]
    },
    {
     "name": "stderr",
     "output_type": "stream",
     "text": [
      "/opt/conda/envs/python3/lib/python3.9/site-packages/xgboost/sklearn.py:1224: UserWarning: The use of label encoder in XGBClassifier is deprecated and will be removed in a future release. To remove this warning, do the following: 1) Pass option use_label_encoder=False when constructing XGBClassifier object; and 2) Encode your labels (y) as integers starting with 0, i.e. 0, 1, 2, ..., [num_class - 1].\n",
      "  warnings.warn(label_encoder_deprecation_msg, UserWarning)\n"
     ]
    },
    {
     "name": "stdout",
     "output_type": "stream",
     "text": [
      "[08:14:07] WARNING: ../src/learner.cc:1115: Starting in XGBoost 1.3.0, the default evaluation metric used with the objective 'binary:logistic' was changed from 'error' to 'logloss'. Explicitly set eval_metric if you'd like to restore the old behavior.\n"
     ]
    },
    {
     "name": "stderr",
     "output_type": "stream",
     "text": [
      "/opt/conda/envs/python3/lib/python3.9/site-packages/xgboost/sklearn.py:1224: UserWarning: The use of label encoder in XGBClassifier is deprecated and will be removed in a future release. To remove this warning, do the following: 1) Pass option use_label_encoder=False when constructing XGBClassifier object; and 2) Encode your labels (y) as integers starting with 0, i.e. 0, 1, 2, ..., [num_class - 1].\n",
      "  warnings.warn(label_encoder_deprecation_msg, UserWarning)\n"
     ]
    },
    {
     "name": "stdout",
     "output_type": "stream",
     "text": [
      "[08:14:09] WARNING: ../src/learner.cc:1115: Starting in XGBoost 1.3.0, the default evaluation metric used with the objective 'binary:logistic' was changed from 'error' to 'logloss'. Explicitly set eval_metric if you'd like to restore the old behavior.\n"
     ]
    },
    {
     "name": "stderr",
     "output_type": "stream",
     "text": [
      "/opt/conda/envs/python3/lib/python3.9/site-packages/xgboost/sklearn.py:1224: UserWarning: The use of label encoder in XGBClassifier is deprecated and will be removed in a future release. To remove this warning, do the following: 1) Pass option use_label_encoder=False when constructing XGBClassifier object; and 2) Encode your labels (y) as integers starting with 0, i.e. 0, 1, 2, ..., [num_class - 1].\n",
      "  warnings.warn(label_encoder_deprecation_msg, UserWarning)\n"
     ]
    },
    {
     "name": "stdout",
     "output_type": "stream",
     "text": [
      "[08:14:11] WARNING: ../src/learner.cc:1115: Starting in XGBoost 1.3.0, the default evaluation metric used with the objective 'binary:logistic' was changed from 'error' to 'logloss'. Explicitly set eval_metric if you'd like to restore the old behavior.\n"
     ]
    },
    {
     "name": "stderr",
     "output_type": "stream",
     "text": [
      "/opt/conda/envs/python3/lib/python3.9/site-packages/xgboost/sklearn.py:1224: UserWarning: The use of label encoder in XGBClassifier is deprecated and will be removed in a future release. To remove this warning, do the following: 1) Pass option use_label_encoder=False when constructing XGBClassifier object; and 2) Encode your labels (y) as integers starting with 0, i.e. 0, 1, 2, ..., [num_class - 1].\n",
      "  warnings.warn(label_encoder_deprecation_msg, UserWarning)\n"
     ]
    },
    {
     "name": "stdout",
     "output_type": "stream",
     "text": [
      "[08:14:14] WARNING: ../src/learner.cc:1115: Starting in XGBoost 1.3.0, the default evaluation metric used with the objective 'binary:logistic' was changed from 'error' to 'logloss'. Explicitly set eval_metric if you'd like to restore the old behavior.\n"
     ]
    },
    {
     "name": "stderr",
     "output_type": "stream",
     "text": [
      "/opt/conda/envs/python3/lib/python3.9/site-packages/xgboost/sklearn.py:1224: UserWarning: The use of label encoder in XGBClassifier is deprecated and will be removed in a future release. To remove this warning, do the following: 1) Pass option use_label_encoder=False when constructing XGBClassifier object; and 2) Encode your labels (y) as integers starting with 0, i.e. 0, 1, 2, ..., [num_class - 1].\n",
      "  warnings.warn(label_encoder_deprecation_msg, UserWarning)\n"
     ]
    },
    {
     "name": "stdout",
     "output_type": "stream",
     "text": [
      "[08:14:15] WARNING: ../src/learner.cc:1115: Starting in XGBoost 1.3.0, the default evaluation metric used with the objective 'binary:logistic' was changed from 'error' to 'logloss'. Explicitly set eval_metric if you'd like to restore the old behavior.\n"
     ]
    },
    {
     "name": "stderr",
     "output_type": "stream",
     "text": [
      "/opt/conda/envs/python3/lib/python3.9/site-packages/xgboost/sklearn.py:1224: UserWarning: The use of label encoder in XGBClassifier is deprecated and will be removed in a future release. To remove this warning, do the following: 1) Pass option use_label_encoder=False when constructing XGBClassifier object; and 2) Encode your labels (y) as integers starting with 0, i.e. 0, 1, 2, ..., [num_class - 1].\n",
      "  warnings.warn(label_encoder_deprecation_msg, UserWarning)\n"
     ]
    },
    {
     "name": "stdout",
     "output_type": "stream",
     "text": [
      "[08:14:16] WARNING: ../src/learner.cc:1115: Starting in XGBoost 1.3.0, the default evaluation metric used with the objective 'binary:logistic' was changed from 'error' to 'logloss'. Explicitly set eval_metric if you'd like to restore the old behavior.\n"
     ]
    },
    {
     "name": "stderr",
     "output_type": "stream",
     "text": [
      "/opt/conda/envs/python3/lib/python3.9/site-packages/xgboost/sklearn.py:1224: UserWarning: The use of label encoder in XGBClassifier is deprecated and will be removed in a future release. To remove this warning, do the following: 1) Pass option use_label_encoder=False when constructing XGBClassifier object; and 2) Encode your labels (y) as integers starting with 0, i.e. 0, 1, 2, ..., [num_class - 1].\n",
      "  warnings.warn(label_encoder_deprecation_msg, UserWarning)\n"
     ]
    },
    {
     "name": "stdout",
     "output_type": "stream",
     "text": [
      "[08:14:17] WARNING: ../src/learner.cc:1115: Starting in XGBoost 1.3.0, the default evaluation metric used with the objective 'binary:logistic' was changed from 'error' to 'logloss'. Explicitly set eval_metric if you'd like to restore the old behavior.\n"
     ]
    },
    {
     "name": "stderr",
     "output_type": "stream",
     "text": [
      "/opt/conda/envs/python3/lib/python3.9/site-packages/xgboost/sklearn.py:1224: UserWarning: The use of label encoder in XGBClassifier is deprecated and will be removed in a future release. To remove this warning, do the following: 1) Pass option use_label_encoder=False when constructing XGBClassifier object; and 2) Encode your labels (y) as integers starting with 0, i.e. 0, 1, 2, ..., [num_class - 1].\n",
      "  warnings.warn(label_encoder_deprecation_msg, UserWarning)\n"
     ]
    },
    {
     "name": "stdout",
     "output_type": "stream",
     "text": [
      "[08:14:19] WARNING: ../src/learner.cc:1115: Starting in XGBoost 1.3.0, the default evaluation metric used with the objective 'binary:logistic' was changed from 'error' to 'logloss'. Explicitly set eval_metric if you'd like to restore the old behavior.\n"
     ]
    },
    {
     "name": "stderr",
     "output_type": "stream",
     "text": [
      "/opt/conda/envs/python3/lib/python3.9/site-packages/xgboost/sklearn.py:1224: UserWarning: The use of label encoder in XGBClassifier is deprecated and will be removed in a future release. To remove this warning, do the following: 1) Pass option use_label_encoder=False when constructing XGBClassifier object; and 2) Encode your labels (y) as integers starting with 0, i.e. 0, 1, 2, ..., [num_class - 1].\n",
      "  warnings.warn(label_encoder_deprecation_msg, UserWarning)\n"
     ]
    },
    {
     "name": "stdout",
     "output_type": "stream",
     "text": [
      "[08:14:21] WARNING: ../src/learner.cc:1115: Starting in XGBoost 1.3.0, the default evaluation metric used with the objective 'binary:logistic' was changed from 'error' to 'logloss'. Explicitly set eval_metric if you'd like to restore the old behavior.\n"
     ]
    },
    {
     "name": "stderr",
     "output_type": "stream",
     "text": [
      "/opt/conda/envs/python3/lib/python3.9/site-packages/xgboost/sklearn.py:1224: UserWarning: The use of label encoder in XGBClassifier is deprecated and will be removed in a future release. To remove this warning, do the following: 1) Pass option use_label_encoder=False when constructing XGBClassifier object; and 2) Encode your labels (y) as integers starting with 0, i.e. 0, 1, 2, ..., [num_class - 1].\n",
      "  warnings.warn(label_encoder_deprecation_msg, UserWarning)\n"
     ]
    },
    {
     "name": "stdout",
     "output_type": "stream",
     "text": [
      "[08:14:23] WARNING: ../src/learner.cc:1115: Starting in XGBoost 1.3.0, the default evaluation metric used with the objective 'binary:logistic' was changed from 'error' to 'logloss'. Explicitly set eval_metric if you'd like to restore the old behavior.\n"
     ]
    },
    {
     "name": "stderr",
     "output_type": "stream",
     "text": [
      "/opt/conda/envs/python3/lib/python3.9/site-packages/xgboost/sklearn.py:1224: UserWarning: The use of label encoder in XGBClassifier is deprecated and will be removed in a future release. To remove this warning, do the following: 1) Pass option use_label_encoder=False when constructing XGBClassifier object; and 2) Encode your labels (y) as integers starting with 0, i.e. 0, 1, 2, ..., [num_class - 1].\n",
      "  warnings.warn(label_encoder_deprecation_msg, UserWarning)\n"
     ]
    },
    {
     "name": "stdout",
     "output_type": "stream",
     "text": [
      "[08:14:26] WARNING: ../src/learner.cc:1115: Starting in XGBoost 1.3.0, the default evaluation metric used with the objective 'binary:logistic' was changed from 'error' to 'logloss'. Explicitly set eval_metric if you'd like to restore the old behavior.\n"
     ]
    },
    {
     "name": "stderr",
     "output_type": "stream",
     "text": [
      "/opt/conda/envs/python3/lib/python3.9/site-packages/xgboost/sklearn.py:1224: UserWarning: The use of label encoder in XGBClassifier is deprecated and will be removed in a future release. To remove this warning, do the following: 1) Pass option use_label_encoder=False when constructing XGBClassifier object; and 2) Encode your labels (y) as integers starting with 0, i.e. 0, 1, 2, ..., [num_class - 1].\n",
      "  warnings.warn(label_encoder_deprecation_msg, UserWarning)\n"
     ]
    },
    {
     "name": "stdout",
     "output_type": "stream",
     "text": [
      "[08:14:29] WARNING: ../src/learner.cc:1115: Starting in XGBoost 1.3.0, the default evaluation metric used with the objective 'binary:logistic' was changed from 'error' to 'logloss'. Explicitly set eval_metric if you'd like to restore the old behavior.\n"
     ]
    },
    {
     "name": "stderr",
     "output_type": "stream",
     "text": [
      "/opt/conda/envs/python3/lib/python3.9/site-packages/xgboost/sklearn.py:1224: UserWarning: The use of label encoder in XGBClassifier is deprecated and will be removed in a future release. To remove this warning, do the following: 1) Pass option use_label_encoder=False when constructing XGBClassifier object; and 2) Encode your labels (y) as integers starting with 0, i.e. 0, 1, 2, ..., [num_class - 1].\n",
      "  warnings.warn(label_encoder_deprecation_msg, UserWarning)\n"
     ]
    },
    {
     "name": "stdout",
     "output_type": "stream",
     "text": [
      "[08:14:32] WARNING: ../src/learner.cc:1115: Starting in XGBoost 1.3.0, the default evaluation metric used with the objective 'binary:logistic' was changed from 'error' to 'logloss'. Explicitly set eval_metric if you'd like to restore the old behavior.\n",
      "Best Parameters: {'learning_rate': 0.2, 'max_depth': 7, 'n_estimators': 150}\n",
      "Best ROC-AUC: 0.9694972226543115\n"
     ]
    }
   ],
   "source": [
    "# Cross validate and tune hyperparameters\n",
    "\n",
    "param_grid = {\n",
    "    'n_estimators': [50, 100, 150],\n",
    "    'max_depth': [3, 5, 7],\n",
    "    'learning_rate': [0.01, 0.1, 0.2],\n",
    "}\n",
    "\n",
    "grid_search = GridSearchCV(\n",
    "    estimator=model,\n",
    "    param_grid=param_grid,\n",
    "    scoring='roc_auc',\n",
    "    cv=3,\n",
    "    verbose=1\n",
    ")\n",
    "\n",
    "grid_search.fit(features_train, target_train)\n",
    "\n",
    "# Print best parameters and score\n",
    "print(\"Best Parameters:\", grid_search.best_params_)\n",
    "print(\"Best ROC-AUC:\", grid_search.best_score_)"
   ]
  },
  {
   "cell_type": "code",
   "execution_count": 20,
   "metadata": {},
   "outputs": [
    {
     "name": "stdout",
     "output_type": "stream",
     "text": [
      "AUC-ROC score:  0.9025082842415317\n",
      "Accuracy:  0.853219696969697\n"
     ]
    }
   ],
   "source": [
    "# Evaluating the model\n",
    "\n",
    "# Predicting\n",
    "target_valid_pred = model.predict(features_valid)\n",
    "target_valid_pred_proba = model.predict_proba(features_valid)[:, 0]\n",
    "\n",
    "# Evaluating metrics\n",
    "auc_score = roc_auc_score(target_valid, target_valid_pred_proba)\n",
    "accuracy = accuracy_score(target_valid, target_valid_pred)\n",
    "\n",
    "# Printing metrics\n",
    "print(\"AUC-ROC score: \", (1-auc_score))\n",
    "print(\"Accuracy: \", accuracy)"
   ]
  },
  {
   "cell_type": "code",
   "execution_count": 21,
   "metadata": {},
   "outputs": [
    {
     "name": "stdout",
     "output_type": "stream",
     "text": [
      "AOC-ROC score:  0.9177917599148843\n",
      "Accuracy:  0.8713339640491958\n"
     ]
    }
   ],
   "source": [
    "# Final evaluation on the test set\n",
    "\n",
    "# Predictions\n",
    "target_test_pred = model.predict(features_test)\n",
    "target_test_pred_proba = model.predict_proba(features_test)[:, 0]\n",
    "\n",
    "# Evaluations\n",
    "auc_score_test = roc_auc_score(target_test, target_test_pred_proba)\n",
    "accuracy_test = accuracy_score(target_test, target_test_pred)\n",
    "\n",
    "# Printing metrics\n",
    "print(\"AOC-ROC score: \", (1-auc_score_test))\n",
    "print(\"Accuracy: \", accuracy_test)"
   ]
  },
  {
   "cell_type": "code",
   "execution_count": 22,
   "metadata": {},
   "outputs": [
    {
     "data": {
      "image/png": "[encoded data removed]",
      "text/plain": [
       "<Figure size 640x480 with 2 Axes>"
      ]
     },
     "metadata": {},
     "output_type": "display_data"
    }
   ],
   "source": [
    "# Create and display confusion matrix\n",
    "\n",
    "test_cmatrix = confusion_matrix(target_test, target_test_pred)\n",
    "\n",
    "# Create a display\n",
    "disp = ConfusionMatrixDisplay(confusion_matrix=test_cmatrix, display_labels=[\"Class 0\", \"Class 1\"])\n",
    "\n",
    "# Plot the confusion matrix\n",
    "disp.plot(cmap=plt.cm.Blues)\n",
    "plt.show()"
   ]
  },
  {
   "cell_type": "code",
   "execution_count": 23,
   "metadata": {
    "scrolled": false
   },
   "outputs": [
    {
     "name": "stdout",
     "output_type": "stream",
     "text": [
      "                                  Feature  Importance\n",
      "3                           type_Two year    0.151231\n",
      "34                    begindate_year_2020    0.098359\n",
      "13                       onlinebackup_nan    0.080606\n",
      "9                     internetservice_nan    0.071558\n",
      "8             internetservice_Fiber optic    0.071412\n",
      "33                    begindate_year_2019    0.057405\n",
      "2                           type_One year    0.044494\n",
      "28                    begindate_year_2014    0.024600\n",
      "6          paymentmethod_Electronic check    0.024363\n",
      "45                     begindate_month_12    0.016257\n",
      "41                      begindate_month_8    0.015132\n",
      "39                      begindate_month_6    0.014858\n",
      "29                    begindate_year_2015    0.014727\n",
      "38                      begindate_month_5    0.014045\n",
      "44                     begindate_month_11    0.013455\n",
      "11                     onlinesecurity_nan    0.013401\n",
      "42                      begindate_month_9    0.012885\n",
      "1                            totalcharges    0.012386\n",
      "40                      begindate_month_7    0.012250\n",
      "20                    streamingmovies_Yes    0.012148\n",
      "31                    begindate_year_2017    0.012066\n",
      "36                      begindate_month_3    0.011876\n",
      "26                      multiplelines_Yes    0.011529\n",
      "0                          monthlycharges    0.011524\n",
      "35                      begindate_month_2    0.011297\n",
      "32                    begindate_year_2018    0.011198\n",
      "43                     begindate_month_10    0.011072\n",
      "27                      multiplelines_nan    0.011017\n",
      "37                      begindate_month_4    0.011004\n",
      "30                    begindate_year_2016    0.010988\n",
      "10                     onlinesecurity_Yes    0.010918\n",
      "16                        techsupport_Yes    0.010819\n",
      "12                       onlinebackup_Yes    0.010040\n",
      "25                         dependents_Yes    0.009917\n",
      "7              paymentmethod_Mailed check    0.009877\n",
      "24                            partner_Yes    0.009583\n",
      "18                        streamingtv_Yes    0.009212\n",
      "5   paymentmethod_Credit card (automatic)    0.009028\n",
      "4                    paperlessbilling_Yes    0.008489\n",
      "14                   deviceprotection_Yes    0.008039\n",
      "22                            gender_Male    0.007788\n",
      "23                        seniorcitizen_1    0.007145\n",
      "15                   deviceprotection_nan    0.000000\n",
      "17                        techsupport_nan    0.000000\n",
      "19                        streamingtv_nan    0.000000\n",
      "21                    streamingmovies_nan    0.000000\n"
     ]
    }
   ],
   "source": [
    "# Feature Importance Analysis\n",
    "\n",
    "# Extract feature importance values\n",
    "importances = model.feature_importances_\n",
    "\n",
    "# Create a DataFrame for better visualization\n",
    "feature_importance_df = pd.DataFrame({\n",
    "    'Feature': features_train.columns,\n",
    "    'Importance': importances\n",
    "}).sort_values(by='Importance', ascending=False)\n",
    "\n",
    "print(feature_importance_df)"
   ]
  },
  {
   "cell_type": "markdown",
   "metadata": {},
   "source": [
    " "
   ]
  },
  {
   "cell_type": "markdown",
   "metadata": {},
   "source": [
    "# Conclusion:\n",
    "\n",
    "- The analysis revealed that the most critical factors influencing customer churn are the type of contract, internet service type, and payment method\n",
    "\n",
    "- Customers with two-year contracts are less likely to churn, while those with fiber-optic internet and electronic check payments are more prone to leaving\n",
    "\n",
    "- Additionally, temporal patterns, such as the year and month a customer began their service, also play a moderate role in predicting churn\n",
    "\n",
    "# Recommendations:\n",
    "\n",
    "To optimize retention efforts, Interconnect should prioritize offering special promotions to customers with high churn risk, particularly those on month-to-month contracts, using fiber-optic services, or paying via electronic check. By proactively targeting these at-risk segments with incentives such as discounts or upgrades, the company can effectively reduce churn and enhance customer loyalty. Future steps could involve continuously monitoring these predictors and refining the model as new data becomes available to maintain high accuracy in identifying at-risk customers."
   ]
  },
  {
   "cell_type": "markdown",
   "metadata": {},
   "source": [
    "<div class=\"alert alert-block alert-success\">\n",
    "<b>Reviewer's comment V1</b> <a class=\"tocSkip\"></a>\n",
    "\n",
    "You did a great job! Everything is correct. Well done! Based on your roc-auc score you achieved 6.0/6.0 sp. To be honest, not many students can achieve such a high score:)\n",
    "    \n",
    "Good luck with your new job search!\n",
    "    \n",
    "But you have one problem and you should know about for future:\n",
    "\n",
    "From the lesson you should now that you can change only train data but not validation and test, right? But GridSearchCV has a built in cross validation. If you put changed data into GridSearchCV both train and validation parts will be changed. And so all the metrcis will be biased and you will fine the best hyperparameters not for initial task but for the changed one. To avoid this problem you should use Pipeline https://scikit-learn.org/stable/modules/generated/sklearn.pipeline.Pipeline.html from sklearn and upsample/downsample/smote class from imblearn library: https://imbalanced-learn.org/stable/. This whill help you to apply resampling only to the train data inside GridSearchCV. And found hyperparameters will be the best one for initial task but not for the changed one.\n",
    "    \n",
    "This is about not only GridSearchCV but also about RandomizedSearchCV and cross_val_score. And that's why your merics on GridSearchCV is much better than on test data.\n",
    "\n",
    "</div>"
   ]
  },
  {
   "cell_type": "markdown",
   "metadata": {},
   "source": [
    "# Solution Report\n",
    "\n",
    "1. I performed every step of my plan except for a more in depth EDA. This is because the task's scope was clearly defined (predicting churn), and I already had an understanding of the dataset's variables from the basic analysis and basic domain knowledge. I believe this reduced the necessity of performing EDA to identify patterns or relationships manually.\n",
    "\n",
    "\n",
    "2. I ran into an issue where I accidentally balanced the entire dataset before splitting it into training and testing sets. This ended up causing some bias in my results. Fortunately, my code reviewer pointed out the mistake, and it was easy to fix— I just swapped the order of the code blocks so that the data was split first, and then balanced. Once I made that change, everything worked as expected.\n",
    "\n",
    "\n",
    "3. 4 Key Steps:\n",
    "    - Data Preprocessing: Cleaning and merging the datasets to prepare them for machine learning\n",
    "    \n",
    "    - Feature Engineering: Balancing the training dataset's classes and encoding categorical variables to improve model performance\n",
    "    \n",
    "    - Data Splitting: Dividing the dataset into training, validation, and testing sets to ensure fair evaluation \n",
    "    \n",
    "    - Model Training and Optimization: Training the model, using metrics like AUC-ROC, and tuning hyperparameters to maximize accuracy and reliability\n",
    "    \n",
    "    \n",
    "4. The final model is a Gradient Boosting Classifier using XGBoost. It achieved an AUC-ROC score of 0.918 and an accuracy of 0.871 on the test set"
   ]
  }
 ],
 "metadata": {
  "ExecuteTimeLog": [
   {
    "duration": 317,
    "start_time": "2024-11-13T05:08:45.738Z"
   },
   {
    "duration": 62,
    "start_time": "2024-11-13T05:08:48.890Z"
   },
   {
    "duration": 27,
    "start_time": "2024-11-13T05:13:23.815Z"
   },
   {
    "duration": 17,
    "start_time": "2024-11-13T05:13:50.590Z"
   },
   {
    "duration": 18,
    "start_time": "2024-11-13T05:14:07.153Z"
   },
   {
    "duration": 185,
    "start_time": "2024-11-13T05:17:50.514Z"
   },
   {
    "duration": 392,
    "start_time": "2024-11-13T05:18:37.920Z"
   },
   {
    "duration": 22,
    "start_time": "2024-11-13T05:19:20.996Z"
   },
   {
    "duration": 17,
    "start_time": "2024-11-13T05:20:37.455Z"
   },
   {
    "duration": 13,
    "start_time": "2024-11-13T05:21:53.020Z"
   },
   {
    "duration": 13,
    "start_time": "2024-11-13T05:22:07.136Z"
   },
   {
    "duration": 289,
    "start_time": "2024-11-13T05:22:26.256Z"
   },
   {
    "duration": 31,
    "start_time": "2024-11-13T05:22:26.547Z"
   },
   {
    "duration": 29,
    "start_time": "2024-11-13T05:22:26.580Z"
   },
   {
    "duration": 17,
    "start_time": "2024-11-13T05:22:26.610Z"
   },
   {
    "duration": 15,
    "start_time": "2024-11-13T05:22:26.630Z"
   },
   {
    "duration": 12,
    "start_time": "2024-11-13T05:22:26.646Z"
   },
   {
    "duration": 702,
    "start_time": "2024-11-13T05:26:35.018Z"
   },
   {
    "duration": 22,
    "start_time": "2024-11-13T05:26:53.291Z"
   },
   {
    "duration": 21,
    "start_time": "2024-11-13T05:27:24.882Z"
   },
   {
    "duration": 48,
    "start_time": "2024-11-13T05:27:46.827Z"
   },
   {
    "duration": 22,
    "start_time": "2024-11-13T05:28:12.781Z"
   },
   {
    "duration": 36,
    "start_time": "2024-11-13T05:28:26.539Z"
   },
   {
    "duration": 27,
    "start_time": "2024-11-13T05:30:42.497Z"
   },
   {
    "duration": 24,
    "start_time": "2024-11-13T05:31:02.845Z"
   },
   {
    "duration": 22,
    "start_time": "2024-11-13T05:32:03.818Z"
   },
   {
    "duration": 169,
    "start_time": "2024-11-19T07:05:05.562Z"
   },
   {
    "duration": 356,
    "start_time": "2024-11-19T07:05:10.922Z"
   },
   {
    "duration": 52,
    "start_time": "2024-11-19T07:05:11.280Z"
   },
   {
    "duration": 36,
    "start_time": "2024-11-19T07:05:11.334Z"
   },
   {
    "duration": 19,
    "start_time": "2024-11-19T07:05:11.372Z"
   },
   {
    "duration": 30,
    "start_time": "2024-11-19T07:05:11.394Z"
   },
   {
    "duration": 107,
    "start_time": "2024-11-19T07:05:11.426Z"
   },
   {
    "duration": 120,
    "start_time": "2024-11-19T07:05:27.627Z"
   },
   {
    "duration": 17,
    "start_time": "2024-11-19T07:05:54.011Z"
   },
   {
    "duration": 14,
    "start_time": "2024-11-19T07:06:15.082Z"
   },
   {
    "duration": 720,
    "start_time": "2024-11-19T07:20:40.502Z"
   },
   {
    "duration": 38,
    "start_time": "2024-11-19T07:20:41.224Z"
   },
   {
    "duration": 33,
    "start_time": "2024-11-19T07:20:41.263Z"
   },
   {
    "duration": 21,
    "start_time": "2024-11-19T07:20:41.297Z"
   },
   {
    "duration": 19,
    "start_time": "2024-11-19T07:20:41.320Z"
   },
   {
    "duration": 15,
    "start_time": "2024-11-19T07:20:41.341Z"
   },
   {
    "duration": 18,
    "start_time": "2024-11-19T07:20:41.357Z"
   },
   {
    "duration": 764,
    "start_time": "2024-11-19T07:24:14.423Z"
   },
   {
    "duration": 35,
    "start_time": "2024-11-19T07:24:15.189Z"
   },
   {
    "duration": 30,
    "start_time": "2024-11-19T07:24:15.225Z"
   },
   {
    "duration": 16,
    "start_time": "2024-11-19T07:24:15.257Z"
   },
   {
    "duration": 35,
    "start_time": "2024-11-19T07:24:15.276Z"
   },
   {
    "duration": 12,
    "start_time": "2024-11-19T07:24:15.312Z"
   },
   {
    "duration": 18,
    "start_time": "2024-11-19T07:24:15.326Z"
   },
   {
    "duration": 257,
    "start_time": "2024-11-19T07:26:25.326Z"
   },
   {
    "duration": 41,
    "start_time": "2024-11-19T07:27:04.026Z"
   },
   {
    "duration": 34,
    "start_time": "2024-11-19T07:29:24.685Z"
   },
   {
    "duration": 732,
    "start_time": "2024-11-19T07:29:32.178Z"
   },
   {
    "duration": 38,
    "start_time": "2024-11-19T07:29:32.912Z"
   },
   {
    "duration": 39,
    "start_time": "2024-11-19T07:29:32.952Z"
   },
   {
    "duration": 32,
    "start_time": "2024-11-19T07:29:32.993Z"
   },
   {
    "duration": 15,
    "start_time": "2024-11-19T07:29:33.028Z"
   },
   {
    "duration": 13,
    "start_time": "2024-11-19T07:29:33.045Z"
   },
   {
    "duration": 19,
    "start_time": "2024-11-19T07:29:33.060Z"
   },
   {
    "duration": 35,
    "start_time": "2024-11-19T07:29:33.110Z"
   },
   {
    "duration": 30,
    "start_time": "2024-11-19T07:32:03.233Z"
   },
   {
    "duration": 51,
    "start_time": "2024-11-19T07:37:32.907Z"
   },
   {
    "duration": 55,
    "start_time": "2024-11-19T07:38:22.049Z"
   },
   {
    "duration": 166,
    "start_time": "2024-11-19T07:38:56.733Z"
   },
   {
    "duration": 54,
    "start_time": "2024-11-19T07:39:05.367Z"
   },
   {
    "duration": 54,
    "start_time": "2024-11-19T07:40:27.320Z"
   },
   {
    "duration": 51,
    "start_time": "2024-11-19T07:40:39.419Z"
   },
   {
    "duration": 546,
    "start_time": "2024-11-19T07:42:24.569Z"
   },
   {
    "duration": 52,
    "start_time": "2024-11-19T07:42:37.945Z"
   },
   {
    "duration": 51,
    "start_time": "2024-11-19T07:43:02.657Z"
   },
   {
    "duration": 51,
    "start_time": "2024-11-19T07:43:08.563Z"
   },
   {
    "duration": 825,
    "start_time": "2024-11-27T07:08:29.289Z"
   },
   {
    "duration": 77,
    "start_time": "2024-11-27T07:08:30.117Z"
   },
   {
    "duration": 32,
    "start_time": "2024-11-27T07:08:30.196Z"
   },
   {
    "duration": 18,
    "start_time": "2024-11-27T07:08:30.230Z"
   },
   {
    "duration": 17,
    "start_time": "2024-11-27T07:08:30.251Z"
   },
   {
    "duration": 14,
    "start_time": "2024-11-27T07:08:30.270Z"
   },
   {
    "duration": 21,
    "start_time": "2024-11-27T07:08:30.286Z"
   },
   {
    "duration": 87,
    "start_time": "2024-11-27T07:08:30.308Z"
   },
   {
    "duration": 993,
    "start_time": "2024-11-27T07:15:10.074Z"
   },
   {
    "duration": 0,
    "start_time": "2024-11-27T07:15:11.069Z"
   },
   {
    "duration": 0,
    "start_time": "2024-11-27T07:15:11.070Z"
   },
   {
    "duration": 0,
    "start_time": "2024-11-27T07:15:11.072Z"
   },
   {
    "duration": 0,
    "start_time": "2024-11-27T07:15:11.073Z"
   },
   {
    "duration": 0,
    "start_time": "2024-11-27T07:15:11.074Z"
   },
   {
    "duration": 0,
    "start_time": "2024-11-27T07:15:11.075Z"
   },
   {
    "duration": 0,
    "start_time": "2024-11-27T07:15:11.076Z"
   },
   {
    "duration": 9257,
    "start_time": "2024-11-27T07:20:34.812Z"
   },
   {
    "duration": 14,
    "start_time": "2024-11-27T07:20:56.534Z"
   },
   {
    "duration": 9,
    "start_time": "2024-11-27T07:21:29.504Z"
   },
   {
    "duration": 13,
    "start_time": "2024-11-27T07:21:34.246Z"
   },
   {
    "duration": 22,
    "start_time": "2024-11-27T07:22:14.308Z"
   },
   {
    "duration": 14,
    "start_time": "2024-11-27T07:22:19.802Z"
   },
   {
    "duration": 761,
    "start_time": "2024-11-27T07:22:39.996Z"
   },
   {
    "duration": 1409,
    "start_time": "2024-11-27T07:22:50.126Z"
   },
   {
    "duration": 739,
    "start_time": "2024-11-27T07:24:48.423Z"
   },
   {
    "duration": 37,
    "start_time": "2024-11-27T07:24:49.165Z"
   },
   {
    "duration": 37,
    "start_time": "2024-11-27T07:24:49.205Z"
   },
   {
    "duration": 17,
    "start_time": "2024-11-27T07:24:49.245Z"
   },
   {
    "duration": 17,
    "start_time": "2024-11-27T07:24:49.264Z"
   },
   {
    "duration": 13,
    "start_time": "2024-11-27T07:24:49.282Z"
   },
   {
    "duration": 47,
    "start_time": "2024-11-27T07:24:49.296Z"
   },
   {
    "duration": 53,
    "start_time": "2024-11-27T07:24:49.346Z"
   },
   {
    "duration": 14,
    "start_time": "2024-11-27T07:26:05.533Z"
   },
   {
    "duration": 13,
    "start_time": "2024-11-27T07:27:34.225Z"
   },
   {
    "duration": 5,
    "start_time": "2024-11-27T07:28:50.767Z"
   },
   {
    "duration": 234,
    "start_time": "2024-11-27T07:30:33.009Z"
   },
   {
    "duration": 838,
    "start_time": "2024-11-27T07:30:36.444Z"
   },
   {
    "duration": 34,
    "start_time": "2024-11-27T07:30:37.284Z"
   },
   {
    "duration": 36,
    "start_time": "2024-11-27T07:30:37.320Z"
   },
   {
    "duration": 18,
    "start_time": "2024-11-27T07:30:37.358Z"
   },
   {
    "duration": 17,
    "start_time": "2024-11-27T07:30:37.380Z"
   },
   {
    "duration": 44,
    "start_time": "2024-11-27T07:30:37.399Z"
   },
   {
    "duration": 21,
    "start_time": "2024-11-27T07:30:37.444Z"
   },
   {
    "duration": 56,
    "start_time": "2024-11-27T07:30:37.466Z"
   },
   {
    "duration": 31,
    "start_time": "2024-11-27T07:30:37.524Z"
   },
   {
    "duration": 10,
    "start_time": "2024-11-27T07:30:37.557Z"
   },
   {
    "duration": 222,
    "start_time": "2024-11-27T07:34:23.140Z"
   },
   {
    "duration": 811,
    "start_time": "2024-11-27T07:34:28.394Z"
   },
   {
    "duration": 34,
    "start_time": "2024-11-27T07:34:29.207Z"
   },
   {
    "duration": 31,
    "start_time": "2024-11-27T07:34:29.243Z"
   },
   {
    "duration": 19,
    "start_time": "2024-11-27T07:34:29.276Z"
   },
   {
    "duration": 47,
    "start_time": "2024-11-27T07:34:29.298Z"
   },
   {
    "duration": 15,
    "start_time": "2024-11-27T07:34:29.346Z"
   },
   {
    "duration": 19,
    "start_time": "2024-11-27T07:34:29.363Z"
   },
   {
    "duration": 77,
    "start_time": "2024-11-27T07:34:29.384Z"
   },
   {
    "duration": 13,
    "start_time": "2024-11-27T07:34:29.464Z"
   },
   {
    "duration": 9,
    "start_time": "2024-11-27T07:34:29.479Z"
   },
   {
    "duration": 640,
    "start_time": "2024-11-27T07:34:29.489Z"
   },
   {
    "duration": 8,
    "start_time": "2024-11-27T07:35:32.760Z"
   },
   {
    "duration": 817,
    "start_time": "2024-11-27T07:35:36.102Z"
   },
   {
    "duration": 40,
    "start_time": "2024-11-27T07:35:36.922Z"
   },
   {
    "duration": 33,
    "start_time": "2024-11-27T07:35:36.964Z"
   },
   {
    "duration": 18,
    "start_time": "2024-11-27T07:35:36.999Z"
   },
   {
    "duration": 36,
    "start_time": "2024-11-27T07:35:37.019Z"
   },
   {
    "duration": 14,
    "start_time": "2024-11-27T07:35:37.056Z"
   },
   {
    "duration": 20,
    "start_time": "2024-11-27T07:35:37.072Z"
   },
   {
    "duration": 86,
    "start_time": "2024-11-27T07:35:37.094Z"
   },
   {
    "duration": 16,
    "start_time": "2024-11-27T07:35:37.181Z"
   },
   {
    "duration": 9,
    "start_time": "2024-11-27T07:35:37.198Z"
   },
   {
    "duration": 625,
    "start_time": "2024-11-27T07:35:37.210Z"
   },
   {
    "duration": 200,
    "start_time": "2024-11-27T07:36:37.439Z"
   },
   {
    "duration": 49,
    "start_time": "2024-11-27T07:36:47.250Z"
   },
   {
    "duration": 807,
    "start_time": "2024-11-27T07:37:27.704Z"
   },
   {
    "duration": 35,
    "start_time": "2024-11-27T07:37:28.513Z"
   },
   {
    "duration": 34,
    "start_time": "2024-11-27T07:37:28.550Z"
   },
   {
    "duration": 19,
    "start_time": "2024-11-27T07:37:28.586Z"
   },
   {
    "duration": 43,
    "start_time": "2024-11-27T07:37:28.608Z"
   },
   {
    "duration": 14,
    "start_time": "2024-11-27T07:37:28.653Z"
   },
   {
    "duration": 18,
    "start_time": "2024-11-27T07:37:28.670Z"
   },
   {
    "duration": 76,
    "start_time": "2024-11-27T07:37:28.690Z"
   },
   {
    "duration": 14,
    "start_time": "2024-11-27T07:37:28.768Z"
   },
   {
    "duration": 9,
    "start_time": "2024-11-27T07:37:28.783Z"
   },
   {
    "duration": 411,
    "start_time": "2024-11-27T07:37:28.794Z"
   },
   {
    "duration": 330,
    "start_time": "2024-12-05T06:09:34.857Z"
   },
   {
    "duration": 1034,
    "start_time": "2024-12-05T06:09:40.062Z"
   },
   {
    "duration": 75,
    "start_time": "2024-12-05T06:09:41.098Z"
   },
   {
    "duration": 43,
    "start_time": "2024-12-05T06:09:41.183Z"
   },
   {
    "duration": 23,
    "start_time": "2024-12-05T06:09:41.228Z"
   },
   {
    "duration": 36,
    "start_time": "2024-12-05T06:09:41.255Z"
   },
   {
    "duration": 16,
    "start_time": "2024-12-05T06:09:41.294Z"
   },
   {
    "duration": 26,
    "start_time": "2024-12-05T06:09:41.311Z"
   },
   {
    "duration": 102,
    "start_time": "2024-12-05T06:09:41.339Z"
   },
   {
    "duration": 17,
    "start_time": "2024-12-05T06:09:41.445Z"
   },
   {
    "duration": 16,
    "start_time": "2024-12-05T06:09:41.464Z"
   },
   {
    "duration": 628,
    "start_time": "2024-12-05T06:09:41.486Z"
   },
   {
    "duration": 48,
    "start_time": "2024-12-05T06:11:24.214Z"
   },
   {
    "duration": 3,
    "start_time": "2024-12-05T06:18:18.957Z"
   },
   {
    "duration": 861,
    "start_time": "2024-12-05T06:31:03.551Z"
   },
   {
    "duration": 40,
    "start_time": "2024-12-05T06:31:04.415Z"
   },
   {
    "duration": 39,
    "start_time": "2024-12-05T06:31:04.462Z"
   },
   {
    "duration": 18,
    "start_time": "2024-12-05T06:31:04.504Z"
   },
   {
    "duration": 17,
    "start_time": "2024-12-05T06:31:04.523Z"
   },
   {
    "duration": 47,
    "start_time": "2024-12-05T06:31:04.542Z"
   },
   {
    "duration": 24,
    "start_time": "2024-12-05T06:31:04.591Z"
   },
   {
    "duration": 8,
    "start_time": "2024-12-05T06:31:04.618Z"
   },
   {
    "duration": 87,
    "start_time": "2024-12-05T06:31:04.628Z"
   },
   {
    "duration": 16,
    "start_time": "2024-12-05T06:31:04.717Z"
   },
   {
    "duration": 967,
    "start_time": "2024-12-05T06:31:04.736Z"
   },
   {
    "duration": 0,
    "start_time": "2024-12-05T06:31:05.705Z"
   },
   {
    "duration": 0,
    "start_time": "2024-12-05T06:31:05.706Z"
   },
   {
    "duration": 834,
    "start_time": "2024-12-05T06:33:57.331Z"
   },
   {
    "duration": 37,
    "start_time": "2024-12-05T06:33:58.168Z"
   },
   {
    "duration": 34,
    "start_time": "2024-12-05T06:33:58.207Z"
   },
   {
    "duration": 44,
    "start_time": "2024-12-05T06:33:58.243Z"
   },
   {
    "duration": 17,
    "start_time": "2024-12-05T06:33:58.289Z"
   },
   {
    "duration": 14,
    "start_time": "2024-12-05T06:33:58.307Z"
   },
   {
    "duration": 18,
    "start_time": "2024-12-05T06:33:58.323Z"
   },
   {
    "duration": 10,
    "start_time": "2024-12-05T06:33:58.343Z"
   },
   {
    "duration": 108,
    "start_time": "2024-12-05T06:33:58.354Z"
   },
   {
    "duration": 24,
    "start_time": "2024-12-05T06:33:58.466Z"
   },
   {
    "duration": 974,
    "start_time": "2024-12-05T06:33:58.492Z"
   },
   {
    "duration": 0,
    "start_time": "2024-12-05T06:33:59.468Z"
   },
   {
    "duration": 0,
    "start_time": "2024-12-05T06:33:59.471Z"
   },
   {
    "duration": 846,
    "start_time": "2024-12-05T06:36:24.217Z"
   },
   {
    "duration": 34,
    "start_time": "2024-12-05T06:36:25.065Z"
   },
   {
    "duration": 39,
    "start_time": "2024-12-05T06:36:25.102Z"
   },
   {
    "duration": 19,
    "start_time": "2024-12-05T06:36:25.144Z"
   },
   {
    "duration": 39,
    "start_time": "2024-12-05T06:36:25.165Z"
   },
   {
    "duration": 13,
    "start_time": "2024-12-05T06:36:25.206Z"
   },
   {
    "duration": 23,
    "start_time": "2024-12-05T06:36:25.221Z"
   },
   {
    "duration": 256,
    "start_time": "2024-12-05T06:36:25.246Z"
   },
   {
    "duration": 0,
    "start_time": "2024-12-05T06:36:25.504Z"
   },
   {
    "duration": 0,
    "start_time": "2024-12-05T06:36:25.505Z"
   },
   {
    "duration": 0,
    "start_time": "2024-12-05T06:36:25.505Z"
   },
   {
    "duration": 0,
    "start_time": "2024-12-05T06:36:25.506Z"
   },
   {
    "duration": 0,
    "start_time": "2024-12-05T06:36:25.507Z"
   },
   {
    "duration": 928,
    "start_time": "2024-12-05T06:36:38.893Z"
   },
   {
    "duration": 42,
    "start_time": "2024-12-05T06:36:39.824Z"
   },
   {
    "duration": 33,
    "start_time": "2024-12-05T06:36:39.868Z"
   },
   {
    "duration": 19,
    "start_time": "2024-12-05T06:36:39.903Z"
   },
   {
    "duration": 16,
    "start_time": "2024-12-05T06:36:39.925Z"
   },
   {
    "duration": 44,
    "start_time": "2024-12-05T06:36:39.943Z"
   },
   {
    "duration": 20,
    "start_time": "2024-12-05T06:36:39.989Z"
   },
   {
    "duration": 13,
    "start_time": "2024-12-05T06:36:40.011Z"
   },
   {
    "duration": 73,
    "start_time": "2024-12-05T06:36:40.027Z"
   },
   {
    "duration": 649,
    "start_time": "2024-12-05T06:36:40.102Z"
   },
   {
    "duration": 0,
    "start_time": "2024-12-05T06:36:40.752Z"
   },
   {
    "duration": 0,
    "start_time": "2024-12-05T06:36:40.753Z"
   },
   {
    "duration": 0,
    "start_time": "2024-12-05T06:36:40.755Z"
   },
   {
    "duration": 27,
    "start_time": "2024-12-05T06:38:19.964Z"
   },
   {
    "duration": 789,
    "start_time": "2024-12-05T06:38:27.365Z"
   },
   {
    "duration": 31,
    "start_time": "2024-12-05T06:38:28.156Z"
   },
   {
    "duration": 29,
    "start_time": "2024-12-05T06:38:28.189Z"
   },
   {
    "duration": 20,
    "start_time": "2024-12-05T06:38:28.220Z"
   },
   {
    "duration": 17,
    "start_time": "2024-12-05T06:38:28.244Z"
   },
   {
    "duration": 16,
    "start_time": "2024-12-05T06:38:28.287Z"
   },
   {
    "duration": 25,
    "start_time": "2024-12-05T06:38:28.305Z"
   },
   {
    "duration": 15,
    "start_time": "2024-12-05T06:38:28.332Z"
   },
   {
    "duration": 89,
    "start_time": "2024-12-05T06:38:28.349Z"
   },
   {
    "duration": 15,
    "start_time": "2024-12-05T06:38:28.440Z"
   },
   {
    "duration": 955,
    "start_time": "2024-12-05T06:38:28.457Z"
   },
   {
    "duration": 1,
    "start_time": "2024-12-05T06:38:29.414Z"
   },
   {
    "duration": 13,
    "start_time": "2024-12-05T06:40:55.284Z"
   },
   {
    "duration": 850,
    "start_time": "2024-12-05T06:41:00.436Z"
   },
   {
    "duration": 34,
    "start_time": "2024-12-05T06:41:01.288Z"
   },
   {
    "duration": 32,
    "start_time": "2024-12-05T06:41:01.323Z"
   },
   {
    "duration": 35,
    "start_time": "2024-12-05T06:41:01.357Z"
   },
   {
    "duration": 17,
    "start_time": "2024-12-05T06:41:01.395Z"
   },
   {
    "duration": 14,
    "start_time": "2024-12-05T06:41:01.414Z"
   },
   {
    "duration": 25,
    "start_time": "2024-12-05T06:41:01.429Z"
   },
   {
    "duration": 36,
    "start_time": "2024-12-05T06:41:01.458Z"
   },
   {
    "duration": 62,
    "start_time": "2024-12-05T06:41:01.496Z"
   },
   {
    "duration": 31,
    "start_time": "2024-12-05T06:41:01.561Z"
   },
   {
    "duration": 8,
    "start_time": "2024-12-05T06:41:01.594Z"
   },
   {
    "duration": 417,
    "start_time": "2024-12-05T06:41:01.604Z"
   },
   {
    "duration": 42360,
    "start_time": "2024-12-05T06:41:42.258Z"
   },
   {
    "duration": 40270,
    "start_time": "2024-12-05T06:44:01.950Z"
   },
   {
    "duration": 801,
    "start_time": "2024-12-15T05:55:47.340Z"
   },
   {
    "duration": 76,
    "start_time": "2024-12-15T05:55:48.143Z"
   },
   {
    "duration": 30,
    "start_time": "2024-12-15T05:55:48.220Z"
   },
   {
    "duration": 17,
    "start_time": "2024-12-15T05:55:48.252Z"
   },
   {
    "duration": 16,
    "start_time": "2024-12-15T05:55:48.270Z"
   },
   {
    "duration": 35,
    "start_time": "2024-12-15T05:55:48.287Z"
   },
   {
    "duration": 18,
    "start_time": "2024-12-15T05:55:48.324Z"
   },
   {
    "duration": 12,
    "start_time": "2024-12-15T05:55:48.343Z"
   },
   {
    "duration": 75,
    "start_time": "2024-12-15T05:55:48.356Z"
   },
   {
    "duration": 15,
    "start_time": "2024-12-15T05:55:48.435Z"
   },
   {
    "duration": 8,
    "start_time": "2024-12-15T05:55:48.451Z"
   },
   {
    "duration": 854,
    "start_time": "2024-12-15T05:55:48.461Z"
   },
   {
    "duration": 6,
    "start_time": "2024-12-15T05:55:49.317Z"
   },
   {
    "duration": 285,
    "start_time": "2024-12-15T06:06:14.524Z"
   },
   {
    "duration": 808,
    "start_time": "2024-12-15T06:06:35.326Z"
   },
   {
    "duration": 36,
    "start_time": "2024-12-15T06:06:36.136Z"
   },
   {
    "duration": 29,
    "start_time": "2024-12-15T06:06:36.173Z"
   },
   {
    "duration": 22,
    "start_time": "2024-12-15T06:06:36.204Z"
   },
   {
    "duration": 15,
    "start_time": "2024-12-15T06:06:36.228Z"
   },
   {
    "duration": 12,
    "start_time": "2024-12-15T06:06:36.245Z"
   },
   {
    "duration": 17,
    "start_time": "2024-12-15T06:06:36.258Z"
   },
   {
    "duration": 40,
    "start_time": "2024-12-15T06:06:36.277Z"
   },
   {
    "duration": 59,
    "start_time": "2024-12-15T06:06:36.318Z"
   },
   {
    "duration": 14,
    "start_time": "2024-12-15T06:06:36.379Z"
   },
   {
    "duration": 22,
    "start_time": "2024-12-15T06:06:36.394Z"
   },
   {
    "duration": 912,
    "start_time": "2024-12-15T06:06:36.417Z"
   },
   {
    "duration": 12,
    "start_time": "2024-12-15T06:06:37.331Z"
   },
   {
    "duration": 19,
    "start_time": "2024-12-15T06:07:36.988Z"
   },
   {
    "duration": 751,
    "start_time": "2024-12-15T06:09:11.384Z"
   },
   {
    "duration": 31,
    "start_time": "2024-12-15T06:09:12.137Z"
   },
   {
    "duration": 29,
    "start_time": "2024-12-15T06:09:12.170Z"
   },
   {
    "duration": 17,
    "start_time": "2024-12-15T06:09:12.212Z"
   },
   {
    "duration": 15,
    "start_time": "2024-12-15T06:09:12.231Z"
   },
   {
    "duration": 12,
    "start_time": "2024-12-15T06:09:12.247Z"
   },
   {
    "duration": 17,
    "start_time": "2024-12-15T06:09:12.260Z"
   },
   {
    "duration": 40,
    "start_time": "2024-12-15T06:09:12.278Z"
   },
   {
    "duration": 54,
    "start_time": "2024-12-15T06:09:12.320Z"
   },
   {
    "duration": 15,
    "start_time": "2024-12-15T06:09:12.376Z"
   },
   {
    "duration": 25,
    "start_time": "2024-12-15T06:09:12.393Z"
   },
   {
    "duration": 817,
    "start_time": "2024-12-15T06:09:12.420Z"
   },
   {
    "duration": 80,
    "start_time": "2024-12-15T06:09:13.239Z"
   },
   {
    "duration": 208,
    "start_time": "2024-12-15T06:12:48.882Z"
   },
   {
    "duration": 78498,
    "start_time": "2024-12-15T06:13:25.331Z"
   },
   {
    "duration": 79298,
    "start_time": "2024-12-15T06:17:47.225Z"
   },
   {
    "duration": 756,
    "start_time": "2024-12-15T06:28:51.311Z"
   },
   {
    "duration": 36,
    "start_time": "2024-12-15T06:28:52.069Z"
   },
   {
    "duration": 29,
    "start_time": "2024-12-15T06:28:52.107Z"
   },
   {
    "duration": 16,
    "start_time": "2024-12-15T06:28:52.138Z"
   },
   {
    "duration": 15,
    "start_time": "2024-12-15T06:28:52.157Z"
   },
   {
    "duration": 40,
    "start_time": "2024-12-15T06:28:52.174Z"
   },
   {
    "duration": 18,
    "start_time": "2024-12-15T06:28:52.216Z"
   },
   {
    "duration": 12,
    "start_time": "2024-12-15T06:28:52.235Z"
   },
   {
    "duration": 75,
    "start_time": "2024-12-15T06:28:52.248Z"
   },
   {
    "duration": 13,
    "start_time": "2024-12-15T06:28:52.325Z"
   },
   {
    "duration": 7,
    "start_time": "2024-12-15T06:28:52.340Z"
   },
   {
    "duration": 1186,
    "start_time": "2024-12-15T06:28:52.349Z"
   },
   {
    "duration": 79594,
    "start_time": "2024-12-15T06:28:53.537Z"
   },
   {
    "duration": 80,
    "start_time": "2024-12-15T06:30:13.133Z"
   },
   {
    "duration": 219,
    "start_time": "2024-12-15T06:38:02.193Z"
   },
   {
    "duration": 16,
    "start_time": "2024-12-15T06:38:09.550Z"
   },
   {
    "duration": 14,
    "start_time": "2024-12-15T06:38:31.607Z"
   },
   {
    "duration": 17,
    "start_time": "2024-12-15T06:39:21.966Z"
   },
   {
    "duration": 2,
    "start_time": "2024-12-15T06:41:59.624Z"
   },
   {
    "duration": 6,
    "start_time": "2024-12-15T06:42:04.088Z"
   },
   {
    "duration": 758,
    "start_time": "2024-12-15T10:23:26.055Z"
   },
   {
    "duration": 65,
    "start_time": "2024-12-15T10:23:26.815Z"
   },
   {
    "duration": 586,
    "start_time": "2024-12-15T10:23:32.893Z"
   },
   {
    "duration": 7,
    "start_time": "2024-12-15T10:23:41.053Z"
   },
   {
    "duration": 5,
    "start_time": "2024-12-15T10:23:44.845Z"
   },
   {
    "duration": 4,
    "start_time": "2024-12-15T10:23:47.530Z"
   },
   {
    "duration": 6,
    "start_time": "2024-12-15T10:23:54.979Z"
   },
   {
    "duration": 4,
    "start_time": "2024-12-15T10:23:57.973Z"
   },
   {
    "duration": 835,
    "start_time": "2024-12-19T06:17:34.968Z"
   },
   {
    "duration": 59,
    "start_time": "2024-12-19T06:17:35.805Z"
   },
   {
    "duration": 29,
    "start_time": "2024-12-19T06:17:35.866Z"
   },
   {
    "duration": 17,
    "start_time": "2024-12-19T06:17:35.896Z"
   },
   {
    "duration": 17,
    "start_time": "2024-12-19T06:17:35.915Z"
   },
   {
    "duration": 13,
    "start_time": "2024-12-19T06:17:35.933Z"
   },
   {
    "duration": 19,
    "start_time": "2024-12-19T06:17:35.947Z"
   },
   {
    "duration": 12,
    "start_time": "2024-12-19T06:17:35.968Z"
   },
   {
    "duration": 80,
    "start_time": "2024-12-19T06:17:35.982Z"
   },
   {
    "duration": 13,
    "start_time": "2024-12-19T06:17:36.064Z"
   },
   {
    "duration": 496,
    "start_time": "2024-12-19T06:17:36.079Z"
   },
   {
    "duration": 0,
    "start_time": "2024-12-19T06:17:36.577Z"
   },
   {
    "duration": 0,
    "start_time": "2024-12-19T06:17:36.579Z"
   },
   {
    "duration": 0,
    "start_time": "2024-12-19T06:17:36.580Z"
   },
   {
    "duration": 0,
    "start_time": "2024-12-19T06:17:36.582Z"
   },
   {
    "duration": 0,
    "start_time": "2024-12-19T06:17:36.583Z"
   },
   {
    "duration": 35,
    "start_time": "2024-12-19T06:24:48.842Z"
   },
   {
    "duration": 31,
    "start_time": "2024-12-19T06:25:05.393Z"
   },
   {
    "duration": 33,
    "start_time": "2024-12-19T06:26:04.825Z"
   },
   {
    "duration": 844,
    "start_time": "2024-12-19T06:26:57.748Z"
   },
   {
    "duration": 33,
    "start_time": "2024-12-19T06:26:58.595Z"
   },
   {
    "duration": 30,
    "start_time": "2024-12-19T06:26:58.630Z"
   },
   {
    "duration": 17,
    "start_time": "2024-12-19T06:26:58.662Z"
   },
   {
    "duration": 16,
    "start_time": "2024-12-19T06:26:58.681Z"
   },
   {
    "duration": 40,
    "start_time": "2024-12-19T06:26:58.698Z"
   },
   {
    "duration": 18,
    "start_time": "2024-12-19T06:26:58.740Z"
   },
   {
    "duration": 13,
    "start_time": "2024-12-19T06:26:58.759Z"
   },
   {
    "duration": 76,
    "start_time": "2024-12-19T06:26:58.774Z"
   },
   {
    "duration": 13,
    "start_time": "2024-12-19T06:26:58.852Z"
   },
   {
    "duration": 501,
    "start_time": "2024-12-19T06:26:58.867Z"
   },
   {
    "duration": 0,
    "start_time": "2024-12-19T06:26:59.370Z"
   },
   {
    "duration": 1,
    "start_time": "2024-12-19T06:26:59.370Z"
   },
   {
    "duration": 0,
    "start_time": "2024-12-19T06:26:59.371Z"
   },
   {
    "duration": 0,
    "start_time": "2024-12-19T06:26:59.372Z"
   },
   {
    "duration": 0,
    "start_time": "2024-12-19T06:26:59.373Z"
   },
   {
    "duration": 810,
    "start_time": "2024-12-19T06:27:31.161Z"
   },
   {
    "duration": 31,
    "start_time": "2024-12-19T06:27:31.974Z"
   },
   {
    "duration": 33,
    "start_time": "2024-12-19T06:27:32.007Z"
   },
   {
    "duration": 16,
    "start_time": "2024-12-19T06:27:32.042Z"
   },
   {
    "duration": 15,
    "start_time": "2024-12-19T06:27:32.060Z"
   },
   {
    "duration": 12,
    "start_time": "2024-12-19T06:27:32.077Z"
   },
   {
    "duration": 51,
    "start_time": "2024-12-19T06:27:32.091Z"
   },
   {
    "duration": 12,
    "start_time": "2024-12-19T06:27:32.144Z"
   },
   {
    "duration": 54,
    "start_time": "2024-12-19T06:27:32.157Z"
   },
   {
    "duration": 29,
    "start_time": "2024-12-19T06:27:32.212Z"
   },
   {
    "duration": 507,
    "start_time": "2024-12-19T06:27:32.243Z"
   },
   {
    "duration": 0,
    "start_time": "2024-12-19T06:27:32.752Z"
   },
   {
    "duration": 0,
    "start_time": "2024-12-19T06:27:32.754Z"
   },
   {
    "duration": 1,
    "start_time": "2024-12-19T06:27:32.755Z"
   },
   {
    "duration": 0,
    "start_time": "2024-12-19T06:27:32.757Z"
   },
   {
    "duration": 0,
    "start_time": "2024-12-19T06:27:32.758Z"
   },
   {
    "duration": 12,
    "start_time": "2024-12-19T06:29:37.044Z"
   },
   {
    "duration": 752,
    "start_time": "2024-12-19T06:30:02.904Z"
   },
   {
    "duration": 32,
    "start_time": "2024-12-19T06:30:03.658Z"
   },
   {
    "duration": 30,
    "start_time": "2024-12-19T06:30:03.692Z"
   },
   {
    "duration": 16,
    "start_time": "2024-12-19T06:30:03.732Z"
   },
   {
    "duration": 15,
    "start_time": "2024-12-19T06:30:03.751Z"
   },
   {
    "duration": 12,
    "start_time": "2024-12-19T06:30:03.767Z"
   },
   {
    "duration": 19,
    "start_time": "2024-12-19T06:30:03.780Z"
   },
   {
    "duration": 41,
    "start_time": "2024-12-19T06:30:03.801Z"
   },
   {
    "duration": 55,
    "start_time": "2024-12-19T06:30:03.844Z"
   },
   {
    "duration": 30,
    "start_time": "2024-12-19T06:30:03.901Z"
   },
   {
    "duration": 13,
    "start_time": "2024-12-19T06:30:03.933Z"
   },
   {
    "duration": 1098,
    "start_time": "2024-12-19T06:30:03.948Z"
   },
   {
    "duration": 58492,
    "start_time": "2024-12-19T06:30:05.047Z"
   },
   {
    "duration": 14,
    "start_time": "2024-12-19T06:31:03.543Z"
   },
   {
    "duration": 12,
    "start_time": "2024-12-19T06:31:03.631Z"
   },
   {
    "duration": 6,
    "start_time": "2024-12-19T06:31:03.646Z"
   },
   {
    "duration": 25,
    "start_time": "2024-12-19T06:34:24.324Z"
   },
   {
    "duration": 498,
    "start_time": "2024-12-19T06:35:19.870Z"
   },
   {
    "duration": 770,
    "start_time": "2024-12-19T06:35:27.707Z"
   },
   {
    "duration": 33,
    "start_time": "2024-12-19T06:35:28.480Z"
   },
   {
    "duration": 35,
    "start_time": "2024-12-19T06:35:28.517Z"
   },
   {
    "duration": 16,
    "start_time": "2024-12-19T06:35:28.555Z"
   },
   {
    "duration": 17,
    "start_time": "2024-12-19T06:35:28.573Z"
   },
   {
    "duration": 43,
    "start_time": "2024-12-19T06:35:28.593Z"
   },
   {
    "duration": 18,
    "start_time": "2024-12-19T06:35:28.638Z"
   },
   {
    "duration": 12,
    "start_time": "2024-12-19T06:35:28.658Z"
   },
   {
    "duration": 70,
    "start_time": "2024-12-19T06:35:28.671Z"
   },
   {
    "duration": 13,
    "start_time": "2024-12-19T06:35:28.744Z"
   },
   {
    "duration": 15,
    "start_time": "2024-12-19T06:35:28.759Z"
   },
   {
    "duration": 23,
    "start_time": "2024-12-19T06:35:28.777Z"
   },
   {
    "duration": 433,
    "start_time": "2024-12-19T06:35:28.803Z"
   },
   {
    "duration": 62507,
    "start_time": "2024-12-19T06:35:29.238Z"
   },
   {
    "duration": 88,
    "start_time": "2024-12-19T06:36:31.747Z"
   },
   {
    "duration": 12,
    "start_time": "2024-12-19T06:36:31.837Z"
   },
   {
    "duration": 9,
    "start_time": "2024-12-19T06:36:31.851Z"
   },
   {
    "duration": 786,
    "start_time": "2024-12-19T06:41:22.189Z"
   },
   {
    "duration": 33,
    "start_time": "2024-12-19T06:41:22.977Z"
   },
   {
    "duration": 36,
    "start_time": "2024-12-19T06:41:23.011Z"
   },
   {
    "duration": 16,
    "start_time": "2024-12-19T06:41:23.049Z"
   },
   {
    "duration": 17,
    "start_time": "2024-12-19T06:41:23.067Z"
   },
   {
    "duration": 14,
    "start_time": "2024-12-19T06:41:23.086Z"
   },
   {
    "duration": 21,
    "start_time": "2024-12-19T06:41:23.131Z"
   },
   {
    "duration": 13,
    "start_time": "2024-12-19T06:41:23.154Z"
   },
   {
    "duration": 78,
    "start_time": "2024-12-19T06:41:23.170Z"
   },
   {
    "duration": 15,
    "start_time": "2024-12-19T06:41:23.250Z"
   },
   {
    "duration": 226,
    "start_time": "2024-12-19T06:41:23.267Z"
   },
   {
    "duration": 0,
    "start_time": "2024-12-19T06:41:23.496Z"
   },
   {
    "duration": 0,
    "start_time": "2024-12-19T06:41:23.497Z"
   },
   {
    "duration": 0,
    "start_time": "2024-12-19T06:41:23.498Z"
   },
   {
    "duration": 0,
    "start_time": "2024-12-19T06:41:23.499Z"
   },
   {
    "duration": 0,
    "start_time": "2024-12-19T06:41:23.500Z"
   },
   {
    "duration": 0,
    "start_time": "2024-12-19T06:41:23.502Z"
   },
   {
    "duration": 812,
    "start_time": "2024-12-19T06:41:33.547Z"
   },
   {
    "duration": 30,
    "start_time": "2024-12-19T06:41:34.362Z"
   },
   {
    "duration": 29,
    "start_time": "2024-12-19T06:41:34.393Z"
   },
   {
    "duration": 16,
    "start_time": "2024-12-19T06:41:34.431Z"
   },
   {
    "duration": 15,
    "start_time": "2024-12-19T06:41:34.450Z"
   },
   {
    "duration": 11,
    "start_time": "2024-12-19T06:41:34.467Z"
   },
   {
    "duration": 17,
    "start_time": "2024-12-19T06:41:34.481Z"
   },
   {
    "duration": 40,
    "start_time": "2024-12-19T06:41:34.499Z"
   },
   {
    "duration": 56,
    "start_time": "2024-12-19T06:41:34.541Z"
   },
   {
    "duration": 14,
    "start_time": "2024-12-19T06:41:34.599Z"
   },
   {
    "duration": 215,
    "start_time": "2024-12-19T06:41:34.631Z"
   },
   {
    "duration": 0,
    "start_time": "2024-12-19T06:41:34.848Z"
   },
   {
    "duration": 0,
    "start_time": "2024-12-19T06:41:34.849Z"
   },
   {
    "duration": 0,
    "start_time": "2024-12-19T06:41:34.851Z"
   },
   {
    "duration": 0,
    "start_time": "2024-12-19T06:41:34.851Z"
   },
   {
    "duration": 0,
    "start_time": "2024-12-19T06:41:34.852Z"
   },
   {
    "duration": 751,
    "start_time": "2024-12-19T06:42:06.813Z"
   },
   {
    "duration": 31,
    "start_time": "2024-12-19T06:42:07.566Z"
   },
   {
    "duration": 38,
    "start_time": "2024-12-19T06:42:07.598Z"
   },
   {
    "duration": 23,
    "start_time": "2024-12-19T06:42:07.638Z"
   },
   {
    "duration": 21,
    "start_time": "2024-12-19T06:42:07.664Z"
   },
   {
    "duration": 12,
    "start_time": "2024-12-19T06:42:07.687Z"
   },
   {
    "duration": 34,
    "start_time": "2024-12-19T06:42:07.700Z"
   },
   {
    "duration": 13,
    "start_time": "2024-12-19T06:42:07.736Z"
   },
   {
    "duration": 54,
    "start_time": "2024-12-19T06:42:07.751Z"
   },
   {
    "duration": 32,
    "start_time": "2024-12-19T06:42:07.806Z"
   },
   {
    "duration": 9,
    "start_time": "2024-12-19T06:42:07.841Z"
   },
   {
    "duration": 497,
    "start_time": "2024-12-19T06:42:07.852Z"
   },
   {
    "duration": 80108,
    "start_time": "2024-12-19T06:42:08.350Z"
   },
   {
    "duration": 79,
    "start_time": "2024-12-19T06:43:28.461Z"
   },
   {
    "duration": 10,
    "start_time": "2024-12-19T06:43:28.543Z"
   },
   {
    "duration": 6,
    "start_time": "2024-12-19T06:43:28.556Z"
   },
   {
    "duration": 789,
    "start_time": "2024-12-19T06:45:27.594Z"
   },
   {
    "duration": 31,
    "start_time": "2024-12-19T06:45:28.385Z"
   },
   {
    "duration": 34,
    "start_time": "2024-12-19T06:45:28.417Z"
   },
   {
    "duration": 17,
    "start_time": "2024-12-19T06:45:28.452Z"
   },
   {
    "duration": 16,
    "start_time": "2024-12-19T06:45:28.472Z"
   },
   {
    "duration": 42,
    "start_time": "2024-12-19T06:45:28.489Z"
   },
   {
    "duration": 18,
    "start_time": "2024-12-19T06:45:28.533Z"
   },
   {
    "duration": 13,
    "start_time": "2024-12-19T06:45:28.553Z"
   },
   {
    "duration": 73,
    "start_time": "2024-12-19T06:45:28.568Z"
   },
   {
    "duration": 15,
    "start_time": "2024-12-19T06:45:28.644Z"
   },
   {
    "duration": 16,
    "start_time": "2024-12-19T06:45:28.660Z"
   },
   {
    "duration": 376,
    "start_time": "2024-12-19T06:45:28.679Z"
   },
   {
    "duration": 59084,
    "start_time": "2024-12-19T06:45:29.057Z"
   },
   {
    "duration": 15,
    "start_time": "2024-12-19T06:46:28.146Z"
   },
   {
    "duration": 88,
    "start_time": "2024-12-19T06:46:28.163Z"
   },
   {
    "duration": 7,
    "start_time": "2024-12-19T06:46:28.253Z"
   },
   {
    "duration": 488,
    "start_time": "2024-12-19T06:48:16.354Z"
   },
   {
    "duration": 796,
    "start_time": "2024-12-19T06:48:20.664Z"
   },
   {
    "duration": 31,
    "start_time": "2024-12-19T06:48:21.463Z"
   },
   {
    "duration": 38,
    "start_time": "2024-12-19T06:48:21.496Z"
   },
   {
    "duration": 18,
    "start_time": "2024-12-19T06:48:21.535Z"
   },
   {
    "duration": 17,
    "start_time": "2024-12-19T06:48:21.556Z"
   },
   {
    "duration": 12,
    "start_time": "2024-12-19T06:48:21.575Z"
   },
   {
    "duration": 48,
    "start_time": "2024-12-19T06:48:21.589Z"
   },
   {
    "duration": 13,
    "start_time": "2024-12-19T06:48:21.639Z"
   },
   {
    "duration": 55,
    "start_time": "2024-12-19T06:48:21.653Z"
   },
   {
    "duration": 31,
    "start_time": "2024-12-19T06:48:21.710Z"
   },
   {
    "duration": 19,
    "start_time": "2024-12-19T06:48:21.743Z"
   },
   {
    "duration": 469,
    "start_time": "2024-12-19T06:48:21.763Z"
   },
   {
    "duration": 57997,
    "start_time": "2024-12-19T06:48:22.235Z"
   },
   {
    "duration": 12,
    "start_time": "2024-12-19T06:49:20.235Z"
   },
   {
    "duration": 83,
    "start_time": "2024-12-19T06:49:20.250Z"
   },
   {
    "duration": 8,
    "start_time": "2024-12-19T06:49:20.335Z"
   },
   {
    "duration": 826,
    "start_time": "2024-12-19T06:52:14.731Z"
   },
   {
    "duration": 32,
    "start_time": "2024-12-19T06:52:15.560Z"
   },
   {
    "duration": 38,
    "start_time": "2024-12-19T06:52:15.596Z"
   },
   {
    "duration": 16,
    "start_time": "2024-12-19T06:52:15.638Z"
   },
   {
    "duration": 16,
    "start_time": "2024-12-19T06:52:15.656Z"
   },
   {
    "duration": 12,
    "start_time": "2024-12-19T06:52:15.674Z"
   },
   {
    "duration": 48,
    "start_time": "2024-12-19T06:52:15.689Z"
   },
   {
    "duration": 12,
    "start_time": "2024-12-19T06:52:15.740Z"
   },
   {
    "duration": 56,
    "start_time": "2024-12-19T06:52:15.753Z"
   },
   {
    "duration": 31,
    "start_time": "2024-12-19T06:52:15.811Z"
   },
   {
    "duration": 506,
    "start_time": "2024-12-19T06:52:15.844Z"
   },
   {
    "duration": 0,
    "start_time": "2024-12-19T06:52:16.352Z"
   },
   {
    "duration": 0,
    "start_time": "2024-12-19T06:52:16.354Z"
   },
   {
    "duration": 1,
    "start_time": "2024-12-19T06:52:16.355Z"
   },
   {
    "duration": 0,
    "start_time": "2024-12-19T06:52:16.359Z"
   },
   {
    "duration": 0,
    "start_time": "2024-12-19T06:52:16.361Z"
   },
   {
    "duration": 21,
    "start_time": "2024-12-19T06:54:51.991Z"
   },
   {
    "duration": 753,
    "start_time": "2024-12-20T07:10:40.406Z"
   },
   {
    "duration": 77,
    "start_time": "2024-12-20T07:10:41.162Z"
   },
   {
    "duration": 29,
    "start_time": "2024-12-20T07:10:41.241Z"
   },
   {
    "duration": 16,
    "start_time": "2024-12-20T07:10:41.272Z"
   },
   {
    "duration": 16,
    "start_time": "2024-12-20T07:10:41.291Z"
   },
   {
    "duration": 23,
    "start_time": "2024-12-20T07:10:41.308Z"
   },
   {
    "duration": 18,
    "start_time": "2024-12-20T07:10:41.332Z"
   },
   {
    "duration": 12,
    "start_time": "2024-12-20T07:10:41.351Z"
   },
   {
    "duration": 73,
    "start_time": "2024-12-20T07:10:41.364Z"
   },
   {
    "duration": 13,
    "start_time": "2024-12-20T07:10:41.439Z"
   },
   {
    "duration": 491,
    "start_time": "2024-12-20T07:10:41.453Z"
   },
   {
    "duration": 0,
    "start_time": "2024-12-20T07:10:41.946Z"
   },
   {
    "duration": 0,
    "start_time": "2024-12-20T07:10:41.947Z"
   },
   {
    "duration": 0,
    "start_time": "2024-12-20T07:10:41.949Z"
   },
   {
    "duration": 0,
    "start_time": "2024-12-20T07:10:41.951Z"
   },
   {
    "duration": 0,
    "start_time": "2024-12-20T07:10:41.952Z"
   },
   {
    "duration": 33,
    "start_time": "2024-12-20T07:13:58.693Z"
   },
   {
    "duration": 29,
    "start_time": "2024-12-20T07:14:17.895Z"
   },
   {
    "duration": 785,
    "start_time": "2024-12-20T07:14:51.665Z"
   },
   {
    "duration": 31,
    "start_time": "2024-12-20T07:14:52.453Z"
   },
   {
    "duration": 40,
    "start_time": "2024-12-20T07:14:52.485Z"
   },
   {
    "duration": 17,
    "start_time": "2024-12-20T07:14:52.526Z"
   },
   {
    "duration": 17,
    "start_time": "2024-12-20T07:14:52.545Z"
   },
   {
    "duration": 12,
    "start_time": "2024-12-20T07:14:52.563Z"
   },
   {
    "duration": 47,
    "start_time": "2024-12-20T07:14:52.577Z"
   },
   {
    "duration": 12,
    "start_time": "2024-12-20T07:14:52.625Z"
   },
   {
    "duration": 54,
    "start_time": "2024-12-20T07:14:52.639Z"
   },
   {
    "duration": 29,
    "start_time": "2024-12-20T07:14:52.695Z"
   },
   {
    "duration": 479,
    "start_time": "2024-12-20T07:14:52.725Z"
   },
   {
    "duration": 0,
    "start_time": "2024-12-20T07:14:53.206Z"
   },
   {
    "duration": 0,
    "start_time": "2024-12-20T07:14:53.207Z"
   },
   {
    "duration": 0,
    "start_time": "2024-12-20T07:14:53.208Z"
   },
   {
    "duration": 0,
    "start_time": "2024-12-20T07:14:53.209Z"
   },
   {
    "duration": 0,
    "start_time": "2024-12-20T07:14:53.210Z"
   },
   {
    "duration": 11,
    "start_time": "2024-12-20T07:15:24.574Z"
   },
   {
    "duration": 29,
    "start_time": "2024-12-20T07:15:27.383Z"
   },
   {
    "duration": 67,
    "start_time": "2024-12-20T07:16:35.023Z"
   },
   {
    "duration": 66,
    "start_time": "2024-12-20T07:16:57.317Z"
   },
   {
    "duration": 64,
    "start_time": "2024-12-20T07:17:20.075Z"
   },
   {
    "duration": 65,
    "start_time": "2024-12-20T07:18:39.799Z"
   },
   {
    "duration": 62,
    "start_time": "2024-12-20T07:19:49.761Z"
   },
   {
    "duration": 65,
    "start_time": "2024-12-20T07:19:56.944Z"
   },
   {
    "duration": 56,
    "start_time": "2024-12-20T07:20:05.981Z"
   },
   {
    "duration": 348,
    "start_time": "2024-12-20T07:21:14.151Z"
   },
   {
    "duration": 12,
    "start_time": "2024-12-20T07:21:52.425Z"
   },
   {
    "duration": 7,
    "start_time": "2024-12-20T07:22:16.301Z"
   },
   {
    "duration": 12,
    "start_time": "2024-12-20T07:22:22.333Z"
   },
   {
    "duration": 11,
    "start_time": "2024-12-20T07:22:29.203Z"
   },
   {
    "duration": 743,
    "start_time": "2024-12-20T07:22:36.200Z"
   },
   {
    "duration": 32,
    "start_time": "2024-12-20T07:22:36.945Z"
   },
   {
    "duration": 30,
    "start_time": "2024-12-20T07:22:36.978Z"
   },
   {
    "duration": 26,
    "start_time": "2024-12-20T07:22:37.009Z"
   },
   {
    "duration": 15,
    "start_time": "2024-12-20T07:22:37.038Z"
   },
   {
    "duration": 13,
    "start_time": "2024-12-20T07:22:37.055Z"
   },
   {
    "duration": 17,
    "start_time": "2024-12-20T07:22:37.069Z"
   },
   {
    "duration": 43,
    "start_time": "2024-12-20T07:22:37.087Z"
   },
   {
    "duration": 60,
    "start_time": "2024-12-20T07:22:37.132Z"
   },
   {
    "duration": 12,
    "start_time": "2024-12-20T07:22:37.193Z"
   },
   {
    "duration": 26,
    "start_time": "2024-12-20T07:22:37.206Z"
   },
   {
    "duration": 594,
    "start_time": "2024-12-20T07:22:37.235Z"
   },
   {
    "duration": 81008,
    "start_time": "2024-12-20T07:22:37.831Z"
   },
   {
    "duration": 13,
    "start_time": "2024-12-20T07:23:58.842Z"
   },
   {
    "duration": 68,
    "start_time": "2024-12-20T07:23:58.857Z"
   },
   {
    "duration": 8,
    "start_time": "2024-12-20T07:23:58.927Z"
   },
   {
    "duration": 2010,
    "start_time": "2024-12-20T07:25:12.257Z"
   },
   {
    "duration": 16,
    "start_time": "2024-12-20T07:25:19.150Z"
   },
   {
    "duration": 15,
    "start_time": "2024-12-20T07:25:24.436Z"
   },
   {
    "duration": 25,
    "start_time": "2024-12-20T07:26:35.145Z"
   },
   {
    "duration": 13,
    "start_time": "2024-12-20T07:29:01.597Z"
   },
   {
    "duration": 10,
    "start_time": "2024-12-20T07:29:26.229Z"
   },
   {
    "duration": 13,
    "start_time": "2024-12-20T07:29:40.230Z"
   },
   {
    "duration": 745,
    "start_time": "2024-12-20T07:29:59.694Z"
   },
   {
    "duration": 41,
    "start_time": "2024-12-20T07:30:00.442Z"
   },
   {
    "duration": 30,
    "start_time": "2024-12-20T07:30:00.484Z"
   },
   {
    "duration": 17,
    "start_time": "2024-12-20T07:30:00.524Z"
   },
   {
    "duration": 15,
    "start_time": "2024-12-20T07:30:00.543Z"
   },
   {
    "duration": 12,
    "start_time": "2024-12-20T07:30:00.559Z"
   },
   {
    "duration": 16,
    "start_time": "2024-12-20T07:30:00.574Z"
   },
   {
    "duration": 42,
    "start_time": "2024-12-20T07:30:00.592Z"
   },
   {
    "duration": 60,
    "start_time": "2024-12-20T07:30:00.635Z"
   },
   {
    "duration": 29,
    "start_time": "2024-12-20T07:30:00.696Z"
   },
   {
    "duration": 493,
    "start_time": "2024-12-20T07:30:00.726Z"
   },
   {
    "duration": 0,
    "start_time": "2024-12-20T07:30:01.224Z"
   },
   {
    "duration": 0,
    "start_time": "2024-12-20T07:30:01.225Z"
   },
   {
    "duration": 0,
    "start_time": "2024-12-20T07:30:01.226Z"
   },
   {
    "duration": 0,
    "start_time": "2024-12-20T07:30:01.228Z"
   },
   {
    "duration": 0,
    "start_time": "2024-12-20T07:30:01.229Z"
   },
   {
    "duration": 13,
    "start_time": "2024-12-20T07:32:10.592Z"
   },
   {
    "duration": 14,
    "start_time": "2024-12-20T07:33:55.170Z"
   },
   {
    "duration": 14,
    "start_time": "2024-12-20T07:34:04.558Z"
   },
   {
    "duration": 12,
    "start_time": "2024-12-20T07:34:11.876Z"
   },
   {
    "duration": 14,
    "start_time": "2024-12-20T07:34:56.896Z"
   },
   {
    "duration": 726,
    "start_time": "2024-12-20T07:35:26.514Z"
   },
   {
    "duration": 32,
    "start_time": "2024-12-20T07:35:27.242Z"
   },
   {
    "duration": 30,
    "start_time": "2024-12-20T07:35:27.276Z"
   },
   {
    "duration": 28,
    "start_time": "2024-12-20T07:35:27.308Z"
   },
   {
    "duration": 15,
    "start_time": "2024-12-20T07:35:27.338Z"
   },
   {
    "duration": 12,
    "start_time": "2024-12-20T07:35:27.354Z"
   },
   {
    "duration": 19,
    "start_time": "2024-12-20T07:35:27.368Z"
   },
   {
    "duration": 11,
    "start_time": "2024-12-20T07:35:27.389Z"
   },
   {
    "duration": 60,
    "start_time": "2024-12-20T07:35:27.424Z"
   },
   {
    "duration": 11,
    "start_time": "2024-12-20T07:35:27.486Z"
   },
   {
    "duration": 32,
    "start_time": "2024-12-20T07:35:27.499Z"
   },
   {
    "duration": 2037,
    "start_time": "2024-12-20T07:35:27.534Z"
   },
   {
    "duration": 78559,
    "start_time": "2024-12-20T07:35:29.573Z"
   },
   {
    "duration": 16,
    "start_time": "2024-12-20T07:36:48.135Z"
   },
   {
    "duration": 76,
    "start_time": "2024-12-20T07:36:48.153Z"
   },
   {
    "duration": 7,
    "start_time": "2024-12-20T07:36:48.231Z"
   },
   {
    "duration": 6,
    "start_time": "2024-12-20T07:38:25.870Z"
   },
   {
    "duration": 4,
    "start_time": "2024-12-20T07:38:34.145Z"
   },
   {
    "duration": 4,
    "start_time": "2024-12-20T07:38:40.246Z"
   },
   {
    "duration": 295,
    "start_time": "2024-12-20T07:39:20.523Z"
   },
   {
    "duration": 77887,
    "start_time": "2024-12-20T07:41:14.959Z"
   },
   {
    "duration": 14,
    "start_time": "2024-12-20T07:43:30.029Z"
   },
   {
    "duration": 1833,
    "start_time": "2024-12-20T07:43:43.790Z"
   },
   {
    "duration": 17,
    "start_time": "2024-12-20T07:43:49.212Z"
   },
   {
    "duration": 14,
    "start_time": "2024-12-20T07:43:52.403Z"
   },
   {
    "duration": 16,
    "start_time": "2024-12-20T07:50:03.686Z"
   },
   {
    "duration": 2577,
    "start_time": "2024-12-20T07:50:06.675Z"
   },
   {
    "duration": 42,
    "start_time": "2024-12-20T07:50:09.254Z"
   },
   {
    "duration": 29,
    "start_time": "2024-12-20T07:50:09.297Z"
   },
   {
    "duration": 16,
    "start_time": "2024-12-20T07:50:09.328Z"
   },
   {
    "duration": 15,
    "start_time": "2024-12-20T07:50:09.347Z"
   },
   {
    "duration": 11,
    "start_time": "2024-12-20T07:50:09.364Z"
   },
   {
    "duration": 17,
    "start_time": "2024-12-20T07:50:09.377Z"
   },
   {
    "duration": 37,
    "start_time": "2024-12-20T07:50:09.396Z"
   },
   {
    "duration": 60,
    "start_time": "2024-12-20T07:50:09.434Z"
   },
   {
    "duration": 32,
    "start_time": "2024-12-20T07:50:09.496Z"
   },
   {
    "duration": 12,
    "start_time": "2024-12-20T07:50:09.530Z"
   },
   {
    "duration": 1999,
    "start_time": "2024-12-20T07:50:09.544Z"
   },
   {
    "duration": 78686,
    "start_time": "2024-12-20T07:50:11.545Z"
   },
   {
    "duration": 16,
    "start_time": "2024-12-20T07:51:30.233Z"
   },
   {
    "duration": 79,
    "start_time": "2024-12-20T07:51:30.251Z"
   },
   {
    "duration": 156,
    "start_time": "2024-12-20T07:51:30.332Z"
   },
   {
    "duration": 7,
    "start_time": "2024-12-20T07:51:30.490Z"
   },
   {
    "duration": 10,
    "start_time": "2024-12-20T08:00:08.367Z"
   },
   {
    "duration": 892,
    "start_time": "2024-12-20T08:01:32.834Z"
   },
   {
    "duration": 37,
    "start_time": "2024-12-20T08:01:33.729Z"
   },
   {
    "duration": 28,
    "start_time": "2024-12-20T08:01:33.768Z"
   },
   {
    "duration": 27,
    "start_time": "2024-12-20T08:01:33.797Z"
   },
   {
    "duration": 17,
    "start_time": "2024-12-20T08:01:33.827Z"
   },
   {
    "duration": 16,
    "start_time": "2024-12-20T08:01:33.847Z"
   },
   {
    "duration": 22,
    "start_time": "2024-12-20T08:01:33.865Z"
   },
   {
    "duration": 35,
    "start_time": "2024-12-20T08:01:33.889Z"
   },
   {
    "duration": 109,
    "start_time": "2024-12-20T08:01:33.925Z"
   },
   {
    "duration": 11,
    "start_time": "2024-12-20T08:01:34.036Z"
   },
   {
    "duration": 4,
    "start_time": "2024-12-20T08:01:34.049Z"
   },
   {
    "duration": 3095,
    "start_time": "2024-12-20T08:01:34.055Z"
   },
   {
    "duration": 108003,
    "start_time": "2024-12-20T08:01:37.152Z"
   },
   {
    "duration": 78,
    "start_time": "2024-12-20T08:03:25.158Z"
   },
   {
    "duration": 88,
    "start_time": "2024-12-20T08:03:25.238Z"
   },
   {
    "duration": 145,
    "start_time": "2024-12-20T08:03:25.328Z"
   },
   {
    "duration": 6,
    "start_time": "2024-12-20T08:03:25.475Z"
   },
   {
    "duration": 2275,
    "start_time": "2024-12-20T08:08:01.464Z"
   },
   {
    "duration": 14,
    "start_time": "2024-12-20T08:08:07.589Z"
   },
   {
    "duration": 13,
    "start_time": "2024-12-20T08:08:15.445Z"
   },
   {
    "duration": 116,
    "start_time": "2024-12-20T08:08:36.310Z"
   },
   {
    "duration": 15,
    "start_time": "2024-12-20T08:11:58.328Z"
   },
   {
    "duration": 888,
    "start_time": "2024-12-20T08:12:16.758Z"
   },
   {
    "duration": 37,
    "start_time": "2024-12-20T08:12:17.648Z"
   },
   {
    "duration": 27,
    "start_time": "2024-12-20T08:12:17.687Z"
   },
   {
    "duration": 19,
    "start_time": "2024-12-20T08:12:17.724Z"
   },
   {
    "duration": 17,
    "start_time": "2024-12-20T08:12:17.744Z"
   },
   {
    "duration": 12,
    "start_time": "2024-12-20T08:12:17.763Z"
   },
   {
    "duration": 18,
    "start_time": "2024-12-20T08:12:17.776Z"
   },
   {
    "duration": 14,
    "start_time": "2024-12-20T08:12:17.823Z"
   },
   {
    "duration": 115,
    "start_time": "2024-12-20T08:12:17.838Z"
   },
   {
    "duration": 11,
    "start_time": "2024-12-20T08:12:17.957Z"
   },
   {
    "duration": 4,
    "start_time": "2024-12-20T08:12:17.971Z"
   },
   {
    "duration": 16,
    "start_time": "2024-12-20T08:12:17.977Z"
   },
   {
    "duration": 3055,
    "start_time": "2024-12-20T08:12:17.995Z"
   },
   {
    "duration": 135586,
    "start_time": "2024-12-20T08:12:21.052Z"
   },
   {
    "duration": 13,
    "start_time": "2024-12-20T08:14:36.640Z"
   },
   {
    "duration": 76,
    "start_time": "2024-12-20T08:14:36.655Z"
   },
   {
    "duration": 168,
    "start_time": "2024-12-20T08:14:36.733Z"
   },
   {
    "duration": 7,
    "start_time": "2024-12-20T08:14:36.903Z"
   },
   {
    "duration": 3766,
    "start_time": "2024-12-20T08:15:18.494Z"
   },
   {
    "duration": 65,
    "start_time": "2024-12-20T08:15:22.262Z"
   },
   {
    "duration": 14,
    "start_time": "2024-12-20T08:15:23.968Z"
   },
   {
    "duration": 116,
    "start_time": "2024-12-20T08:15:30.993Z"
   },
   {
    "duration": 8,
    "start_time": "2024-12-20T08:15:39.877Z"
   }
  ],
  "kernelspec": {
   "display_name": "Python 3 (ipykernel)",
   "language": "python",
   "name": "python3"
  },
  "language_info": {
   "codemirror_mode": {
    "name": "ipython",
    "version": 3
   },
   "file_extension": ".py",
   "mimetype": "text/x-python",
   "name": "python",
   "nbconvert_exporter": "python",
   "pygments_lexer": "ipython3",
   "version": "3.9.19"
  },
  "toc": {
   "base_numbering": 1,
   "nav_menu": {},
   "number_sections": true,
   "sideBar": true,
   "skip_h1_title": true,
   "title_cell": "Table of Contents",
   "title_sidebar": "Contents",
   "toc_cell": false,
   "toc_position": {},
   "toc_section_display": true,
   "toc_window_display": false
  }
 },
 "nbformat": 4,
 "nbformat_minor": 2
}
